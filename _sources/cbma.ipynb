{
 "cells": [
  {
   "cell_type": "markdown",
   "id": "b3faf4e1",
   "metadata": {},
   "source": [
    "# Coordinate-Based Meta-Analysis"
   ]
  },
  {
   "cell_type": "code",
   "execution_count": 1,
   "id": "9d4df790",
   "metadata": {
    "tags": [
     "hide-cell"
    ]
   },
   "outputs": [
    {
     "name": "stderr",
     "output_type": "stream",
     "text": [
      "/opt/hostedtoolcache/Python/3.7.12/x64/lib/python3.7/site-packages/nilearn/datasets/__init__.py:90: FutureWarning: Fetchers from the nilearn.datasets module will be updated in version 0.9 to return python strings instead of bytes and Pandas dataframes instead of Numpy arrays.\n",
      "  \"Numpy arrays.\", FutureWarning)\n"
     ]
    },
    {
     "ename": "FileNotFoundError",
     "evalue": "[Errno 2] No such file or directory: '/home/runner/work/nimare-paper/nimare-paper/data/sleuth_dset1.pkl.gz'",
     "output_type": "error",
     "traceback": [
      "\u001b[0;31m---------------------------------------------------------------------------\u001b[0m",
      "\u001b[0;31mFileNotFoundError\u001b[0m                         Traceback (most recent call last)",
      "\u001b[0;32m/tmp/ipykernel_2070/4166272374.py\u001b[0m in \u001b[0;36m<module>\u001b[0;34m\u001b[0m\n\u001b[1;32m     15\u001b[0m \u001b[0;34m\u001b[0m\u001b[0m\n\u001b[1;32m     16\u001b[0m \u001b[0;31m# Now, load the Datasets we will use in this chapter\u001b[0m\u001b[0;34m\u001b[0m\u001b[0;34m\u001b[0m\u001b[0;34m\u001b[0m\u001b[0m\n\u001b[0;32m---> 17\u001b[0;31m \u001b[0msleuth_dset1\u001b[0m \u001b[0;34m=\u001b[0m \u001b[0mnimare\u001b[0m\u001b[0;34m.\u001b[0m\u001b[0mdataset\u001b[0m\u001b[0;34m.\u001b[0m\u001b[0mDataset\u001b[0m\u001b[0;34m.\u001b[0m\u001b[0mload\u001b[0m\u001b[0;34m(\u001b[0m\u001b[0mos\u001b[0m\u001b[0;34m.\u001b[0m\u001b[0mpath\u001b[0m\u001b[0;34m.\u001b[0m\u001b[0mjoin\u001b[0m\u001b[0;34m(\u001b[0m\u001b[0mDATA_DIR\u001b[0m\u001b[0;34m,\u001b[0m \u001b[0;34m\"sleuth_dset1.pkl.gz\"\u001b[0m\u001b[0;34m)\u001b[0m\u001b[0;34m)\u001b[0m\u001b[0;34m\u001b[0m\u001b[0;34m\u001b[0m\u001b[0m\n\u001b[0m\u001b[1;32m     18\u001b[0m \u001b[0msleuth_dset2\u001b[0m \u001b[0;34m=\u001b[0m \u001b[0mnimare\u001b[0m\u001b[0;34m.\u001b[0m\u001b[0mdataset\u001b[0m\u001b[0;34m.\u001b[0m\u001b[0mDataset\u001b[0m\u001b[0;34m.\u001b[0m\u001b[0mload\u001b[0m\u001b[0;34m(\u001b[0m\u001b[0mos\u001b[0m\u001b[0;34m.\u001b[0m\u001b[0mpath\u001b[0m\u001b[0;34m.\u001b[0m\u001b[0mjoin\u001b[0m\u001b[0;34m(\u001b[0m\u001b[0mDATA_DIR\u001b[0m\u001b[0;34m,\u001b[0m \u001b[0;34m\"sleuth_dset2.pkl.gz\"\u001b[0m\u001b[0;34m)\u001b[0m\u001b[0;34m)\u001b[0m\u001b[0;34m\u001b[0m\u001b[0;34m\u001b[0m\u001b[0m\n\u001b[1;32m     19\u001b[0m \u001b[0mneurosynth_dset\u001b[0m \u001b[0;34m=\u001b[0m \u001b[0mnimare\u001b[0m\u001b[0;34m.\u001b[0m\u001b[0mdataset\u001b[0m\u001b[0;34m.\u001b[0m\u001b[0mDataset\u001b[0m\u001b[0;34m.\u001b[0m\u001b[0mload\u001b[0m\u001b[0;34m(\u001b[0m\u001b[0mos\u001b[0m\u001b[0;34m.\u001b[0m\u001b[0mpath\u001b[0m\u001b[0;34m.\u001b[0m\u001b[0mjoin\u001b[0m\u001b[0;34m(\u001b[0m\u001b[0mDATA_DIR\u001b[0m\u001b[0;34m,\u001b[0m \u001b[0;34m\"neurosynth_dataset.pkl.gz\"\u001b[0m\u001b[0;34m)\u001b[0m\u001b[0;34m)\u001b[0m\u001b[0;34m\u001b[0m\u001b[0;34m\u001b[0m\u001b[0m\n",
      "\u001b[0;32m/opt/hostedtoolcache/Python/3.7.12/x64/lib/python3.7/site-packages/nimare/base.py\u001b[0m in \u001b[0;36mload\u001b[0;34m(cls, filename, compressed)\u001b[0m\n\u001b[1;32m    207\u001b[0m         \u001b[0;32mif\u001b[0m \u001b[0mcompressed\u001b[0m\u001b[0;34m:\u001b[0m\u001b[0;34m\u001b[0m\u001b[0;34m\u001b[0m\u001b[0m\n\u001b[1;32m    208\u001b[0m             \u001b[0;32mtry\u001b[0m\u001b[0;34m:\u001b[0m\u001b[0;34m\u001b[0m\u001b[0;34m\u001b[0m\u001b[0m\n\u001b[0;32m--> 209\u001b[0;31m                 \u001b[0;32mwith\u001b[0m \u001b[0mgzip\u001b[0m\u001b[0;34m.\u001b[0m\u001b[0mGzipFile\u001b[0m\u001b[0;34m(\u001b[0m\u001b[0mfilename\u001b[0m\u001b[0;34m,\u001b[0m \u001b[0;34m\"rb\"\u001b[0m\u001b[0;34m)\u001b[0m \u001b[0;32mas\u001b[0m \u001b[0mfile_object\u001b[0m\u001b[0;34m:\u001b[0m\u001b[0;34m\u001b[0m\u001b[0;34m\u001b[0m\u001b[0m\n\u001b[0m\u001b[1;32m    210\u001b[0m                     \u001b[0mobj\u001b[0m \u001b[0;34m=\u001b[0m \u001b[0mpickle\u001b[0m\u001b[0;34m.\u001b[0m\u001b[0mload\u001b[0m\u001b[0;34m(\u001b[0m\u001b[0mfile_object\u001b[0m\u001b[0;34m)\u001b[0m\u001b[0;34m\u001b[0m\u001b[0;34m\u001b[0m\u001b[0m\n\u001b[1;32m    211\u001b[0m             \u001b[0;32mexcept\u001b[0m \u001b[0mUnicodeDecodeError\u001b[0m\u001b[0;34m:\u001b[0m\u001b[0;34m\u001b[0m\u001b[0;34m\u001b[0m\u001b[0m\n",
      "\u001b[0;32m/opt/hostedtoolcache/Python/3.7.12/x64/lib/python3.7/gzip.py\u001b[0m in \u001b[0;36m__init__\u001b[0;34m(self, filename, mode, compresslevel, fileobj, mtime)\u001b[0m\n\u001b[1;32m    166\u001b[0m             \u001b[0mmode\u001b[0m \u001b[0;34m+=\u001b[0m \u001b[0;34m'b'\u001b[0m\u001b[0;34m\u001b[0m\u001b[0;34m\u001b[0m\u001b[0m\n\u001b[1;32m    167\u001b[0m         \u001b[0;32mif\u001b[0m \u001b[0mfileobj\u001b[0m \u001b[0;32mis\u001b[0m \u001b[0;32mNone\u001b[0m\u001b[0;34m:\u001b[0m\u001b[0;34m\u001b[0m\u001b[0;34m\u001b[0m\u001b[0m\n\u001b[0;32m--> 168\u001b[0;31m             \u001b[0mfileobj\u001b[0m \u001b[0;34m=\u001b[0m \u001b[0mself\u001b[0m\u001b[0;34m.\u001b[0m\u001b[0mmyfileobj\u001b[0m \u001b[0;34m=\u001b[0m \u001b[0mbuiltins\u001b[0m\u001b[0;34m.\u001b[0m\u001b[0mopen\u001b[0m\u001b[0;34m(\u001b[0m\u001b[0mfilename\u001b[0m\u001b[0;34m,\u001b[0m \u001b[0mmode\u001b[0m \u001b[0;32mor\u001b[0m \u001b[0;34m'rb'\u001b[0m\u001b[0;34m)\u001b[0m\u001b[0;34m\u001b[0m\u001b[0;34m\u001b[0m\u001b[0m\n\u001b[0m\u001b[1;32m    169\u001b[0m         \u001b[0;32mif\u001b[0m \u001b[0mfilename\u001b[0m \u001b[0;32mis\u001b[0m \u001b[0;32mNone\u001b[0m\u001b[0;34m:\u001b[0m\u001b[0;34m\u001b[0m\u001b[0;34m\u001b[0m\u001b[0m\n\u001b[1;32m    170\u001b[0m             \u001b[0mfilename\u001b[0m \u001b[0;34m=\u001b[0m \u001b[0mgetattr\u001b[0m\u001b[0;34m(\u001b[0m\u001b[0mfileobj\u001b[0m\u001b[0;34m,\u001b[0m \u001b[0;34m'name'\u001b[0m\u001b[0;34m,\u001b[0m \u001b[0;34m''\u001b[0m\u001b[0;34m)\u001b[0m\u001b[0;34m\u001b[0m\u001b[0;34m\u001b[0m\u001b[0m\n",
      "\u001b[0;31mFileNotFoundError\u001b[0m: [Errno 2] No such file or directory: '/home/runner/work/nimare-paper/nimare-paper/data/sleuth_dset1.pkl.gz'"
     ]
    }
   ],
   "source": [
    "# First, import the necessary modules and functions\n",
    "import os\n",
    "from pprint import pprint\n",
    "\n",
    "import matplotlib.pyplot as plt\n",
    "import numpy as np\n",
    "from myst_nb import glue\n",
    "from nilearn import plotting\n",
    "\n",
    "import nimare\n",
    "\n",
    "# Define where data files will be located\n",
    "DATA_DIR = os.path.abspath(\"../data\")\n",
    "FIG_DIR = os.path.abspath(\"../images\")\n",
    "\n",
    "# Now, load the Datasets we will use in this chapter\n",
    "sleuth_dset1 = nimare.dataset.Dataset.load(os.path.join(DATA_DIR, \"sleuth_dset1.pkl.gz\"))\n",
    "sleuth_dset2 = nimare.dataset.Dataset.load(os.path.join(DATA_DIR, \"sleuth_dset2.pkl.gz\"))\n",
    "neurosynth_dset = nimare.dataset.Dataset.load(os.path.join(DATA_DIR, \"neurosynth_dataset.pkl.gz\"))"
   ]
  },
  {
   "cell_type": "markdown",
   "id": "8b74868e",
   "metadata": {},
   "source": [
    "Coordinate-based meta-analysis (CBMA) is currently the most popular method for neuroimaging meta-analysis, given that the majority of fMRI papers currently report their findings as peaks of statistically significant clusters in standard space and do not release unthresholded statistical maps.\n",
    "These peaks indicate where significant results were found in the brain, and thus do not reflect an effect size estimate for each hypothesis test (i.e., each voxel) as one would expect for a typical meta-analysis.\n",
    "As such, standard methods for effect size-based meta-analysis cannot be applied.\n",
    "Over the past two decades, a number of algorithms have been developed to determine whether peaks converge across experiments in order to identify locations of consistent or specific activation associated with a given hypothesis {cite:p}`Samartsidis2017-ej,Muller2018-mt`.\n",
    "\n",
    "Kernel-based methods evaluate convergence of coordinates across studies by first convolving foci with a spatial kernel to produce study-specific modeled activation maps, then combining those modeled activation maps into a sample-wise map, which is compared to a null distribution to evaluate voxel-wise statistical significance.\n",
    "Additionally, for each of the following approaches, except for SCALE, voxel- or cluster-level multiple comparisons correction may be performed using Monte Carlo simulations or false discovery rate (FDR) {cite:p}`Laird2005-qh` correction. Basic multiple-comparisons correction methods (e.g., Bonferroni correction) are also supported."
   ]
  },
  {
   "cell_type": "markdown",
   "id": "75664935",
   "metadata": {},
   "source": [
    "```{figure} images/figure_02.png\n",
    ":figwidth: 150px\n",
    ":name: meta_workflow_fig\n",
    ":align: center\n",
    "\n",
    "A flowchart of the typical workflow for coordinate-based meta-analyses in NiMARE.\n",
    "```\n",
    "\n",
    "## CBMA kernels\n",
    "\n",
    "CBMA kernels are available as {py:class}`nimare.meta.kernel.KernelTransformer`s in the {py:mod}`nimare.meta.kernel` module.\n",
    "There are three standard kernels that are currently available: {py:class}`nimare.meta.kernel.MKDAKernel`, {py:class}`nimare.meta.kernel.KDAKernel`, and {py:class}`nimare.meta.kernel.ALEKernel`.\n",
    "Each class may be configured with certain parameters when a new object is initialized.\n",
    "For example, `MKDAKernel` accepts an `r` parameter, which determines the radius of the spheres that will be created around each peak coordinate.\n",
    "`ALEKernel` automatically uses the sample size associated with each experiment in the `Dataset` to determine the appropriate full-width-at-half-maximum of its Gaussian distribution, as described in {cite:t}`EICKHOFF20122349`; however, users may provide a constant `sample_size` or `fwhm` parameter when sample size information is not available within the `Dataset` metadata.\n",
    "\n",
    "Here we show how these three kernels can be applied to the same `Dataset`."
   ]
  },
  {
   "cell_type": "code",
   "execution_count": null,
   "id": "590704a6",
   "metadata": {},
   "outputs": [],
   "source": [
    "from nimare.meta import kernel\n",
    "\n",
    "mkda_kernel = kernel.MKDAKernel(r=10)\n",
    "mkda_ma_maps = mkda_kernel.transform(sleuth_dset1)\n",
    "kda_kernel = kernel.KDAKernel(r=10)\n",
    "kda_ma_maps = kda_kernel.transform(sleuth_dset1)\n",
    "ale_kernel = kernel.ALEKernel(sample_size=20)\n",
    "ale_ma_maps = ale_kernel.transform(sleuth_dset1)"
   ]
  },
  {
   "cell_type": "code",
   "execution_count": null,
   "id": "0af567b3",
   "metadata": {
    "tags": [
     "hide-cell"
    ]
   },
   "outputs": [],
   "source": [
    "# Here we delete the recent variables for the sake of reducing memory usage\n",
    "del mkda_kernel, kda_kernel, ale_kernel"
   ]
  },
  {
   "cell_type": "code",
   "execution_count": null,
   "id": "9bc7cf70",
   "metadata": {
    "tags": [
     "hide-cell"
    ]
   },
   "outputs": [],
   "source": [
    "# Generate figure\n",
    "study_idx = 10  # a study with overlapping kernels\n",
    "max_value = np.max(kda_ma_maps[study_idx].get_fdata()) + 1\n",
    "\n",
    "ma_maps = {\n",
    "    \"MKDA Kernel\": mkda_ma_maps[study_idx],\n",
    "    \"KDA Kernel\": kda_ma_maps[study_idx],\n",
    "    \"ALE Kernel\": ale_ma_maps[study_idx],\n",
    "}\n",
    "\n",
    "fig, axes = plt.subplots(nrows=3, figsize=(6, 6))\n",
    "\n",
    "for i_meta, (name, img) in enumerate(ma_maps.items()):\n",
    "    if \"ALE\" in name:\n",
    "        vmax = None\n",
    "    else:\n",
    "        vmax = max_value\n",
    "\n",
    "    display = plotting.plot_stat_map(\n",
    "        img,\n",
    "        annotate=False,\n",
    "        axes=axes[i_meta],\n",
    "        cmap=\"Reds\",\n",
    "        cut_coords=[5, 0, 29],\n",
    "        draw_cross=False,\n",
    "        figure=fig,\n",
    "        vmax=vmax,\n",
    "    )\n",
    "    axes[i_meta].set_title(name)\n",
    "\n",
    "    colorbar = display._cbar\n",
    "    colorbar_ticks = colorbar.get_ticks()\n",
    "    if colorbar_ticks[0] < 0:\n",
    "        new_ticks = [colorbar_ticks[0], 0, colorbar_ticks[-1]]\n",
    "    else:\n",
    "        new_ticks = [colorbar_ticks[0], colorbar_ticks[-1]]\n",
    "    colorbar.set_ticks(new_ticks, update_ticks=True)\n",
    "\n",
    "glue(\"figure_ma_maps\", fig, display=False)"
   ]
  },
  {
   "cell_type": "code",
   "execution_count": null,
   "id": "08c228b9",
   "metadata": {
    "tags": [
     "hide-cell"
    ]
   },
   "outputs": [],
   "source": [
    "# Here we delete the recent variables for the sake of reducing memory usage\n",
    "del mkda_ma_maps, kda_ma_maps, ale_ma_maps"
   ]
  },
  {
   "cell_type": "markdown",
   "id": "b42774fc",
   "metadata": {},
   "source": [
    "```{glue:figure} figure_ma_maps\n",
    ":figwidth: 300px\n",
    ":name: \"figure_ma_maps\"\n",
    ":align: center\n",
    "\n",
    "Modeled activation maps produced by NiMARE's `KernelTransformer` classes.\n",
    "```"
   ]
  },
  {
   "cell_type": "markdown",
   "id": "3f7fb2ca",
   "metadata": {},
   "source": [
    "(content:cbma:mkdad)=\n",
    "## Multilevel kernel density analysis\n",
    "\n",
    "**Multilevel kernel density analysis** (MKDA) {cite:p}`Wager2007-jc` is a kernel-based method that convolves each peak from each study with a binary sphere of a set radius.\n",
    "These peak-specific binary maps are then combined into study-specific maps by taking the maximum value for each voxel.\n",
    "Study-specific maps are then averaged across the meta-analytic sample.\n",
    "This averaging is generally weighted by studies’ sample sizes, although other covariates may be included, such as weights based on the type of inference (random or fixed effects) employed in the study’s analysis.\n",
    "An arbitrary threshold is generally employed to zero-out voxels with very low values, and then a Monte Carlo procedure is used to assess statistical significance, either at the voxel or cluster level.\n",
    "\n",
    "In NiMARE, the MKDA meta-analyses can be performed with the {py:class}`nimare.meta.cbma.mkda.MKDADensity` class.\n",
    "This class, like most other CBMA classes in NiMARE, accepts a `null_method` parameter, which determines how voxel-wise (uncorrected) statistical significance is calculated.\n",
    "\n",
    "```{admonition} On CBMA \"null methods\"\n",
    ":class: tip\n",
    "The `null_method` parameter allows two options: \"approximate\" or \"montecarlo.\"\n",
    "The \"approximate\" option builds a histogram-based null distribution of summary-statistic values, which can then be used to determine the associated p-value for _observed_ summary-statistic values (i.e., the values in the meta-analytic map).\n",
    "The \"montecarlo\" option builds a null distribution of summary-statistic values by randomly shuffling the coordinates the `Dataset` many times, and computing the summary-statistic values for each permutation.\n",
    "In general, the \"montecarlo\" method is slightly more accurate when there are enough permutations, while the \"approximate\" method is much faster.\n",
    "```\n",
    "\n",
    "```{warning}\n",
    "Fitting the CBMA `Estimator` to a `Dataset` will produce p-value, z-statistic, and summary-statistic maps, but these are not corrected for multiple comparisons.\n",
    "\n",
    "When performing a meta-analysis with the goal of statistical inference, you will want to perform multiple comparisons correction with NiMARE's `Corrector`\n",
    "classes.\n",
    "Please see the multiple comparisons correction chapter for more information.\n",
    "```\n",
    "\n",
    "Here we perform an MKDADensity meta-analysis on one of the Sleuth-based Datasets.\n",
    "We will use the \"approximate\" null method for speed."
   ]
  },
  {
   "cell_type": "code",
   "execution_count": null,
   "id": "ce1605b5",
   "metadata": {},
   "outputs": [],
   "source": [
    "from nimare.meta.cbma import mkda\n",
    "\n",
    "mkdad_meta = mkda.MKDADensity(null_method=\"approximate\")\n",
    "mkdad_results = mkdad_meta.fit(sleuth_dset1)"
   ]
  },
  {
   "cell_type": "markdown",
   "id": "2fbf32c7",
   "metadata": {},
   "source": [
    "(content:cbma:metaresult)=\n",
    "### The `MetaResult` class\n",
    "\n",
    "Fitting an `Estimator` to a `Dataset` produces a {py:class}`nimare.results.MetaResult` object.\n",
    "The `MetaResult` class is a light container holding the different statistical maps produced by the `Estimator`."
   ]
  },
  {
   "cell_type": "code",
   "execution_count": null,
   "id": "f14ad9f6",
   "metadata": {},
   "outputs": [],
   "source": [
    "print(mkdad_results)"
   ]
  },
  {
   "cell_type": "markdown",
   "id": "80faad69",
   "metadata": {},
   "source": [
    "This result is also retained as an attribute in the `Estimator`."
   ]
  },
  {
   "cell_type": "code",
   "execution_count": null,
   "id": "c322f6c0",
   "metadata": {},
   "outputs": [],
   "source": [
    "print(mkdad_meta.results)"
   ]
  },
  {
   "cell_type": "markdown",
   "id": "4aefeb84",
   "metadata": {},
   "source": [
    "The `maps` attribute is a dictionary containing statistical map names and associated numpy arrays."
   ]
  },
  {
   "cell_type": "code",
   "execution_count": null,
   "id": "9ef067d4",
   "metadata": {},
   "outputs": [],
   "source": [
    "pprint(mkdad_results.maps)"
   ]
  },
  {
   "cell_type": "markdown",
   "id": "cce3e89d",
   "metadata": {},
   "source": [
    "These arrays can be transformed into image-like objects using the `masker` attribute.\n",
    "We can also use the `get_map` method to get that image object."
   ]
  },
  {
   "cell_type": "code",
   "execution_count": null,
   "id": "4cd983e7",
   "metadata": {},
   "outputs": [],
   "source": [
    "mkdad_img = mkdad_results.get_map(\"z\", return_type=\"image\")\n",
    "print(mkdad_img)"
   ]
  },
  {
   "cell_type": "markdown",
   "id": "71bd4e53",
   "metadata": {},
   "source": [
    "We can save the statistical maps to an output directory as gzipped nifti files, with a prefix.\n",
    "Here, we will save all of the statistical maps with the MKDADensity prefix."
   ]
  },
  {
   "cell_type": "code",
   "execution_count": null,
   "id": "26cd9f7d",
   "metadata": {},
   "outputs": [],
   "source": [
    "mkdad_results.save_maps(output_dir=DATA_DIR, prefix=\"MKDADensity\")"
   ]
  },
  {
   "cell_type": "markdown",
   "id": "55539bb9",
   "metadata": {},
   "source": [
    "We will also save the `Estimator` itself, which we will reuse when we get to multiple comparisons correction."
   ]
  },
  {
   "cell_type": "code",
   "execution_count": null,
   "id": "550ec3d4",
   "metadata": {},
   "outputs": [],
   "source": [
    "mkdad_meta.save(os.path.join(DATA_DIR, \"MKDADensity.pkl.gz\"))"
   ]
  },
  {
   "cell_type": "code",
   "execution_count": null,
   "id": "0f1ec6fc",
   "metadata": {
    "tags": [
     "hide-cell"
    ]
   },
   "outputs": [],
   "source": [
    "# Here we delete the recent variables for the sake of reducing memory usage\n",
    "del mkdad_meta, mkdad_results"
   ]
  },
  {
   "cell_type": "markdown",
   "id": "36de1a75",
   "metadata": {},
   "source": [
    "Since this is a kernel-based algorithm, the kernel transformer is an optional input to the meta-analytic estimator, and can be controlled in a more fine-grained manner."
   ]
  },
  {
   "cell_type": "code",
   "execution_count": null,
   "id": "e18331fd",
   "metadata": {},
   "outputs": [],
   "source": [
    "# These two approaches (initializing the kernel ahead of time or\n",
    "# providing the arguments with the kernel__ prefix) are equivalent.\n",
    "mkda_kernel = kernel.MKDAKernel(r=2)\n",
    "mkdad_meta = mkda.MKDADensity(kernel_transformer=mkda_kernel)\n",
    "mkdad_meta = mkda.MKDADensity(kernel_transformer=kernel.MKDAKernel, kernel__r=2)\n",
    "\n",
    "# A completely different kernel could even be provided, although this is not\n",
    "# recommended and should only be used for testing algorithms.\n",
    "mkdad_meta = mkda.MKDADensity(kernel_transformer=kernel.KDAKernel)"
   ]
  },
  {
   "cell_type": "code",
   "execution_count": null,
   "id": "bf00d8a5",
   "metadata": {
    "tags": [
     "hide-cell"
    ]
   },
   "outputs": [],
   "source": [
    "# Here we delete the recent variables for the sake of reducing memory usage\n",
    "del mkda_kernel, mkdad_meta"
   ]
  },
  {
   "cell_type": "markdown",
   "id": "1cc0f517",
   "metadata": {},
   "source": [
    "## Kernel density analysis\n",
    "\n",
    "**Kernel density analysis** (KDA) {cite:p}`Wager2003-no,Wager2004-ak` is a precursor algorithm that has been replaced in the field by MKDA.\n",
    "For the sake of completeness, NiMARE also includes a KDA estimator that implements the older KDA algorithm for comparison purposes.\n",
    "The interface is virtually identical, but since there are few if any legitimate uses of KDA (which models studies as fixed rather than random effects), we do not discuss the algorithm further here."
   ]
  },
  {
   "cell_type": "code",
   "execution_count": null,
   "id": "4ed2cc72",
   "metadata": {},
   "outputs": [],
   "source": [
    "kda_meta = mkda.KDA(null_method=\"approximate\")\n",
    "kda_results = kda_meta.fit(sleuth_dset1)\n",
    "\n",
    "# Retain the z-statistic map for later use\n",
    "kda_img = kda_results.get_map(\"z\", return_type=\"image\")"
   ]
  },
  {
   "cell_type": "code",
   "execution_count": null,
   "id": "031be58c",
   "metadata": {
    "tags": [
     "hide-cell"
    ]
   },
   "outputs": [],
   "source": [
    "# Here we delete the recent variables for the sake of reducing memory usage\n",
    "del kda_meta, kda_results"
   ]
  },
  {
   "cell_type": "markdown",
   "id": "10552461",
   "metadata": {},
   "source": [
    "## Activation likelihood estimation\n",
    "\n",
    "**Activation likelihood estimation** (ALE) {cite:p}`Eickhoff2012-hk,Turkeltaub2012-no,Turkeltaub2002-dn` assesses convergence of peaks across studies by first generating a modeled activation map for each study, in which each of the experiment’s peaks is convolved with a 3D Gaussian distribution determined by the experiment’s sample size, and then by combining these modeled activation maps across studies into an ALE map, which is compared to an empirical null distribution to assess voxel-wise statistical significance."
   ]
  },
  {
   "cell_type": "code",
   "execution_count": null,
   "id": "2dab4939",
   "metadata": {},
   "outputs": [],
   "source": [
    "from nimare.meta.cbma import ale\n",
    "\n",
    "ale_meta = ale.ALE()\n",
    "ale_results = ale_meta.fit(sleuth_dset1)\n",
    "\n",
    "# Retain the z-statistic map for later use\n",
    "ale_img = ale_results.get_map(\"z\", return_type=\"image\")"
   ]
  },
  {
   "cell_type": "code",
   "execution_count": null,
   "id": "fbec3713",
   "metadata": {
    "tags": [
     "hide-cell"
    ]
   },
   "outputs": [],
   "source": [
    "# Here we delete the recent variables for the sake of reducing memory usage\n",
    "del ale_meta, ale_results"
   ]
  },
  {
   "cell_type": "markdown",
   "id": "31f2e532",
   "metadata": {},
   "source": [
    "## Specific coactivation likelihood estimation\n",
    "\n",
    "**Specific coactivation likelihood estimation** (SCALE) {cite:p}`Langner2014-ei` is an extension of the ALE algorithm developed for meta-analytic coactivation modeling (MACM) analyses.\n",
    "Rather than comparing convergence of foci within the sample to a null distribution derived under the assumption of spatial randomness within the brain, SCALE assesses whether the convergence at each voxel is greater than in the general literature.\n",
    "Each voxel in the brain is assigned a null distribution determined based on the base rate of activation for that voxel across an existing coordinate-based meta-analytic database.\n",
    "This approach allows for the generation of a statistical map for the sample, but no methods for multiple comparisons correction have yet been developed.\n",
    "While this method was developed to support analysis of joint activation or “coactivation” patterns, it is generic and can be applied to any CBMA; see [](about_derivative_analyses.md)"
   ]
  },
  {
   "cell_type": "code",
   "execution_count": null,
   "id": "1535a358",
   "metadata": {},
   "outputs": [],
   "source": [
    "# Here we use the coordinates from Neurosynth as our measure of coordinate\n",
    "# base-rates, because we do not have access to the full BrainMap database.\n",
    "# However, one assumption of SCALE is that the Dataset being analyzed comes\n",
    "# from the same source as the database you use for calculating base-rates.\n",
    "xyz = neurosynth_dset.coordinates[[\"x\", \"y\", \"z\"]].values\n",
    "scale_meta = ale.SCALE(n_iters=2500, xyz=xyz, memory_limit=None)\n",
    "scale_results = scale_meta.fit(sleuth_dset1)\n",
    "\n",
    "# Retain the z-statistic map for later use\n",
    "scale_img = scale_results.get_map(\"z\", return_type=\"image\")"
   ]
  },
  {
   "cell_type": "code",
   "execution_count": null,
   "id": "e847ded7",
   "metadata": {
    "tags": [
     "hide-cell"
    ]
   },
   "outputs": [],
   "source": [
    "# Here we delete the recent variables for the sake of reducing memory usage\n",
    "del xyz, scale_meta, scale_results"
   ]
  },
  {
   "cell_type": "markdown",
   "id": "1e091646",
   "metadata": {},
   "source": [
    "## MKDA Chi-Squared Analysis\n",
    "\n",
    "An alternative to the density-based approaches (i.e., MKDA, KDA, ALE, and SCALE) is the **MKDA Chi-squared** extension {cite:p}`Wager2007-jc`.\n",
    "Though still a kernel-based method in which foci are convolved with a binary sphere and combined within studies, this approach uses voxel-wise chi-squared tests to assess both consistency (i.e., higher convergence of foci within the meta-analytic sample than expected by chance) and specificity (i.e., higher convergence of foci within the meta-analytic sample than detected in an unrelated dataset) of activation.\n",
    "Such an analysis also requires access to a reference meta-analytic sample or database of studies.\n",
    "For example, to perform a chi-squared analysis of working memory studies, the researcher will also need a comprehensive set of studies which did not manipulate working memory—ideally one that is matched with the working memory study set on all relevant attributes _except_ the involvement of working memory."
   ]
  },
  {
   "cell_type": "code",
   "execution_count": null,
   "id": "f575d015",
   "metadata": {},
   "outputs": [],
   "source": [
    "mkdac_meta = mkda.MKDAChi2()\n",
    "mkdac_results = mkdac_meta.fit(sleuth_dset1, sleuth_dset2)\n",
    "\n",
    "# Retain the specificity analysis's z-statistic map for later use\n",
    "mkdac_img = mkdac_results.get_map(\"z_desc-specificity\", return_type=\"image\")"
   ]
  },
  {
   "cell_type": "code",
   "execution_count": null,
   "id": "027efc4f",
   "metadata": {
    "tags": [
     "hide-cell"
    ]
   },
   "outputs": [],
   "source": [
    "# Here we delete the recent variables for the sake of reducing memory usage\n",
    "del mkdac_meta, mkdac_results"
   ]
  },
  {
   "cell_type": "markdown",
   "id": "89e3f102",
   "metadata": {},
   "source": [
    "## Comparing algorithms\n",
    "\n",
    "Here we load the z-statistic map from each of the CBMA Estimators we've used throughout this chapter and plot them all side by side."
   ]
  },
  {
   "cell_type": "code",
   "execution_count": null,
   "id": "1d496528",
   "metadata": {
    "tags": [
     "hide-output"
    ]
   },
   "outputs": [],
   "source": [
    "meta_results = {\n",
    "    \"MKDA Density\": mkdad_img,\n",
    "    \"MKDA Chi-Squared\": mkdac_img,\n",
    "    \"KDA\": kda_img,\n",
    "    \"ALE\": ale_img,\n",
    "    \"SCALE\": scale_img,\n",
    "}\n",
    "order = [\n",
    "    [\"MKDA Density\", \"ALE\"],\n",
    "    [\"MKDA Chi-Squared\", \"SCALE\"],\n",
    "    [\"KDA\", None]\n",
    "]\n",
    "\n",
    "fig, axes = plt.subplots(figsize=(12, 6), nrows=3, ncols=2)\n",
    "\n",
    "for i_row, row_names in enumerate(order):\n",
    "    for j_col, name in enumerate(row_names):\n",
    "        if not name:\n",
    "            axes[i_row, j_col].axis(\"off\")\n",
    "            continue\n",
    "\n",
    "        img = meta_results[name]\n",
    "        if name == \"MKDA Chi-Squared\":\n",
    "            cmap = \"RdBu_r\"\n",
    "        else:\n",
    "            cmap = \"Reds\"\n",
    "\n",
    "        display = plotting.plot_stat_map(\n",
    "            img,\n",
    "            annotate=False,\n",
    "            axes=axes[i_row, j_col],\n",
    "            cmap=cmap,\n",
    "            cut_coords=[5, -15, 10],\n",
    "            draw_cross=False,\n",
    "            figure=fig,\n",
    "        )\n",
    "        axes[i_row, j_col].set_title(name)\n",
    "\n",
    "        colorbar = display._cbar\n",
    "        colorbar_ticks = colorbar.get_ticks()\n",
    "        if colorbar_ticks[0] < 0:\n",
    "            new_ticks = [colorbar_ticks[0], 0, colorbar_ticks[-1]]\n",
    "        else:\n",
    "            new_ticks = [colorbar_ticks[0], colorbar_ticks[-1]]\n",
    "        colorbar.set_ticks(new_ticks, update_ticks=True)\n",
    "\n",
    "glue(\"figure_cbma_uncorr\", fig, display=False)"
   ]
  },
  {
   "cell_type": "markdown",
   "id": "3c88bb36",
   "metadata": {},
   "source": [
    "```{glue:figure} figure_cbma_uncorr\n",
    ":figwidth: 300px\n",
    ":name: \"figure_cbma_uncorr\"\n",
    ":align: center\n",
    "\n",
    "Thresholded results from MKDA Density, KDA, ALE, and SCALE meta-analyses.\n",
    "```"
   ]
  },
  {
   "cell_type": "markdown",
   "id": "720853b8",
   "metadata": {},
   "source": [
    "A number of other coordinate-based meta-analysis algorithms exist which are not yet implemented in NiMARE.\n",
    "We describe these algorithms briefly in [](future_directions.md)."
   ]
  }
 ],
 "metadata": {
  "jupytext": {
   "text_representation": {
    "extension": ".md",
    "format_name": "myst",
    "format_version": 0.13,
    "jupytext_version": "1.10.3"
   }
  },
  "kernelspec": {
   "display_name": "Python 3",
   "language": "python",
   "name": "python3"
  },
  "language_info": {
   "codemirror_mode": {
    "name": "ipython",
    "version": 3
   },
   "file_extension": ".py",
   "mimetype": "text/x-python",
   "name": "python",
   "nbconvert_exporter": "python",
   "pygments_lexer": "ipython3",
   "version": "3.7.12"
  },
  "source_map": [
   12,
   18,
   41,
   51,
   71,
   82,
   90,
   133,
   137,
   147,
   180,
   185,
   193,
   195,
   199,
   201,
   205,
   207,
   212,
   215,
   220,
   222,
   226,
   230,
   236,
   240,
   252,
   258,
   266,
   274,
   280,
   286,
   296,
   302,
   312,
   325,
   331,
   340,
   348,
   354,
   360,
   410,
   420
  ]
 },
 "nbformat": 4,
 "nbformat_minor": 5
}