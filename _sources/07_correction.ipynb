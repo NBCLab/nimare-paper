{
 "cells": [
  {
   "cell_type": "markdown",
   "id": "13f32681",
   "metadata": {},
   "source": [
    "# Multiple Comparisons Correction"
   ]
  },
  {
   "cell_type": "code",
   "execution_count": 1,
   "id": "c869d2a8",
   "metadata": {
    "tags": [
     "hide-cell"
    ]
   },
   "outputs": [
    {
     "name": "stderr",
     "output_type": "stream",
     "text": [
      "/home/data/nbc/misc-projects/Salo_NiMARE/conda_env/lib/python3.7/site-packages/nilearn/datasets/__init__.py:90: FutureWarning: Fetchers from the nilearn.datasets module will be updated in version 0.9 to return python strings instead of bytes and Pandas dataframes instead of Numpy arrays.\n",
      "  \"Numpy arrays.\", FutureWarning)\n"
     ]
    }
   ],
   "source": [
    "# First, import the necessary modules and functions\n",
    "import os\n",
    "\n",
    "import matplotlib.pyplot as plt\n",
    "from myst_nb import glue\n",
    "from nilearn import plotting\n",
    "\n",
    "# Set an output directory for any files generated during the book building process\n",
    "out_dir = os.path.abspath(\"../outputs/\")"
   ]
  },
  {
   "cell_type": "markdown",
   "id": "fb455d87",
   "metadata": {},
   "source": [
    "In NiMARE, multiple comparisons correction is separated from each CBMA and IBMA `Estimator`, so that any number of relevant correction methods can be applied after the `Estimator` has been fit to the `Dataset`.\n",
    "Some correction options, such as the `montecarlo` option for FWE correction, are designed to work specifically with a given `Estimator` (and are indeed implemented within the `Estimator` class, and only called by the `Corrector`).\n",
    "\n",
    "`Corrector`s are divided into two subclasses: `FWECorrector`s, which correct based on family-wise error rate, and `FDRCorrector`s, which correct based on false discovery rate.\n",
    "\n",
    "All `Corrector`s are initialized with a number of parameters, including the correction method that will be used.\n",
    "After that, you can use the `transform` method on a `MetaResult` object produced by a CBMA or IBMA `Estimator` to apply the correction method.\n",
    "This will return an updated `MetaResult` object, with both the statistical maps from the original `MetaResult`, as well as new, corrected maps.\n",
    "\n",
    "Here we will apply both FWE and FDR correction to results from a MKDADensity meta-analysis, performed back in [](content:cbma:mkdad).\n",
    "\n",
    "```{warning}\n",
    "In the following example, we use 5000 iterations for Monte Carlo FWE correction.\n",
    "Normally, one would use at least 10000 iterations, but we reduced this for the sake of speed.\n",
    "```"
   ]
  },
  {
   "cell_type": "code",
   "execution_count": 2,
   "id": "f1d6ed1d",
   "metadata": {},
   "outputs": [
    {
     "name": "stderr",
     "output_type": "stream",
     "text": [
      "INFO:nimare.correct:Using correction method implemented in Estimator: nimare.meta.cbma.mkda.MKDADensity.correct_fwe_montecarlo.\n"
     ]
    },
    {
     "data": {
      "application/vnd.jupyter.widget-view+json": {
       "model_id": "dca9ba454ee641cba5b6f82f3e0f40b7",
       "version_major": 2,
       "version_minor": 0
      },
      "text/plain": [
       "  0%|          | 0/5000 [00:00<?, ?it/s]"
      ]
     },
     "metadata": {},
     "output_type": "display_data"
    },
    {
     "name": "stderr",
     "output_type": "stream",
     "text": [
      "INFO:nimare.meta.cbma.base:Using null distribution for voxel-level FWE correction.\n"
     ]
    }
   ],
   "source": [
    "from nimare import meta, correct\n",
    "\n",
    "mkdad_meta = meta.cbma.mkda.MKDADensity.load(os.path.join(out_dir, \"MKDADensity.pkl.gz\"))\n",
    "\n",
    "mc_corrector = correct.FWECorrector(method=\"montecarlo\", n_iters=5000, n_cores=4)\n",
    "mc_results = mc_corrector.transform(mkdad_meta.results)\n",
    "mc_results.save_maps(output_dir=out_dir, prefix=\"MKDADensity_FWE\")\n",
    "\n",
    "fdr_corrector = correct.FDRCorrector(method=\"indep\")\n",
    "fdr_results = fdr_corrector.transform(mkdad_meta.results)"
   ]
  },
  {
   "cell_type": "markdown",
   "id": "cced33b1",
   "metadata": {},
   "source": [
    "Statistical maps saved by NiMARE `MetaResult`s automatically follow a naming convention based loosely on the Brain Imaging Data Standard (BIDS).\n",
    "\n",
    "Let's take a look at the files created by the `FWECorrector`."
   ]
  },
  {
   "cell_type": "code",
   "execution_count": 3,
   "id": "1a601050",
   "metadata": {},
   "outputs": [
    {
     "name": "stdout",
     "output_type": "stream",
     "text": [
      "MKDADensity_FWE_logp_desc-mass_level-cluster_corr-FWE_method-montecarlo.nii.gz\n",
      "MKDADensity_FWE_logp_desc-size_level-cluster_corr-FWE_method-montecarlo.nii.gz\n",
      "MKDADensity_FWE_logp_level-voxel_corr-FWE_method-montecarlo.nii.gz\n",
      "MKDADensity_FWE_p.nii.gz\n",
      "MKDADensity_FWE_stat.nii.gz\n",
      "MKDADensity_FWE_z.nii.gz\n",
      "MKDADensity_FWE_z_desc-mass_level-cluster_corr-FWE_method-montecarlo.nii.gz\n",
      "MKDADensity_FWE_z_desc-size_level-cluster_corr-FWE_method-montecarlo.nii.gz\n",
      "MKDADensity_FWE_z_level-voxel_corr-FWE_method-montecarlo.nii.gz\n"
     ]
    }
   ],
   "source": [
    "from glob import glob\n",
    "\n",
    "fwe_maps = sorted(glob(os.path.join(out_dir, \"MKDADensity_FWE*.nii.gz\")))\n",
    "fwe_maps = [os.path.basename(fwe_map) for fwe_map in fwe_maps]\n",
    "print(\"\\n\".join(fwe_maps))"
   ]
  },
  {
   "cell_type": "markdown",
   "id": "bab13fba",
   "metadata": {},
   "source": [
    "If you ignore the prefix, which was specified in the call to `MetaResult.save_maps`, the maps all have a common naming convention.\n",
    "The maps from the original meta-analysis (before multiple comparisons correction) are simply named according to the values contained in the map (e.g., `z`, `stat`, `p`).\n",
    "\n",
    "Maps generated by the correction method, however, use a series of key-value pairs to indicate how they were generated.\n",
    "The `corr` key indicates whether FWE or FDR correction was applied.\n",
    "The `method` key reflects the correction method employed, which was defined by the `method` parameter used to create the `Corrector`.\n",
    "The `level` key simply indicates if the map was corrected at the voxel or cluster level.\n",
    "Finally, the `desc` key reflects any necessary description that goes beyond what is already covered by the other entities."
   ]
  },
  {
   "cell_type": "code",
   "execution_count": 4,
   "id": "6d443ce1",
   "metadata": {
    "tags": [
     "hide-cell"
    ]
   },
   "outputs": [
    {
     "ename": "ValueError",
     "evalue": "No map with name 'z_level-cluster_corr-FWE_method-montecarlo' found.",
     "output_type": "error",
     "traceback": [
      "\u001b[0;31m---------------------------------------------------------------------------\u001b[0m",
      "\u001b[0;31mValueError\u001b[0m                                Traceback (most recent call last)",
      "\u001b[0;32m/tmp/ipykernel_27849/1623422734.py\u001b[0m in \u001b[0;36m<module>\u001b[0;34m\u001b[0m\n\u001b[1;32m      2\u001b[0m     \"Cluster-level Monte Carlo\": mc_results.get_map(\n\u001b[1;32m      3\u001b[0m         \u001b[0;34m\"z_level-cluster_corr-FWE_method-montecarlo\"\u001b[0m\u001b[0;34m,\u001b[0m\u001b[0;34m\u001b[0m\u001b[0;34m\u001b[0m\u001b[0m\n\u001b[0;32m----> 4\u001b[0;31m         \u001b[0mreturn_type\u001b[0m\u001b[0;34m=\u001b[0m\u001b[0;34m\"image\"\u001b[0m\u001b[0;34m,\u001b[0m\u001b[0;34m\u001b[0m\u001b[0;34m\u001b[0m\u001b[0m\n\u001b[0m\u001b[1;32m      5\u001b[0m     ),\n\u001b[1;32m      6\u001b[0m     \"Independent FDR\": fdr_results.get_map(\n",
      "\u001b[0;32m/home/data/nbc/misc-projects/Salo_NiMARE/conda_env/lib/python3.7/site-packages/nimare/results.py\u001b[0m in \u001b[0;36mget_map\u001b[0;34m(self, name, return_type)\u001b[0m\n\u001b[1;32m     51\u001b[0m         \u001b[0mm\u001b[0m \u001b[0;34m=\u001b[0m \u001b[0mself\u001b[0m\u001b[0;34m.\u001b[0m\u001b[0mmaps\u001b[0m\u001b[0;34m.\u001b[0m\u001b[0mget\u001b[0m\u001b[0;34m(\u001b[0m\u001b[0mname\u001b[0m\u001b[0;34m)\u001b[0m\u001b[0;34m\u001b[0m\u001b[0;34m\u001b[0m\u001b[0m\n\u001b[1;32m     52\u001b[0m         \u001b[0;32mif\u001b[0m \u001b[0mm\u001b[0m \u001b[0;32mis\u001b[0m \u001b[0;32mNone\u001b[0m\u001b[0;34m:\u001b[0m\u001b[0;34m\u001b[0m\u001b[0;34m\u001b[0m\u001b[0m\n\u001b[0;32m---> 53\u001b[0;31m             \u001b[0;32mraise\u001b[0m \u001b[0mValueError\u001b[0m\u001b[0;34m(\u001b[0m\u001b[0;34mf\"No map with name '{name}' found.\"\u001b[0m\u001b[0;34m)\u001b[0m\u001b[0;34m\u001b[0m\u001b[0;34m\u001b[0m\u001b[0m\n\u001b[0m\u001b[1;32m     54\u001b[0m         \u001b[0;32mif\u001b[0m \u001b[0mreturn_type\u001b[0m \u001b[0;34m==\u001b[0m \u001b[0;34m\"image\"\u001b[0m\u001b[0;34m:\u001b[0m\u001b[0;34m\u001b[0m\u001b[0;34m\u001b[0m\u001b[0m\n\u001b[1;32m     55\u001b[0m             \u001b[0;31m# pending resolution of https://github.com/nilearn/nilearn/issues/2724\u001b[0m\u001b[0;34m\u001b[0m\u001b[0;34m\u001b[0m\u001b[0;34m\u001b[0m\u001b[0m\n",
      "\u001b[0;31mValueError\u001b[0m: No map with name 'z_level-cluster_corr-FWE_method-montecarlo' found."
     ]
    }
   ],
   "source": [
    "meta_results = {\n",
    "    \"Cluster-level Monte Carlo\": mc_results.get_map(\n",
    "        \"z_level-cluster_corr-FWE_method-montecarlo\",\n",
    "        return_type=\"image\",\n",
    "    ),\n",
    "    \"Independent FDR\": fdr_results.get_map(\n",
    "        \"z_corr-FDR_method-indep\",\n",
    "        return_type=\"image\",\n",
    "    ),\n",
    "}\n",
    "\n",
    "fig, axes = plt.subplots(figsize=(6, 4), nrows=2)\n",
    "\n",
    "for i_meta, (name, file_) in enumerate(meta_results.items()):\n",
    "    display = plotting.plot_stat_map(\n",
    "        file_,\n",
    "        annotate=False,\n",
    "        axes=axes[i_meta],\n",
    "        draw_cross=False,\n",
    "        cmap=\"Reds\",\n",
    "        cut_coords=[0, 0, 0],\n",
    "        figure=fig,\n",
    "    )\n",
    "    axes[i_meta].set_title(name)\n",
    "\n",
    "    colorbar = display._cbar\n",
    "    colorbar_ticks = colorbar.get_ticks()\n",
    "    if colorbar_ticks[0] < 0:\n",
    "        new_ticks = [colorbar_ticks[0], 0, colorbar_ticks[-1]]\n",
    "    else:\n",
    "        new_ticks = [colorbar_ticks[0], colorbar_ticks[-1]]\n",
    "    colorbar.set_ticks(new_ticks, update_ticks=True)\n",
    "\n",
    "glue(\"figure_corr_cbma\", fig, display=False)"
   ]
  },
  {
   "cell_type": "markdown",
   "id": "83fbd1e1",
   "metadata": {},
   "source": [
    "```{glue:figure} figure_corr_cbma\n",
    ":name: figure_corr_cbma\n",
    ":align: center\n",
    "\n",
    "An array of plots of the corrected statistical maps produced by the different multiple comparisons correction methods.\n",
    "```"
   ]
  }
 ],
 "metadata": {
  "jupytext": {
   "text_representation": {
    "extension": ".md",
    "format_name": "myst",
    "format_version": 0.13,
    "jupytext_version": "1.10.3"
   }
  },
  "kernelspec": {
   "display_name": "Python 3",
   "language": "python",
   "name": "python3"
  },
  "language_info": {
   "codemirror_mode": {
    "name": "ipython",
    "version": 3
   },
   "file_extension": ".py",
   "mimetype": "text/x-python",
   "name": "python",
   "nbconvert_exporter": "python",
   "pygments_lexer": "ipython3",
   "version": "3.7.11"
  },
  "source_map": [
   12,
   18,
   31,
   49,
   60,
   66,
   72,
   85,
   121
  ]
 },
 "nbformat": 4,
 "nbformat_minor": 5
}