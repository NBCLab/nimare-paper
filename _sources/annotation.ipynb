{
 "cells": [
  {
   "cell_type": "markdown",
   "id": "2ebe2341",
   "metadata": {},
   "source": [
    "# Automated Annotation"
   ]
  },
  {
   "cell_type": "code",
   "execution_count": null,
   "id": "c4f792a2",
   "metadata": {
    "tags": [
     "hide-cell"
    ]
   },
   "outputs": [],
   "source": [
    "# First, import the necessary modules and functions\n",
    "import os\n",
    "\n",
    "import matplotlib.pyplot as plt\n",
    "import numpy as np\n",
    "import pandas as pd\n",
    "from myst_nb import glue\n",
    "from nilearn import image, plotting\n",
    "\n",
    "import nimare\n",
    "\n",
    "# Define where data files will be located\n",
    "DATA_DIR = os.path.abspath(\"../data\")\n",
    "FIG_DIR = os.path.abspath(\"../images\")\n",
    "\n",
    "# Now, load the Dataset we will use in this chapter\n",
    "neurosynth_dset_first_500 = nimare.dataset.Dataset.load(\n",
    "    os.path.join(DATA_DIR, \"neurosynth_dataset_first500.pkl.gz\")\n",
    ")"
   ]
  },
  {
   "cell_type": "markdown",
   "id": "80f0c546",
   "metadata": {},
   "source": [
    "As mentioned in the discussion of BrainMap ([](content:resources:brainmap)), manually annotating studies in a meta-analytic database can be a time-consuming and labor-intensive process.\n",
    "To facilitate more efficient (albeit lower-quality) annotation, NiMARE supports a number of automated annotation approaches.\n",
    "These include n-gram term extraction, Cognitive Atlas term extraction, latent Dirichlet allocation, and generalized correspondence latent Dirichlet allocation.\n",
    "\n",
    "NiMARE users may download abstracts from PubMed as long as study identifiers in the `Dataset` correspond to PubMed IDs (as in Neurosynth and NeuroQuery).\n",
    "Abstracts are much more easily accessible than full article text, so most annotation methods in NiMARE rely on them.\n",
    "\n",
    "Below, we use the function {py:func}`nimare.extract.download_abstracts` to download abstracts for the Neurosynth `Dataset`.\n",
    "This will attempt to extract metadata about each study in the `Dataset` from PubMed, and then add the abstract available on Pubmed to the `Dataset`'s `texts` attribute, under a new column names \"abstract\"."
   ]
  },
  {
   "cell_type": "code",
   "execution_count": null,
   "id": "e5c48b15",
   "metadata": {},
   "outputs": [],
   "source": [
    "from nimare import extract\n",
    "\n",
    "# In order to run this code on nodes without internet access,\n",
    "# we need this if statement\n",
    "dataset_file = os.path.join(\n",
    "    DATA_DIR, \"neurosynth_dataset_first500_with_abstracts.pkl.gz\"\n",
    ")\n",
    "if not os.path.isfile(dataset_file):\n",
    "    neurosynth_dset_first_500 = extract.download_abstracts(\n",
    "        neurosynth_dset_first_500,\n",
    "        email=\"example@email.com\",\n",
    "    )\n",
    "    neurosynth_dset_first_500.save(dataset_file)\n",
    "else:\n",
    "    neurosynth_dset_first_500 = nimare.dataset.Dataset.load(dataset_file)"
   ]
  },
  {
   "cell_type": "markdown",
   "id": "f3ce0804",
   "metadata": {},
   "source": [
    "## N-gram term extraction\n",
    "\n",
    "**N-gram term extraction** refers to the vectorization of text into contiguous sets of words that can be counted as individual tokens.\n",
    "The upper limit on the number of words in these tokens is set by the user.\n",
    "\n",
    "NiMARE has the function {py:func}`nimare.annotate.text.generate_counts` to extract n-grams from text.\n",
    "This method produces either term counts or term frequency- inverse document frequency (tf-idf) values for each of the studies in a `Dataset`."
   ]
  },
  {
   "cell_type": "code",
   "execution_count": null,
   "id": "a9c26b46",
   "metadata": {},
   "outputs": [],
   "source": [
    "counts_df = annotate.text.generate_counts(\n",
    "    neurosynth_dset_first_500.texts,\n",
    "    text_column=\"abstract\",\n",
    "    tfidf=False,\n",
    "    min_df=10,\n",
    "    max_df=0.95,\n",
    ")"
   ]
  },
  {
   "cell_type": "markdown",
   "id": "0ebcd666",
   "metadata": {},
   "source": [
    "This term count `DataFrame` will be used later, to train a GCLDA model."
   ]
  },
  {
   "cell_type": "markdown",
   "id": "ff219e0d",
   "metadata": {},
   "source": [
    "## Cognitive Atlas term extraction and hierarchical expansion\n",
    "\n",
    "**Cognitive Atlas term extraction** leverages the structured nature of the Cognitive Atlas in order to extract counts for individual terms and their synonyms in the ontology, as well as to apply hierarchical expansion to these counts based on the relationships specified between terms.\n",
    "This method produces both basic term counts and expanded term counts based on the weights applied to different relationship types present in the ontology.\n",
    "\n",
    "First, we must use {py:func}`nimare.extract.download_cognitive_atlas` to download the current version of the Cognitive Atlas ontology.\n",
    "This includes both information about individual terms in the ontology and asserted relationships between those terms.\n",
    "\n",
    "NiMARE will automatically attempt to extrapolate likely alternate forms of each term in the ontology, in order to make extraction easier.\n",
    "For example,"
   ]
  },
  {
   "cell_type": "code",
   "execution_count": null,
   "id": "90faae08",
   "metadata": {},
   "outputs": [],
   "source": [
    "cogatlas = extract.download_cognitive_atlas(data_dir=DATA_DIR, overwrite=False)\n",
    "id_df = pd.read_csv(cogatlas[\"ids\"])\n",
    "rel_df = pd.read_csv(cogatlas[\"relationships\"])\n",
    "\n",
    "cogat_counts_df, rep_text_df = annotate.cogat.extract_cogat(\n",
    "    neurosynth_dset_first_500.texts, id_df, text_column=\"abstract\"\n",
    ")"
   ]
  },
  {
   "cell_type": "code",
   "execution_count": null,
   "id": "ce876e23",
   "metadata": {},
   "outputs": [],
   "source": [
    "# Define a weighting scheme.\n",
    "# In this scheme, observed terms will also count toward any\n",
    "# hypernyms (isKindOf), holonyms (isPartOf), and parent categories (inCategory)\n",
    "# as well.\n",
    "weights = {\"isKindOf\": 1, \"isPartOf\": 1, \"inCategory\": 1}\n",
    "expanded_df = annotate.cogat.expand_counts(cogat_counts_df, rel_df, weights)\n",
    "\n",
    "# Sort by total count and reduce for better visualization\n",
    "series = expanded_df.sum(axis=0)\n",
    "series = series.sort_values(ascending=False)\n",
    "series = series[series > 0]\n",
    "columns = series.index.tolist()"
   ]
  },
  {
   "cell_type": "code",
   "execution_count": null,
   "id": "2202a116",
   "metadata": {},
   "outputs": [],
   "source": [
    "# Raw counts\n",
    "fig, axes = plt.subplots(figsize=(16, 16), nrows=2, sharex=True)\n",
    "pos = axes[0].imshow(\n",
    "    cogat_counts_df[columns].values,\n",
    "    aspect=\"auto\",\n",
    "    vmin=0,\n",
    "    vmax=np.max(expanded_df.values),\n",
    ")\n",
    "fig.colorbar(pos, ax=axes[0])\n",
    "axes[0].set_title(\"Counts Before Expansion\", fontsize=20)\n",
    "axes[0].set_yticks(range(cogat_counts_df.shape[0]))\n",
    "axes[0].set_yticklabels(cogat_counts_df.index)\n",
    "axes[0].set_ylabel(\"Study\", fontsize=16)\n",
    "axes[0].set_xticks(range(len(columns)))\n",
    "axes[0].set_xticklabels(columns, rotation=90)\n",
    "axes[0].set_xlabel(\"Cognitive Atlas Term\", fontsize=16)\n",
    "\n",
    "# Expanded counts\n",
    "pos = axes[1].imshow(\n",
    "    expanded_df[columns].values,\n",
    "    aspect=\"auto\",\n",
    "    vmin=0,\n",
    "    vmax=np.max(expanded_df.values),\n",
    ")\n",
    "fig.colorbar(pos, ax=axes[1])\n",
    "axes[1].set_title(\"Counts After Expansion\", fontsize=20)\n",
    "axes[1].set_yticks(range(cogat_counts_df.shape[0]))\n",
    "axes[1].set_yticklabels(cogat_counts_df.index)\n",
    "axes[1].set_ylabel(\"Study\", fontsize=16)\n",
    "axes[1].set_xticks(range(len(columns)))\n",
    "axes[1].set_xticklabels(columns, rotation=90)\n",
    "axes[1].set_xlabel(\"Cognitive Atlas Term\", fontsize=16)\n",
    "\n",
    "fig.tight_layout()\n",
    "fig.show()"
   ]
  },
  {
   "cell_type": "code",
   "execution_count": null,
   "id": "1b0d6658",
   "metadata": {
    "tags": [
     "hide-cell"
    ]
   },
   "outputs": [],
   "source": [
    "# Here we delete the recent variables for the sake of reducing memory usage\n",
    "del cogatlas, id_df, rel_df, cogat_counts_df, rep_text_df\n",
    "del weights, expanded_df, series, columns"
   ]
  },
  {
   "cell_type": "markdown",
   "id": "d311d215",
   "metadata": {},
   "source": [
    "## Latent Dirichlet allocation\n",
    "\n",
    "**Latent Dirichlet allocation** (LDA) {cite:p}`Blei2003-lh` was originally combined with meta-analytic neuroimaging data in {cite:t}`Poldrack2012-it`.\n",
    "LDA is a generative topic model which, for a text corpus, builds probability distributions across documents and words.\n",
    "In LDA, each document is considered a mixture of topics.\n",
    "This works under the assumption that each document was constructed by first randomly selecting a topic based on the document's probability distribution across topics, and then randomly selecting a word from that topic based on the topic's probability distribution across words.\n",
    "While this is not a useful generative model for producing documents, LDA is able to discern cohesive topics of related words.\n",
    "{cite:t}`Poldrack2012-it` were able to apply LDA to full texts from neuroimaging articles in order to develop cognitive neuroscience-related topics and to run topic-wise meta-analyses.\n",
    "This method produces two sets of probability distributions: (1) the probability of a word given topic and (2) the probability of a topic given article.\n",
    "\n",
    "NiMARE uses a Python-based interface to the MALLET Java library {cite:p}`mccallum2002mallet` to implement LDA.\n",
    "NiMARE will download MALLET automatically, when necessary.\n",
    "\n",
    "Here, we train an LDA model ({py:class}`nimare.annotate.lda.LDAModel`) on the first 500 studies of the Neurosynth `Dataset`, with 100 topics in the model."
   ]
  },
  {
   "cell_type": "code",
   "execution_count": null,
   "id": "3c5b7146",
   "metadata": {},
   "outputs": [],
   "source": [
    "from nimare import annotate\n",
    "\n",
    "lda_model = annotate.lda.LDAModel(\n",
    "    neurosynth_dset_first_500.texts,\n",
    "    text_column=\"abstract\",\n",
    "    n_topics=100,\n",
    "    n_iters=10000,\n",
    ")\n",
    "lda_model.fit()"
   ]
  },
  {
   "cell_type": "markdown",
   "id": "eadced44",
   "metadata": {},
   "source": [
    "The most important products of training the `LDAModel` object are its `p_word_g_topic_df_` and `p_topic_g_doc_df_` attributes.\n",
    "The `p_word_g_topic_df_` attribute is a `pandas` `DataFrame` in which each row corresponds to a topic and each column corresponds to a term (n-gram) extracted from the `Dataset`'s texts.\n",
    "The cells contain weights indicating the probability of selecting the term given that the topic was already selected.\n",
    "The `p_topic_g_doc_df_` attribute is also a `DataFrame`.\n",
    "In this one, each row corresponds to a study in the `Dataset` and each column is a topic.\n",
    "The cell values indicate the probability of selecting a topic when contructing the given study.\n",
    "Practically, this indicates the relative proportion with which the topic describes that study."
   ]
  },
  {
   "cell_type": "code",
   "execution_count": null,
   "id": "b9fbb202",
   "metadata": {
    "tags": [
     "hide-input"
    ]
   },
   "outputs": [],
   "source": [
    "lda_df = lda_model.p_word_g_topic_df_.T\n",
    "column_names = {c: f\"Topic {c}\" for c in df.columns}\n",
    "lda_df = lda_df.rename(columns=column_names)\n",
    "temp_df = lda_df.copy()\n",
    "lda_df = pd.DataFrame(columns=lda_df.columns, index=np.arange(10))\n",
    "lda_df.index.name = \"Term\"\n",
    "for col in lda_df.columns:\n",
    "    top_ten_terms = temp_df.sort_values(\n",
    "        by=col,\n",
    "        ascending=False,\n",
    "    ).index.tolist()[:10]\n",
    "    lda_df.loc[:, col] = top_ten_terms\n",
    "\n",
    "glue(\"table_lda\", lda_df)"
   ]
  },
  {
   "cell_type": "markdown",
   "id": "72d5701f",
   "metadata": {},
   "source": [
    "```{glue:figure} table_lda\n",
    ":figwidth: 300px\n",
    ":name: \"tbl:table_lda\"\n",
    "\n",
    "The top ten terms for each of the first ten topics in the trained LDA model.\n",
    "```"
   ]
  },
  {
   "cell_type": "code",
   "execution_count": null,
   "id": "87ecb885",
   "metadata": {
    "tags": [
     "hide-cell"
    ]
   },
   "outputs": [],
   "source": [
    "# Here we delete the recent variables for the sake of reducing memory usage\n",
    "del lda_model, lda_df, temp_df"
   ]
  },
  {
   "cell_type": "markdown",
   "id": "e189852b",
   "metadata": {},
   "source": [
    "## Generalized correspondence latent Dirichlet allocation\n",
    "\n",
    "**Generalized correspondence latent Dirichlet allocation** (GCLDA) is a recently-developed algorithm that trains topics on both article abstracts and coordinates {cite:p}`Rubin2017-rd`.\n",
    "GCLDA assumes that topics within the fMRI literature can also be localized to brain regions, in this case modeled as three-dimensional Gaussian distributions.\n",
    "These spatial distributions can also be restricted to pairs of Gaussians that are symmetric across brain hemispheres.\n",
    "This method produces two sets of probability distributions: the probability of a word given topic (`GCLDAModel.p_word_g_topic_`) and the probability of a voxel given topic (`GCLDAModel.p_voxel_g_topic_`).\n",
    "\n",
    "Here we train a GCLDA model ({py:class}`nimare.annotate.gclda.GCLDAModel`) on the first 500 studies of the Neurosynth Dataset.\n",
    "The model will include 100 topics, in which the spatial distribution for each topic will be defined as having two Gaussian distributions that are symmetrically localized across the longitudinal fissure."
   ]
  },
  {
   "cell_type": "code",
   "execution_count": null,
   "id": "f3dfce84",
   "metadata": {},
   "outputs": [],
   "source": [
    "gclda_model = annotate.gclda.GCLDAModel(\n",
    "    counts_df,\n",
    "    neurosynth_dset_first_500.coordinates,\n",
    "    n_regions=2,\n",
    "    n_topics=100,\n",
    "    symmetric=True,\n",
    "    mask=neurosynth_dset_first_500.masker.mask_img,\n",
    ")\n",
    "gclda_model.fit(n_iters=2500, loglikely_freq=500)"
   ]
  },
  {
   "cell_type": "code",
   "execution_count": null,
   "id": "164219fe",
   "metadata": {
    "tags": [
     "hide-input"
    ]
   },
   "outputs": [],
   "source": [
    "gclda_df = gclda_model.p_word_g_topic_df_.T\n",
    "column_names = {c: f\"Topic {c}\" for c in gclda_df.columns}\n",
    "gclda_df = gclda_df.rename(columns=column_names)\n",
    "temp_df = gclda_df.copy()\n",
    "gclda_df = pd.DataFrame(columns=gclda_df.columns, index=np.arange(10))\n",
    "gclda_df.index.name = \"Term\"\n",
    "for col in temp_df.columns:\n",
    "    top_ten_terms = temp_df.sort_values(\n",
    "        by=col,\n",
    "        ascending=False,\n",
    "    ).index.tolist()[:10]\n",
    "    gclda_df.loc[:, col] = top_ten_terms\n",
    "\n",
    "glue(\"table_gclda\", gclda_df)"
   ]
  },
  {
   "cell_type": "markdown",
   "id": "100cff5b",
   "metadata": {},
   "source": [
    "```{glue:figure} table_gclda\n",
    ":figwidth: 300px\n",
    ":name: \"tbl:table_gclda\"\n",
    "\n",
    "The top ten terms for each of the first ten topics in the trained GCLDA model.\n",
    "```"
   ]
  },
  {
   "cell_type": "code",
   "execution_count": null,
   "id": "b0e17c8c",
   "metadata": {
    "tags": [
     "hide-cell"
    ]
   },
   "outputs": [],
   "source": [
    "from nilearn import image\n",
    "\n",
    "fig, axes = plt.subplots(nrows=5, figsize=(6, 10))\n",
    "\n",
    "topic_img_4d = dset.masker.inverse_transform(gclda_model.p_voxel_g_topic_.T)\n",
    "# Plot first five topics\n",
    "for i_topic in range(5):\n",
    "    topic_img = image.index_img(topic_img_4d, index=i_topic)\n",
    "    display = plotting.plot_stat_map(\n",
    "        topic_img,\n",
    "        annotate=False,\n",
    "        cmap=\"Reds\",\n",
    "        draw_cross=False,\n",
    "        figure=fig,\n",
    "        axes=axes[i_topic],\n",
    "    )\n",
    "    axes[i_topic].set_title(f\"Topic {i_topic + 1}\")\n",
    "\n",
    "    colorbar = display._cbar\n",
    "    colorbar_ticks = colorbar.get_ticks()\n",
    "    if colorbar_ticks[0] < 0:\n",
    "        new_ticks = [colorbar_ticks[0], 0, colorbar_ticks[-1]]\n",
    "    else:\n",
    "        new_ticks = [colorbar_ticks[0], colorbar_ticks[-1]]\n",
    "    colorbar.set_ticks(new_ticks, update_ticks=True)\n",
    "\n",
    "fig.savefig(\n",
    "    os.path.join(FIG_DIR, \"figure_09.svg\"),\n",
    "    transparent=True,\n",
    "    bbox_inches=\"tight\",\n",
    "    pad_inches=0,\n",
    ")\n",
    "glue(\"figure_gclda_topics\", fig, display=False)"
   ]
  },
  {
   "cell_type": "markdown",
   "id": "7db2e4f0",
   "metadata": {},
   "source": [
    "```{glue:figure} figure_gclda_topics\n",
    ":figwidth: 150px\n",
    ":name: figure_gclda_topics\n",
    "\n",
    "Topic weight maps for the first five topics in the GCLDA model.\n",
    "```"
   ]
  },
  {
   "cell_type": "code",
   "execution_count": null,
   "id": "8c7ba049",
   "metadata": {
    "tags": [
     "hide-cell"
    ]
   },
   "outputs": [],
   "source": [
    "# Here we delete the recent variables for the sake of reducing memory usage\n",
    "del gclda_model, temp_df, gclda_df, counts_df"
   ]
  }
 ],
 "metadata": {
  "jupytext": {
   "text_representation": {
    "extension": ".md",
    "format_name": "myst",
    "format_version": 0.13,
    "jupytext_version": "1.10.3"
   }
  },
  "kernelspec": {
   "display_name": "Python 3",
   "language": "python",
   "name": "python3"
  },
  "source_map": [
   12,
   18,
   41,
   53,
   71,
   81,
   89,
   93,
   106,
   116,
   131,
   169,
   176,
   193,
   203,
   213,
   230,
   239,
   245,
   257,
   269,
   286,
   295,
   330,
   339
  ]
 },
 "nbformat": 4,
 "nbformat_minor": 5
}