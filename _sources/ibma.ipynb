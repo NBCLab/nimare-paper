{
 "cells": [
  {
   "cell_type": "markdown",
   "id": "2895a2f6",
   "metadata": {},
   "source": [
    "# Image-Based Meta-Analysis"
   ]
  },
  {
   "cell_type": "code",
   "execution_count": null,
   "id": "c2f24897",
   "metadata": {
    "tags": [
     "hide-cell"
    ]
   },
   "outputs": [],
   "source": [
    "# First, import the necessary modules and functions\n",
    "import os\n",
    "\n",
    "import matplotlib.pyplot as plt\n",
    "import numpy as np\n",
    "from myst_nb import glue\n",
    "from nilearn import plotting\n",
    "\n",
    "import nimare\n",
    "\n",
    "# Define where data files will be located\n",
    "DATA_DIR = os.path.abspath(\"../data\")\n",
    "FIG_DIR = os.path.abspath(\"../images\")\n",
    "\n",
    "# Now, load the Datasets we will use in this chapter\n",
    "sleuth_dset1 = nimare.dataset.Dataset.load(\n",
    "    os.path.join(DATA_DIR, \"sleuth_dset1.pkl.gz\")\n",
    ")"
   ]
  },
  {
   "cell_type": "markdown",
   "id": "2521de1d",
   "metadata": {},
   "source": [
    "Image-based meta-analysis (IBMA) methods perform a meta-analysis directly on brain images (either whole-brain or partial) rather than on extracted peaks.\n",
    "On paper, IBMA is superior to CBMA in virtually all respects, as the availability of analysis-level parameter and variance estimates at all analyzed voxels allows researchers to use the full complement of standard meta-analysis techniques, instead of having to resort to kernel-based or other methods that require additional spatial assumptions.\n",
    "In principle, given a set of maps that contains no missing values (i.e., where there are _k_ valid pairs of parameter and variance estimates at each voxel), one can simply conduct a voxel-wise version of any standard meta-analysis or meta-regression method commonly used in other biomedical or social science fields.\n",
    "\n",
    "In practice, the utility of IBMA methods has historically been quite limited, as unthresholded statistical maps have been unavailable for the vast majority of neuroimaging studies.\n",
    "However, the introduction and rapid adoption of NeuroVault {cite:p}`Gorgolewski2015-sd`, a database for unthresholded statistical images, has made image-based meta-analysis increasingly viable.\n",
    "Although coverage of the literature remains limited, and IBMAs of maps drawn from the NeuroVault database are likely to omit at least some (and in some cases most) relevant studies due to limited metadata,  we believe the time is ripe for researchers to start including both CBMAs and IBMAs in published meta-analyses, with the aspirational goal of eventually transitioning exclusively to the latter.\n",
    "To this end, NiMARE supports a range of different IBMA methods, including a number of estimators of the gold standard mixed-effects meta-regression model, as well as several alternative estimators suitable for use when some of the traditional inputs are unavailable.\n",
    "\n",
    "```{note}\n",
    "NiMARE's IBMA `Estimator`s are light wrappers around classes from [PyMARE](https://pymare.readthedocs.io), a library for standard (i.e., non-neuroimaging) meta-analyses developed by the same team as NiMARE.\n",
    "```\n",
    "\n",
    "In the optimal situation, meta-analysts have access to both contrast (i.e., parameter estimate) maps and their associated standard error maps for a number of studies.\n",
    "With these data, researchers can fit the traditional random-effects meta-regression model using one of several methods that vary in the way they estimate the between-study variance ($\\tau^{2}$).\n",
    "Currently supported estimators include the **DerSimonian-Laird** method {cite:p}`DerSimonian1986-hu`, the **Hedges** method {cite:p}`Hedges1985-ka`, and **maximum-likelihood** (ML) and **restricted maximum-likelihood** (REML) approaches.\n",
    "NiMARE can also perform fixed-effects meta-regression via weighted least-squares, though there are few IBMA scenarios where a fixed-effects analysis would be indicated.\n",
    "It is worth noting that the non-likelihood-based estimators (i.e., DerSimonian-Laird and Hedges) have a closed-form solution, and are implemented in an extremely efficient way in NiMARE (i.e., computation is performed on all voxels in parallel).\n",
    "However, these estimators also produce more biased estimates under typical conditions (e.g., when sample sizes are very small), implying a tradeoff from the user’s perspective.\n",
    "\n",
    "Alternatively, when users only have access to contrast maps and associated sample sizes, they can use the supported **Sample Size-Based Likelihood** estimator, which assumes that within-study variance is constant across studies, and uses maximum-likelihood or restricted maximum-likelihood to estimate between-study variance, as described in {cite:t}`Sangnawakij2019-mq`.\n",
    "When users have access only to contrast maps, they can use the **Permuted OLS** estimator, which uses ordinary least squares and employs a max-type permutation scheme for family-wise error correction {cite:p}`Freedman1983-ld,Anderson2001-uc` that has been validated on neuroimaging data {cite:p}`Winkler2014-wh` and relies on the nilearn library.\n",
    "\n",
    "Finally, when users only have access to z-score maps, they can use either the **Fisher's** {cite:p}`Fisher1925-zh` or the **Stouffer's** {cite:p}`Riley1949-uz` estimators.\n",
    "When sample size information is available, users may incorporate that information into the Stouffer's method, via the method described in {cite:t}`Zaykin2011-fs`."
   ]
  },
  {
   "cell_type": "markdown",
   "id": "18547229",
   "metadata": {},
   "source": [
    "Given the paucity of image-based meta-analytic datasets, we have included the tools to build a Dataset from a NeuroVault collection of 21 pain studies, originally described in {cite:t}`Maumet2016-rr`."
   ]
  },
  {
   "cell_type": "code",
   "execution_count": null,
   "id": "f5d312dd",
   "metadata": {},
   "outputs": [],
   "source": [
    "from nimare import dataset, extract, transforms\n",
    "from nimare.tests.utils import get_test_data_path\n",
    "\n",
    "img_dset_file = os.path.join(DATA_DIR, \"nidm_dset.pkl.gz\")\n",
    "\n",
    "if not os.path.isfile(ibma_dset_file):\n",
    "    dset_dir = extract.download_nidm_pain(\n",
    "        data_dir=os.path.join(DATA_DIR, \"nidm-pain\"),\n",
    "        overwrite=False,\n",
    "    )\n",
    "    dset_file = os.path.join(get_test_data_path(), \"nidm_pain_dset.json\")\n",
    "    img_dset = dataset.Dataset(dset_file)\n",
    "\n",
    "    # Point the Dataset toward the images we've downloaded\n",
    "    img_dset.update_path(dset_dir)\n",
    "    img_dset.save(img_dset_file)\n",
    "else:\n",
    "    img_dset = dataset.Dataset.load(img_dset_file)"
   ]
  },
  {
   "cell_type": "markdown",
   "id": "0ee4bf37",
   "metadata": {},
   "source": [
    "## Transforming images\n",
    "\n",
    "Researchers may share their statistical maps in many forms, some of which are direct transformations of one another.\n",
    "For example, researchers may share test statistic maps with z-statistics or t-statistics, and, as long as we know the degrees of freedom associated with the t-test, we can convert between the two easily. To that end, NiMARE includes a class, {py:class}`nimare.transforms.ImageTransformer`, which will calculate target image types from available ones, as long as the available images are compatible with said transformation.\n",
    "\n",
    "Here, we use `ImageTransformer` to calculate z-statistic and variance maps for all studies with compatible images.\n",
    "This allows us to apply more image-based meta-analysis algorithms to the `Dataset`."
   ]
  },
  {
   "cell_type": "code",
   "execution_count": null,
   "id": "9a12144e",
   "metadata": {},
   "outputs": [],
   "source": [
    "from nimare import transforms\n",
    "\n",
    "img_transformer = transforms.ImageTransformer(target=[\"z\", \"varcope\"])\n",
    "img_dset = img_transformer.transform(img_dset)\n",
    "\n",
    "# Save the Dataset to a Pickle file\n",
    "img_dset.save(os.path.join(DATA_DIR, \"nidm_dset.pkl.gz\"))"
   ]
  },
  {
   "cell_type": "code",
   "execution_count": null,
   "id": "d41282d0",
   "metadata": {
    "tags": [
     "hide-cell"
    ]
   },
   "outputs": [],
   "source": [
    "# Here we delete the recent variables for the sake of reducing memory usage\n",
    "del img_transformer"
   ]
  },
  {
   "cell_type": "markdown",
   "id": "53018662",
   "metadata": {},
   "source": [
    "Now that we have filled in as many gaps in the `Dataset` as possible, we can start running meta-analyses.\n",
    "We will start with a DerSimonian-Laird meta-analysis ({py:class}`nimare.meta.ibma.DerSimonianLaird`)."
   ]
  },
  {
   "cell_type": "code",
   "execution_count": null,
   "id": "1fd03673",
   "metadata": {},
   "outputs": [],
   "source": [
    "from nimare import meta\n",
    "\n",
    "dsl_meta = meta.ibma.DerSimonianLaird()\n",
    "dsl_results = dsl_meta.fit(img_dset)\n",
    "\n",
    "# Save the results for later use\n",
    "dsl_results.save_maps(output_dir=DATA_DIR, prefix=\"DerSimonianLaird\")"
   ]
  },
  {
   "cell_type": "code",
   "execution_count": null,
   "id": "ab2964a3",
   "metadata": {
    "tags": [
     "hide-cell"
    ]
   },
   "outputs": [],
   "source": [
    "# Here we delete the recent variables for the sake of reducing memory usage\n",
    "del dsl_meta, dsl_results"
   ]
  },
  {
   "cell_type": "markdown",
   "id": "20b7fcd4",
   "metadata": {},
   "source": [
    "Now we will apply other available IBMA `Estimator`s to the same `Dataset`, and save their results to files for comparison."
   ]
  },
  {
   "cell_type": "code",
   "execution_count": null,
   "id": "24e4978d",
   "metadata": {},
   "outputs": [],
   "source": [
    "stouffers_meta = meta.ibma.Stouffers(use_sample_size=False)\n",
    "stouffers_results = stouffers_meta.fit(img_dset)\n",
    "stouffers_results.save_maps(output_dir=DATA_DIR, prefix=\"Stouffers\")\n",
    "del stouffers_meta, stouffers_results\n",
    "\n",
    "weighted_stouffers_meta = meta.ibma.Stouffers(use_sample_size=True)\n",
    "weighted_stouffers_results = weighted_stouffers_meta.fit(img_dset)\n",
    "weighted_stouffers_results.save_maps(\n",
    "    output_dir=DATA_DIR,\n",
    "    prefix=\"WeightedStouffers\",\n",
    ")\n",
    "del weighted_stouffers_meta, weighted_stouffers_results\n",
    "\n",
    "fishers_meta = meta.ibma.Fishers()\n",
    "fishers_results = fishers_meta.fit(img_dset)\n",
    "fishers_results.save_maps(output_dir=DATA_DIR, prefix=\"Fishers\")\n",
    "del fishers_meta, fishers_results\n",
    "\n",
    "ols_meta = meta.ibma.PermutedOLS()\n",
    "ols_results = ols_meta.fit(img_dset)\n",
    "ols_results.save_maps(output_dir=DATA_DIR, prefix=\"OLS\")\n",
    "del ols_meta, ols_results\n",
    "\n",
    "wls_meta = meta.ibma.WeightedLeastSquares()\n",
    "wls_results = wls_meta.fit(img_dset)\n",
    "wls_results.save_maps(output_dir=DATA_DIR, prefix=\"WLS\")\n",
    "del wls_meta, wls_results\n",
    "\n",
    "hedges_meta = meta.ibma.Hedges()\n",
    "hedges_results = hedges_meta.fit(img_dset)\n",
    "hedges_results.save_maps(output_dir=DATA_DIR, prefix=\"Hedges\")\n",
    "del hedges_meta, hedges_results\n",
    "\n",
    "# Use atlas for likelihood-based estimators\n",
    "atlas = datasets.fetch_atlas_harvard_oxford(\"cort-maxprob-thr25-2mm\")\n",
    "\n",
    "# nilearn's NiftiLabelsMasker cannot handle NaNs at the moment,\n",
    "# and some of the NIDM-Results packs' beta images have NaNs at the edge of the\n",
    "# brain.\n",
    "# So, we will create a reduced version of the atlas for this analysis.\n",
    "nan_mask = image.math_img(\n",
    "    \"~np.any(np.isnan(img), axis=3)\", img=img_dset.images[\"beta\"].tolist()\n",
    ")\n",
    "nanmasked_atlas = image.math_img(\n",
    "    \"mask * atlas\", mask=nan_mask, atlas=atlas[\"maps\"]\n",
    ")\n",
    "masker = input_data.NiftiLabelsMasker(nanmasked_atlas)\n",
    "del atlas, nan_mask, nanmasked_atlas\n",
    "\n",
    "vbl_meta = meta.ibma.VarianceBasedLikelihood(method=\"reml\", mask=masker)\n",
    "vbl_results = vbl_meta.fit(img_dset)\n",
    "vbl_results.save_maps(output_dir=DATA_DIR, prefix=\"VBL\")\n",
    "del vbl_meta, vbl_results\n",
    "\n",
    "ssbl_meta = nimare.meta.ibma.SampleSizeBasedLikelihood(\n",
    "    method=\"reml\",\n",
    "    mask=masker,\n",
    ")\n",
    "ssbl_results = ssbl_meta.fit(img_dset)\n",
    "ssbl_results.save_maps(output_dir=DATA_DIR, prefix=\"SSBL\")\n",
    "del ssbl_meta, ssbl_results, masker"
   ]
  },
  {
   "cell_type": "markdown",
   "id": "dc88e947",
   "metadata": {},
   "source": [
    "## Comparing algorithms\n",
    "\n",
    "Here we load the z-statistic map from each of the IBMA Estimators we've used throughout this chapter and plot them all side by side."
   ]
  },
  {
   "cell_type": "code",
   "execution_count": null,
   "id": "8de8c410",
   "metadata": {
    "tags": [
     "hide-output"
    ]
   },
   "outputs": [],
   "source": [
    "meta_results = {\n",
    "    \"DerSimonian-Laird\": os.path.join(DATA_DIR, \"DerSimonianLaird_z.nii.gz\"),\n",
    "    \"Stouffer's\": os.path.join(DATA_DIR, \"Stouffers_z.nii.gz\"),\n",
    "    \"Weighted Stouffer's\": os.path.join(DATA_DIR, \"WeightedStouffers_z.nii.gz\"),\n",
    "    \"Fisher's\": os.path.join(DATA_DIR, \"Fishers_z.nii.gz\"),\n",
    "    \"Ordinary Least Squares\": os.path.join(DATA_DIR, \"OLS_z.nii.gz\"),\n",
    "    \"Weighted Least Squares\": os.path.join(DATA_DIR, \"WLS_z.nii.gz\"),\n",
    "    \"Hedges'\": os.path.join(DATA_DIR, \"Hedges_z.nii.gz\"),\n",
    "    \"Variance-Based Likelihood\": os.path.join(DATA_DIR, \"VBL_z.nii.gz\"),\n",
    "    \"Sample Size-Based Likelihood\": os.path.join(DATA_DIR, \"SSBL_z.nii.gz\"),\n",
    "}\n",
    "order = [\n",
    "    [\"Fisher's\", \"Stouffer's\", \"Weighted Stouffer's\"],\n",
    "    [\"DerSimonian-Laird\", \"Hedges'\", \"Weighted Least Squares\"],\n",
    "    [\"Ordinary Least Squares\", \"Variance-Based Likelihood\", \"Sample Size-Based Likelihood\"],\n",
    "]\n",
    "\n",
    "fig, axes = plt.subplots(figsize=(18, 6), nrows=3, ncols=3)\n",
    "\n",
    "for i_row, row_names in enumerate(order):\n",
    "    for j_col, name in enumerate(row_names):\n",
    "        file_ = meta_results[name]\n",
    "        display = plotting.plot_stat_map(\n",
    "            file_,\n",
    "            annotate=False,\n",
    "            axes=axes[i_row, j_col],\n",
    "            cmap=\"RdBu_r\",\n",
    "            cut_coords=[5, -15, 10],\n",
    "            draw_cross=False,\n",
    "            figure=fig,\n",
    "        )\n",
    "        axes[i_row, j_col].set_title(name)\n",
    "\n",
    "        colorbar = display._cbar\n",
    "        colorbar_ticks = colorbar.get_ticks()\n",
    "        if colorbar_ticks[0] < 0:\n",
    "            new_ticks = [colorbar_ticks[0], 0, colorbar_ticks[-1]]\n",
    "        else:\n",
    "            new_ticks = [colorbar_ticks[0], colorbar_ticks[-1]]\n",
    "        colorbar.set_ticks(new_ticks, update_ticks=True)\n",
    "\n",
    "fig.savefig(\n",
    "    os.path.join(FIG_DIR, \"figure_05.svg\"),\n",
    "    transparent=True,\n",
    "    bbox_inches=\"tight\",\n",
    "    pad_inches=0,\n",
    ")\n",
    "glue(\"figure_uncorr_ibma\", fig, display=False)"
   ]
  },
  {
   "cell_type": "markdown",
   "id": "c0cd5541",
   "metadata": {},
   "source": [
    "```{glue:figure} figure_uncorr_ibma\n",
    ":figwidth: 150px\n",
    ":name: figure_uncorr_ibma\n",
    "\n",
    "An array of plots of the statistical maps produced by the image-based meta-analysis methods.\n",
    "The likelihood-based meta-analyses are run on atlases instead of voxelwise.\n",
    "```"
   ]
  }
 ],
 "metadata": {
  "jupytext": {
   "text_representation": {
    "extension": ".md",
    "format_name": "myst",
    "format_version": 0.13,
    "jupytext_version": "1.10.3"
   }
  },
  "kernelspec": {
   "display_name": "Python 3",
   "language": "python",
   "name": "python3"
  },
  "source_map": [
   12,
   18,
   40,
   68,
   72,
   91,
   101,
   111,
   115,
   120,
   130,
   136,
   140,
   204,
   210,
   260
  ]
 },
 "nbformat": 4,
 "nbformat_minor": 5
}