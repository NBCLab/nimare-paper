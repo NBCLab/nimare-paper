{
 "cells": [
  {
   "cell_type": "markdown",
   "id": "8362bdaa",
   "metadata": {},
   "source": [
    "# Meta-Analytic Coactivation Modeling"
   ]
  },
  {
   "cell_type": "code",
   "execution_count": null,
   "id": "e927cf28",
   "metadata": {
    "tags": [
     "hide-cell"
    ]
   },
   "outputs": [],
   "source": [
    "# First, import the necessary modules and functions\n",
    "import os\n",
    "\n",
    "import matplotlib.pyplot as plt\n",
    "from myst_nb import glue\n",
    "from nilearn import datasets, image, plotting\n",
    "\n",
    "import nimare\n",
    "\n",
    "# Define where data files will be located\n",
    "DATA_DIR = os.path.abspath(\"../data\")\n",
    "FIG_DIR = os.path.abspath(\"../images\")\n",
    "\n",
    "# Now, load the Datasets we will use in this chapter\n",
    "neurosynth_dset = nimare.dataset.Dataset.load(os.path.join(DATA_DIR, \"neurosynth_dataset.pkl.gz\"))"
   ]
  },
  {
   "cell_type": "markdown",
   "id": "ef1c20fe",
   "metadata": {},
   "source": [
    "Meta-analytic coactivation modeling (MACM) {cite:p}`Laird2009-gc,Robinson2010-iv,Eickhoff2010-vx`, also known as meta-analytic connectivity modeling, uses meta-analytic data to measure co-occurrence of activations between brain regions providing evidence of functional connectivity of brain regions across tasks.\n",
    "In coordinate-based MACM, whole-brain studies within the database are selected based on whether or not they report at least one peak in a region of interest specified for the analysis.\n",
    "These studies are then subjected to a meta-analysis, often comparing the selected studies to those remaining in the database.\n",
    "In this way, the significance of each voxel in the analysis corresponds to whether there is greater convergence of foci at the voxel among studies which also report foci in the region of interest than those which do not.\n",
    "\n",
    "<!-- TODO: Determine appropriate citation style here. -->\n",
    "\n",
    "MACM results have historically been accorded a similar interpretation to task-related functional connectivity (e.g., {cite:p}`Hok2015-lt,Kellermann2013-en`), although this approach is quite removed from functional connectivity analyses of task fMRI data (e.g., beta-series correlations, psychophysiological interactions, or even seed-to-voxel functional connectivity analyses on task data).\n",
    "Nevertheless, MACM analyses do show high correspondence with resting-state functional connectivity {cite:p}`Reid2017-ez`.\n",
    "MACM has been used to characterize the task-based functional coactivation of the cerebellum {cite:p}`Riedel2015-tx`, lateral prefrontal cortex {cite:p}`Reid2016-ba`, fusiform gyrus {cite:p}`Caspers2014-ja`, and several other brain regions.\n",
    "\n",
    "Within NiMARE, MACMs can be performed by selecting studies in a Dataset based on the presence of activation within a target mask or coordinate-centered sphere.\n",
    "\n",
    "In this section, we will perform two MACMs- one with a target mask and one with a coordinate-centered sphere.\n",
    "For the former, we use {py:meth}`nimare.dataset.Dataset.get_studies_by_mask`.\n",
    "For the latter, we use {py:meth}`nimare.dataset.Dataset.get_studies_by_coordinate`."
   ]
  },
  {
   "cell_type": "code",
   "execution_count": null,
   "id": "951c1317",
   "metadata": {},
   "outputs": [],
   "source": [
    "# Create Dataset only containing studies with peaks within the amygdala mask\n",
    "amygdala_ids = neurosynth_dset.get_studies_by_mask(os.path.join(DATA_DIR, \"amygdala_roi.nii.gz\"))\n",
    "dset_amygdala = neurosynth_dset.slice(amygdala_ids)\n",
    "\n",
    "# Create Dataset only containing studies with peaks within the sphere ROI\n",
    "sphere_ids = neurosynth_dset.get_studies_by_coordinate([[24, -2, -20]], r=6)\n",
    "dset_sphere = neurosynth_dset.slice(sphere_ids)"
   ]
  },
  {
   "cell_type": "code",
   "execution_count": null,
   "id": "9765b7eb",
   "metadata": {
    "tags": [
     "hide-input"
    ]
   },
   "outputs": [],
   "source": [
    "import numpy as np\n",
    "from nilearn import input_data, plotting\n",
    "\n",
    "# In order to plot a sphere with a precise radius around a coordinate with\n",
    "# nilearn, we need to use a NiftiSpheresMasker\n",
    "mask_img = dset.masker.mask_img\n",
    "sphere_masker = input_data.NiftiSpheresMasker([[24, -2, -20]], radius=6, mask_img=mask_img)\n",
    "sphere_img = sphere_masker.inverse_transform(np.array([[1]]))\n",
    "\n",
    "fig, axes = plt.subplots(figsize=(6, 4), nrows=2)\n",
    "display = plotting.plot_roi(\n",
    "    amygdala_mask,\n",
    "    annotate=False,\n",
    "    draw_cross=False,\n",
    "    axes=axes[0],\n",
    "    figure=fig,\n",
    ")\n",
    "axes[0].set_title(\"Amygdala ROI\")\n",
    "display = plotting.plot_roi(\n",
    "    sphere_img,\n",
    "    annotate=False,\n",
    "    draw_cross=False,\n",
    "    axes=axes[1],\n",
    "    figure=fig,\n",
    ")\n",
    "axes[1].set_title(\"Spherical ROI\")\n",
    "glue(\"figure_macm_rois\", fig, display=False)"
   ]
  },
  {
   "cell_type": "markdown",
   "id": "6219cb53",
   "metadata": {},
   "source": [
    "```{glue:figure} figure_macm_rois\n",
    ":figwidth: 150px\n",
    ":name: figure_macm_rois\n",
    ":align: center\n",
    "\n",
    "Region of interest masks for (1) a target mask-based MACM and (2) a coordinate-based MACM.\n",
    "```"
   ]
  },
  {
   "cell_type": "markdown",
   "id": "1681f5df",
   "metadata": {},
   "source": [
    "Once the `Dataset` has been reduced to studies with coordinates within the mask or sphere requested, any of the supported CBMA Estimators can be run."
   ]
  },
  {
   "cell_type": "code",
   "execution_count": null,
   "id": "11937f14",
   "metadata": {},
   "outputs": [],
   "source": [
    "from nimare import meta\n",
    "\n",
    "meta_amyg = meta.cbma.ale.ALE(kernel__sample_size=20)\n",
    "results_amyg = meta_amyg.fit(dset_amygdala)\n",
    "\n",
    "meta_sphere = meta.cbma.ale.ALE(kernel__sample_size=20)\n",
    "results_sphere = meta_sphere.fit(dset_sphere)"
   ]
  },
  {
   "cell_type": "code",
   "execution_count": null,
   "id": "edb840ea",
   "metadata": {
    "tags": [
     "hide-cell"
    ]
   },
   "outputs": [],
   "source": [
    "meta_results = {\n",
    "    \"Amygdala ALE MACM\": results_amyg.get_map(\"z\", return_type=\"image\"),\n",
    "    \"Sphere ALE MACM\": results_sphere.get_map(\"z\", return_type=\"image\"),\n",
    "}\n",
    "\n",
    "fig, axes = plt.subplots(figsize=(6, 4), nrows=2)\n",
    "for i_meta, (name, file_) in enumerate(meta_results.items()):\n",
    "    display = plotting.plot_stat_map(\n",
    "        file_,\n",
    "        annotate=False,\n",
    "        axes=axes[i_meta],\n",
    "        cmap=\"Reds\",\n",
    "        cut_coords=[24, -2, -20],\n",
    "        draw_cross=False,\n",
    "        figure=fig,\n",
    "    )\n",
    "    axes[i_meta].set_title(name)\n",
    "\n",
    "    colorbar = display._cbar\n",
    "    colorbar_ticks = colorbar.get_ticks()\n",
    "    if colorbar_ticks[0] < 0:\n",
    "        new_ticks = [colorbar_ticks[0], 0, colorbar_ticks[-1]]\n",
    "    else:\n",
    "        new_ticks = [colorbar_ticks[0], colorbar_ticks[-1]]\n",
    "    colorbar.set_ticks(new_ticks, update_ticks=True)\n",
    "\n",
    "glue(\"figure_macm\", fig, display=False)"
   ]
  },
  {
   "cell_type": "markdown",
   "id": "a5bb5174",
   "metadata": {},
   "source": [
    "```{glue:figure} figure_macm\n",
    ":figwidth: 150px\n",
    ":name: figure_macm\n",
    ":align: center\n",
    "\n",
    "One statistical map plot for each of the MACMs, generated with nilearn's `plot_stat_map`.\n",
    "```"
   ]
  }
 ],
 "metadata": {
  "jupytext": {
   "text_representation": {
    "extension": ".md",
    "format_name": "myst",
    "format_version": 0.13,
    "jupytext_version": "1.10.3"
   }
  },
  "kernelspec": {
   "display_name": "Python 3",
   "language": "python",
   "name": "python3"
  },
  "source_map": [
   12,
   18,
   37,
   56,
   66,
   95,
   105,
   109,
   119,
   148
  ]
 },
 "nbformat": 4,
 "nbformat_minor": 5
}