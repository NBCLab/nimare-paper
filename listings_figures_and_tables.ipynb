{
 "cells": [
  {
   "cell_type": "markdown",
   "metadata": {},
   "source": [
    "# Code for the paper"
   ]
  },
  {
   "cell_type": "markdown",
   "metadata": {},
   "source": [
    "### Plotting imports and notebook configuration"
   ]
  },
  {
   "cell_type": "code",
   "execution_count": 1,
   "metadata": {},
   "outputs": [
    {
     "name": "stderr",
     "output_type": "stream",
     "text": [
      "In /Users/tsalo/anaconda/envs/python3/lib/python3.6/site-packages/matplotlib/mpl-data/stylelib/_classic_test.mplstyle: \n",
      "The savefig.frameon rcparam was deprecated in Matplotlib 3.1 and will be removed in 3.3.\n",
      "In /Users/tsalo/anaconda/envs/python3/lib/python3.6/site-packages/matplotlib/mpl-data/stylelib/_classic_test.mplstyle: \n",
      "The verbose.level rcparam was deprecated in Matplotlib 3.1 and will be removed in 3.3.\n",
      "In /Users/tsalo/anaconda/envs/python3/lib/python3.6/site-packages/matplotlib/mpl-data/stylelib/_classic_test.mplstyle: \n",
      "The verbose.fileo rcparam was deprecated in Matplotlib 3.1 and will be removed in 3.3.\n"
     ]
    }
   ],
   "source": [
    "%matplotlib inline\n",
    "\n",
    "import os\n",
    "\n",
    "import matplotlib.pyplot as plt\n",
    "import numpy as np\n",
    "from nilearn import datasets, image, input_data, plotting"
   ]
  },
  {
   "cell_type": "markdown",
   "metadata": {},
   "source": [
    "## Listing 1"
   ]
  },
  {
   "cell_type": "code",
   "execution_count": 2,
   "metadata": {},
   "outputs": [],
   "source": [
    "import nimare\n",
    "sl_dset1 = nimare.io.convert_sleuth_to_dataset(\"data/contrast-CannabisMinusControl_space-talairach_sleuth.txt\")\n",
    "sl_dset2 = nimare.io.convert_sleuth_to_dataset(\"data/contrast-ControlMinusCannabis_space-talairach_sleuth.txt\")"
   ]
  },
  {
   "cell_type": "markdown",
   "metadata": {},
   "source": [
    "## Listing 2"
   ]
  },
  {
   "cell_type": "code",
   "execution_count": 3,
   "metadata": {},
   "outputs": [],
   "source": [
    "if not os.path.isfile(\"data/neurosynth_dataset.pkl.gz\"):\n",
    "    nimare.extract.fetch_neurosynth(\"data/\", unpack=True)\n",
    "    ns_dset = nimare.io.convert_neurosynth_to_dataset(\n",
    "        \"data/database.txt\",\n",
    "        \"data/features.txt\"\n",
    "    )\n",
    "else:\n",
    "    ns_dset = nimare.dataset.Dataset.load(\"data/neurosynth_dataset.pkl.gz\")"
   ]
  },
  {
   "cell_type": "markdown",
   "metadata": {},
   "source": [
    "## Listing 3"
   ]
  },
  {
   "cell_type": "code",
   "execution_count": null,
   "metadata": {},
   "outputs": [],
   "source": [
    "from nimare.meta import kernel\n",
    "\n",
    "mkda_kernel = kernel.MKDAKernel(r=10)\n",
    "mkda_ma_maps = mkda_kernel.transform(sl_dset1, return_type=\"image\")\n",
    "kda_kernel = kernel.KDAKernel(r=10)\n",
    "kda_ma_maps = kda_kernel.transform(sl_dset1, return_type=\"image\")\n",
    "ale_kernel = kernel.ALEKernel(sample_size=20)\n",
    "ale_ma_maps = ale_kernel.transform(sl_dset1, return_type=\"image\")"
   ]
  },
  {
   "cell_type": "markdown",
   "metadata": {},
   "source": [
    "### Figure 3"
   ]
  },
  {
   "cell_type": "code",
   "execution_count": null,
   "metadata": {},
   "outputs": [],
   "source": [
    "max_value = np.max(kda_ma_maps[0].get_fdata()) + 1\n",
    "\n",
    "fig, axes = plt.subplots(nrows=3, figsize=(10, 10))\n",
    "plotting.plot_stat_map(\n",
    "    mkda_ma_maps[2], cut_coords=[54, -46, 12], \n",
    "    title=\"MKDA\", vmax=max_value, axes=axes[0], \n",
    "    draw_cross=False\n",
    ")\n",
    "plotting.plot_stat_map(\n",
    "    kda_ma_maps[2], cut_coords=[54, -46, 12], \n",
    "    title=\"KDA\", vmax=max_value, axes=axes[1], \n",
    "    draw_cross=False\n",
    ")\n",
    "plotting.plot_stat_map(\n",
    "    ale_ma_maps[2], cut_coords=[54, -46, 12], \n",
    "    title=\"ALE\", axes=axes[2], \n",
    "    draw_cross=False\n",
    ")\n",
    "fig.show()"
   ]
  },
  {
   "cell_type": "markdown",
   "metadata": {},
   "source": [
    "## Listing 4"
   ]
  },
  {
   "cell_type": "code",
   "execution_count": null,
   "metadata": {},
   "outputs": [],
   "source": [
    "from nimare.meta.cbma import mkda\n",
    "\n",
    "mkdad_meta = mkda.MKDADensity(null_method=\"analytic\")\n",
    "mkdad_results = mkdad_meta.fit(sl_dset1)"
   ]
  },
  {
   "cell_type": "markdown",
   "metadata": {},
   "source": [
    "## Listing 5"
   ]
  },
  {
   "cell_type": "code",
   "execution_count": null,
   "metadata": {},
   "outputs": [],
   "source": [
    "from nimare.meta.cbma import ale\n",
    "\n",
    "ijk = ns_dset.coordinates[[\"i\", \"j\", \"k\"]].values\n",
    "meta = ale.SCALE(n_iters=250, ijk=ijk, kernel__sample_size=20)\n",
    "scale_results = meta.fit(sl_dset1)"
   ]
  },
  {
   "cell_type": "markdown",
   "metadata": {},
   "source": [
    "## Listing 6"
   ]
  },
  {
   "cell_type": "code",
   "execution_count": null,
   "metadata": {},
   "outputs": [],
   "source": [
    "from nimare.meta.cbma import mkda\n",
    "\n",
    "meta = mkda.MKDAChi2()\n",
    "mkdac_results = meta.fit(sl_dset1, sl_dset2)"
   ]
  },
  {
   "cell_type": "markdown",
   "metadata": {},
   "source": [
    "### Figure 4"
   ]
  },
  {
   "cell_type": "code",
   "execution_count": null,
   "metadata": {},
   "outputs": [],
   "source": [
    "# Additional meta-analyses for figures\n",
    "meta = mkda.KDA(null_method=\"empirical\", n_iters=10000)\n",
    "kda_results = meta.fit(sl_dset1)\n",
    "\n",
    "meta = ale.ALE(null_method=\"analytic\")\n",
    "ale_results = meta.fit(sl_dset1)\n",
    "\n",
    "# Meta-analytic maps across estimators\n",
    "results = [mkdad_results, mkdac_results, kda_results, ale_results, scale_results]\n",
    "names = [\"MKDADensity\", \"MKDAChi2\", \"KDA\", \"ALE\", \"SCALE\"]\n",
    "for i, r in enumerate(results):\n",
    "    name = names[i]\n",
    "    if \"z\" in r.maps.keys():\n",
    "        stat_img = r.get_map(\"z\", return_type=\"image\")\n",
    "    else:\n",
    "        stat_img = r.get_map(\"z_desc-consistency\", return_type=\"image\")\n",
    "    plotting.plot_stat_map(\n",
    "        stat_img, \n",
    "        title=name,\n",
    "        cut_coords=[0, 0, 0],\n",
    "        draw_cross=False,\n",
    "        annotate=False,\n",
    "    )"
   ]
  },
  {
   "cell_type": "markdown",
   "metadata": {},
   "source": [
    "## Listing 7"
   ]
  },
  {
   "cell_type": "code",
   "execution_count": null,
   "metadata": {},
   "outputs": [],
   "source": [
    "from nimare.meta import ibma\n",
    "from nimare.tests.utils import get_test_data_path\n",
    "\n",
    "dset_dir = nimare.extract.download_nidm_pain()\n",
    "dset_file = os.path.join(get_test_data_path(), \"nidm_pain_dset.json\")\n",
    "img_dset = nimare.dataset.Dataset(dset_file)\n",
    "img_dset.update_path(dset_dir)\n",
    "\n",
    "# Calculate missing images\n",
    "img_dset.images = nimare.transforms.transform_images(\n",
    "    img_dset.images, target=\"z\", masker=img_dset.masker, metadata_df=img_dset.metadata\n",
    ")\n",
    "img_dset.images = nimare.transforms.transform_images(\n",
    "    img_dset.images, target=\"varcope\", masker=img_dset.masker, metadata_df=img_dset.metadata\n",
    ")\n",
    "\n",
    "meta = ibma.DerSimonianLaird()\n",
    "dsl_results = meta.fit(img_dset)"
   ]
  },
  {
   "cell_type": "markdown",
   "metadata": {},
   "source": [
    "### Figure 5"
   ]
  },
  {
   "cell_type": "code",
   "execution_count": null,
   "metadata": {
    "scrolled": false
   },
   "outputs": [],
   "source": [
    "# Additional meta-analyses for figures\n",
    "meta = ibma.Stouffers(use_sample_size=False)\n",
    "stouffers_results = meta.fit(img_dset)\n",
    "\n",
    "meta = ibma.Stouffers(use_sample_size=True)\n",
    "weighted_stouffers_results = meta.fit(img_dset)\n",
    "\n",
    "meta = ibma.Fishers()\n",
    "fishers_results = meta.fit(img_dset)\n",
    "\n",
    "meta = ibma.PermutedOLS()\n",
    "ols_results = meta.fit(img_dset)\n",
    "\n",
    "meta = ibma.WeightedLeastSquares()\n",
    "wls_results = meta.fit(img_dset)\n",
    "\n",
    "meta = ibma.Hedges()\n",
    "hedges_results = meta.fit(img_dset)\n",
    "\n",
    "# Use atlas for likelihood-based estimators\n",
    "atlas = datasets.fetch_atlas_smith_2009()\n",
    "masker = input_data.NiftiMapsMasker(atlas[\"rsn70\"])\n",
    "\n",
    "meta = ibma.VarianceBasedLikelihood(method=\"reml\", mask=masker)\n",
    "vbl_results = meta.fit(img_dset)\n",
    "\n",
    "meta = ibma.SampleSizeBasedLikelihood(method=\"reml\", mask=masker)\n",
    "ssbl_results = meta.fit(img_dset)\n",
    "\n",
    "# Plot statistical maps from IBMAs\n",
    "results = [\n",
    "    dsl_results, \n",
    "    stouffers_results, \n",
    "    weighted_stouffers_results, \n",
    "    fishers_results, \n",
    "    ols_results, \n",
    "    wls_results, \n",
    "    hedges_results, \n",
    "    vbl_results, \n",
    "    ssbl_results\n",
    "]\n",
    "for r in results:\n",
    "    img = r.get_map(\"z\")\n",
    "    plotting.plot_stat_map(img, cut_coords=[5, -15, 10])"
   ]
  },
  {
   "cell_type": "markdown",
   "metadata": {},
   "source": [
    "## Listing 8"
   ]
  },
  {
   "cell_type": "code",
   "execution_count": null,
   "metadata": {},
   "outputs": [],
   "source": [
    "from nimare.correct import FWECorrector\n",
    "\n",
    "mc_corrector = FWECorrector(method=\"montecarlo\", n_iters=100, n_cores=1)\n",
    "mc_results = mc_corrector.transform(mkdad_meta.results)\n",
    "\n",
    "b_corrector = FWECorrector(method=\"bonferroni\")\n",
    "b_results = b_corrector.transform(mkdad_meta.results)"
   ]
  },
  {
   "cell_type": "markdown",
   "metadata": {},
   "source": [
    "### Figure 6"
   ]
  },
  {
   "cell_type": "code",
   "execution_count": null,
   "metadata": {},
   "outputs": [],
   "source": []
  },
  {
   "cell_type": "markdown",
   "metadata": {},
   "source": [
    "## Listing 9"
   ]
  },
  {
   "cell_type": "code",
   "execution_count": null,
   "metadata": {},
   "outputs": [],
   "source": [
    "kern = kernel.ALEKernel()\n",
    "meta = ale.ALESubtraction(kernel_transformer=kern, n_iters=10000)\n",
    "subtraction_results = meta.fit(sl_dset1, sl_dset2)"
   ]
  },
  {
   "cell_type": "markdown",
   "metadata": {},
   "source": [
    "### Figure 7"
   ]
  },
  {
   "cell_type": "code",
   "execution_count": null,
   "metadata": {},
   "outputs": [],
   "source": [
    "stat_img = subtraction_results.get_map(\"z_desc-group1MinusGroup2\", return_type=\"image\")\n",
    "plotting.plot_stat_map(\n",
    "    stat_img, \n",
    "    title=\"ALE Subtraction\",\n",
    "    cut_coords=[0, 0, 0],\n",
    "    draw_cross=False,\n",
    "    annotate=False,\n",
    ")"
   ]
  },
  {
   "cell_type": "markdown",
   "metadata": {},
   "source": [
    "## Listing 10"
   ]
  },
  {
   "cell_type": "code",
   "execution_count": 4,
   "metadata": {},
   "outputs": [],
   "source": [
    "# Create amygdala mask for MACMs\n",
    "atlas = datasets.fetch_atlas_harvard_oxford(\"sub-maxprob-thr25-2mm\")\n",
    "amygdala_mask = image.math_img(\"img == 54\", img=atlas[\"maps\"])\n",
    "amygdala_mask.to_filename(\"data/amygdala_roi.nii.gz\")\n",
    "\n",
    "amygdala_ids = ns_dset.get_studies_by_mask(\"data/amygdala_roi.nii.gz\")\n",
    "dset_amygdala = ns_dset.slice(amygdala_ids)\n",
    "\n",
    "sphere_ids = ns_dset.get_studies_by_coordinate([[24, -2, -20]], r=6)\n",
    "dset_sphere = ns_dset.slice(sphere_ids)"
   ]
  },
  {
   "cell_type": "markdown",
   "metadata": {},
   "source": [
    "## Listing 11"
   ]
  },
  {
   "cell_type": "code",
   "execution_count": 5,
   "metadata": {},
   "outputs": [
    {
     "name": "stderr",
     "output_type": "stream",
     "text": [
      "WARNING:nimare.meta.cbma.base:Metadata field \"sample_sizes\" not found. Set a constant sample size as a kernel transformer argument, if possible.\n",
      "WARNING:nimare.meta.cbma.base:Metadata field \"sample_sizes\" not found. Set a constant sample size as a kernel transformer argument, if possible.\n"
     ]
    }
   ],
   "source": [
    "from nimare.meta.cbma import ale\n",
    "\n",
    "meta_amyg = ale.ALE(kernel__sample_size=20)\n",
    "results_amyg = meta_amyg.fit(dset_amygdala)\n",
    "\n",
    "meta_sphere = ale.ALE(kernel__sample_size=20)\n",
    "results_sphere = meta_sphere.fit(dset_sphere)"
   ]
  },
  {
   "cell_type": "markdown",
   "metadata": {},
   "source": [
    "### Figure 8"
   ]
  },
  {
   "cell_type": "code",
   "execution_count": 6,
   "metadata": {},
   "outputs": [
    {
     "data": {
      "text/plain": [
       "<nilearn.plotting.displays.OrthoSlicer at 0x1322b0f98>"
      ]
     },
     "execution_count": 6,
     "metadata": {},
     "output_type": "execute_result"
    },
    {
     "data": {
      "image/png": "[encoded data removed]",
      "text/plain": [
       "<Figure size 525.6x187.2 with 5 Axes>"
      ]
     },
     "metadata": {},
     "output_type": "display_data"
    },
    {
     "data": {
      "image/png": "[encoded data removed]",
      "text/plain": [
       "<Figure size 525.6x187.2 with 5 Axes>"
      ]
     },
     "metadata": {},
     "output_type": "display_data"
    }
   ],
   "source": [
    "plotting.plot_stat_map(\n",
    "    results_amyg.get_map(\"z\"), \n",
    "    cut_coords=[24, -2, -20],\n",
    "    draw_cross=False,\n",
    "    annotate=False,\n",
    ")\n",
    "plotting.plot_stat_map(\n",
    "    results_sphere.get_map(\"z\"), \n",
    "    cut_coords=[24, -2, -20],\n",
    "    draw_cross=False,\n",
    "    annotate=False,\n",
    ")"
   ]
  },
  {
   "cell_type": "code",
   "execution_count": 7,
   "metadata": {},
   "outputs": [
    {
     "ename": "NameError",
     "evalue": "name 'mkda' is not defined",
     "output_type": "error",
     "traceback": [
      "\u001b[0;31m---------------------------------------------------------------------------\u001b[0m",
      "\u001b[0;31mNameError\u001b[0m                                 Traceback (most recent call last)",
      "\u001b[0;32m<ipython-input-7-76c1b6f8f3ff>\u001b[0m in \u001b[0;36m<module>\u001b[0;34m\u001b[0m\n\u001b[0;32m----> 1\u001b[0;31m \u001b[0mmeta_amyg\u001b[0m \u001b[0;34m=\u001b[0m \u001b[0mmkda\u001b[0m\u001b[0;34m.\u001b[0m\u001b[0mMKDADensity\u001b[0m\u001b[0;34m(\u001b[0m\u001b[0mnull_method\u001b[0m\u001b[0;34m=\u001b[0m\u001b[0;34m\"analytic\"\u001b[0m\u001b[0;34m)\u001b[0m\u001b[0;34m\u001b[0m\u001b[0m\n\u001b[0m\u001b[1;32m      2\u001b[0m \u001b[0mresults_amyg\u001b[0m \u001b[0;34m=\u001b[0m \u001b[0mmeta_amyg\u001b[0m\u001b[0;34m.\u001b[0m\u001b[0mfit\u001b[0m\u001b[0;34m(\u001b[0m\u001b[0mdset_amygdala\u001b[0m\u001b[0;34m)\u001b[0m\u001b[0;34m\u001b[0m\u001b[0m\n\u001b[1;32m      3\u001b[0m \u001b[0;34m\u001b[0m\u001b[0m\n\u001b[1;32m      4\u001b[0m \u001b[0mmeta_sphere\u001b[0m \u001b[0;34m=\u001b[0m \u001b[0mmkda\u001b[0m\u001b[0;34m.\u001b[0m\u001b[0mMKDADensity\u001b[0m\u001b[0;34m(\u001b[0m\u001b[0mnull_method\u001b[0m\u001b[0;34m=\u001b[0m\u001b[0;34m\"analytic\"\u001b[0m\u001b[0;34m)\u001b[0m\u001b[0;34m\u001b[0m\u001b[0m\n\u001b[1;32m      5\u001b[0m \u001b[0mresults_sphere\u001b[0m \u001b[0;34m=\u001b[0m \u001b[0mmeta_sphere\u001b[0m\u001b[0;34m.\u001b[0m\u001b[0mfit\u001b[0m\u001b[0;34m(\u001b[0m\u001b[0mdset_sphere\u001b[0m\u001b[0;34m)\u001b[0m\u001b[0;34m\u001b[0m\u001b[0m\n",
      "\u001b[0;31mNameError\u001b[0m: name 'mkda' is not defined"
     ]
    }
   ],
   "source": [
    "meta_amyg = mkda.MKDADensity(null_method=\"analytic\")\n",
    "results_amyg = meta_amyg.fit(dset_amygdala)\n",
    "\n",
    "meta_sphere = mkda.MKDADensity(null_method=\"analytic\")\n",
    "results_sphere = meta_sphere.fit(dset_sphere)\n",
    "\n",
    "plotting.plot_stat_map(\n",
    "    results_amyg.get_map(\"z\"), \n",
    "    cut_coords=[24, -2, -20],\n",
    "    draw_cross=False,\n",
    "    annotate=False,\n",
    ")\n",
    "plotting.plot_stat_map(\n",
    "    results_sphere.get_map(\"z\"), \n",
    "    cut_coords=[24, -2, -20],\n",
    "    draw_cross=False,\n",
    "    annotate=False,\n",
    ")"
   ]
  },
  {
   "cell_type": "code",
   "execution_count": 8,
   "metadata": {},
   "outputs": [
    {
     "ename": "NameError",
     "evalue": "name 'mkda' is not defined",
     "output_type": "error",
     "traceback": [
      "\u001b[0;31m---------------------------------------------------------------------------\u001b[0m",
      "\u001b[0;31mNameError\u001b[0m                                 Traceback (most recent call last)",
      "\u001b[0;32m<ipython-input-8-6b10a6b3727d>\u001b[0m in \u001b[0;36m<module>\u001b[0;34m\u001b[0m\n\u001b[0;32m----> 1\u001b[0;31m \u001b[0mmeta_amyg\u001b[0m \u001b[0;34m=\u001b[0m \u001b[0mmkda\u001b[0m\u001b[0;34m.\u001b[0m\u001b[0mKDA\u001b[0m\u001b[0;34m(\u001b[0m\u001b[0;34m)\u001b[0m\u001b[0;34m\u001b[0m\u001b[0m\n\u001b[0m\u001b[1;32m      2\u001b[0m \u001b[0mresults_amyg\u001b[0m \u001b[0;34m=\u001b[0m \u001b[0mmeta_amyg\u001b[0m\u001b[0;34m.\u001b[0m\u001b[0mfit\u001b[0m\u001b[0;34m(\u001b[0m\u001b[0mdset_amygdala\u001b[0m\u001b[0;34m)\u001b[0m\u001b[0;34m\u001b[0m\u001b[0m\n\u001b[1;32m      3\u001b[0m \u001b[0;34m\u001b[0m\u001b[0m\n\u001b[1;32m      4\u001b[0m \u001b[0mmeta_sphere\u001b[0m \u001b[0;34m=\u001b[0m \u001b[0mmkda\u001b[0m\u001b[0;34m.\u001b[0m\u001b[0mKDA\u001b[0m\u001b[0;34m(\u001b[0m\u001b[0;34m)\u001b[0m\u001b[0;34m\u001b[0m\u001b[0m\n\u001b[1;32m      5\u001b[0m \u001b[0mresults_sphere\u001b[0m \u001b[0;34m=\u001b[0m \u001b[0mmeta_sphere\u001b[0m\u001b[0;34m.\u001b[0m\u001b[0mfit\u001b[0m\u001b[0;34m(\u001b[0m\u001b[0mdset_sphere\u001b[0m\u001b[0;34m)\u001b[0m\u001b[0;34m\u001b[0m\u001b[0m\n",
      "\u001b[0;31mNameError\u001b[0m: name 'mkda' is not defined"
     ]
    }
   ],
   "source": [
    "meta_amyg = mkda.KDA()\n",
    "results_amyg = meta_amyg.fit(dset_amygdala)\n",
    "\n",
    "meta_sphere = mkda.KDA()\n",
    "results_sphere = meta_sphere.fit(dset_sphere)\n",
    "\n",
    "plotting.plot_stat_map(\n",
    "    results_amyg.get_map(\"z\"), \n",
    "    cut_coords=[24, -2, -20],\n",
    "    draw_cross=False,\n",
    "    annotate=False,\n",
    ")\n",
    "plotting.plot_stat_map(\n",
    "    results_sphere.get_map(\"z\"), \n",
    "    cut_coords=[24, -2, -20],\n",
    "    draw_cross=False,\n",
    "    annotate=False,\n",
    ")"
   ]
  },
  {
   "cell_type": "markdown",
   "metadata": {},
   "source": [
    "## Listing 12"
   ]
  },
  {
   "cell_type": "code",
   "execution_count": null,
   "metadata": {},
   "outputs": [],
   "source": []
  },
  {
   "cell_type": "markdown",
   "metadata": {},
   "source": [
    "### Figure 9"
   ]
  },
  {
   "cell_type": "code",
   "execution_count": null,
   "metadata": {},
   "outputs": [],
   "source": []
  },
  {
   "cell_type": "markdown",
   "metadata": {},
   "source": [
    "## Listing 13"
   ]
  },
  {
   "cell_type": "code",
   "execution_count": null,
   "metadata": {},
   "outputs": [],
   "source": [
    "dset_with_abstracts = nimare.extract.download_abstracts(\n",
    "    dset, \n",
    "    email=\"example@email.com\"\n",
    ")"
   ]
  },
  {
   "cell_type": "markdown",
   "metadata": {},
   "source": [
    "## Listing 14"
   ]
  },
  {
   "cell_type": "code",
   "execution_count": null,
   "metadata": {},
   "outputs": [],
   "source": [
    "model = nimare.annotate.lda.LDAModel(\n",
    "    dset_with_abstracts.texts, text_column=\"abstract\", \n",
    "    n_topics=100, n_iters=10000)\n",
    "model.fit()"
   ]
  },
  {
   "cell_type": "markdown",
   "metadata": {},
   "source": [
    "### Table 1"
   ]
  },
  {
   "cell_type": "code",
   "execution_count": null,
   "metadata": {},
   "outputs": [],
   "source": [
    "model.p_word_g_topic_"
   ]
  },
  {
   "cell_type": "markdown",
   "metadata": {},
   "source": [
    "## Listing 15"
   ]
  },
  {
   "cell_type": "code",
   "execution_count": null,
   "metadata": {},
   "outputs": [],
   "source": [
    "dset_first1000 = dset_with_abstracts.slice(\n",
    "    dset_with_abstracts.ids[:1000])\n",
    "counts_df = nimare.annotate.text.generate_counts(\n",
    "    dset_first1000.texts, text_column=\"abstract\", \n",
    "    tfidf=False, min_df=1, max_df=1.)\n",
    "model = nimare.annotate.gclda.GCLDAModel(\n",
    "    counts_df, dset_first1000.coordinates, \n",
    "    n_regions=2, n_topics=100, symmetric=2,\n",
    "    mask=dset.masker.mask_img)\n",
    "model.fit(n_iters=10000)"
   ]
  },
  {
   "cell_type": "markdown",
   "metadata": {},
   "source": [
    "### Table 2"
   ]
  },
  {
   "cell_type": "code",
   "execution_count": null,
   "metadata": {},
   "outputs": [],
   "source": [
    "model.p_word_g_topic_"
   ]
  },
  {
   "cell_type": "markdown",
   "metadata": {},
   "source": [
    "### Figure 10"
   ]
  },
  {
   "cell_type": "code",
   "execution_count": null,
   "metadata": {},
   "outputs": [],
   "source": [
    "from nilearn import image\n",
    "\n",
    "topic_img_4d = model.masker.unmask(model.p_voxel_g_topic_)\n",
    "for i in range(5):\n",
    "    topic_img = image.index_img(topic_img_4d, index=i)\n",
    "    plot_stat_map(topic_img)"
   ]
  },
  {
   "cell_type": "markdown",
   "metadata": {},
   "source": [
    "## Listing 16"
   ]
  },
  {
   "cell_type": "code",
   "execution_count": null,
   "metadata": {},
   "outputs": [],
   "source": [
    "from nimare.decode.continuous import CorrelationDecoder\n",
    "\n",
    "decoder = CorrelationDecoder(feature_group=\"Neurosynth_tfidf\",\n",
    "                             frequency_threshold=0.001,\n",
    "                             meta_estimator=mkda.MKDAChi2,\n",
    "                             target_img=\"z_desc-specificity\")\n",
    "decoder.fit(ns_dset)\n",
    "decoding_results = decoder.transform(\"pain_map.nii.gz\")"
   ]
  },
  {
   "cell_type": "markdown",
   "metadata": {},
   "source": [
    "### Figure 11"
   ]
  },
  {
   "cell_type": "code",
   "execution_count": null,
   "metadata": {},
   "outputs": [],
   "source": [
    "plot_stat_map(\"pain_map.nii.gz\")"
   ]
  },
  {
   "cell_type": "markdown",
   "metadata": {},
   "source": [
    "### Table 3"
   ]
  },
  {
   "cell_type": "code",
   "execution_count": null,
   "metadata": {},
   "outputs": [],
   "source": [
    "decoding_results"
   ]
  },
  {
   "cell_type": "markdown",
   "metadata": {},
   "source": [
    "## Listing 17"
   ]
  },
  {
   "cell_type": "code",
   "execution_count": null,
   "metadata": {},
   "outputs": [],
   "source": [
    "from nimare.decode.continuous import CorrelationDistributionDecoder\n",
    "\n",
    "decoder = CorrelationDistributionDecoder(\n",
    "    feature_group=\"Neurosynth_tfidf\",\n",
    "    frequency_threshold=0.001,\n",
    "    target_img=\"z\")\n",
    "decoder.fit(ns_dset)\n",
    "decoding_results = decoder.transform(\"pain_map.nii.gz\")"
   ]
  },
  {
   "cell_type": "markdown",
   "metadata": {},
   "source": [
    "### Table 4"
   ]
  },
  {
   "cell_type": "code",
   "execution_count": null,
   "metadata": {},
   "outputs": [],
   "source": [
    "decoding_results"
   ]
  },
  {
   "cell_type": "markdown",
   "metadata": {},
   "source": [
    "## Listing 18"
   ]
  },
  {
   "cell_type": "code",
   "execution_count": null,
   "metadata": {},
   "outputs": [],
   "source": [
    "from nimare.decode.discrete import BrainMapDecoder\n",
    "\n",
    "decoder = BrainMapDecoder(feature_group=\"Neurosynth_tfidf\",\n",
    "                          frequency_threshold=0.001,\n",
    "                          u=0.05, correction=\"fdr_bh\")\n",
    "decoder.fit(ns_dset)\n",
    "decoding_results = decoder.transform(amygdala_ids)"
   ]
  },
  {
   "cell_type": "markdown",
   "metadata": {},
   "source": [
    "### Table 5"
   ]
  },
  {
   "cell_type": "code",
   "execution_count": null,
   "metadata": {},
   "outputs": [],
   "source": [
    "decoding_results.sort_values(by=\"probReverse\", ascending=False).head()"
   ]
  },
  {
   "cell_type": "markdown",
   "metadata": {},
   "source": [
    "## Listing 19"
   ]
  },
  {
   "cell_type": "code",
   "execution_count": null,
   "metadata": {},
   "outputs": [],
   "source": [
    "from nimare.decode.discrete import NeurosynthDecoder\n",
    "\n",
    "decoder = NeurosynthDecoder(feature_group=\"Neurosynth_tfidf\",\n",
    "                            frequency_threshold=0.001,\n",
    "                            u=0.05, correction=\"fdr_bh\")\n",
    "decoder.fit(ns_dset)\n",
    "decoding_results = decoder.transform(amygdala_ids)"
   ]
  },
  {
   "cell_type": "markdown",
   "metadata": {},
   "source": [
    "### Table 6"
   ]
  },
  {
   "cell_type": "code",
   "execution_count": null,
   "metadata": {},
   "outputs": [],
   "source": [
    "decoding_results.sort_values(by=\"probReverse\", ascending=False).head()"
   ]
  }
 ],
 "metadata": {
  "kernelspec": {
   "display_name": "Python [conda env:python3]",
   "language": "python",
   "name": "conda-env-python3-py"
  },
  "language_info": {
   "codemirror_mode": {
    "name": "ipython",
    "version": 3
   },
   "file_extension": ".py",
   "mimetype": "text/x-python",
   "name": "python",
   "nbconvert_exporter": "python",
   "pygments_lexer": "ipython3",
   "version": "3.6.4"
  }
 },
 "nbformat": 4,
 "nbformat_minor": 2
}
