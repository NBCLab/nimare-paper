{
 "cells": [
  {
   "cell_type": "markdown",
   "metadata": {},
   "source": [
    "# Code for the paper"
   ]
  },
  {
   "cell_type": "markdown",
   "metadata": {},
   "source": [
    "## Listing 1"
   ]
  },
  {
   "cell_type": "code",
   "execution_count": null,
   "metadata": {},
   "outputs": [],
   "source": [
    "import nimare\n",
    "sl_dset = nimare.io.convert_sleuth_to_dataset(\"data/sleuth_file.txt\")"
   ]
  },
  {
   "cell_type": "markdown",
   "metadata": {},
   "source": [
    "## Listing 2"
   ]
  },
  {
   "cell_type": "code",
   "execution_count": null,
   "metadata": {},
   "outputs": [],
   "source": [
    "nimare.extract.fetch_neurosynth(\"data/\", unpack=True)\n",
    "ns_dset = nimare.io.convert_neurosynth_to_dataset(\n",
    "    \"data/database.txt\",\n",
    "    \"data/features.txt\"\n",
    ")"
   ]
  },
  {
   "cell_type": "markdown",
   "metadata": {},
   "source": [
    "## Listing 3"
   ]
  },
  {
   "cell_type": "code",
   "execution_count": null,
   "metadata": {},
   "outputs": [],
   "source": [
    "from nimare.meta import kernel\n",
    "\n",
    "mkda_kernel = kernel.MKDAKernel(r=10)\n",
    "mkda_ma_maps = mkda_kernel.transform(sl_dset, return_type=\"image\")\n",
    "kda_kernel = kernel.KDAKernel(r=10)\n",
    "kda_ma_maps = kda_kernel.transform(sl_dset, return_type=\"image\")\n",
    "ale_kernel = kernel.ALEKernel(sample_size=20)\n",
    "ale_ma_maps = ale_kernel.transform(sl_dset, return_type=\"image\")"
   ]
  },
  {
   "cell_type": "markdown",
   "metadata": {},
   "source": [
    "### Figure 3"
   ]
  },
  {
   "cell_type": "code",
   "execution_count": null,
   "metadata": {},
   "outputs": [],
   "source": []
  },
  {
   "cell_type": "markdown",
   "metadata": {},
   "source": [
    "## Listing 4"
   ]
  },
  {
   "cell_type": "code",
   "execution_count": null,
   "metadata": {},
   "outputs": [],
   "source": [
    "from nimare.meta.cbma import mkda\n",
    "\n",
    "mkdad_meta = mkda.MKDADensity()\n",
    "mkdad_results = mkdad_meta.fit(sl_dset)"
   ]
  },
  {
   "cell_type": "markdown",
   "metadata": {},
   "source": [
    "## Listing 5"
   ]
  },
  {
   "cell_type": "code",
   "execution_count": null,
   "metadata": {},
   "outputs": [],
   "source": [
    "from nimare.meta.cbma import ale\n",
    "\n",
    "ijk = ns_dset.coordinates[[\"i\", \"j\", \"k\"]].values\n",
    "meta = ale.SCALE(n_iters=2500, ijk=ijk, kernel__n=20)\n",
    "scale_results = meta.fit(sl_dset)"
   ]
  },
  {
   "cell_type": "markdown",
   "metadata": {},
   "source": [
    "## Listing 6"
   ]
  },
  {
   "cell_type": "code",
   "execution_count": null,
   "metadata": {},
   "outputs": [],
   "source": [
    "from nimare.meta.cbma import mkda\n",
    "\n",
    "dset_first10 = sl_dset.slice(dset.ids[:10])\n",
    "dset_sec10 = sl_dset.slice(ns_dset.ids[10:20])\n",
    "meta = mkda.MKDAChi2()\n",
    "mkdac_results = meta.fit(dset_first10, dset_sec10)"
   ]
  },
  {
   "cell_type": "markdown",
   "metadata": {},
   "source": [
    "### Figure 4"
   ]
  },
  {
   "cell_type": "code",
   "execution_count": null,
   "metadata": {},
   "outputs": [],
   "source": [
    "# Additional meta-analyses for figures\n",
    "meta = mkda.KDA()\n",
    "kda_results = meta.fit(sl_dset)\n",
    "\n",
    "meta = ale.ALE()\n",
    "ale_results = meta.fit(sl_dset)\n",
    "\n",
    "# Meta-analytic maps across estimators\n",
    "results = [mkdad_results, mkdac_results, kda_results, ale_results, scale_results]\n",
    "for r in results:\n",
    "    pass"
   ]
  },
  {
   "cell_type": "markdown",
   "metadata": {},
   "source": [
    "## Listing 7"
   ]
  },
  {
   "cell_type": "code",
   "execution_count": null,
   "metadata": {},
   "outputs": [],
   "source": [
    "from nimare.meta import ibma\n",
    "\n",
    "meta = ibma.DerSimonianLaird()\n",
    "dsl_results = meta.fit(img_dset)"
   ]
  },
  {
   "cell_type": "markdown",
   "metadata": {},
   "source": [
    "### Figure 5"
   ]
  },
  {
   "cell_type": "code",
   "execution_count": null,
   "metadata": {},
   "outputs": [],
   "source": [
    "# Additional meta-analyses for figures\n",
    "meta = ibma.Stouffers(use_sample_size=False)\n",
    "stouffers_results = meta.fit(img_dset)\n",
    "\n",
    "meta = ibma.Stouffers(use_sample_size=True)\n",
    "weighted_stouffers_results = meta.fit(img_dset)\n",
    "\n",
    "meta = ibma.Fishers()\n",
    "fishers_results = meta.fit(img_dset)\n",
    "\n",
    "meta = ibma.PermutedOLS()\n",
    "ols_results = meta.fit(img_dset)\n",
    "\n",
    "meta = ibma.WeightedLeastSquares()\n",
    "wls_results = meta.fit(img_dset)\n",
    "\n",
    "meta = ibma.Hedges()\n",
    "hedges_results = meta.fit(img_dset)\n",
    "\n",
    "# Use atlas for likelihood-based estimators\n",
    "from nilearn import datasets\n",
    "atlas = datasets.fetch_atlas_yeo_2011()\n",
    "masker = NiftiLabelsMasker(atlas[\"thick_17\"])\n",
    "\n",
    "meta = ibma.VarianceBasedLikelihood(method=\"reml\", mask=masker)\n",
    "vbl_results = meta.fit(img_dset)\n",
    "\n",
    "meta = ibma.SampleSizeBasedLikelihood(method=\"reml\", mask=masker)\n",
    "ssbl_results = meta.fit(img_dset)\n",
    "\n",
    "# Plot statistical maps from IBMAs\n",
    "results = [\n",
    "    dsl_results, \n",
    "    stouffers_results, \n",
    "    weighted_stouffers_results, \n",
    "    fishers_results, \n",
    "    ols_results, \n",
    "    wls_results, \n",
    "    hedges_results, \n",
    "    vbl_results, \n",
    "    ssbl_results\n",
    "]\n",
    "for r in results:\n",
    "    pass"
   ]
  },
  {
   "cell_type": "markdown",
   "metadata": {},
   "source": [
    "## Listing 8"
   ]
  },
  {
   "cell_type": "code",
   "execution_count": null,
   "metadata": {},
   "outputs": [],
   "source": [
    "from nimare.correct import FWECorrector\n",
    "\n",
    "mc_corrector = FWECorrector(method=\"montecarlo\", n_iters=10000, n_cores=1)\n",
    "mc_results = mc_corrector.transform(mkdad_meta.results)\n",
    "\n",
    "b_corrector = FWECorrector(method=\"bonferroni\")\n",
    "b_results = b_corrector.transform(mkdad_meta.results)"
   ]
  },
  {
   "cell_type": "markdown",
   "metadata": {},
   "source": [
    "### Figure 6"
   ]
  },
  {
   "cell_type": "code",
   "execution_count": null,
   "metadata": {},
   "outputs": [],
   "source": []
  },
  {
   "cell_type": "markdown",
   "metadata": {},
   "source": [
    "## Listing 9"
   ]
  },
  {
   "cell_type": "code",
   "execution_count": null,
   "metadata": {},
   "outputs": [],
   "source": [
    "kernel = kernel.ALEKernel(n=20)\n",
    "meta = ale.ALESubtraction(kernel_transformer=kernel, n_iters=10000)\n",
    "subtraction_results = meta.fit(dset1, dset2)"
   ]
  },
  {
   "cell_type": "markdown",
   "metadata": {},
   "source": [
    "### Figure 7"
   ]
  },
  {
   "cell_type": "code",
   "execution_count": null,
   "metadata": {},
   "outputs": [],
   "source": []
  },
  {
   "cell_type": "markdown",
   "metadata": {},
   "source": [
    "## Listing 10"
   ]
  },
  {
   "cell_type": "code",
   "execution_count": null,
   "metadata": {},
   "outputs": [],
   "source": [
    "amygdala_ids = ns_dset.get_studies_by_mask(\"amygdala_roi.nii.gz\")\n",
    "dset_amygdala = ns_dset.slice(amygdala_ids)\n",
    "\n",
    "sphere_ids = ns_dset.get_studies_by_coordinate([[20, 20, 20]], r=6)\n",
    "dset_sphere = ns_dset.slice(sphere_ids)"
   ]
  },
  {
   "cell_type": "markdown",
   "metadata": {},
   "source": [
    "## Listing 11"
   ]
  },
  {
   "cell_type": "code",
   "execution_count": null,
   "metadata": {},
   "outputs": [],
   "source": [
    "meta_amyg = ale.ALE()\n",
    "results_amyg = meta_amyg.fit(dset_amygdala)\n",
    "\n",
    "meta_sphere = ale.ALE()\n",
    "results_sphere = meta_sphere.fit(dset_amygdala)"
   ]
  },
  {
   "cell_type": "markdown",
   "metadata": {},
   "source": [
    "### Figure 8"
   ]
  },
  {
   "cell_type": "code",
   "execution_count": null,
   "metadata": {},
   "outputs": [],
   "source": []
  },
  {
   "cell_type": "markdown",
   "metadata": {},
   "source": [
    "## Listing 12"
   ]
  },
  {
   "cell_type": "code",
   "execution_count": null,
   "metadata": {},
   "outputs": [],
   "source": []
  },
  {
   "cell_type": "markdown",
   "metadata": {},
   "source": [
    "### Figure 9"
   ]
  },
  {
   "cell_type": "code",
   "execution_count": null,
   "metadata": {},
   "outputs": [],
   "source": []
  },
  {
   "cell_type": "markdown",
   "metadata": {},
   "source": [
    "## Listing 13"
   ]
  },
  {
   "cell_type": "code",
   "execution_count": null,
   "metadata": {},
   "outputs": [],
   "source": [
    "dset_with_abstracts = nimare.extract.download_abstracts(\n",
    "    dset, \n",
    "    email=\"example@email.com\"\n",
    ")"
   ]
  },
  {
   "cell_type": "markdown",
   "metadata": {},
   "source": [
    "## Listing 14"
   ]
  },
  {
   "cell_type": "code",
   "execution_count": null,
   "metadata": {},
   "outputs": [],
   "source": [
    "model = nimare.annotate.lda.LDAModel(\n",
    "    dset_with_abstracts.texts, text_column=\"abstract\", \n",
    "    n_topics=100, n_iters=10000)\n",
    "model.fit()"
   ]
  },
  {
   "cell_type": "markdown",
   "metadata": {},
   "source": [
    "### Table 1"
   ]
  },
  {
   "cell_type": "code",
   "execution_count": null,
   "metadata": {},
   "outputs": [],
   "source": [
    "model.p_word_g_topic_"
   ]
  },
  {
   "cell_type": "markdown",
   "metadata": {},
   "source": [
    "## Listing 15"
   ]
  },
  {
   "cell_type": "code",
   "execution_count": null,
   "metadata": {},
   "outputs": [],
   "source": [
    "dset_first1000 = dset_with_abstracts.slice(\n",
    "    dset_with_abstracts.ids[:1000])\n",
    "counts_df = nimare.annotate.text.generate_counts(\n",
    "    dset_first1000.texts, text_column=\"abstract\", \n",
    "    tfidf=False, min_df=1, max_df=1.)\n",
    "model = nimare.annotate.gclda.GCLDAModel(\n",
    "    counts_df, dset_first1000.coordinates, \n",
    "    n_regions=2, n_topics=100, symmetric=2,\n",
    "    mask=dset.masker.mask_img)\n",
    "model.fit(n_iters=10000)"
   ]
  },
  {
   "cell_type": "markdown",
   "metadata": {},
   "source": [
    "### Table 2"
   ]
  },
  {
   "cell_type": "code",
   "execution_count": null,
   "metadata": {},
   "outputs": [],
   "source": [
    "model.p_word_g_topic_"
   ]
  },
  {
   "cell_type": "markdown",
   "metadata": {},
   "source": [
    "### Figure 10"
   ]
  },
  {
   "cell_type": "code",
   "execution_count": null,
   "metadata": {},
   "outputs": [],
   "source": [
    "from nilearn import image\n",
    "\n",
    "topic_img_4d = model.masker.unmask(model.p_voxel_g_topic_)\n",
    "for i in range(5):\n",
    "    topic_img = image.index_img(topic_img_4d, index=i)\n",
    "    plot_stat_map(topic_img)"
   ]
  },
  {
   "cell_type": "markdown",
   "metadata": {},
   "source": [
    "## Listing 16"
   ]
  },
  {
   "cell_type": "code",
   "execution_count": null,
   "metadata": {},
   "outputs": [],
   "source": [
    "from nimare.decode.continuous import CorrelationDecoder\n",
    "\n",
    "decoder = CorrelationDecoder(feature_group=\"Neurosynth_tfidf\",\n",
    "                             frequency_threshold=0.001,\n",
    "                             meta_estimator=mkda.MKDAChi2,\n",
    "                             target_img=\"z_desc-specificity\")\n",
    "decoder.fit(ns_dset)\n",
    "decoding_results = decoder.transform(\"pain_map.nii.gz\")"
   ]
  },
  {
   "cell_type": "markdown",
   "metadata": {},
   "source": [
    "### Figure 11"
   ]
  },
  {
   "cell_type": "code",
   "execution_count": null,
   "metadata": {},
   "outputs": [],
   "source": [
    "plot_stat_map(\"pain_map.nii.gz\")"
   ]
  },
  {
   "cell_type": "markdown",
   "metadata": {},
   "source": [
    "### Table 3"
   ]
  },
  {
   "cell_type": "code",
   "execution_count": null,
   "metadata": {},
   "outputs": [],
   "source": [
    "decoding_results"
   ]
  },
  {
   "cell_type": "markdown",
   "metadata": {},
   "source": [
    "## Listing 17"
   ]
  },
  {
   "cell_type": "code",
   "execution_count": null,
   "metadata": {},
   "outputs": [],
   "source": [
    "from nimare.decode.continuous import CorrelationDistributionDecoder\n",
    "\n",
    "decoder = CorrelationDistributionDecoder(\n",
    "    feature_group=\"Neurosynth_tfidf\",\n",
    "    frequency_threshold=0.001,\n",
    "    target_img=\"z\")\n",
    "decoder.fit(ns_dset)\n",
    "decoding_results = decoder.transform(\"pain_map.nii.gz\")"
   ]
  },
  {
   "cell_type": "markdown",
   "metadata": {},
   "source": [
    "### Table 4"
   ]
  },
  {
   "cell_type": "code",
   "execution_count": null,
   "metadata": {},
   "outputs": [],
   "source": [
    "decoding_results"
   ]
  },
  {
   "cell_type": "markdown",
   "metadata": {},
   "source": [
    "## Listing 18"
   ]
  },
  {
   "cell_type": "code",
   "execution_count": null,
   "metadata": {},
   "outputs": [],
   "source": [
    "from nimare.decode.discrete import BrainMapDecoder\n",
    "\n",
    "decoder = BrainMapDecoder(feature_group=\"Neurosynth_tfidf\",\n",
    "                          frequency_threshold=0.001,\n",
    "                          u=0.05, correction=\"fdr_bh\")\n",
    "decoder.fit(ns_dset)\n",
    "decoding_results = decoder.transform(amygdala_ids)"
   ]
  },
  {
   "cell_type": "markdown",
   "metadata": {},
   "source": [
    "### Table 5"
   ]
  },
  {
   "cell_type": "code",
   "execution_count": null,
   "metadata": {},
   "outputs": [],
   "source": [
    "decoding_results.sort_values(by=\"probReverse\", ascending=False).head()"
   ]
  },
  {
   "cell_type": "markdown",
   "metadata": {},
   "source": [
    "## Listing 19"
   ]
  },
  {
   "cell_type": "code",
   "execution_count": null,
   "metadata": {},
   "outputs": [],
   "source": [
    "from nimare.decode.discrete import NeurosynthDecoder\n",
    "\n",
    "decoder = NeurosynthDecoder(feature_group=\"Neurosynth_tfidf\",\n",
    "                            frequency_threshold=0.001,\n",
    "                            u=0.05, correction=\"fdr_bh\")\n",
    "decoder.fit(ns_dset)\n",
    "decoding_results = decoder.transform(amygdala_ids)"
   ]
  },
  {
   "cell_type": "markdown",
   "metadata": {},
   "source": [
    "### Table 6"
   ]
  },
  {
   "cell_type": "code",
   "execution_count": null,
   "metadata": {},
   "outputs": [],
   "source": [
    "decoding_results.sort_values(by=\"probReverse\", ascending=False).head()"
   ]
  }
 ],
 "metadata": {
  "kernelspec": {
   "display_name": "Python [conda env:python3]",
   "language": "python",
   "name": "conda-env-python3-py"
  },
  "language_info": {
   "codemirror_mode": {
    "name": "ipython",
    "version": 3
   },
   "file_extension": ".py",
   "mimetype": "text/x-python",
   "name": "python",
   "nbconvert_exporter": "python",
   "pygments_lexer": "ipython3",
   "version": "3.6.4"
  }
 },
 "nbformat": 4,
 "nbformat_minor": 2
}
