{
 "cells": [
  {
   "cell_type": "code",
   "execution_count": 7,
   "metadata": {},
   "outputs": [],
   "source": [
    "import os\n",
    "from nimare import dataset, extract, io, meta\n",
    "\n",
    "DATA_DIR = \"/Users/taylor/Documents/nbc/nimare-paper/data/\""
   ]
  },
  {
   "cell_type": "markdown",
   "metadata": {},
   "source": [
    "## Sleuth"
   ]
  },
  {
   "cell_type": "code",
   "execution_count": 2,
   "metadata": {},
   "outputs": [],
   "source": [
    "sleuth_dset1 = io.convert_sleuth_to_dataset(\n",
    "    os.path.join(DATA_DIR, \"contrast-CannabisMinusControl_space-talairach_sleuth.txt\")\n",
    ")\n",
    "sleuth_dset2 = io.convert_sleuth_to_dataset(\n",
    "    os.path.join(DATA_DIR, \"contrast-ControlMinusCannabis_space-talairach_sleuth.txt\")\n",
    ")\n",
    "sleuth_dset1.save(os.path.join(DATA_DIR, \"sleuth_dset1.pkl.gz\"))\n",
    "sleuth_dset2.save(os.path.join(DATA_DIR, \"sleuth_dset2.pkl.gz\"))"
   ]
  },
  {
   "cell_type": "markdown",
   "metadata": {},
   "source": [
    "## Neurosynth"
   ]
  },
  {
   "cell_type": "code",
   "execution_count": 3,
   "metadata": {},
   "outputs": [
    {
     "name": "stderr",
     "output_type": "stream",
     "text": [
      "INFO:nimare.extract.utils:Dataset found in /Users/taylor/Documents/nbc/nimare-paper/data/neurosynth\n",
      "\n",
      "INFO:nimare.extract.extract:Searching for any feature files matching the following criteria: [('source-abstract', 'vocab-terms', 'data-neurosynth', 'version-7')]\n"
     ]
    },
    {
     "name": "stdout",
     "output_type": "stream",
     "text": [
      "Downloading data-neurosynth_version-7_coordinates.tsv.gz\n",
      "File exists and overwrite is False. Skipping.\n",
      "Downloading data-neurosynth_version-7_metadata.tsv.gz\n",
      "File exists and overwrite is False. Skipping.\n",
      "Downloading data-neurosynth_version-7_vocab-terms_source-abstract_type-tfidf_features.npz\n",
      "File exists and overwrite is False. Skipping.\n",
      "Downloading data-neurosynth_version-7_vocab-terms_vocabulary.txt\n",
      "File exists and overwrite is False. Skipping.\n"
     ]
    },
    {
     "name": "stderr",
     "output_type": "stream",
     "text": [
      "WARNING:nimare.utils:Not applying transforms to coordinates in unrecognized space 'UNKNOWN'\n"
     ]
    },
    {
     "name": "stdout",
     "output_type": "stream",
     "text": [
      "Dataset(14371 experiments, space='mni152_2mm')\n",
      "CPU times: user 7min 32s, sys: 14.1 s, total: 7min 46s\n",
      "Wall time: 7min 55s\n"
     ]
    }
   ],
   "source": [
    "%%time\n",
    "# Download the desired version of Neurosynth from GitHub.\n",
    "files = extract.fetch_neurosynth(\n",
    "    data_dir=DATA_DIR,\n",
    "    version=\"7\",\n",
    "    source=\"abstract\",\n",
    "    vocab=\"terms\",\n",
    "    overwrite=False,\n",
    ")\n",
    "neurosynth_db = files[0]\n",
    "\n",
    "# Convert the files to a Dataset.\n",
    "# This may take a while (~10 minutes)\n",
    "neurosynth_dset = io.convert_neurosynth_to_dataset(\n",
    "    coordinates_file=neurosynth_db[\"coordinates\"],\n",
    "    metadata_file=neurosynth_db[\"metadata\"],\n",
    "    annotations_files=neurosynth_db[\"features\"],\n",
    ")\n",
    "print(neurosynth_dset)\n",
    "\n",
    "# Save the Dataset for later use.\n",
    "neurosynth_dset.save(os.path.join(DATA_DIR, \"neurosynth_dataset.pkl.gz\"))"
   ]
  },
  {
   "cell_type": "markdown",
   "metadata": {},
   "source": [
    "## Neurosynth 500"
   ]
  },
  {
   "cell_type": "code",
   "execution_count": 4,
   "metadata": {},
   "outputs": [
    {
     "name": "stdout",
     "output_type": "stream",
     "text": [
      "Dataset(14371 experiments, space='mni152_2mm')\n",
      "CPU times: user 1.29 s, sys: 130 ms, total: 1.42 s\n",
      "Wall time: 1.43 s\n"
     ]
    }
   ],
   "source": [
    "%%time\n",
    "neurosynth_dset_first_500 = neurosynth_dset.slice(neurosynth_dset.ids[:500])\n",
    "print(neurosynth_dset)\n",
    "\n",
    "neurosynth_dset_first_500.save(\n",
    "    os.path.join(DATA_DIR, \"neurosynth_dataset_first500.pkl.gz\")\n",
    ")"
   ]
  },
  {
   "cell_type": "markdown",
   "metadata": {},
   "source": [
    "## Neurosynth 500 with MKDA MA maps"
   ]
  },
  {
   "cell_type": "code",
   "execution_count": 9,
   "metadata": {},
   "outputs": [
    {
     "name": "stderr",
     "output_type": "stream",
     "text": [
      "INFO:nimare.utils:Shared path detected: '/Users/taylor/Documents/nbc/nimare-paper/data/neurosynth_dataset_maps/'\n"
     ]
    },
    {
     "name": "stdout",
     "output_type": "stream",
     "text": [
      "CPU times: user 15.9 s, sys: 1.99 s, total: 17.9 s\n",
      "Wall time: 18.2 s\n"
     ]
    }
   ],
   "source": [
    "%%time\n",
    "new_neurosynth_dset_first_500 = neurosynth_dset_first_500.copy()\n",
    "\n",
    "kern = meta.kernel.MKDAKernel(memory_limit=None)\n",
    "target_folder = os.path.join(DATA_DIR, \"neurosynth_dataset_maps\")\n",
    "\n",
    "os.makedirs(target_folder, exist_ok=True)\n",
    "new_neurosynth_dset_first_500.update_path(target_folder)\n",
    "new_neurosynth_dset_first_500 = kern.transform(new_neurosynth_dset_first_500, return_type=\"dataset\")\n",
    "new_neurosynth_dset_first_500.save(\n",
    "    os.path.join(DATA_DIR, \"neurosynth_dataset_first500_with_mkda_ma.pkl.gz\")\n",
    ")"
   ]
  },
  {
   "cell_type": "markdown",
   "metadata": {},
   "source": [
    "## Add abstracts to Neurosynth 500 dataset"
   ]
  },
  {
   "cell_type": "code",
   "execution_count": 10,
   "metadata": {},
   "outputs": [
    {
     "name": "stderr",
     "output_type": "stream",
     "text": [
      "INFO:nimare.extract.extract:Downloading chunk 1 of 1\n"
     ]
    },
    {
     "name": "stdout",
     "output_type": "stream",
     "text": [
      "CPU times: user 977 ms, sys: 46.4 ms, total: 1.02 s\n",
      "Wall time: 6.34 s\n"
     ]
    }
   ],
   "source": [
    "%%time\n",
    "dataset_file = os.path.join(\n",
    "    DATA_DIR, \"neurosynth_dataset_first500_with_abstracts.pkl.gz\"\n",
    ")\n",
    "neurosynth_dset_first_500 = extract.download_abstracts(\n",
    "    neurosynth_dset_first_500,\n",
    "    email=\"tsalo006@fiu.edu\",\n",
    ")\n",
    "neurosynth_dset_first_500.save(dataset_file)"
   ]
  },
  {
   "cell_type": "markdown",
   "metadata": {},
   "source": [
    "## NeuroQuery"
   ]
  },
  {
   "cell_type": "code",
   "execution_count": 11,
   "metadata": {},
   "outputs": [
    {
     "name": "stderr",
     "output_type": "stream",
     "text": [
      "INFO:nimare.extract.utils:Dataset found in /Users/taylor/Documents/nbc/nimare-paper/data/neuroquery\n",
      "\n",
      "INFO:nimare.extract.extract:Searching for any feature files matching the following criteria: [('source-combined', 'vocab-neuroquery6308', 'type-tfidf', 'data-neuroquery', 'version-1')]\n"
     ]
    },
    {
     "name": "stdout",
     "output_type": "stream",
     "text": [
      "Downloading data-neuroquery_version-1_coordinates.tsv.gz\n",
      "File exists and overwrite is False. Skipping.\n",
      "Downloading data-neuroquery_version-1_metadata.tsv.gz\n",
      "File exists and overwrite is False. Skipping.\n",
      "Downloading data-neuroquery_version-1_vocab-neuroquery6308_source-combined_type-tfidf_features.npz\n",
      "File exists and overwrite is False. Skipping.\n",
      "Downloading data-neuroquery_version-1_vocab-neuroquery6308_vocabulary.txt\n",
      "File exists and overwrite is False. Skipping.\n"
     ]
    },
    {
     "name": "stderr",
     "output_type": "stream",
     "text": [
      "WARNING:nimare.io:No 'space' column detected. Defaulting to 'UNKNOWN'.\n",
      "WARNING:nimare.utils:Not applying transforms to coordinates in unrecognized space 'UNKNOWN'\n"
     ]
    },
    {
     "name": "stdout",
     "output_type": "stream",
     "text": [
      "Dataset(13459 experiments, space='mni152_2mm')\n",
      "CPU times: user 8min 57s, sys: 34.3 s, total: 9min 31s\n",
      "Wall time: 9min 52s\n"
     ]
    }
   ],
   "source": [
    "%%time\n",
    "# Download the desired version of NeuroQuery from GitHub.\n",
    "files = extract.fetch_neuroquery(\n",
    "    data_dir=DATA_DIR,\n",
    "    version=\"1\",\n",
    "    source=\"combined\",\n",
    "    vocab=\"neuroquery6308\",\n",
    "    type=\"tfidf\",\n",
    "    overwrite=False,\n",
    ")\n",
    "neuroquery_db = files[0]\n",
    "\n",
    "# Convert the files to a Dataset.\n",
    "# This may take a while (~10 minutes)\n",
    "neuroquery_dset = io.convert_neurosynth_to_dataset(\n",
    "    coordinates_file=neuroquery_db[\"coordinates\"],\n",
    "    metadata_file=neuroquery_db[\"metadata\"],\n",
    "    annotations_files=neuroquery_db[\"features\"],\n",
    ")\n",
    "print(neuroquery_dset)\n",
    "\n",
    "# Save the Dataset for later use.\n",
    "neuroquery_dset.save(os.path.join(DATA_DIR, \"neuroquery_dataset.pkl.gz\"))"
   ]
  },
  {
   "cell_type": "markdown",
   "metadata": {},
   "source": [
    "## Pain dataset of IBMAs"
   ]
  },
  {
   "cell_type": "code",
   "execution_count": 12,
   "metadata": {},
   "outputs": [
    {
     "name": "stderr",
     "output_type": "stream",
     "text": [
      "INFO:nimare.extract.utils:Dataset found in /Users/taylor/Documents/nbc/nimare-paper/data/nidm_21pain\n",
      "\n",
      "INFO:nimare.utils:Shared path detected: '/Users/taylor/Documents/nbc/nimare-paper/data/nidm_21pain/'\n"
     ]
    }
   ],
   "source": [
    "%%time\n",
    "from nimare.tests.utils import get_test_data_path\n",
    "\n",
    "img_dset_file = os.path.join(DATA_DIR, \"nidm_dset.pkl.gz\")\n",
    "dset_dir = extract.download_nidm_pain(\n",
    "    data_dir=DATA_DIR,\n",
    "    overwrite=False,\n",
    ")\n",
    "dset_file = os.path.join(get_test_data_path(), \"nidm_pain_dset.json\")\n",
    "img_dset = dataset.Dataset(dset_file)\n",
    "\n",
    "# Point the Dataset toward the images we've downloaded\n",
    "img_dset.update_path(dset_dir)\n",
    "img_dset.save(img_dset_file)"
   ]
  }
 ],
 "metadata": {
  "kernelspec": {
   "display_name": "Python 3",
   "language": "python",
   "name": "python3"
  },
  "language_info": {
   "codemirror_mode": {
    "name": "ipython",
    "version": 3
   },
   "file_extension": ".py",
   "mimetype": "text/x-python",
   "name": "python",
   "nbconvert_exporter": "python",
   "pygments_lexer": "ipython3",
   "version": "3.8.5"
  }
 },
 "nbformat": 4,
 "nbformat_minor": 4
}
