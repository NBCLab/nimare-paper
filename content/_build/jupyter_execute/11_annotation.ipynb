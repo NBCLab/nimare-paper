{
 "cells": [
  {
   "cell_type": "markdown",
   "id": "d270731d",
   "metadata": {},
   "source": [
    "# Automated Annotation"
   ]
  },
  {
   "cell_type": "code",
   "execution_count": 1,
   "id": "378295ed",
   "metadata": {
    "tags": [
     "hide-cell"
    ]
   },
   "outputs": [
    {
     "name": "stderr",
     "output_type": "stream",
     "text": [
      "/home/data/nbc/misc-projects/Salo_NiMARE/conda_env/lib/python3.7/site-packages/nilearn/datasets/__init__.py:90: FutureWarning: Fetchers from the nilearn.datasets module will be updated in version 0.9 to return python strings instead of bytes and Pandas dataframes instead of Numpy arrays.\n",
      "  \"Numpy arrays.\", FutureWarning)\n"
     ]
    },
    {
     "name": "stdout",
     "output_type": "stream",
     "text": [
      "---- repo2data starting ----\n",
      "/home/data/nbc/misc-projects/Salo_NiMARE/conda_env/lib/python3.7/site-packages/repo2data\n",
      "Config from file :\n",
      "/home/data/nbc/misc-projects/Salo_NiMARE/binder/data_requirement.json\n",
      "Destination:\n",
      "./../data/nimare-paper\n",
      "\n",
      "Info : ./../data/nimare-paper already downloaded\n"
     ]
    },
    {
     "ename": "TypeError",
     "evalue": "'exist_ok' is an invalid keyword argument for mkdir()",
     "output_type": "error",
     "traceback": [
      "\u001b[0;31m---------------------------------------------------------------------------\u001b[0m",
      "\u001b[0;31mTypeError\u001b[0m                                 Traceback (most recent call last)",
      "\u001b[0;32m/tmp/ipykernel_24978/3503124814.py\u001b[0m in \u001b[0;36m<module>\u001b[0;34m\u001b[0m\n\u001b[1;32m     19\u001b[0m \u001b[0;31m# Set an output directory for any files generated during the book building process\u001b[0m\u001b[0;34m\u001b[0m\u001b[0;34m\u001b[0m\u001b[0;34m\u001b[0m\u001b[0m\n\u001b[1;32m     20\u001b[0m \u001b[0mout_dir\u001b[0m \u001b[0;34m=\u001b[0m \u001b[0mos\u001b[0m\u001b[0;34m.\u001b[0m\u001b[0mpath\u001b[0m\u001b[0;34m.\u001b[0m\u001b[0mabspath\u001b[0m\u001b[0;34m(\u001b[0m\u001b[0;34m\"../outputs/\"\u001b[0m\u001b[0;34m)\u001b[0m\u001b[0;34m\u001b[0m\u001b[0;34m\u001b[0m\u001b[0m\n\u001b[0;32m---> 21\u001b[0;31m \u001b[0mos\u001b[0m\u001b[0;34m.\u001b[0m\u001b[0mmkdir\u001b[0m\u001b[0;34m(\u001b[0m\u001b[0mout_dir\u001b[0m\u001b[0;34m,\u001b[0m \u001b[0mexist_ok\u001b[0m\u001b[0;34m=\u001b[0m\u001b[0;32mTrue\u001b[0m\u001b[0;34m)\u001b[0m\u001b[0;34m\u001b[0m\u001b[0;34m\u001b[0m\u001b[0m\n\u001b[0m",
      "\u001b[0;31mTypeError\u001b[0m: 'exist_ok' is an invalid keyword argument for mkdir()"
     ]
    }
   ],
   "source": [
    "# First, import the necessary modules and functions\n",
    "import os\n",
    "\n",
    "import matplotlib.pyplot as plt\n",
    "import numpy as np\n",
    "import pandas as pd\n",
    "from myst_nb import glue\n",
    "from nilearn import image, plotting\n",
    "from repo2data.repo2data import Repo2Data\n",
    "\n",
    "from nimare import dataset, extract\n",
    "\n",
    "# Install the data if running locally, or points to cached data if running on neurolibre\n",
    "DATA_REQ_FILE = os.path.abspath(\"../binder/data_requirement.json\")\n",
    "repo2data = Repo2Data(DATA_REQ_FILE)\n",
    "data_path = repo2data.install()\n",
    "data_path = os.path.join(data_path[0], \"data\")\n",
    "\n",
    "# Set an output directory for any files generated during the book building process\n",
    "out_dir = os.path.abspath(\"../outputs/\")\n",
    "os.mkdir(out_dir, exist_ok=True)"
   ]
  },
  {
   "cell_type": "markdown",
   "id": "1aa2b688",
   "metadata": {},
   "source": [
    "As mentioned in the discussion of BrainMap ([](content:resources:brainmap)), manually annotating studies in a meta-analytic database can be a time-consuming and labor-intensive process.\n",
    "To facilitate more efficient (albeit lower-quality) annotation, NiMARE supports a number of automated annotation approaches.\n",
    "These include [](content:annotation:ngram), [](content:annotation:cogat), [](content:annotation:lda), and [](content:annotation:gclda).\n",
    "\n",
    "NiMARE users may download abstracts from PubMed as long as study identifiers in the `Dataset` correspond to PubMed IDs (as in Neurosynth and NeuroQuery).\n",
    "Abstracts are much more easily accessible than full article text, so most annotation methods in NiMARE rely on them.\n",
    "\n",
    "Below, we use the function {py:func}`nimare.extract.download_abstracts` to download abstracts for the Neurosynth `Dataset`.\n",
    "This will attempt to extract metadata about each study in the `Dataset` from PubMed, and then add the abstract available on Pubmed to the `Dataset`'s `texts` attribute, under a new column names \"abstract\".\n",
    "\n",
    "```important\n",
    "{py:func}`~nimare.extract.download_abstracts` only works when there is internet access.\n",
    "Since this book will often be built on nodes without internet access, we will share the code\n",
    "used to download abstracts, but will actually load and use a pre-generated version of the Dataset.\n",
    "```\n",
    "\n",
    "```python\n",
    "# First, load a Dataset without abstracts\n",
    "neurosynth_dset_first_500 = dataset.Dataset.load(\n",
    "    os.path.join(out_dir, \"neurosynth_dataset_first500.pkl.gz\")\n",
    ")\n",
    "\n",
    "# Now, download the abstracts using your email address\n",
    "neurosynth_dset_first_500 = extract.download_abstracts(\n",
    "    neurosynth_dset_first_500,\n",
    "    email=\"example@email.com\",\n",
    ")\n",
    "\n",
    "# Finally, save the Dataset with abstracts to a pkl.gz file\n",
    "neurosynth_dset_first_500.save(\n",
    "    os.path.join(data_path, \"neurosynth_dataset_first500_with_abstracts.pkl.gz\"),\n",
    ")\n",
    "```"
   ]
  },
  {
   "cell_type": "code",
   "execution_count": null,
   "id": "14db0e4e",
   "metadata": {},
   "outputs": [],
   "source": [
    "neurosynth_dset_first_500 = dataset.Dataset.load(\n",
    "    os.path.join(data_path, \"neurosynth_dataset_first500_with_abstracts.pkl.gz\"),\n",
    ")"
   ]
  },
  {
   "cell_type": "markdown",
   "id": "81036800",
   "metadata": {},
   "source": [
    "(content:annotation:ngram)=\n",
    "## N-gram term extraction\n",
    "\n",
    "**N-gram term extraction** refers to the vectorization of text into contiguous sets of words that can be counted as individual tokens.\n",
    "The upper limit on the number of words in these tokens is set by the user.\n",
    "\n",
    "NiMARE has the function {py:func}`nimare.annotate.text.generate_counts` to extract n-grams from text.\n",
    "This method produces either term counts or term frequency- inverse document frequency (tf-idf) values for each of the studies in a `Dataset`."
   ]
  },
  {
   "cell_type": "code",
   "execution_count": null,
   "id": "66205892",
   "metadata": {},
   "outputs": [],
   "source": [
    "from nimare import annotate\n",
    "\n",
    "counts_df = annotate.text.generate_counts(\n",
    "    neurosynth_dset_first_500.texts,\n",
    "    text_column=\"abstract\",\n",
    "    tfidf=False,\n",
    "    min_df=10,\n",
    "    max_df=0.95,\n",
    ")"
   ]
  },
  {
   "cell_type": "markdown",
   "id": "c2c91e33",
   "metadata": {},
   "source": [
    "This term count `DataFrame` will be used later, to train a GCLDA model."
   ]
  },
  {
   "cell_type": "markdown",
   "id": "f1dec5ab",
   "metadata": {},
   "source": [
    "(content:annotation:cogat)=\n",
    "## Cognitive Atlas term extraction and hierarchical expansion\n",
    "\n",
    "**Cognitive Atlas term extraction** leverages the structured nature of the Cognitive Atlas in order to extract counts for individual terms and their synonyms in the ontology, as well as to apply hierarchical expansion to these counts based on the relationships specified between terms.\n",
    "This method produces both basic term counts and expanded term counts based on the weights applied to different relationship types present in the ontology.\n",
    "\n",
    "First, we must use {py:func}`nimare.extract.download_cognitive_atlas` to download the current version of the Cognitive Atlas ontology.\n",
    "This includes both information about individual terms in the ontology and asserted relationships between those terms.\n",
    "\n",
    "NiMARE will automatically attempt to extrapolate likely alternate forms of each term in the ontology, in order to make extraction easier.\n",
    "For an example, see {numref}`tbl:table_cogat_forms`."
   ]
  },
  {
   "cell_type": "code",
   "execution_count": null,
   "id": "ad63e98d",
   "metadata": {},
   "outputs": [],
   "source": [
    "cogatlas = extract.download_cognitive_atlas(data_dir=data_path, overwrite=False)\n",
    "id_df = pd.read_csv(cogatlas[\"ids\"])\n",
    "rel_df = pd.read_csv(cogatlas[\"relationships\"])\n",
    "\n",
    "cogat_counts_df, rep_text_df = annotate.cogat.extract_cogat(\n",
    "    neurosynth_dset_first_500.texts, id_df, text_column=\"abstract\"\n",
    ")"
   ]
  },
  {
   "cell_type": "code",
   "execution_count": null,
   "id": "2a1100a2",
   "metadata": {
    "tags": [
     "hide-cell"
    ]
   },
   "outputs": [],
   "source": [
    "example_forms = id_df.loc[id_df[\"name\"] == \"dot motion task\"][[\"id\", \"name\", \"alias\"]]\n",
    "glue(\"table_cogat_forms\", example_forms)"
   ]
  },
  {
   "cell_type": "markdown",
   "id": "99412272",
   "metadata": {},
   "source": [
    "```{glue:figure} table_cogat_forms\n",
    ":name: \"tbl:table_cogat_forms\"\n",
    ":align: center\n",
    "\n",
    "An example of alternate forms characterized by the Cognitive Atlas and extrapolated by NiMARE.\n",
    "Certain alternate forms (i.e., synonyms) are specified within the Cognitive Atlas, while others are inferred automatically by NiMARE according to certain rules (e.g., removing parentheses).\n",
    "```"
   ]
  },
  {
   "cell_type": "code",
   "execution_count": null,
   "id": "2bdc35f2",
   "metadata": {},
   "outputs": [],
   "source": [
    "# Define a weighting scheme.\n",
    "# In this scheme, observed terms will also count toward any hypernyms (isKindOf),\n",
    "# holonyms (isPartOf), and parent categories (inCategory) as well.\n",
    "weights = {\"isKindOf\": 1, \"isPartOf\": 1, \"inCategory\": 1}\n",
    "expanded_df = annotate.cogat.expand_counts(cogat_counts_df, rel_df, weights)\n",
    "\n",
    "# Sort by total count and reduce for better visualization\n",
    "series = expanded_df.sum(axis=0)\n",
    "series = series.sort_values(ascending=False)\n",
    "series = series[series > 0]\n",
    "columns = series.index.tolist()"
   ]
  },
  {
   "cell_type": "code",
   "execution_count": null,
   "id": "7d3fe39e",
   "metadata": {
    "tags": [
     "hide-output"
    ]
   },
   "outputs": [],
   "source": [
    "# Raw counts\n",
    "fig, axes = plt.subplots(figsize=(16, 16), nrows=2, sharex=True)\n",
    "pos = axes[0].imshow(\n",
    "    cogat_counts_df[columns].values,\n",
    "    aspect=\"auto\",\n",
    "    vmin=0,\n",
    "    vmax=10,\n",
    ")\n",
    "fig.colorbar(pos, ax=axes[0])\n",
    "axes[0].set_title(\"Counts Before Expansion\", fontsize=20)\n",
    "axes[0].yaxis.set_visible(False)\n",
    "axes[0].xaxis.set_visible(False)\n",
    "axes[0].set_ylabel(\"Study\", fontsize=16)\n",
    "axes[0].set_xlabel(\"Cognitive Atlas Term\", fontsize=16)\n",
    "\n",
    "# Expanded counts\n",
    "pos = axes[1].imshow(\n",
    "    expanded_df[columns].values,\n",
    "    aspect=\"auto\",\n",
    "    vmin=0,\n",
    "    vmax=10,\n",
    ")\n",
    "fig.colorbar(pos, ax=axes[1])\n",
    "axes[1].set_title(\"Counts After Expansion\", fontsize=20)\n",
    "axes[1].yaxis.set_visible(False)\n",
    "axes[1].xaxis.set_visible(False)\n",
    "axes[1].set_ylabel(\"Study\", fontsize=16)\n",
    "axes[1].set_xlabel(\"Cognitive Atlas Term\", fontsize=16)\n",
    "\n",
    "fig.tight_layout()\n",
    "glue(\"figure_cogat_expansion\", fig, display=False)"
   ]
  },
  {
   "cell_type": "markdown",
   "id": "1af7c808",
   "metadata": {},
   "source": [
    "```{glue:figure} figure_cogat_expansion\n",
    ":name: \"figure_cogat_expansion\"\n",
    ":align: center\n",
    "\n",
    "The effect of hierarchical expansion on Cognitive Atlas term counts from abstracts in Neurosynth's first 500 papers. There are too many terms and studies to show individual labels.\n",
    "```"
   ]
  },
  {
   "cell_type": "code",
   "execution_count": null,
   "id": "e2457f49",
   "metadata": {
    "tags": [
     "hide-cell"
    ]
   },
   "outputs": [],
   "source": [
    "# Here we delete the recent variables for the sake of reducing memory usage\n",
    "del cogatlas, id_df, rel_df, cogat_counts_df, rep_text_df\n",
    "del weights, expanded_df, series, columns"
   ]
  },
  {
   "cell_type": "markdown",
   "id": "0b2e84fd",
   "metadata": {},
   "source": [
    "(content:annotation:lda)=\n",
    "## Latent Dirichlet allocation\n",
    "\n",
    "**Latent Dirichlet allocation** (LDA) {cite:p}`Blei2003-lh` was originally combined with meta-analytic neuroimaging data in {cite:t}`Poldrack2012-it`.\n",
    "LDA is a generative topic model which, for a text corpus, builds probability distributions across documents and words.\n",
    "In LDA, each document is considered a mixture of topics.\n",
    "This works under the assumption that each document was constructed by first randomly selecting a topic based on the document's probability distribution across topics, and then randomly selecting a word from that topic based on the topic's probability distribution across words.\n",
    "While this is not a useful generative model for producing documents, LDA is able to discern cohesive topics of related words.\n",
    "{cite:t}`Poldrack2012-it` were able to apply LDA to full texts from neuroimaging articles in order to develop cognitive neuroscience-related topics and to run topic-wise meta-analyses.\n",
    "This method produces two sets of probability distributions: (1) the probability of a word given topic and (2) the probability of a topic given article.\n",
    "\n",
    "NiMARE's {py:class}`~nimare.annotate.lda.LDAModel` is a light wrapper around scikit-learn's LDA implementation.\n",
    "\n",
    "Here, we train an LDA model ({py:class}`nimare.annotate.lda.LDAModel`) on the first 500 studies of the Neurosynth `Dataset`, with 50 topics in the model."
   ]
  },
  {
   "cell_type": "code",
   "execution_count": null,
   "id": "b530d27a",
   "metadata": {
    "tags": [
     "hide-output"
    ]
   },
   "outputs": [],
   "source": [
    "from nimare import annotate\n",
    "\n",
    "lda_model = annotate.lda.LDAModel(\n",
    "    neurosynth_dset_first_500.texts,\n",
    "    text_column=\"abstract\",\n",
    "    n_topics=50,\n",
    "    n_iters=1000,\n",
    ")\n",
    "\n",
    "# Fit the model\n",
    "lda_model.fit()"
   ]
  },
  {
   "cell_type": "markdown",
   "id": "82b78e87",
   "metadata": {},
   "source": [
    "The most important products of training the `LDAModel` object are its `p_word_g_topic_df_` and `p_topic_g_doc_df_` attributes.\n",
    "The `p_word_g_topic_df_` attribute is a `pandas` `DataFrame` in which each row corresponds to a topic and each column corresponds to a term (n-gram) extracted from the `Dataset`'s texts.\n",
    "The cells contain weights indicating the probability of selecting the term given that the topic was already selected.\n",
    "The `p_topic_g_doc_df_` attribute is also a `DataFrame`.\n",
    "In this one, each row corresponds to a study in the `Dataset` and each column is a topic.\n",
    "The cell values indicate the probability of selecting a topic when contructing the given study.\n",
    "Practically, this indicates the relative proportion with which the topic describes that study.\n",
    "\n",
    "First, we will reorganize the DataFrame a bit to show the top ten terms for each of the first ten topics."
   ]
  },
  {
   "cell_type": "code",
   "execution_count": null,
   "id": "49702eee",
   "metadata": {
    "tags": [
     "hide-output"
    ]
   },
   "outputs": [],
   "source": [
    "lda_df = lda_model.p_word_g_topic_df_.T\n",
    "column_names = {c: f\"Topic {c}\" for c in lda_df.columns}\n",
    "lda_df = lda_df.rename(columns=column_names)\n",
    "temp_df = lda_df.copy()\n",
    "lda_df = pd.DataFrame(columns=lda_df.columns, index=np.arange(10))\n",
    "lda_df.index.name = \"Term\"\n",
    "for col in lda_df.columns:\n",
    "    top_ten_terms = temp_df.sort_values(by=col, ascending=False).index.tolist()[:10]\n",
    "    lda_df.loc[:, col] = top_ten_terms\n",
    "\n",
    "lda_df = lda_df[lda_df.columns[:10]]\n",
    "glue(\"table_lda\", lda_df)"
   ]
  },
  {
   "cell_type": "markdown",
   "id": "a775e69c",
   "metadata": {},
   "source": [
    "```{glue:figure} table_lda\n",
    ":name: \"tbl:table_lda\"\n",
    ":align: center\n",
    "\n",
    "The top ten terms for each of the first ten topics in the trained LDA model.\n",
    "```"
   ]
  },
  {
   "cell_type": "code",
   "execution_count": null,
   "id": "a9e136e7",
   "metadata": {
    "tags": [
     "hide-cell"
    ]
   },
   "outputs": [],
   "source": [
    "# Here we delete the recent variables for the sake of reducing memory usage\n",
    "del lda_model, lda_df, temp_df"
   ]
  },
  {
   "cell_type": "markdown",
   "id": "f63e0acb",
   "metadata": {},
   "source": [
    "(content:annotation:gclda)=\n",
    "## Generalized correspondence latent Dirichlet allocation\n",
    "\n",
    "**Generalized correspondence latent Dirichlet allocation** (GCLDA) is a recently-developed algorithm that trains topics on both article abstracts and coordinates {cite:p}`Rubin2017-rd`.\n",
    "GCLDA assumes that topics within the fMRI literature can also be localized to brain regions, in this case modeled as three-dimensional Gaussian distributions.\n",
    "These spatial distributions can also be restricted to pairs of Gaussians that are symmetric across brain hemispheres.\n",
    "This method produces two sets of probability distributions: the probability of a word given topic (`GCLDAModel.p_word_g_topic_`) and the probability of a voxel given topic (`GCLDAModel.p_voxel_g_topic_`).\n",
    "\n",
    "Here we train a GCLDA model ({py:class}`nimare.annotate.gclda.GCLDAModel`) on the first 500 studies of the Neurosynth Dataset.\n",
    "The model will include 50 topics, in which the spatial distribution for each topic will be defined as having two Gaussian distributions that are symmetrically localized across the longitudinal fissure.\n",
    "\n",
    "```{important}\n",
    "{py:class}`nimare.annotate.gclda.GCLDAModel` generally takes a very long time to train.\n",
    "\n",
    "Below, we show how one would train a GCLDA model.\n",
    "However, we will load a pretrained model instead of actually training the model.\n",
    "```\n",
    "\n",
    "```python\n",
    "gclda_model = annotate.gclda.GCLDAModel(\n",
    "    counts_df,\n",
    "    neurosynth_dset_first_500.coordinates,\n",
    "    n_regions=2,\n",
    "    n_topics=50,\n",
    "    symmetric=True,\n",
    "    mask=neurosynth_dset_first_500.masker.mask_img,\n",
    ")\n",
    "gclda_model.fit(n_iters=2500, loglikely_freq=500)\n",
    "```"
   ]
  },
  {
   "cell_type": "code",
   "execution_count": null,
   "id": "862bfdc6",
   "metadata": {},
   "outputs": [],
   "source": [
    "gclda_model = annotate.gclda.GCLDAModel.load(os.path.join(data_path, \"gclda_model.pkl.gz\"))"
   ]
  },
  {
   "cell_type": "markdown",
   "id": "19872000",
   "metadata": {},
   "source": [
    "The `GCLDAModel` retains the relevant probability distributions in the form of `numpy` arrays, rather than `pandas` DataFrames.\n",
    "However, for the topic-term weights (`p_word_g_topic_`), the data are more interpretable as a DataFrame, so we will create one.\n",
    "We will also reorganize the raw DataFrame to show the top ten terms for each of the first ten topics."
   ]
  },
  {
   "cell_type": "code",
   "execution_count": null,
   "id": "bda6cb04",
   "metadata": {
    "tags": [
     "hide-output"
    ]
   },
   "outputs": [],
   "source": [
    "gclda_arr = gclda_model.p_word_g_topic_\n",
    "gclda_vocab = gclda_model.vocabulary\n",
    "topic_names = [f\"Topic {str(i).zfill(3)}\" for i in range(gclda_arr.shape[1])]\n",
    "gclda_df = pd.DataFrame(index=gclda_vocab, columns=topic_names, data=gclda_arr)\n",
    "\n",
    "temp_df = gclda_df.copy()\n",
    "gclda_df = pd.DataFrame(columns=gclda_df.columns, index=np.arange(10))\n",
    "gclda_df.index.name = \"Term\"\n",
    "for col in temp_df.columns:\n",
    "    top_ten_terms = temp_df.sort_values(by=col, ascending=False).index.tolist()[:10]\n",
    "    gclda_df.loc[:, col] = top_ten_terms\n",
    "\n",
    "gclda_df = gclda_df[gclda_df.columns[:10]]\n",
    "glue(\"table_gclda\", gclda_df)"
   ]
  },
  {
   "cell_type": "markdown",
   "id": "0edbba7c",
   "metadata": {},
   "source": [
    "```{glue:figure} table_gclda\n",
    ":name: \"tbl:table_gclda\"\n",
    ":align: center\n",
    "\n",
    "The top ten terms for each of the first ten topics in the trained GCLDA model.\n",
    "```\n",
    "\n",
    "We also want to see how the topic-voxel weights render on the brain, so we will simply unmask the `p_voxel_g_topic_` array with the `Dataset`'s masker."
   ]
  },
  {
   "cell_type": "code",
   "execution_count": null,
   "id": "1d57f856",
   "metadata": {
    "tags": [
     "hide-output"
    ]
   },
   "outputs": [],
   "source": [
    "fig, axes = plt.subplots(nrows=5, ncols=2, figsize=(12, 10))\n",
    "\n",
    "topic_img_4d = neurosynth_dset_first_500.masker.inverse_transform(gclda_model.p_voxel_g_topic_.T)\n",
    "# Plot first ten topics\n",
    "topic_counter = 0\n",
    "for i_row in range(5):\n",
    "    for j_col in range(2):\n",
    "        topic_img = image.index_img(topic_img_4d, index=topic_counter)\n",
    "        display = plotting.plot_stat_map(\n",
    "            topic_img,\n",
    "            annotate=False,\n",
    "            cmap=\"Reds\",\n",
    "            draw_cross=False,\n",
    "            figure=fig,\n",
    "            axes=axes[i_row, j_col],\n",
    "        )\n",
    "        axes[i_row, j_col].set_title(f\"Topic {str(topic_counter).zfill(3)}\")\n",
    "        topic_counter += 1\n",
    "\n",
    "        colorbar = display._cbar\n",
    "        colorbar_ticks = colorbar.get_ticks()\n",
    "        if colorbar_ticks[0] < 0:\n",
    "            new_ticks = [colorbar_ticks[0], 0, colorbar_ticks[-1]]\n",
    "        else:\n",
    "            new_ticks = [colorbar_ticks[0], colorbar_ticks[-1]]\n",
    "        colorbar.set_ticks(new_ticks, update_ticks=True)\n",
    "\n",
    "glue(\"figure_gclda_topics\", fig, display=False)"
   ]
  },
  {
   "cell_type": "markdown",
   "id": "7276f2dd",
   "metadata": {},
   "source": [
    "```{glue:figure} figure_gclda_topics\n",
    ":name: figure_gclda_topics\n",
    ":align: center\n",
    "\n",
    "Topic weight maps for the first ten topics in the GCLDA model.\n",
    "```"
   ]
  },
  {
   "cell_type": "code",
   "execution_count": null,
   "id": "e0e4962d",
   "metadata": {
    "tags": [
     "hide-cell"
    ]
   },
   "outputs": [],
   "source": [
    "# Here we delete the recent variables for the sake of reducing memory usage\n",
    "del gclda_model, temp_df, gclda_df, counts_df"
   ]
  }
 ],
 "metadata": {
  "jupytext": {
   "text_representation": {
    "extension": ".md",
    "format_name": "myst",
    "format_version": 0.13,
    "jupytext_version": "1.10.3"
   }
  },
  "kernelspec": {
   "display_name": "Python 3",
   "language": "python",
   "name": "python3"
  },
  "language_info": {
   "codemirror_mode": {
    "name": "ipython",
    "version": 3
   },
   "file_extension": ".py",
   "mimetype": "text/x-python",
   "name": "python",
   "nbconvert_exporter": "python",
   "pygments_lexer": "ipython3",
   "version": "3.7.11"
  },
  "source_map": [
   12,
   18,
   43,
   79,
   85,
   96,
   106,
   110,
   124,
   134,
   138,
   148,
   162,
   195,
   204,
   211,
   228,
   241,
   253,
   268,
   277,
   283,
   315,
   317,
   323,
   340,
   351,
   381,
   390
  ]
 },
 "nbformat": 4,
 "nbformat_minor": 5
}