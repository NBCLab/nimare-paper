{
 "cells": [
  {
   "cell_type": "markdown",
   "id": "323daf62",
   "metadata": {},
   "source": [
    "# Meta-Analytic Coactivation Modeling"
   ]
  },
  {
   "cell_type": "code",
   "execution_count": 1,
   "id": "7b3aa7f9",
   "metadata": {
    "tags": [
     "hide-cell"
    ]
   },
   "outputs": [
    {
     "name": "stdout",
     "output_type": "stream",
     "text": [
      "---- repo2data starting ----\n",
      "/home/data/nbc/misc-projects/Salo_NiMARE/conda_env/lib/python3.7/site-packages/repo2data\n",
      "Config from file :\n",
      "/home/data/nbc/misc-projects/Salo_NiMARE/binder/data_requirement.json\n",
      "Destination:\n",
      "./../data/nimare-paper\n",
      "\n",
      "Info : ./../data/nimare-paper already downloaded\n"
     ]
    },
    {
     "ename": "TypeError",
     "evalue": "'exist_ok' is an invalid keyword argument for mkdir()",
     "output_type": "error",
     "traceback": [
      "\u001b[0;31m---------------------------------------------------------------------------\u001b[0m",
      "\u001b[0;31mTypeError\u001b[0m                                 Traceback (most recent call last)",
      "\u001b[0;32m/tmp/ipykernel_24945/1067996725.py\u001b[0m in \u001b[0;36m<module>\u001b[0;34m\u001b[0m\n\u001b[1;32m     16\u001b[0m \u001b[0;31m# Set an output directory for any files generated during the book building process\u001b[0m\u001b[0;34m\u001b[0m\u001b[0;34m\u001b[0m\u001b[0;34m\u001b[0m\u001b[0m\n\u001b[1;32m     17\u001b[0m \u001b[0mout_dir\u001b[0m \u001b[0;34m=\u001b[0m \u001b[0mos\u001b[0m\u001b[0;34m.\u001b[0m\u001b[0mpath\u001b[0m\u001b[0;34m.\u001b[0m\u001b[0mabspath\u001b[0m\u001b[0;34m(\u001b[0m\u001b[0;34m\"../outputs/\"\u001b[0m\u001b[0;34m)\u001b[0m\u001b[0;34m\u001b[0m\u001b[0;34m\u001b[0m\u001b[0m\n\u001b[0;32m---> 18\u001b[0;31m \u001b[0mos\u001b[0m\u001b[0;34m.\u001b[0m\u001b[0mmkdir\u001b[0m\u001b[0;34m(\u001b[0m\u001b[0mout_dir\u001b[0m\u001b[0;34m,\u001b[0m \u001b[0mexist_ok\u001b[0m\u001b[0;34m=\u001b[0m\u001b[0;32mTrue\u001b[0m\u001b[0;34m)\u001b[0m\u001b[0;34m\u001b[0m\u001b[0;34m\u001b[0m\u001b[0m\n\u001b[0m\u001b[1;32m     19\u001b[0m \u001b[0;34m\u001b[0m\u001b[0m\n\u001b[1;32m     20\u001b[0m \u001b[0mneurosynth_dset\u001b[0m \u001b[0;34m=\u001b[0m \u001b[0mdataset\u001b[0m\u001b[0;34m.\u001b[0m\u001b[0mDataset\u001b[0m\u001b[0;34m.\u001b[0m\u001b[0mload\u001b[0m\u001b[0;34m(\u001b[0m\u001b[0mos\u001b[0m\u001b[0;34m.\u001b[0m\u001b[0mpath\u001b[0m\u001b[0;34m.\u001b[0m\u001b[0mjoin\u001b[0m\u001b[0;34m(\u001b[0m\u001b[0mout_dir\u001b[0m\u001b[0;34m,\u001b[0m \u001b[0;34m\"neurosynth_dataset.pkl.gz\"\u001b[0m\u001b[0;34m)\u001b[0m\u001b[0;34m)\u001b[0m\u001b[0;34m\u001b[0m\u001b[0;34m\u001b[0m\u001b[0m\n",
      "\u001b[0;31mTypeError\u001b[0m: 'exist_ok' is an invalid keyword argument for mkdir()"
     ]
    }
   ],
   "source": [
    "# First, import the necessary modules and functions\n",
    "import os\n",
    "\n",
    "import matplotlib.pyplot as plt\n",
    "from myst_nb import glue\n",
    "from repo2data.repo2data import Repo2Data\n",
    "\n",
    "from nimare import dataset\n",
    "\n",
    "# Install the data if running locally, or points to cached data if running on neurolibre\n",
    "DATA_REQ_FILE = os.path.abspath(\"../binder/data_requirement.json\")\n",
    "repo2data = Repo2Data(DATA_REQ_FILE)\n",
    "data_path = repo2data.install()\n",
    "data_path = os.path.join(data_path[0], \"data\")\n",
    "\n",
    "# Set an output directory for any files generated during the book building process\n",
    "out_dir = os.path.abspath(\"../outputs/\")\n",
    "os.mkdir(out_dir, exist_ok=True)\n",
    "\n",
    "neurosynth_dset = dataset.Dataset.load(os.path.join(out_dir, \"neurosynth_dataset.pkl.gz\"))"
   ]
  },
  {
   "cell_type": "markdown",
   "id": "017d2f52",
   "metadata": {},
   "source": [
    "Meta-analytic coactivation modeling (MACM) {cite:p}`Laird2009-gc,Robinson2010-iv,Eickhoff2010-vx`, also known as meta-analytic connectivity modeling, uses meta-analytic data to measure co-occurrence of activations between brain regions providing evidence of functional connectivity of brain regions across tasks.\n",
    "In coordinate-based MACM, whole-brain studies within the database are selected based on whether or not they report at least one peak in a region of interest specified for the analysis.\n",
    "These studies are then subjected to a meta-analysis, often comparing the selected studies to those remaining in the database.\n",
    "In this way, the significance of each voxel in the analysis corresponds to whether there is greater convergence of foci at the voxel among studies which also report foci in the region of interest than those which do not.\n",
    "\n",
    "<!-- TODO: Determine appropriate citation style here. -->\n",
    "\n",
    "MACM results have historically been accorded a similar interpretation to task-related functional connectivity (e.g., {cite:p}`Hok2015-lt,Kellermann2013-en`), although this approach is quite removed from functional connectivity analyses of task fMRI data (e.g., beta-series correlations, psychophysiological interactions, or even seed-to-voxel functional connectivity analyses on task data).\n",
    "Nevertheless, MACM analyses do show high correspondence with resting-state functional connectivity {cite:p}`Reid2017-ez`.\n",
    "MACM has been used to characterize the task-based functional coactivation of the cerebellum {cite:p}`Riedel2015-tx`, lateral prefrontal cortex {cite:p}`Reid2016-ba`, fusiform gyrus {cite:p}`Caspers2014-ja`, and several other brain regions.\n",
    "\n",
    "Within NiMARE, MACMs can be performed by selecting studies in a Dataset based on the presence of activation within a target mask or coordinate-centered sphere.\n",
    "\n",
    "In this section, we will perform two MACMs- one with a target mask and one with a coordinate-centered sphere.\n",
    "For the former, we use {py:meth}`nimare.dataset.Dataset.get_studies_by_mask`.\n",
    "For the latter, we use {py:meth}`nimare.dataset.Dataset.get_studies_by_coordinate`."
   ]
  },
  {
   "cell_type": "code",
   "execution_count": null,
   "id": "1013f3b8",
   "metadata": {},
   "outputs": [],
   "source": [
    "# Create Dataset only containing studies with peaks within the amygdala mask\n",
    "amygdala_mask = os.path.join(data_path, \"amygdala_roi.nii.gz\")\n",
    "amygdala_ids = neurosynth_dset.get_studies_by_mask(amygdala_mask)\n",
    "dset_amygdala = neurosynth_dset.slice(amygdala_ids)\n",
    "\n",
    "# Create Dataset only containing studies with peaks within the sphere ROI\n",
    "sphere_ids = neurosynth_dset.get_studies_by_coordinate([[24, -2, -20]], r=6)\n",
    "dset_sphere = neurosynth_dset.slice(sphere_ids)"
   ]
  },
  {
   "cell_type": "markdown",
   "id": "148f5bd8",
   "metadata": {},
   "source": [
    "```{important}\n",
    "The amygdala dataset includes more than 1300 studies.\n",
    "Running a meta-analysis on such a large dataset may require more than 4 GB of RAM, which is NeuroLibre's limit.\n",
    "Therefore, we will further reduce the Dataset to its first 500 studies, in order to run the meta-analysis successfully on NeuroLibre's server.\n",
    "For publication-quality analyses, we would recommend using the entire Dataset.\n",
    "```"
   ]
  },
  {
   "cell_type": "code",
   "execution_count": null,
   "id": "a4701cac",
   "metadata": {},
   "outputs": [],
   "source": [
    "print(dset_amygdala)\n",
    "dset_amygdala = dset_amygdala.slice(dset_amygdala.ids[:500])\n",
    "print(dset_amygdala)"
   ]
  },
  {
   "cell_type": "code",
   "execution_count": null,
   "id": "15e613c3",
   "metadata": {
    "tags": [
     "hide-cell"
    ]
   },
   "outputs": [],
   "source": [
    "import numpy as np\n",
    "from nilearn import input_data, plotting\n",
    "\n",
    "# In order to plot a sphere with a precise radius around a coordinate with\n",
    "# nilearn, we need to use a NiftiSpheresMasker\n",
    "mask_img = neurosynth_dset.masker.mask_img\n",
    "sphere_masker = input_data.NiftiSpheresMasker([[24, -2, -20]], radius=6, mask_img=mask_img)\n",
    "sphere_masker.fit(mask_img)\n",
    "sphere_img = sphere_masker.inverse_transform(np.array([[1]]))\n",
    "\n",
    "fig, axes = plt.subplots(figsize=(6, 4), nrows=2)\n",
    "display = plotting.plot_roi(\n",
    "    amygdala_mask,\n",
    "    annotate=False,\n",
    "    draw_cross=False,\n",
    "    axes=axes[0],\n",
    "    figure=fig,\n",
    ")\n",
    "axes[0].set_title(\"Amygdala ROI\")\n",
    "display = plotting.plot_roi(\n",
    "    sphere_img,\n",
    "    annotate=False,\n",
    "    draw_cross=False,\n",
    "    axes=axes[1],\n",
    "    figure=fig,\n",
    ")\n",
    "axes[1].set_title(\"Spherical ROI\")\n",
    "glue(\"figure_macm_rois\", fig, display=False)"
   ]
  },
  {
   "cell_type": "markdown",
   "id": "be173ccf",
   "metadata": {},
   "source": [
    "```{glue:figure} figure_macm_rois\n",
    ":name: figure_macm_rois\n",
    ":align: center\n",
    "\n",
    "Region of interest masks for (1) a target mask-based MACM and (2) a coordinate-based MACM.\n",
    "```"
   ]
  },
  {
   "cell_type": "markdown",
   "id": "32147ad4",
   "metadata": {},
   "source": [
    "Once the `Dataset` has been reduced to studies with coordinates within the mask or sphere requested, any of the supported CBMA Estimators can be run."
   ]
  },
  {
   "cell_type": "code",
   "execution_count": null,
   "id": "6a9c4d88",
   "metadata": {},
   "outputs": [],
   "source": [
    "from nimare import meta\n",
    "\n",
    "meta_amyg = meta.cbma.ale.ALE(kernel__sample_size=20)\n",
    "results_amyg = meta_amyg.fit(dset_amygdala)\n",
    "\n",
    "meta_sphere = meta.cbma.ale.ALE(kernel__sample_size=20)\n",
    "results_sphere = meta_sphere.fit(dset_sphere)"
   ]
  },
  {
   "cell_type": "code",
   "execution_count": null,
   "id": "d8a6906e",
   "metadata": {
    "tags": [
     "hide-cell"
    ]
   },
   "outputs": [],
   "source": [
    "meta_results = {\n",
    "    \"Amygdala ALE MACM\": results_amyg.get_map(\"z\", return_type=\"image\"),\n",
    "    \"Sphere ALE MACM\": results_sphere.get_map(\"z\", return_type=\"image\"),\n",
    "}\n",
    "\n",
    "fig, axes = plt.subplots(figsize=(6, 4), nrows=2)\n",
    "for i_meta, (name, file_) in enumerate(meta_results.items()):\n",
    "    display = plotting.plot_stat_map(\n",
    "        file_,\n",
    "        annotate=False,\n",
    "        axes=axes[i_meta],\n",
    "        cmap=\"Reds\",\n",
    "        cut_coords=[24, -2, -20],\n",
    "        draw_cross=False,\n",
    "        figure=fig,\n",
    "    )\n",
    "    axes[i_meta].set_title(name)\n",
    "\n",
    "    colorbar = display._cbar\n",
    "    colorbar_ticks = colorbar.get_ticks()\n",
    "    if colorbar_ticks[0] < 0:\n",
    "        new_ticks = [colorbar_ticks[0], 0, colorbar_ticks[-1]]\n",
    "    else:\n",
    "        new_ticks = [colorbar_ticks[0], colorbar_ticks[-1]]\n",
    "    colorbar.set_ticks(new_ticks, update_ticks=True)\n",
    "\n",
    "glue(\"figure_macm\", fig, display=False)"
   ]
  },
  {
   "cell_type": "markdown",
   "id": "1404f1fa",
   "metadata": {},
   "source": [
    "```{glue:figure} figure_macm\n",
    ":name: figure_macm\n",
    ":align: center\n",
    "\n",
    "Unthresholded z-statistic maps for (1) the target mask-based MACM and (2) the coordinate-based MACM.\n",
    "```"
   ]
  }
 ],
 "metadata": {
  "jupytext": {
   "text_representation": {
    "extension": ".md",
    "format_name": "myst",
    "format_version": 0.13,
    "jupytext_version": "1.10.3"
   }
  },
  "kernelspec": {
   "display_name": "Python 3",
   "language": "python",
   "name": "python3"
  },
  "language_info": {
   "codemirror_mode": {
    "name": "ipython",
    "version": 3
   },
   "file_extension": ".py",
   "mimetype": "text/x-python",
   "name": "python",
   "nbconvert_exporter": "python",
   "pygments_lexer": "ipython3",
   "version": "3.7.11"
  },
  "source_map": [
   12,
   18,
   42,
   61,
   70,
   79,
   85,
   115,
   124,
   128,
   138,
   167
  ]
 },
 "nbformat": 4,
 "nbformat_minor": 5
}