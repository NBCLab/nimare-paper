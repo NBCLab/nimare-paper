{
 "cells": [
  {
   "cell_type": "markdown",
   "id": "37744daa",
   "metadata": {},
   "source": [
    "# Multiple Comparisons Correction"
   ]
  },
  {
   "cell_type": "code",
   "execution_count": 1,
   "id": "3aa6bb16",
   "metadata": {
    "tags": [
     "hide-cell"
    ]
   },
   "outputs": [
    {
     "name": "stderr",
     "output_type": "stream",
     "text": [
      "/home/data/nbc/misc-projects/Salo_NiMARE/conda_env/lib/python3.7/site-packages/nilearn/datasets/__init__.py:90: FutureWarning: Fetchers from the nilearn.datasets module will be updated in version 0.9 to return python strings instead of bytes and Pandas dataframes instead of Numpy arrays.\n",
      "  \"Numpy arrays.\", FutureWarning)\n"
     ]
    },
    {
     "ename": "TypeError",
     "evalue": "'exist_ok' is an invalid keyword argument for mkdir()",
     "output_type": "error",
     "traceback": [
      "\u001b[0;31m---------------------------------------------------------------------------\u001b[0m",
      "\u001b[0;31mTypeError\u001b[0m                                 Traceback (most recent call last)",
      "\u001b[0;32m/tmp/ipykernel_24882/2847061054.py\u001b[0m in \u001b[0;36m<module>\u001b[0;34m\u001b[0m\n\u001b[1;32m      8\u001b[0m \u001b[0;31m# Set an output directory for any files generated during the book building process\u001b[0m\u001b[0;34m\u001b[0m\u001b[0;34m\u001b[0m\u001b[0;34m\u001b[0m\u001b[0m\n\u001b[1;32m      9\u001b[0m \u001b[0mout_dir\u001b[0m \u001b[0;34m=\u001b[0m \u001b[0mos\u001b[0m\u001b[0;34m.\u001b[0m\u001b[0mpath\u001b[0m\u001b[0;34m.\u001b[0m\u001b[0mabspath\u001b[0m\u001b[0;34m(\u001b[0m\u001b[0;34m\"../outputs/\"\u001b[0m\u001b[0;34m)\u001b[0m\u001b[0;34m\u001b[0m\u001b[0;34m\u001b[0m\u001b[0m\n\u001b[0;32m---> 10\u001b[0;31m \u001b[0mos\u001b[0m\u001b[0;34m.\u001b[0m\u001b[0mmkdir\u001b[0m\u001b[0;34m(\u001b[0m\u001b[0mout_dir\u001b[0m\u001b[0;34m,\u001b[0m \u001b[0mexist_ok\u001b[0m\u001b[0;34m=\u001b[0m\u001b[0;32mTrue\u001b[0m\u001b[0;34m)\u001b[0m\u001b[0;34m\u001b[0m\u001b[0;34m\u001b[0m\u001b[0m\n\u001b[0m",
      "\u001b[0;31mTypeError\u001b[0m: 'exist_ok' is an invalid keyword argument for mkdir()"
     ]
    }
   ],
   "source": [
    "# First, import the necessary modules and functions\n",
    "import os\n",
    "\n",
    "import matplotlib.pyplot as plt\n",
    "from myst_nb import glue\n",
    "from nilearn import plotting\n",
    "\n",
    "# Set an output directory for any files generated during the book building process\n",
    "out_dir = os.path.abspath(\"../outputs/\")\n",
    "os.mkdir(out_dir, exist_ok=True)"
   ]
  },
  {
   "cell_type": "markdown",
   "id": "523a51a9",
   "metadata": {},
   "source": [
    "In NiMARE, multiple comparisons correction is separated from each CBMA and IBMA `Estimator`, so that any number of relevant correction methods can be applied after the `Estimator` has been fit to the `Dataset`.\n",
    "Some correction options, such as the `montecarlo` option for FWE correction, are designed to work specifically with a given `Estimator` (and are indeed implemented within the `Estimator` class, and only called by the `Corrector`).\n",
    "\n",
    "`Corrector`s are divided into two subclasses: `FWECorrector`s, which correct based on family-wise error rate, and `FDRCorrector`s, which correct based on false discovery rate.\n",
    "\n",
    "All `Corrector`s are initialized with a number of parameters, including the correction method that will be used.\n",
    "After that, you can use the `transform` method on a `MetaResult` object produced by a CBMA or IBMA `Estimator` to apply the correction method.\n",
    "This will return an updated `MetaResult` object, with both the statistical maps from the original `MetaResult`, as well as new, corrected maps.\n",
    "\n",
    "Here we will apply both FWE and FDR correction to results from a MKDADensity meta-analysis, performed back in [](content:cbma:mkdad).\n",
    "\n",
    "```{warning}\n",
    "In the following example, we use 5000 iterations for Monte Carlo FWE correction.\n",
    "Normally, one would use at least 10000 iterations, but we reduced this for the sake of speed.\n",
    "```"
   ]
  },
  {
   "cell_type": "code",
   "execution_count": null,
   "id": "21ea4575",
   "metadata": {},
   "outputs": [],
   "source": [
    "from nimare import meta, correct\n",
    "\n",
    "mkdad_meta = meta.cbma.mkda.MKDADensity.load(os.path.join(out_dir, \"MKDADensity.pkl.gz\"))\n",
    "\n",
    "mc_corrector = correct.FWECorrector(method=\"montecarlo\", n_iters=5000, n_cores=4)\n",
    "mc_results = mc_corrector.transform(mkdad_meta.results)\n",
    "mc_results.save_maps(output_dir=out_dir, prefix=\"MKDADensity_FWE\")\n",
    "\n",
    "fdr_corrector = correct.FDRCorrector(method=\"indep\")\n",
    "fdr_results = fdr_corrector.transform(mkdad_meta.results)"
   ]
  },
  {
   "cell_type": "markdown",
   "id": "c2f5b440",
   "metadata": {},
   "source": [
    "Statistical maps saved by NiMARE `MetaResult`s automatically follow a naming convention based loosely on the Brain Imaging Data Standard (BIDS).\n",
    "\n",
    "Let's take a look at the files created by the `FWECorrector`."
   ]
  },
  {
   "cell_type": "code",
   "execution_count": null,
   "id": "e51c310e",
   "metadata": {},
   "outputs": [],
   "source": [
    "from glob import glob\n",
    "\n",
    "fwe_maps = sorted(glob(os.path.join(out_dir, \"MKDADensity_FWE*.nii.gz\")))\n",
    "fwe_maps = [os.path.basename(fwe_map) for fwe_map in fwe_maps]\n",
    "print(\"\\n\".join(fwe_maps))"
   ]
  },
  {
   "cell_type": "markdown",
   "id": "ff6a2d21",
   "metadata": {},
   "source": [
    "If you ignore the prefix, which was specified in the call to `MetaResult.save_maps`, the maps all have a common naming convention.\n",
    "The maps from the original meta-analysis (before multiple comparisons correction) are simply named according to the values contained in the map (e.g., `z`, `stat`, `p`).\n",
    "\n",
    "Maps generated by the correction method, however, use a series of key-value pairs to indicate how they were generated.\n",
    "The `corr` key indicates whether FWE or FDR correction was applied.\n",
    "The `method` key reflects the correction method employed, which was defined by the `method` parameter used to create the `Corrector`.\n",
    "The `level` key simply indicates if the map was corrected at the voxel or cluster level.\n",
    "Finally, the `desc` key reflects any necessary description that goes beyond what is already covered by the other entities."
   ]
  },
  {
   "cell_type": "code",
   "execution_count": null,
   "id": "da1f0855",
   "metadata": {
    "tags": [
     "hide-cell"
    ]
   },
   "outputs": [],
   "source": [
    "meta_results = {\n",
    "    \"Cluster-level Monte Carlo\": mc_results.get_map(\n",
    "        \"z_level-cluster_corr-FWE_method-montecarlo\",\n",
    "        return_type=\"image\",\n",
    "    ),\n",
    "    \"Independent FDR\": fdr_results.get_map(\n",
    "        \"z_corr-FDR_method-indep\",\n",
    "        return_type=\"image\",\n",
    "    ),\n",
    "}\n",
    "\n",
    "fig, axes = plt.subplots(figsize=(6, 4), nrows=2)\n",
    "\n",
    "for i_meta, (name, file_) in enumerate(meta_results.items()):\n",
    "    display = plotting.plot_stat_map(\n",
    "        file_,\n",
    "        annotate=False,\n",
    "        axes=axes[i_meta],\n",
    "        draw_cross=False,\n",
    "        cmap=\"Reds\",\n",
    "        cut_coords=[0, 0, 0],\n",
    "        figure=fig,\n",
    "    )\n",
    "    axes[i_meta].set_title(name)\n",
    "\n",
    "    colorbar = display._cbar\n",
    "    colorbar_ticks = colorbar.get_ticks()\n",
    "    if colorbar_ticks[0] < 0:\n",
    "        new_ticks = [colorbar_ticks[0], 0, colorbar_ticks[-1]]\n",
    "    else:\n",
    "        new_ticks = [colorbar_ticks[0], colorbar_ticks[-1]]\n",
    "    colorbar.set_ticks(new_ticks, update_ticks=True)\n",
    "\n",
    "glue(\"figure_corr_cbma\", fig, display=False)"
   ]
  },
  {
   "cell_type": "markdown",
   "id": "a92b5516",
   "metadata": {},
   "source": [
    "```{glue:figure} figure_corr_cbma\n",
    ":name: figure_corr_cbma\n",
    ":align: center\n",
    "\n",
    "An array of plots of the corrected statistical maps produced by the different multiple comparisons correction methods.\n",
    "```"
   ]
  }
 ],
 "metadata": {
  "jupytext": {
   "text_representation": {
    "extension": ".md",
    "format_name": "myst",
    "format_version": 0.13,
    "jupytext_version": "1.10.3"
   }
  },
  "kernelspec": {
   "display_name": "Python 3",
   "language": "python",
   "name": "python3"
  },
  "language_info": {
   "codemirror_mode": {
    "name": "ipython",
    "version": 3
   },
   "file_extension": ".py",
   "mimetype": "text/x-python",
   "name": "python",
   "nbconvert_exporter": "python",
   "pygments_lexer": "ipython3",
   "version": "3.7.11"
  },
  "source_map": [
   12,
   18,
   32,
   50,
   61,
   67,
   73,
   86,
   122
  ]
 },
 "nbformat": 4,
 "nbformat_minor": 5
}