{
 "cells": [
  {
   "cell_type": "markdown",
   "id": "ec6e735a",
   "metadata": {},
   "source": [
    "# Meta-Analytic Functional Decoding"
   ]
  },
  {
   "cell_type": "code",
   "execution_count": 1,
   "id": "028840f2",
   "metadata": {
    "tags": [
     "hide-cell"
    ]
   },
   "outputs": [],
   "source": [
    "# First, import the necessary modules and functions\n",
    "import os\n",
    "\n",
    "from myst_nb import glue\n",
    "\n",
    "DATA_DIR = os.path.abspath(\"../data\")\n",
    "FIG_DIR = os.path.abspath(\"../images\")"
   ]
  },
  {
   "cell_type": "code",
   "execution_count": 2,
   "id": "f7f9d9b0",
   "metadata": {
    "tags": [
     "hide-cell"
    ]
   },
   "outputs": [
    {
     "name": "stderr",
     "output_type": "stream",
     "text": [
      "INFO:nimare.dataset:Overwriting images column affine-34d2ff913320e14f04a4746cfa875fcd_memory_limit-None_r-10.0_value-1_MKDAKernel\n"
     ]
    },
    {
     "name": "stderr",
     "output_type": "stream",
     "text": [
      "INFO:nimare.utils:Shared path detected: '/home/data/nbc/misc-projects/Salo_NiMARE/nimare-paper/data/neurosynth_dataset_maps/'\n"
     ]
    },
    {
     "name": "stdout",
     "output_type": "stream",
     "text": [
      "283 features selected.\n"
     ]
    }
   ],
   "source": [
    "import nimare\n",
    "from nimare import meta\n",
    "\n",
    "dset_file = os.path.join(DATA_DIR, \"neurosynth_dataset_first500_with_mkda_ma.pkl.gz\")\n",
    "kern = meta.kernel.MKDAKernel(memory_limit=None)\n",
    "target_folder = os.path.join(DATA_DIR, \"neurosynth_dataset_maps\")\n",
    "if not os.path.isfile(dset_file):\n",
    "    neurosynth_dset_first500 = nimare.dataset.Dataset.load(\n",
    "        os.path.join(DATA_DIR, \"neurosynth_dataset_first500.pkl.gz\")\n",
    "    )\n",
    "    os.makedirs(target_folder, exist_ok=True)\n",
    "    neurosynth_dset_first500.update_path(target_folder)\n",
    "    neurosynth_dset_first500 = kern.transform(neurosynth_dset_first500, return_type=\"dataset\")\n",
    "    neurosynth_dset_first500.save(dset_file)\n",
    "else:\n",
    "    neurosynth_dset_first500 = nimare.dataset.Dataset.load(dset_file)\n",
    "    neurosynth_dset_first500.update_path(target_folder)\n",
    "\n",
    "# Collect features for decoding\n",
    "# We use any features that appear in >5% of studies and <95%.\n",
    "id_cols = [\"id\", \"study_id\", \"contrast_id\"]\n",
    "frequency_threshold = 0.001\n",
    "cols = neurosynth_dset_first500.annotations.columns\n",
    "cols = [c for c in cols if c not in id_cols]\n",
    "df = neurosynth_dset_first500.annotations.copy()[cols]\n",
    "n_studies = df.shape[0]\n",
    "feature_counts = (df >= frequency_threshold).sum(axis=0)\n",
    "target_features = feature_counts.between(n_studies * 0.05, n_studies * 0.95)\n",
    "target_features = target_features[target_features]\n",
    "target_features = target_features.index.values\n",
    "print(f\"{len(target_features)} features selected.\", flush=True)\n",
    "\n",
    "amygdala_roi = os.path.join(DATA_DIR, \"amygdala_roi.nii.gz\")\n",
    "amygdala_ids = neurosynth_dset_first500.get_studies_by_mask(amygdala_roi)"
   ]
  },
  {
   "cell_type": "markdown",
   "id": "d40b75b8",
   "metadata": {},
   "source": [
    "Functional decoding performed with meta-analytic data, refers to methods which attempt to predict mental states from neuroimaging data using a large-scale meta-analytic database {cite:p}`Smith2009-wk`.\n",
    "Such analyses may also be referred to as “informal reverse inference” {cite:p}`Poldrack2011-zp`, “functional characterization analysis” {cite:p}`Bzdok2013-gc,Cieslik2013-kz,Rottschy2013-cd`, “open-ended decoding” {cite:p}`Rubin2017-rd`, or simply “functional decoding” {cite:p}`Amft2015-kw,Bzdok2013-jv,Nickl-Jockschat2015-rg`.\n",
    "While the terminology is far from standardized, we will refer to this method as **meta-analytic functional decoding** in order to distinguish it from alternative methods like multivariate decoding and model-based decoding {cite:p}`Poldrack2011-zp`.\n",
    "Meta-analytic functional decoding is often used in conjunction with MACM, meta-analytic clustering, meta-analytic parcellation, and meta-ICA, in order to characterize resulting brain regions, clusters, or components.\n",
    "Meta-analytic functional decoding models have also been extended for the purpose of **meta-analytic functional encoding**, wherein text is used to generate statistical images {cite:p}`Dockes2018-ug,Nunes2018-du,Rubin2017-rd`.\n",
    "\n",
    "Four common approaches are correlation-based decoding, dot-product decoding, weight-sum decoding, and chi-square decoding.\n",
    "We will first discuss continuous decoding methods (i.e., correlation and dot-product), followed by discrete decoding methods (weight-sum and chi-square)."
   ]
  },
  {
   "cell_type": "markdown",
   "id": "9eed4596",
   "metadata": {},
   "source": [
    "## Decoding continuous inputs\n",
    "\n",
    "When decoding unthresholded statistical maps, the most common approaches are to simply correlate the input map with maps from the database, or to compute the dot product between the two maps.\n",
    "In Neurosynth, meta-analyses are performed for each label (i.e., term or topic) in the database and then the input image is correlated with the resulting unthresholded statistical map from each meta-analysis.\n",
    "Performing statistical inference on the resulting correlations is not straightforward, however, as voxels display strong spatial correlations, and the true degrees of freedom are consequently unknown (and likely far smaller than the nominal number of voxels).\n",
    "In order to interpret the results of this decoding approach, users typically select some arbitrary number of top correlation coefficients ahead of time, and use the associated labels to describe the input map.\n",
    "However, such results should be interpreted with great caution.\n",
    "\n",
    "This approach can also be applied to an image-based database like NeuroVault, either by correlating input data with meta-analyzed statistical maps, or by deriving distributions of correlation coefficients by grouping statistical maps in the database according to label.\n",
    "Using these distributions, it is possible to statistically compare labels in order to assess label significance.\n",
    "NiMARE includes methods for both correlation-based decoding and correlation distribution-based decoding, although the correlation-based decoding is better established and should be preferred over the correlation distribution-based decoding.\n",
    "As such, we will only show the {py:class}`nimare.decode.continuous.CorrelationDecoder` here."
   ]
  },
  {
   "cell_type": "code",
   "execution_count": 3,
   "id": "4f11bc64",
   "metadata": {},
   "outputs": [
    {
     "name": "stderr",
     "output_type": "stream",
     "text": [
      "INFO:nimare.decode.continuous:Decoding terms_abstract_tfidf__10 (0/283): 45/500 studies\n"
     ]
    },
    {
     "name": "stderr",
     "output_type": "stream",
     "text": [
      "INFO:nimare.utils:Shared path detected: '/home/data/nbc/misc-projects/Salo_NiMARE/nimare-paper/data/neurosynth_dataset_maps/'\n"
     ]
    },
    {
     "name": "stderr",
     "output_type": "stream",
     "text": [
      "INFO:nimare.utils:Shared path detected: '/home/data/nbc/misc-projects/Salo_NiMARE/nimare-paper/data/neurosynth_dataset_maps/'\n"
     ]
    },
    {
     "name": "stderr",
     "output_type": "stream",
     "text": [
      "/home/data/nbc/misc-projects/Salo_NiMARE/nimare-paper/conda_env/lib/python3.7/site-packages/nimare/meta/cbma/mkda.py:259: RuntimeWarning: invalid value encountered in true_divide\n",
      "  pFgA = pAgF * pF / pA\n",
      "/home/data/nbc/misc-projects/Salo_NiMARE/nimare-paper/conda_env/lib/python3.7/site-packages/nimare/meta/cbma/mkda.py:263: RuntimeWarning: invalid value encountered in true_divide\n",
      "  pFgA_prior = pAgF * self.prior / pAgF_prior\n"
     ]
    },
    {
     "name": "stderr",
     "output_type": "stream",
     "text": [
      "INFO:nimare.decode.continuous:Decoding terms_abstract_tfidf__12 (1/283): 27/500 studies\n"
     ]
    },
    {
     "name": "stderr",
     "output_type": "stream",
     "text": [
      "INFO:nimare.utils:Shared path detected: '/home/data/nbc/misc-projects/Salo_NiMARE/nimare-paper/data/neurosynth_dataset_maps/'\n"
     ]
    },
    {
     "name": "stderr",
     "output_type": "stream",
     "text": [
      "INFO:nimare.utils:Shared path detected: '/home/data/nbc/misc-projects/Salo_NiMARE/nimare-paper/data/neurosynth_dataset_maps/'\n"
     ]
    },
    {
     "name": "stderr",
     "output_type": "stream",
     "text": [
      "INFO:nimare.decode.continuous:Decoding terms_abstract_tfidf__activate (2/283): 30/500 studies\n"
     ]
    },
    {
     "name": "stderr",
     "output_type": "stream",
     "text": [
      "INFO:nimare.utils:Shared path detected: '/home/data/nbc/misc-projects/Salo_NiMARE/nimare-paper/data/neurosynth_dataset_maps/'\n"
     ]
    },
    {
     "name": "stderr",
     "output_type": "stream",
     "text": [
      "INFO:nimare.utils:Shared path detected: '/home/data/nbc/misc-projects/Salo_NiMARE/nimare-paper/data/neurosynth_dataset_maps/'\n"
     ]
    },
    {
     "name": "stderr",
     "output_type": "stream",
     "text": [
      "INFO:nimare.decode.continuous:Decoding terms_abstract_tfidf__activations (3/283): 81/500 studies\n"
     ]
    },
    {
     "name": "stderr",
     "output_type": "stream",
     "text": [
      "INFO:nimare.utils:Shared path detected: '/home/data/nbc/misc-projects/Salo_NiMARE/nimare-paper/data/neurosynth_dataset_maps/'\n"
     ]
    },
    {
     "name": "stderr",
     "output_type": "stream",
     "text": [
      "INFO:nimare.utils:Shared path detected: '/home/data/nbc/misc-projects/Salo_NiMARE/nimare-paper/data/neurosynth_dataset_maps/'\n"
     ]
    },
    {
     "name": "stderr",
     "output_type": "stream",
     "text": [
      "INFO:nimare.decode.continuous:Decoding terms_abstract_tfidf__active (4/283): 37/500 studies\n"
     ]
    },
    {
     "name": "stderr",
     "output_type": "stream",
     "text": [
      "INFO:nimare.utils:Shared path detected: '/home/data/nbc/misc-projects/Salo_NiMARE/nimare-paper/data/neurosynth_dataset_maps/'\n"
     ]
    },
    {
     "name": "stderr",
     "output_type": "stream",
     "text": [
      "INFO:nimare.utils:Shared path detected: '/home/data/nbc/misc-projects/Salo_NiMARE/nimare-paper/data/neurosynth_dataset_maps/'\n"
     ]
    },
    {
     "name": "stderr",
     "output_type": "stream",
     "text": [
      "INFO:nimare.decode.continuous:Decoding terms_abstract_tfidf__addition (5/283): 47/500 studies\n"
     ]
    },
    {
     "name": "stderr",
     "output_type": "stream",
     "text": [
      "INFO:nimare.utils:Shared path detected: '/home/data/nbc/misc-projects/Salo_NiMARE/nimare-paper/data/neurosynth_dataset_maps/'\n"
     ]
    },
    {
     "name": "stderr",
     "output_type": "stream",
     "text": [
      "INFO:nimare.utils:Shared path detected: '/home/data/nbc/misc-projects/Salo_NiMARE/nimare-paper/data/neurosynth_dataset_maps/'\n"
     ]
    },
    {
     "name": "stderr",
     "output_type": "stream",
     "text": [
      "INFO:nimare.decode.continuous:Decoding terms_abstract_tfidf__additional (6/283): 34/500 studies\n"
     ]
    },
    {
     "name": "stderr",
     "output_type": "stream",
     "text": [
      "INFO:nimare.utils:Shared path detected: '/home/data/nbc/misc-projects/Salo_NiMARE/nimare-paper/data/neurosynth_dataset_maps/'\n"
     ]
    },
    {
     "name": "stderr",
     "output_type": "stream",
     "text": [
      "INFO:nimare.utils:Shared path detected: '/home/data/nbc/misc-projects/Salo_NiMARE/nimare-paper/data/neurosynth_dataset_maps/'\n"
     ]
    },
    {
     "name": "stderr",
     "output_type": "stream",
     "text": [
      "INFO:nimare.decode.continuous:Decoding terms_abstract_tfidf__adults (7/283): 28/500 studies\n"
     ]
    },
    {
     "name": "stderr",
     "output_type": "stream",
     "text": [
      "INFO:nimare.utils:Shared path detected: '/home/data/nbc/misc-projects/Salo_NiMARE/nimare-paper/data/neurosynth_dataset_maps/'\n"
     ]
    },
    {
     "name": "stderr",
     "output_type": "stream",
     "text": [
      "INFO:nimare.utils:Shared path detected: '/home/data/nbc/misc-projects/Salo_NiMARE/nimare-paper/data/neurosynth_dataset_maps/'\n"
     ]
    },
    {
     "name": "stderr",
     "output_type": "stream",
     "text": [
      "INFO:nimare.decode.continuous:Decoding terms_abstract_tfidf__age (8/283): 33/500 studies\n"
     ]
    },
    {
     "name": "stderr",
     "output_type": "stream",
     "text": [
      "INFO:nimare.utils:Shared path detected: '/home/data/nbc/misc-projects/Salo_NiMARE/nimare-paper/data/neurosynth_dataset_maps/'\n"
     ]
    },
    {
     "name": "stderr",
     "output_type": "stream",
     "text": [
      "INFO:nimare.utils:Shared path detected: '/home/data/nbc/misc-projects/Salo_NiMARE/nimare-paper/data/neurosynth_dataset_maps/'\n"
     ]
    },
    {
     "name": "stderr",
     "output_type": "stream",
     "text": [
      "INFO:nimare.decode.continuous:Decoding terms_abstract_tfidf__amygdala (9/283): 38/500 studies\n"
     ]
    },
    {
     "name": "stderr",
     "output_type": "stream",
     "text": [
      "INFO:nimare.utils:Shared path detected: '/home/data/nbc/misc-projects/Salo_NiMARE/nimare-paper/data/neurosynth_dataset_maps/'\n"
     ]
    },
    {
     "name": "stderr",
     "output_type": "stream",
     "text": [
      "INFO:nimare.utils:Shared path detected: '/home/data/nbc/misc-projects/Salo_NiMARE/nimare-paper/data/neurosynth_dataset_maps/'\n"
     ]
    },
    {
     "name": "stderr",
     "output_type": "stream",
     "text": [
      "INFO:nimare.decode.continuous:Decoding terms_abstract_tfidf__anatomical (10/283): 29/500 studies\n"
     ]
    },
    {
     "name": "stderr",
     "output_type": "stream",
     "text": [
      "INFO:nimare.utils:Shared path detected: '/home/data/nbc/misc-projects/Salo_NiMARE/nimare-paper/data/neurosynth_dataset_maps/'\n"
     ]
    },
    {
     "name": "stderr",
     "output_type": "stream",
     "text": [
      "INFO:nimare.utils:Shared path detected: '/home/data/nbc/misc-projects/Salo_NiMARE/nimare-paper/data/neurosynth_dataset_maps/'\n"
     ]
    },
    {
     "name": "stderr",
     "output_type": "stream",
     "text": [
      "INFO:nimare.decode.continuous:Decoding terms_abstract_tfidf__anterior (11/283): 156/500 studies\n"
     ]
    },
    {
     "name": "stderr",
     "output_type": "stream",
     "text": [
      "INFO:nimare.utils:Shared path detected: '/home/data/nbc/misc-projects/Salo_NiMARE/nimare-paper/data/neurosynth_dataset_maps/'\n"
     ]
    },
    {
     "name": "stderr",
     "output_type": "stream",
     "text": [
      "INFO:nimare.utils:Shared path detected: '/home/data/nbc/misc-projects/Salo_NiMARE/nimare-paper/data/neurosynth_dataset_maps/'\n"
     ]
    },
    {
     "name": "stderr",
     "output_type": "stream",
     "text": [
      "INFO:nimare.decode.continuous:Decoding terms_abstract_tfidf__anterior cingulate (12/283): 59/500 studies\n"
     ]
    },
    {
     "name": "stderr",
     "output_type": "stream",
     "text": [
      "INFO:nimare.utils:Shared path detected: '/home/data/nbc/misc-projects/Salo_NiMARE/nimare-paper/data/neurosynth_dataset_maps/'\n"
     ]
    },
    {
     "name": "stderr",
     "output_type": "stream",
     "text": [
      "INFO:nimare.utils:Shared path detected: '/home/data/nbc/misc-projects/Salo_NiMARE/nimare-paper/data/neurosynth_dataset_maps/'\n"
     ]
    },
    {
     "name": "stderr",
     "output_type": "stream",
     "text": [
      "INFO:nimare.decode.continuous:Decoding terms_abstract_tfidf__attention (13/283): 63/500 studies\n"
     ]
    },
    {
     "name": "stderr",
     "output_type": "stream",
     "text": [
      "INFO:nimare.utils:Shared path detected: '/home/data/nbc/misc-projects/Salo_NiMARE/nimare-paper/data/neurosynth_dataset_maps/'\n"
     ]
    },
    {
     "name": "stderr",
     "output_type": "stream",
     "text": [
      "INFO:nimare.utils:Shared path detected: '/home/data/nbc/misc-projects/Salo_NiMARE/nimare-paper/data/neurosynth_dataset_maps/'\n"
     ]
    },
    {
     "name": "stderr",
     "output_type": "stream",
     "text": [
      "INFO:nimare.decode.continuous:Decoding terms_abstract_tfidf__attentional (14/283): 47/500 studies\n"
     ]
    },
    {
     "name": "stderr",
     "output_type": "stream",
     "text": [
      "INFO:nimare.utils:Shared path detected: '/home/data/nbc/misc-projects/Salo_NiMARE/nimare-paper/data/neurosynth_dataset_maps/'\n"
     ]
    },
    {
     "name": "stderr",
     "output_type": "stream",
     "text": [
      "INFO:nimare.utils:Shared path detected: '/home/data/nbc/misc-projects/Salo_NiMARE/nimare-paper/data/neurosynth_dataset_maps/'\n"
     ]
    },
    {
     "name": "stderr",
     "output_type": "stream",
     "text": [
      "INFO:nimare.decode.continuous:Decoding terms_abstract_tfidf__auditory (15/283): 61/500 studies\n"
     ]
    },
    {
     "name": "stderr",
     "output_type": "stream",
     "text": [
      "INFO:nimare.utils:Shared path detected: '/home/data/nbc/misc-projects/Salo_NiMARE/nimare-paper/data/neurosynth_dataset_maps/'\n"
     ]
    },
    {
     "name": "stderr",
     "output_type": "stream",
     "text": [
      "INFO:nimare.utils:Shared path detected: '/home/data/nbc/misc-projects/Salo_NiMARE/nimare-paper/data/neurosynth_dataset_maps/'\n"
     ]
    },
    {
     "name": "stderr",
     "output_type": "stream",
     "text": [
      "INFO:nimare.decode.continuous:Decoding terms_abstract_tfidf__ba (16/283): 32/500 studies\n"
     ]
    },
    {
     "name": "stderr",
     "output_type": "stream",
     "text": [
      "INFO:nimare.utils:Shared path detected: '/home/data/nbc/misc-projects/Salo_NiMARE/nimare-paper/data/neurosynth_dataset_maps/'\n"
     ]
    },
    {
     "name": "stderr",
     "output_type": "stream",
     "text": [
      "INFO:nimare.utils:Shared path detected: '/home/data/nbc/misc-projects/Salo_NiMARE/nimare-paper/data/neurosynth_dataset_maps/'\n"
     ]
    },
    {
     "name": "stderr",
     "output_type": "stream",
     "text": [
      "INFO:nimare.decode.continuous:Decoding terms_abstract_tfidf__basal (17/283): 29/500 studies\n"
     ]
    },
    {
     "name": "stderr",
     "output_type": "stream",
     "text": [
      "INFO:nimare.utils:Shared path detected: '/home/data/nbc/misc-projects/Salo_NiMARE/nimare-paper/data/neurosynth_dataset_maps/'\n"
     ]
    },
    {
     "name": "stderr",
     "output_type": "stream",
     "text": [
      "INFO:nimare.utils:Shared path detected: '/home/data/nbc/misc-projects/Salo_NiMARE/nimare-paper/data/neurosynth_dataset_maps/'\n"
     ]
    },
    {
     "name": "stderr",
     "output_type": "stream",
     "text": [
      "INFO:nimare.decode.continuous:Decoding terms_abstract_tfidf__basal ganglia (18/283): 26/500 studies\n"
     ]
    },
    {
     "name": "stderr",
     "output_type": "stream",
     "text": [
      "INFO:nimare.utils:Shared path detected: '/home/data/nbc/misc-projects/Salo_NiMARE/nimare-paper/data/neurosynth_dataset_maps/'\n"
     ]
    },
    {
     "name": "stderr",
     "output_type": "stream",
     "text": [
      "INFO:nimare.utils:Shared path detected: '/home/data/nbc/misc-projects/Salo_NiMARE/nimare-paper/data/neurosynth_dataset_maps/'\n"
     ]
    },
    {
     "name": "stderr",
     "output_type": "stream",
     "text": [
      "INFO:nimare.decode.continuous:Decoding terms_abstract_tfidf__basis (19/283): 41/500 studies\n"
     ]
    },
    {
     "name": "stderr",
     "output_type": "stream",
     "text": [
      "INFO:nimare.utils:Shared path detected: '/home/data/nbc/misc-projects/Salo_NiMARE/nimare-paper/data/neurosynth_dataset_maps/'\n"
     ]
    },
    {
     "name": "stderr",
     "output_type": "stream",
     "text": [
      "INFO:nimare.utils:Shared path detected: '/home/data/nbc/misc-projects/Salo_NiMARE/nimare-paper/data/neurosynth_dataset_maps/'\n"
     ]
    },
    {
     "name": "stderr",
     "output_type": "stream",
     "text": [
      "INFO:nimare.decode.continuous:Decoding terms_abstract_tfidf__behavior (20/283): 25/500 studies\n"
     ]
    },
    {
     "name": "stderr",
     "output_type": "stream",
     "text": [
      "INFO:nimare.utils:Shared path detected: '/home/data/nbc/misc-projects/Salo_NiMARE/nimare-paper/data/neurosynth_dataset_maps/'\n"
     ]
    },
    {
     "name": "stderr",
     "output_type": "stream",
     "text": [
      "INFO:nimare.utils:Shared path detected: '/home/data/nbc/misc-projects/Salo_NiMARE/nimare-paper/data/neurosynth_dataset_maps/'\n"
     ]
    },
    {
     "name": "stderr",
     "output_type": "stream",
     "text": [
      "INFO:nimare.decode.continuous:Decoding terms_abstract_tfidf__behavioral (21/283): 35/500 studies\n"
     ]
    },
    {
     "name": "stderr",
     "output_type": "stream",
     "text": [
      "INFO:nimare.utils:Shared path detected: '/home/data/nbc/misc-projects/Salo_NiMARE/nimare-paper/data/neurosynth_dataset_maps/'\n"
     ]
    },
    {
     "name": "stderr",
     "output_type": "stream",
     "text": [
      "INFO:nimare.utils:Shared path detected: '/home/data/nbc/misc-projects/Salo_NiMARE/nimare-paper/data/neurosynth_dataset_maps/'\n"
     ]
    },
    {
     "name": "stderr",
     "output_type": "stream",
     "text": [
      "INFO:nimare.decode.continuous:Decoding terms_abstract_tfidf__bilaterally (22/283): 49/500 studies\n"
     ]
    },
    {
     "name": "stderr",
     "output_type": "stream",
     "text": [
      "INFO:nimare.utils:Shared path detected: '/home/data/nbc/misc-projects/Salo_NiMARE/nimare-paper/data/neurosynth_dataset_maps/'\n"
     ]
    },
    {
     "name": "stderr",
     "output_type": "stream",
     "text": [
      "INFO:nimare.utils:Shared path detected: '/home/data/nbc/misc-projects/Salo_NiMARE/nimare-paper/data/neurosynth_dataset_maps/'\n"
     ]
    },
    {
     "name": "stderr",
     "output_type": "stream",
     "text": [
      "INFO:nimare.decode.continuous:Decoding terms_abstract_tfidf__blood (23/283): 48/500 studies\n"
     ]
    },
    {
     "name": "stderr",
     "output_type": "stream",
     "text": [
      "INFO:nimare.utils:Shared path detected: '/home/data/nbc/misc-projects/Salo_NiMARE/nimare-paper/data/neurosynth_dataset_maps/'\n"
     ]
    },
    {
     "name": "stderr",
     "output_type": "stream",
     "text": [
      "INFO:nimare.utils:Shared path detected: '/home/data/nbc/misc-projects/Salo_NiMARE/nimare-paper/data/neurosynth_dataset_maps/'\n"
     ]
    },
    {
     "name": "stderr",
     "output_type": "stream",
     "text": [
      "INFO:nimare.decode.continuous:Decoding terms_abstract_tfidf__bold (24/283): 31/500 studies\n"
     ]
    },
    {
     "name": "stderr",
     "output_type": "stream",
     "text": [
      "INFO:nimare.utils:Shared path detected: '/home/data/nbc/misc-projects/Salo_NiMARE/nimare-paper/data/neurosynth_dataset_maps/'\n"
     ]
    },
    {
     "name": "stderr",
     "output_type": "stream",
     "text": [
      "INFO:nimare.utils:Shared path detected: '/home/data/nbc/misc-projects/Salo_NiMARE/nimare-paper/data/neurosynth_dataset_maps/'\n"
     ]
    },
    {
     "name": "stderr",
     "output_type": "stream",
     "text": [
      "INFO:nimare.decode.continuous:Decoding terms_abstract_tfidf__central (25/283): 29/500 studies\n"
     ]
    },
    {
     "name": "stderr",
     "output_type": "stream",
     "text": [
      "INFO:nimare.utils:Shared path detected: '/home/data/nbc/misc-projects/Salo_NiMARE/nimare-paper/data/neurosynth_dataset_maps/'\n"
     ]
    },
    {
     "name": "stderr",
     "output_type": "stream",
     "text": [
      "INFO:nimare.utils:Shared path detected: '/home/data/nbc/misc-projects/Salo_NiMARE/nimare-paper/data/neurosynth_dataset_maps/'\n"
     ]
    },
    {
     "name": "stderr",
     "output_type": "stream",
     "text": [
      "INFO:nimare.decode.continuous:Decoding terms_abstract_tfidf__cerebellar (26/283): 29/500 studies\n"
     ]
    },
    {
     "name": "stderr",
     "output_type": "stream",
     "text": [
      "INFO:nimare.utils:Shared path detected: '/home/data/nbc/misc-projects/Salo_NiMARE/nimare-paper/data/neurosynth_dataset_maps/'\n"
     ]
    },
    {
     "name": "stderr",
     "output_type": "stream",
     "text": [
      "INFO:nimare.utils:Shared path detected: '/home/data/nbc/misc-projects/Salo_NiMARE/nimare-paper/data/neurosynth_dataset_maps/'\n"
     ]
    },
    {
     "name": "stderr",
     "output_type": "stream",
     "text": [
      "INFO:nimare.decode.continuous:Decoding terms_abstract_tfidf__cerebellum (27/283): 48/500 studies\n"
     ]
    },
    {
     "name": "stderr",
     "output_type": "stream",
     "text": [
      "INFO:nimare.utils:Shared path detected: '/home/data/nbc/misc-projects/Salo_NiMARE/nimare-paper/data/neurosynth_dataset_maps/'\n"
     ]
    },
    {
     "name": "stderr",
     "output_type": "stream",
     "text": [
      "INFO:nimare.utils:Shared path detected: '/home/data/nbc/misc-projects/Salo_NiMARE/nimare-paper/data/neurosynth_dataset_maps/'\n"
     ]
    },
    {
     "name": "stderr",
     "output_type": "stream",
     "text": [
      "INFO:nimare.decode.continuous:Decoding terms_abstract_tfidf__cerebral (28/283): 62/500 studies\n"
     ]
    },
    {
     "name": "stderr",
     "output_type": "stream",
     "text": [
      "INFO:nimare.utils:Shared path detected: '/home/data/nbc/misc-projects/Salo_NiMARE/nimare-paper/data/neurosynth_dataset_maps/'\n"
     ]
    },
    {
     "name": "stderr",
     "output_type": "stream",
     "text": [
      "INFO:nimare.utils:Shared path detected: '/home/data/nbc/misc-projects/Salo_NiMARE/nimare-paper/data/neurosynth_dataset_maps/'\n"
     ]
    },
    {
     "name": "stderr",
     "output_type": "stream",
     "text": [
      "INFO:nimare.decode.continuous:Decoding terms_abstract_tfidf__change (29/283): 35/500 studies\n"
     ]
    },
    {
     "name": "stderr",
     "output_type": "stream",
     "text": [
      "INFO:nimare.utils:Shared path detected: '/home/data/nbc/misc-projects/Salo_NiMARE/nimare-paper/data/neurosynth_dataset_maps/'\n"
     ]
    },
    {
     "name": "stderr",
     "output_type": "stream",
     "text": [
      "INFO:nimare.utils:Shared path detected: '/home/data/nbc/misc-projects/Salo_NiMARE/nimare-paper/data/neurosynth_dataset_maps/'\n"
     ]
    },
    {
     "name": "stderr",
     "output_type": "stream",
     "text": [
      "INFO:nimare.decode.continuous:Decoding terms_abstract_tfidf__cingulate (30/283): 107/500 studies\n"
     ]
    },
    {
     "name": "stderr",
     "output_type": "stream",
     "text": [
      "INFO:nimare.utils:Shared path detected: '/home/data/nbc/misc-projects/Salo_NiMARE/nimare-paper/data/neurosynth_dataset_maps/'\n"
     ]
    },
    {
     "name": "stderr",
     "output_type": "stream",
     "text": [
      "INFO:nimare.utils:Shared path detected: '/home/data/nbc/misc-projects/Salo_NiMARE/nimare-paper/data/neurosynth_dataset_maps/'\n"
     ]
    },
    {
     "name": "stderr",
     "output_type": "stream",
     "text": [
      "INFO:nimare.decode.continuous:Decoding terms_abstract_tfidf__cingulate cortex (31/283): 42/500 studies\n"
     ]
    },
    {
     "name": "stderr",
     "output_type": "stream",
     "text": [
      "INFO:nimare.utils:Shared path detected: '/home/data/nbc/misc-projects/Salo_NiMARE/nimare-paper/data/neurosynth_dataset_maps/'\n"
     ]
    },
    {
     "name": "stderr",
     "output_type": "stream",
     "text": [
      "INFO:nimare.utils:Shared path detected: '/home/data/nbc/misc-projects/Salo_NiMARE/nimare-paper/data/neurosynth_dataset_maps/'\n"
     ]
    },
    {
     "name": "stderr",
     "output_type": "stream",
     "text": [
      "INFO:nimare.decode.continuous:Decoding terms_abstract_tfidf__cognitive (32/283): 82/500 studies\n"
     ]
    },
    {
     "name": "stderr",
     "output_type": "stream",
     "text": [
      "INFO:nimare.utils:Shared path detected: '/home/data/nbc/misc-projects/Salo_NiMARE/nimare-paper/data/neurosynth_dataset_maps/'\n"
     ]
    },
    {
     "name": "stderr",
     "output_type": "stream",
     "text": [
      "INFO:nimare.utils:Shared path detected: '/home/data/nbc/misc-projects/Salo_NiMARE/nimare-paper/data/neurosynth_dataset_maps/'\n"
     ]
    },
    {
     "name": "stderr",
     "output_type": "stream",
     "text": [
      "INFO:nimare.decode.continuous:Decoding terms_abstract_tfidf__common (33/283): 51/500 studies\n"
     ]
    },
    {
     "name": "stderr",
     "output_type": "stream",
     "text": [
      "INFO:nimare.utils:Shared path detected: '/home/data/nbc/misc-projects/Salo_NiMARE/nimare-paper/data/neurosynth_dataset_maps/'\n"
     ]
    },
    {
     "name": "stderr",
     "output_type": "stream",
     "text": [
      "INFO:nimare.utils:Shared path detected: '/home/data/nbc/misc-projects/Salo_NiMARE/nimare-paper/data/neurosynth_dataset_maps/'\n"
     ]
    },
    {
     "name": "stderr",
     "output_type": "stream",
     "text": [
      "INFO:nimare.decode.continuous:Decoding terms_abstract_tfidf__complex (34/283): 35/500 studies\n"
     ]
    },
    {
     "name": "stderr",
     "output_type": "stream",
     "text": [
      "INFO:nimare.utils:Shared path detected: '/home/data/nbc/misc-projects/Salo_NiMARE/nimare-paper/data/neurosynth_dataset_maps/'\n"
     ]
    },
    {
     "name": "stderr",
     "output_type": "stream",
     "text": [
      "INFO:nimare.utils:Shared path detected: '/home/data/nbc/misc-projects/Salo_NiMARE/nimare-paper/data/neurosynth_dataset_maps/'\n"
     ]
    },
    {
     "name": "stderr",
     "output_type": "stream",
     "text": [
      "INFO:nimare.decode.continuous:Decoding terms_abstract_tfidf__component (35/283): 36/500 studies\n"
     ]
    },
    {
     "name": "stderr",
     "output_type": "stream",
     "text": [
      "INFO:nimare.utils:Shared path detected: '/home/data/nbc/misc-projects/Salo_NiMARE/nimare-paper/data/neurosynth_dataset_maps/'\n"
     ]
    },
    {
     "name": "stderr",
     "output_type": "stream",
     "text": [
      "INFO:nimare.utils:Shared path detected: '/home/data/nbc/misc-projects/Salo_NiMARE/nimare-paper/data/neurosynth_dataset_maps/'\n"
     ]
    },
    {
     "name": "stderr",
     "output_type": "stream",
     "text": [
      "INFO:nimare.decode.continuous:Decoding terms_abstract_tfidf__components (36/283): 34/500 studies\n"
     ]
    },
    {
     "name": "stderr",
     "output_type": "stream",
     "text": [
      "INFO:nimare.utils:Shared path detected: '/home/data/nbc/misc-projects/Salo_NiMARE/nimare-paper/data/neurosynth_dataset_maps/'\n"
     ]
    },
    {
     "name": "stderr",
     "output_type": "stream",
     "text": [
      "INFO:nimare.utils:Shared path detected: '/home/data/nbc/misc-projects/Salo_NiMARE/nimare-paper/data/neurosynth_dataset_maps/'\n"
     ]
    },
    {
     "name": "stderr",
     "output_type": "stream",
     "text": [
      "INFO:nimare.decode.continuous:Decoding terms_abstract_tfidf__condition (37/283): 50/500 studies\n"
     ]
    },
    {
     "name": "stderr",
     "output_type": "stream",
     "text": [
      "INFO:nimare.utils:Shared path detected: '/home/data/nbc/misc-projects/Salo_NiMARE/nimare-paper/data/neurosynth_dataset_maps/'\n"
     ]
    },
    {
     "name": "stderr",
     "output_type": "stream",
     "text": [
      "INFO:nimare.utils:Shared path detected: '/home/data/nbc/misc-projects/Salo_NiMARE/nimare-paper/data/neurosynth_dataset_maps/'\n"
     ]
    },
    {
     "name": "stderr",
     "output_type": "stream",
     "text": [
      "INFO:nimare.decode.continuous:Decoding terms_abstract_tfidf__conditions (38/283): 65/500 studies\n"
     ]
    },
    {
     "name": "stderr",
     "output_type": "stream",
     "text": [
      "INFO:nimare.utils:Shared path detected: '/home/data/nbc/misc-projects/Salo_NiMARE/nimare-paper/data/neurosynth_dataset_maps/'\n"
     ]
    },
    {
     "name": "stderr",
     "output_type": "stream",
     "text": [
      "INFO:nimare.utils:Shared path detected: '/home/data/nbc/misc-projects/Salo_NiMARE/nimare-paper/data/neurosynth_dataset_maps/'\n"
     ]
    },
    {
     "name": "stderr",
     "output_type": "stream",
     "text": [
      "INFO:nimare.decode.continuous:Decoding terms_abstract_tfidf__contralateral (39/283): 45/500 studies\n"
     ]
    },
    {
     "name": "stderr",
     "output_type": "stream",
     "text": [
      "INFO:nimare.utils:Shared path detected: '/home/data/nbc/misc-projects/Salo_NiMARE/nimare-paper/data/neurosynth_dataset_maps/'\n"
     ]
    },
    {
     "name": "stderr",
     "output_type": "stream",
     "text": [
      "INFO:nimare.utils:Shared path detected: '/home/data/nbc/misc-projects/Salo_NiMARE/nimare-paper/data/neurosynth_dataset_maps/'\n"
     ]
    },
    {
     "name": "stderr",
     "output_type": "stream",
     "text": [
      "INFO:nimare.decode.continuous:Decoding terms_abstract_tfidf__contrast (40/283): 74/500 studies\n"
     ]
    },
    {
     "name": "stderr",
     "output_type": "stream",
     "text": [
      "INFO:nimare.utils:Shared path detected: '/home/data/nbc/misc-projects/Salo_NiMARE/nimare-paper/data/neurosynth_dataset_maps/'\n"
     ]
    },
    {
     "name": "stderr",
     "output_type": "stream",
     "text": [
      "INFO:nimare.utils:Shared path detected: '/home/data/nbc/misc-projects/Salo_NiMARE/nimare-paper/data/neurosynth_dataset_maps/'\n"
     ]
    },
    {
     "name": "stderr",
     "output_type": "stream",
     "text": [
      "INFO:nimare.decode.continuous:Decoding terms_abstract_tfidf__control (41/283): 117/500 studies\n"
     ]
    },
    {
     "name": "stderr",
     "output_type": "stream",
     "text": [
      "INFO:nimare.utils:Shared path detected: '/home/data/nbc/misc-projects/Salo_NiMARE/nimare-paper/data/neurosynth_dataset_maps/'\n"
     ]
    },
    {
     "name": "stderr",
     "output_type": "stream",
     "text": [
      "INFO:nimare.utils:Shared path detected: '/home/data/nbc/misc-projects/Salo_NiMARE/nimare-paper/data/neurosynth_dataset_maps/'\n"
     ]
    },
    {
     "name": "stderr",
     "output_type": "stream",
     "text": [
      "INFO:nimare.decode.continuous:Decoding terms_abstract_tfidf__controls (42/283): 42/500 studies\n"
     ]
    },
    {
     "name": "stderr",
     "output_type": "stream",
     "text": [
      "INFO:nimare.utils:Shared path detected: '/home/data/nbc/misc-projects/Salo_NiMARE/nimare-paper/data/neurosynth_dataset_maps/'\n"
     ]
    },
    {
     "name": "stderr",
     "output_type": "stream",
     "text": [
      "INFO:nimare.utils:Shared path detected: '/home/data/nbc/misc-projects/Salo_NiMARE/nimare-paper/data/neurosynth_dataset_maps/'\n"
     ]
    },
    {
     "name": "stderr",
     "output_type": "stream",
     "text": [
      "INFO:nimare.decode.continuous:Decoding terms_abstract_tfidf__correlated (43/283): 34/500 studies\n"
     ]
    },
    {
     "name": "stderr",
     "output_type": "stream",
     "text": [
      "INFO:nimare.utils:Shared path detected: '/home/data/nbc/misc-projects/Salo_NiMARE/nimare-paper/data/neurosynth_dataset_maps/'\n"
     ]
    },
    {
     "name": "stderr",
     "output_type": "stream",
     "text": [
      "INFO:nimare.utils:Shared path detected: '/home/data/nbc/misc-projects/Salo_NiMARE/nimare-paper/data/neurosynth_dataset_maps/'\n"
     ]
    },
    {
     "name": "stderr",
     "output_type": "stream",
     "text": [
      "INFO:nimare.decode.continuous:Decoding terms_abstract_tfidf__correlates (44/283): 41/500 studies\n"
     ]
    },
    {
     "name": "stderr",
     "output_type": "stream",
     "text": [
      "INFO:nimare.utils:Shared path detected: '/home/data/nbc/misc-projects/Salo_NiMARE/nimare-paper/data/neurosynth_dataset_maps/'\n"
     ]
    },
    {
     "name": "stderr",
     "output_type": "stream",
     "text": [
      "INFO:nimare.utils:Shared path detected: '/home/data/nbc/misc-projects/Salo_NiMARE/nimare-paper/data/neurosynth_dataset_maps/'\n"
     ]
    },
    {
     "name": "stderr",
     "output_type": "stream",
     "text": [
      "INFO:nimare.decode.continuous:Decoding terms_abstract_tfidf__corresponding (45/283): 26/500 studies\n"
     ]
    },
    {
     "name": "stderr",
     "output_type": "stream",
     "text": [
      "INFO:nimare.utils:Shared path detected: '/home/data/nbc/misc-projects/Salo_NiMARE/nimare-paper/data/neurosynth_dataset_maps/'\n"
     ]
    },
    {
     "name": "stderr",
     "output_type": "stream",
     "text": [
      "INFO:nimare.utils:Shared path detected: '/home/data/nbc/misc-projects/Salo_NiMARE/nimare-paper/data/neurosynth_dataset_maps/'\n"
     ]
    },
    {
     "name": "stderr",
     "output_type": "stream",
     "text": [
      "INFO:nimare.decode.continuous:Decoding terms_abstract_tfidf__cortical (46/283): 126/500 studies\n"
     ]
    },
    {
     "name": "stderr",
     "output_type": "stream",
     "text": [
      "INFO:nimare.utils:Shared path detected: '/home/data/nbc/misc-projects/Salo_NiMARE/nimare-paper/data/neurosynth_dataset_maps/'\n"
     ]
    },
    {
     "name": "stderr",
     "output_type": "stream",
     "text": [
      "INFO:nimare.utils:Shared path detected: '/home/data/nbc/misc-projects/Salo_NiMARE/nimare-paper/data/neurosynth_dataset_maps/'\n"
     ]
    },
    {
     "name": "stderr",
     "output_type": "stream",
     "text": [
      "INFO:nimare.decode.continuous:Decoding terms_abstract_tfidf__cortices (47/283): 77/500 studies\n"
     ]
    },
    {
     "name": "stderr",
     "output_type": "stream",
     "text": [
      "INFO:nimare.utils:Shared path detected: '/home/data/nbc/misc-projects/Salo_NiMARE/nimare-paper/data/neurosynth_dataset_maps/'\n"
     ]
    },
    {
     "name": "stderr",
     "output_type": "stream",
     "text": [
      "INFO:nimare.utils:Shared path detected: '/home/data/nbc/misc-projects/Salo_NiMARE/nimare-paper/data/neurosynth_dataset_maps/'\n"
     ]
    },
    {
     "name": "stderr",
     "output_type": "stream",
     "text": [
      "INFO:nimare.decode.continuous:Decoding terms_abstract_tfidf__current (48/283): 27/500 studies\n"
     ]
    },
    {
     "name": "stderr",
     "output_type": "stream",
     "text": [
      "INFO:nimare.utils:Shared path detected: '/home/data/nbc/misc-projects/Salo_NiMARE/nimare-paper/data/neurosynth_dataset_maps/'\n"
     ]
    },
    {
     "name": "stderr",
     "output_type": "stream",
     "text": [
      "INFO:nimare.utils:Shared path detected: '/home/data/nbc/misc-projects/Salo_NiMARE/nimare-paper/data/neurosynth_dataset_maps/'\n"
     ]
    },
    {
     "name": "stderr",
     "output_type": "stream",
     "text": [
      "INFO:nimare.decode.continuous:Decoding terms_abstract_tfidf__demands (49/283): 26/500 studies\n"
     ]
    },
    {
     "name": "stderr",
     "output_type": "stream",
     "text": [
      "INFO:nimare.utils:Shared path detected: '/home/data/nbc/misc-projects/Salo_NiMARE/nimare-paper/data/neurosynth_dataset_maps/'\n"
     ]
    },
    {
     "name": "stderr",
     "output_type": "stream",
     "text": [
      "INFO:nimare.utils:Shared path detected: '/home/data/nbc/misc-projects/Salo_NiMARE/nimare-paper/data/neurosynth_dataset_maps/'\n"
     ]
    },
    {
     "name": "stderr",
     "output_type": "stream",
     "text": [
      "INFO:nimare.decode.continuous:Decoding terms_abstract_tfidf__demonstrate (50/283): 35/500 studies\n"
     ]
    },
    {
     "name": "stderr",
     "output_type": "stream",
     "text": [
      "INFO:nimare.utils:Shared path detected: '/home/data/nbc/misc-projects/Salo_NiMARE/nimare-paper/data/neurosynth_dataset_maps/'\n"
     ]
    },
    {
     "name": "stderr",
     "output_type": "stream",
     "text": [
      "INFO:nimare.utils:Shared path detected: '/home/data/nbc/misc-projects/Salo_NiMARE/nimare-paper/data/neurosynth_dataset_maps/'\n"
     ]
    },
    {
     "name": "stderr",
     "output_type": "stream",
     "text": [
      "INFO:nimare.decode.continuous:Decoding terms_abstract_tfidf__demonstrated (51/283): 60/500 studies\n"
     ]
    },
    {
     "name": "stderr",
     "output_type": "stream",
     "text": [
      "INFO:nimare.utils:Shared path detected: '/home/data/nbc/misc-projects/Salo_NiMARE/nimare-paper/data/neurosynth_dataset_maps/'\n"
     ]
    },
    {
     "name": "stderr",
     "output_type": "stream",
     "text": [
      "INFO:nimare.utils:Shared path detected: '/home/data/nbc/misc-projects/Salo_NiMARE/nimare-paper/data/neurosynth_dataset_maps/'\n"
     ]
    },
    {
     "name": "stderr",
     "output_type": "stream",
     "text": [
      "INFO:nimare.decode.continuous:Decoding terms_abstract_tfidf__design (52/283): 27/500 studies\n"
     ]
    },
    {
     "name": "stderr",
     "output_type": "stream",
     "text": [
      "INFO:nimare.utils:Shared path detected: '/home/data/nbc/misc-projects/Salo_NiMARE/nimare-paper/data/neurosynth_dataset_maps/'\n"
     ]
    },
    {
     "name": "stderr",
     "output_type": "stream",
     "text": [
      "INFO:nimare.utils:Shared path detected: '/home/data/nbc/misc-projects/Salo_NiMARE/nimare-paper/data/neurosynth_dataset_maps/'\n"
     ]
    },
    {
     "name": "stderr",
     "output_type": "stream",
     "text": [
      "INFO:nimare.decode.continuous:Decoding terms_abstract_tfidf__detection (53/283): 26/500 studies\n"
     ]
    },
    {
     "name": "stderr",
     "output_type": "stream",
     "text": [
      "INFO:nimare.utils:Shared path detected: '/home/data/nbc/misc-projects/Salo_NiMARE/nimare-paper/data/neurosynth_dataset_maps/'\n"
     ]
    },
    {
     "name": "stderr",
     "output_type": "stream",
     "text": [
      "INFO:nimare.utils:Shared path detected: '/home/data/nbc/misc-projects/Salo_NiMARE/nimare-paper/data/neurosynth_dataset_maps/'\n"
     ]
    },
    {
     "name": "stderr",
     "output_type": "stream",
     "text": [
      "INFO:nimare.decode.continuous:Decoding terms_abstract_tfidf__did (54/283): 61/500 studies\n"
     ]
    },
    {
     "name": "stderr",
     "output_type": "stream",
     "text": [
      "INFO:nimare.utils:Shared path detected: '/home/data/nbc/misc-projects/Salo_NiMARE/nimare-paper/data/neurosynth_dataset_maps/'\n"
     ]
    },
    {
     "name": "stderr",
     "output_type": "stream",
     "text": [
      "INFO:nimare.utils:Shared path detected: '/home/data/nbc/misc-projects/Salo_NiMARE/nimare-paper/data/neurosynth_dataset_maps/'\n"
     ]
    },
    {
     "name": "stderr",
     "output_type": "stream",
     "text": [
      "INFO:nimare.decode.continuous:Decoding terms_abstract_tfidf__difference (55/283): 26/500 studies\n"
     ]
    },
    {
     "name": "stderr",
     "output_type": "stream",
     "text": [
      "INFO:nimare.utils:Shared path detected: '/home/data/nbc/misc-projects/Salo_NiMARE/nimare-paper/data/neurosynth_dataset_maps/'\n"
     ]
    },
    {
     "name": "stderr",
     "output_type": "stream",
     "text": [
      "INFO:nimare.utils:Shared path detected: '/home/data/nbc/misc-projects/Salo_NiMARE/nimare-paper/data/neurosynth_dataset_maps/'\n"
     ]
    },
    {
     "name": "stderr",
     "output_type": "stream",
     "text": [
      "INFO:nimare.decode.continuous:Decoding terms_abstract_tfidf__differential (56/283): 38/500 studies\n"
     ]
    },
    {
     "name": "stderr",
     "output_type": "stream",
     "text": [
      "INFO:nimare.utils:Shared path detected: '/home/data/nbc/misc-projects/Salo_NiMARE/nimare-paper/data/neurosynth_dataset_maps/'\n"
     ]
    },
    {
     "name": "stderr",
     "output_type": "stream",
     "text": [
      "INFO:nimare.utils:Shared path detected: '/home/data/nbc/misc-projects/Salo_NiMARE/nimare-paper/data/neurosynth_dataset_maps/'\n"
     ]
    },
    {
     "name": "stderr",
     "output_type": "stream",
     "text": [
      "INFO:nimare.decode.continuous:Decoding terms_abstract_tfidf__differentially (57/283): 25/500 studies\n"
     ]
    },
    {
     "name": "stderr",
     "output_type": "stream",
     "text": [
      "INFO:nimare.utils:Shared path detected: '/home/data/nbc/misc-projects/Salo_NiMARE/nimare-paper/data/neurosynth_dataset_maps/'\n"
     ]
    },
    {
     "name": "stderr",
     "output_type": "stream",
     "text": [
      "INFO:nimare.utils:Shared path detected: '/home/data/nbc/misc-projects/Salo_NiMARE/nimare-paper/data/neurosynth_dataset_maps/'\n"
     ]
    },
    {
     "name": "stderr",
     "output_type": "stream",
     "text": [
      "INFO:nimare.decode.continuous:Decoding terms_abstract_tfidf__discussed (58/283): 26/500 studies\n"
     ]
    },
    {
     "name": "stderr",
     "output_type": "stream",
     "text": [
      "INFO:nimare.utils:Shared path detected: '/home/data/nbc/misc-projects/Salo_NiMARE/nimare-paper/data/neurosynth_dataset_maps/'\n"
     ]
    },
    {
     "name": "stderr",
     "output_type": "stream",
     "text": [
      "INFO:nimare.utils:Shared path detected: '/home/data/nbc/misc-projects/Salo_NiMARE/nimare-paper/data/neurosynth_dataset_maps/'\n"
     ]
    },
    {
     "name": "stderr",
     "output_type": "stream",
     "text": [
      "INFO:nimare.decode.continuous:Decoding terms_abstract_tfidf__distributed (59/283): 25/500 studies\n"
     ]
    },
    {
     "name": "stderr",
     "output_type": "stream",
     "text": [
      "INFO:nimare.utils:Shared path detected: '/home/data/nbc/misc-projects/Salo_NiMARE/nimare-paper/data/neurosynth_dataset_maps/'\n"
     ]
    },
    {
     "name": "stderr",
     "output_type": "stream",
     "text": [
      "INFO:nimare.utils:Shared path detected: '/home/data/nbc/misc-projects/Salo_NiMARE/nimare-paper/data/neurosynth_dataset_maps/'\n"
     ]
    },
    {
     "name": "stderr",
     "output_type": "stream",
     "text": [
      "INFO:nimare.decode.continuous:Decoding terms_abstract_tfidf__dorsal (60/283): 63/500 studies\n"
     ]
    },
    {
     "name": "stderr",
     "output_type": "stream",
     "text": [
      "INFO:nimare.utils:Shared path detected: '/home/data/nbc/misc-projects/Salo_NiMARE/nimare-paper/data/neurosynth_dataset_maps/'\n"
     ]
    },
    {
     "name": "stderr",
     "output_type": "stream",
     "text": [
      "INFO:nimare.utils:Shared path detected: '/home/data/nbc/misc-projects/Salo_NiMARE/nimare-paper/data/neurosynth_dataset_maps/'\n"
     ]
    },
    {
     "name": "stderr",
     "output_type": "stream",
     "text": [
      "INFO:nimare.decode.continuous:Decoding terms_abstract_tfidf__dorsolateral (61/283): 52/500 studies\n"
     ]
    },
    {
     "name": "stderr",
     "output_type": "stream",
     "text": [
      "INFO:nimare.utils:Shared path detected: '/home/data/nbc/misc-projects/Salo_NiMARE/nimare-paper/data/neurosynth_dataset_maps/'\n"
     ]
    },
    {
     "name": "stderr",
     "output_type": "stream",
     "text": [
      "INFO:nimare.utils:Shared path detected: '/home/data/nbc/misc-projects/Salo_NiMARE/nimare-paper/data/neurosynth_dataset_maps/'\n"
     ]
    },
    {
     "name": "stderr",
     "output_type": "stream",
     "text": [
      "INFO:nimare.decode.continuous:Decoding terms_abstract_tfidf__dorsolateral prefrontal (62/283): 40/500 studies\n"
     ]
    },
    {
     "name": "stderr",
     "output_type": "stream",
     "text": [
      "INFO:nimare.utils:Shared path detected: '/home/data/nbc/misc-projects/Salo_NiMARE/nimare-paper/data/neurosynth_dataset_maps/'\n"
     ]
    },
    {
     "name": "stderr",
     "output_type": "stream",
     "text": [
      "INFO:nimare.utils:Shared path detected: '/home/data/nbc/misc-projects/Salo_NiMARE/nimare-paper/data/neurosynth_dataset_maps/'\n"
     ]
    },
    {
     "name": "stderr",
     "output_type": "stream",
     "text": [
      "INFO:nimare.decode.continuous:Decoding terms_abstract_tfidf__early (63/283): 41/500 studies\n"
     ]
    },
    {
     "name": "stderr",
     "output_type": "stream",
     "text": [
      "INFO:nimare.utils:Shared path detected: '/home/data/nbc/misc-projects/Salo_NiMARE/nimare-paper/data/neurosynth_dataset_maps/'\n"
     ]
    },
    {
     "name": "stderr",
     "output_type": "stream",
     "text": [
      "INFO:nimare.utils:Shared path detected: '/home/data/nbc/misc-projects/Salo_NiMARE/nimare-paper/data/neurosynth_dataset_maps/'\n"
     ]
    },
    {
     "name": "stderr",
     "output_type": "stream",
     "text": [
      "INFO:nimare.decode.continuous:Decoding terms_abstract_tfidf__effect (64/283): 64/500 studies\n"
     ]
    },
    {
     "name": "stderr",
     "output_type": "stream",
     "text": [
      "INFO:nimare.utils:Shared path detected: '/home/data/nbc/misc-projects/Salo_NiMARE/nimare-paper/data/neurosynth_dataset_maps/'\n"
     ]
    },
    {
     "name": "stderr",
     "output_type": "stream",
     "text": [
      "INFO:nimare.utils:Shared path detected: '/home/data/nbc/misc-projects/Salo_NiMARE/nimare-paper/data/neurosynth_dataset_maps/'\n"
     ]
    },
    {
     "name": "stderr",
     "output_type": "stream",
     "text": [
      "INFO:nimare.decode.continuous:Decoding terms_abstract_tfidf__effects (65/283): 69/500 studies\n"
     ]
    },
    {
     "name": "stderr",
     "output_type": "stream",
     "text": [
      "INFO:nimare.utils:Shared path detected: '/home/data/nbc/misc-projects/Salo_NiMARE/nimare-paper/data/neurosynth_dataset_maps/'\n"
     ]
    },
    {
     "name": "stderr",
     "output_type": "stream",
     "text": [
      "INFO:nimare.utils:Shared path detected: '/home/data/nbc/misc-projects/Salo_NiMARE/nimare-paper/data/neurosynth_dataset_maps/'\n"
     ]
    },
    {
     "name": "stderr",
     "output_type": "stream",
     "text": [
      "INFO:nimare.decode.continuous:Decoding terms_abstract_tfidf__elicited (66/283): 26/500 studies\n"
     ]
    },
    {
     "name": "stderr",
     "output_type": "stream",
     "text": [
      "INFO:nimare.utils:Shared path detected: '/home/data/nbc/misc-projects/Salo_NiMARE/nimare-paper/data/neurosynth_dataset_maps/'\n"
     ]
    },
    {
     "name": "stderr",
     "output_type": "stream",
     "text": [
      "INFO:nimare.utils:Shared path detected: '/home/data/nbc/misc-projects/Salo_NiMARE/nimare-paper/data/neurosynth_dataset_maps/'\n"
     ]
    },
    {
     "name": "stderr",
     "output_type": "stream",
     "text": [
      "INFO:nimare.decode.continuous:Decoding terms_abstract_tfidf__emission (67/283): 31/500 studies\n"
     ]
    },
    {
     "name": "stderr",
     "output_type": "stream",
     "text": [
      "INFO:nimare.utils:Shared path detected: '/home/data/nbc/misc-projects/Salo_NiMARE/nimare-paper/data/neurosynth_dataset_maps/'\n"
     ]
    },
    {
     "name": "stderr",
     "output_type": "stream",
     "text": [
      "INFO:nimare.utils:Shared path detected: '/home/data/nbc/misc-projects/Salo_NiMARE/nimare-paper/data/neurosynth_dataset_maps/'\n"
     ]
    },
    {
     "name": "stderr",
     "output_type": "stream",
     "text": [
      "INFO:nimare.decode.continuous:Decoding terms_abstract_tfidf__emission tomography (68/283): 30/500 studies\n"
     ]
    },
    {
     "name": "stderr",
     "output_type": "stream",
     "text": [
      "INFO:nimare.utils:Shared path detected: '/home/data/nbc/misc-projects/Salo_NiMARE/nimare-paper/data/neurosynth_dataset_maps/'\n"
     ]
    },
    {
     "name": "stderr",
     "output_type": "stream",
     "text": [
      "INFO:nimare.utils:Shared path detected: '/home/data/nbc/misc-projects/Salo_NiMARE/nimare-paper/data/neurosynth_dataset_maps/'\n"
     ]
    },
    {
     "name": "stderr",
     "output_type": "stream",
     "text": [
      "INFO:nimare.decode.continuous:Decoding terms_abstract_tfidf__emotional (69/283): 36/500 studies\n"
     ]
    },
    {
     "name": "stderr",
     "output_type": "stream",
     "text": [
      "INFO:nimare.utils:Shared path detected: '/home/data/nbc/misc-projects/Salo_NiMARE/nimare-paper/data/neurosynth_dataset_maps/'\n"
     ]
    },
    {
     "name": "stderr",
     "output_type": "stream",
     "text": [
      "INFO:nimare.utils:Shared path detected: '/home/data/nbc/misc-projects/Salo_NiMARE/nimare-paper/data/neurosynth_dataset_maps/'\n"
     ]
    },
    {
     "name": "stderr",
     "output_type": "stream",
     "text": [
      "INFO:nimare.decode.continuous:Decoding terms_abstract_tfidf__encoding (70/283): 33/500 studies\n"
     ]
    },
    {
     "name": "stderr",
     "output_type": "stream",
     "text": [
      "INFO:nimare.utils:Shared path detected: '/home/data/nbc/misc-projects/Salo_NiMARE/nimare-paper/data/neurosynth_dataset_maps/'\n"
     ]
    },
    {
     "name": "stderr",
     "output_type": "stream",
     "text": [
      "INFO:nimare.utils:Shared path detected: '/home/data/nbc/misc-projects/Salo_NiMARE/nimare-paper/data/neurosynth_dataset_maps/'\n"
     ]
    },
    {
     "name": "stderr",
     "output_type": "stream",
     "text": [
      "INFO:nimare.decode.continuous:Decoding terms_abstract_tfidf__engaged (71/283): 35/500 studies\n"
     ]
    },
    {
     "name": "stderr",
     "output_type": "stream",
     "text": [
      "INFO:nimare.utils:Shared path detected: '/home/data/nbc/misc-projects/Salo_NiMARE/nimare-paper/data/neurosynth_dataset_maps/'\n"
     ]
    },
    {
     "name": "stderr",
     "output_type": "stream",
     "text": [
      "INFO:nimare.utils:Shared path detected: '/home/data/nbc/misc-projects/Salo_NiMARE/nimare-paper/data/neurosynth_dataset_maps/'\n"
     ]
    },
    {
     "name": "stderr",
     "output_type": "stream",
     "text": [
      "INFO:nimare.decode.continuous:Decoding terms_abstract_tfidf__event (72/283): 107/500 studies\n"
     ]
    },
    {
     "name": "stderr",
     "output_type": "stream",
     "text": [
      "INFO:nimare.utils:Shared path detected: '/home/data/nbc/misc-projects/Salo_NiMARE/nimare-paper/data/neurosynth_dataset_maps/'\n"
     ]
    },
    {
     "name": "stderr",
     "output_type": "stream",
     "text": [
      "INFO:nimare.utils:Shared path detected: '/home/data/nbc/misc-projects/Salo_NiMARE/nimare-paper/data/neurosynth_dataset_maps/'\n"
     ]
    },
    {
     "name": "stderr",
     "output_type": "stream",
     "text": [
      "INFO:nimare.decode.continuous:Decoding terms_abstract_tfidf__event functional (73/283): 59/500 studies\n"
     ]
    },
    {
     "name": "stderr",
     "output_type": "stream",
     "text": [
      "INFO:nimare.utils:Shared path detected: '/home/data/nbc/misc-projects/Salo_NiMARE/nimare-paper/data/neurosynth_dataset_maps/'\n"
     ]
    },
    {
     "name": "stderr",
     "output_type": "stream",
     "text": [
      "INFO:nimare.utils:Shared path detected: '/home/data/nbc/misc-projects/Salo_NiMARE/nimare-paper/data/neurosynth_dataset_maps/'\n"
     ]
    },
    {
     "name": "stderr",
     "output_type": "stream",
     "text": [
      "INFO:nimare.decode.continuous:Decoding terms_abstract_tfidf__events (74/283): 29/500 studies\n"
     ]
    },
    {
     "name": "stderr",
     "output_type": "stream",
     "text": [
      "INFO:nimare.utils:Shared path detected: '/home/data/nbc/misc-projects/Salo_NiMARE/nimare-paper/data/neurosynth_dataset_maps/'\n"
     ]
    },
    {
     "name": "stderr",
     "output_type": "stream",
     "text": [
      "INFO:nimare.utils:Shared path detected: '/home/data/nbc/misc-projects/Salo_NiMARE/nimare-paper/data/neurosynth_dataset_maps/'\n"
     ]
    },
    {
     "name": "stderr",
     "output_type": "stream",
     "text": [
      "INFO:nimare.decode.continuous:Decoding terms_abstract_tfidf__evidence (75/283): 86/500 studies\n"
     ]
    },
    {
     "name": "stderr",
     "output_type": "stream",
     "text": [
      "INFO:nimare.utils:Shared path detected: '/home/data/nbc/misc-projects/Salo_NiMARE/nimare-paper/data/neurosynth_dataset_maps/'\n"
     ]
    },
    {
     "name": "stderr",
     "output_type": "stream",
     "text": [
      "INFO:nimare.utils:Shared path detected: '/home/data/nbc/misc-projects/Salo_NiMARE/nimare-paper/data/neurosynth_dataset_maps/'\n"
     ]
    },
    {
     "name": "stderr",
     "output_type": "stream",
     "text": [
      "INFO:nimare.decode.continuous:Decoding terms_abstract_tfidf__evoked (76/283): 35/500 studies\n"
     ]
    },
    {
     "name": "stderr",
     "output_type": "stream",
     "text": [
      "INFO:nimare.utils:Shared path detected: '/home/data/nbc/misc-projects/Salo_NiMARE/nimare-paper/data/neurosynth_dataset_maps/'\n"
     ]
    },
    {
     "name": "stderr",
     "output_type": "stream",
     "text": [
      "INFO:nimare.utils:Shared path detected: '/home/data/nbc/misc-projects/Salo_NiMARE/nimare-paper/data/neurosynth_dataset_maps/'\n"
     ]
    },
    {
     "name": "stderr",
     "output_type": "stream",
     "text": [
      "INFO:nimare.decode.continuous:Decoding terms_abstract_tfidf__experiment (77/283): 41/500 studies\n"
     ]
    },
    {
     "name": "stderr",
     "output_type": "stream",
     "text": [
      "INFO:nimare.utils:Shared path detected: '/home/data/nbc/misc-projects/Salo_NiMARE/nimare-paper/data/neurosynth_dataset_maps/'\n"
     ]
    },
    {
     "name": "stderr",
     "output_type": "stream",
     "text": [
      "INFO:nimare.utils:Shared path detected: '/home/data/nbc/misc-projects/Salo_NiMARE/nimare-paper/data/neurosynth_dataset_maps/'\n"
     ]
    },
    {
     "name": "stderr",
     "output_type": "stream",
     "text": [
      "INFO:nimare.decode.continuous:Decoding terms_abstract_tfidf__experiments (78/283): 38/500 studies\n"
     ]
    },
    {
     "name": "stderr",
     "output_type": "stream",
     "text": [
      "INFO:nimare.utils:Shared path detected: '/home/data/nbc/misc-projects/Salo_NiMARE/nimare-paper/data/neurosynth_dataset_maps/'\n"
     ]
    },
    {
     "name": "stderr",
     "output_type": "stream",
     "text": [
      "INFO:nimare.utils:Shared path detected: '/home/data/nbc/misc-projects/Salo_NiMARE/nimare-paper/data/neurosynth_dataset_maps/'\n"
     ]
    },
    {
     "name": "stderr",
     "output_type": "stream",
     "text": [
      "INFO:nimare.decode.continuous:Decoding terms_abstract_tfidf__extent (79/283): 32/500 studies\n"
     ]
    },
    {
     "name": "stderr",
     "output_type": "stream",
     "text": [
      "INFO:nimare.utils:Shared path detected: '/home/data/nbc/misc-projects/Salo_NiMARE/nimare-paper/data/neurosynth_dataset_maps/'\n"
     ]
    },
    {
     "name": "stderr",
     "output_type": "stream",
     "text": [
      "INFO:nimare.utils:Shared path detected: '/home/data/nbc/misc-projects/Salo_NiMARE/nimare-paper/data/neurosynth_dataset_maps/'\n"
     ]
    },
    {
     "name": "stderr",
     "output_type": "stream",
     "text": [
      "INFO:nimare.decode.continuous:Decoding terms_abstract_tfidf__face (80/283): 30/500 studies\n"
     ]
    },
    {
     "name": "stderr",
     "output_type": "stream",
     "text": [
      "INFO:nimare.utils:Shared path detected: '/home/data/nbc/misc-projects/Salo_NiMARE/nimare-paper/data/neurosynth_dataset_maps/'\n"
     ]
    },
    {
     "name": "stderr",
     "output_type": "stream",
     "text": [
      "INFO:nimare.utils:Shared path detected: '/home/data/nbc/misc-projects/Salo_NiMARE/nimare-paper/data/neurosynth_dataset_maps/'\n"
     ]
    },
    {
     "name": "stderr",
     "output_type": "stream",
     "text": [
      "INFO:nimare.decode.continuous:Decoding terms_abstract_tfidf__faces (81/283): 25/500 studies\n"
     ]
    },
    {
     "name": "stderr",
     "output_type": "stream",
     "text": [
      "INFO:nimare.utils:Shared path detected: '/home/data/nbc/misc-projects/Salo_NiMARE/nimare-paper/data/neurosynth_dataset_maps/'\n"
     ]
    },
    {
     "name": "stderr",
     "output_type": "stream",
     "text": [
      "INFO:nimare.utils:Shared path detected: '/home/data/nbc/misc-projects/Salo_NiMARE/nimare-paper/data/neurosynth_dataset_maps/'\n"
     ]
    },
    {
     "name": "stderr",
     "output_type": "stream",
     "text": [
      "INFO:nimare.decode.continuous:Decoding terms_abstract_tfidf__features (82/283): 28/500 studies\n"
     ]
    },
    {
     "name": "stderr",
     "output_type": "stream",
     "text": [
      "INFO:nimare.utils:Shared path detected: '/home/data/nbc/misc-projects/Salo_NiMARE/nimare-paper/data/neurosynth_dataset_maps/'\n"
     ]
    },
    {
     "name": "stderr",
     "output_type": "stream",
     "text": [
      "INFO:nimare.utils:Shared path detected: '/home/data/nbc/misc-projects/Salo_NiMARE/nimare-paper/data/neurosynth_dataset_maps/'\n"
     ]
    },
    {
     "name": "stderr",
     "output_type": "stream",
     "text": [
      "INFO:nimare.decode.continuous:Decoding terms_abstract_tfidf__field (83/283): 28/500 studies\n"
     ]
    },
    {
     "name": "stderr",
     "output_type": "stream",
     "text": [
      "INFO:nimare.utils:Shared path detected: '/home/data/nbc/misc-projects/Salo_NiMARE/nimare-paper/data/neurosynth_dataset_maps/'\n"
     ]
    },
    {
     "name": "stderr",
     "output_type": "stream",
     "text": [
      "INFO:nimare.utils:Shared path detected: '/home/data/nbc/misc-projects/Salo_NiMARE/nimare-paper/data/neurosynth_dataset_maps/'\n"
     ]
    },
    {
     "name": "stderr",
     "output_type": "stream",
     "text": [
      "INFO:nimare.decode.continuous:Decoding terms_abstract_tfidf__finger (84/283): 29/500 studies\n"
     ]
    },
    {
     "name": "stderr",
     "output_type": "stream",
     "text": [
      "INFO:nimare.utils:Shared path detected: '/home/data/nbc/misc-projects/Salo_NiMARE/nimare-paper/data/neurosynth_dataset_maps/'\n"
     ]
    },
    {
     "name": "stderr",
     "output_type": "stream",
     "text": [
      "INFO:nimare.utils:Shared path detected: '/home/data/nbc/misc-projects/Salo_NiMARE/nimare-paper/data/neurosynth_dataset_maps/'\n"
     ]
    },
    {
     "name": "stderr",
     "output_type": "stream",
     "text": [
      "INFO:nimare.decode.continuous:Decoding terms_abstract_tfidf__frontal (85/283): 174/500 studies\n"
     ]
    },
    {
     "name": "stderr",
     "output_type": "stream",
     "text": [
      "INFO:nimare.utils:Shared path detected: '/home/data/nbc/misc-projects/Salo_NiMARE/nimare-paper/data/neurosynth_dataset_maps/'\n"
     ]
    },
    {
     "name": "stderr",
     "output_type": "stream",
     "text": [
      "INFO:nimare.utils:Shared path detected: '/home/data/nbc/misc-projects/Salo_NiMARE/nimare-paper/data/neurosynth_dataset_maps/'\n"
     ]
    },
    {
     "name": "stderr",
     "output_type": "stream",
     "text": [
      "INFO:nimare.decode.continuous:Decoding terms_abstract_tfidf__frontal cortex (86/283): 34/500 studies\n"
     ]
    },
    {
     "name": "stderr",
     "output_type": "stream",
     "text": [
      "INFO:nimare.utils:Shared path detected: '/home/data/nbc/misc-projects/Salo_NiMARE/nimare-paper/data/neurosynth_dataset_maps/'\n"
     ]
    },
    {
     "name": "stderr",
     "output_type": "stream",
     "text": [
      "INFO:nimare.utils:Shared path detected: '/home/data/nbc/misc-projects/Salo_NiMARE/nimare-paper/data/neurosynth_dataset_maps/'\n"
     ]
    },
    {
     "name": "stderr",
     "output_type": "stream",
     "text": [
      "INFO:nimare.decode.continuous:Decoding terms_abstract_tfidf__frontal gyrus (87/283): 48/500 studies\n"
     ]
    },
    {
     "name": "stderr",
     "output_type": "stream",
     "text": [
      "INFO:nimare.utils:Shared path detected: '/home/data/nbc/misc-projects/Salo_NiMARE/nimare-paper/data/neurosynth_dataset_maps/'\n"
     ]
    },
    {
     "name": "stderr",
     "output_type": "stream",
     "text": [
      "INFO:nimare.utils:Shared path detected: '/home/data/nbc/misc-projects/Salo_NiMARE/nimare-paper/data/neurosynth_dataset_maps/'\n"
     ]
    },
    {
     "name": "stderr",
     "output_type": "stream",
     "text": [
      "INFO:nimare.decode.continuous:Decoding terms_abstract_tfidf__function (88/283): 61/500 studies\n"
     ]
    },
    {
     "name": "stderr",
     "output_type": "stream",
     "text": [
      "INFO:nimare.utils:Shared path detected: '/home/data/nbc/misc-projects/Salo_NiMARE/nimare-paper/data/neurosynth_dataset_maps/'\n"
     ]
    },
    {
     "name": "stderr",
     "output_type": "stream",
     "text": [
      "INFO:nimare.utils:Shared path detected: '/home/data/nbc/misc-projects/Salo_NiMARE/nimare-paper/data/neurosynth_dataset_maps/'\n"
     ]
    },
    {
     "name": "stderr",
     "output_type": "stream",
     "text": [
      "INFO:nimare.decode.continuous:Decoding terms_abstract_tfidf__functional magnetic (89/283): 266/500 studies\n"
     ]
    },
    {
     "name": "stderr",
     "output_type": "stream",
     "text": [
      "INFO:nimare.utils:Shared path detected: '/home/data/nbc/misc-projects/Salo_NiMARE/nimare-paper/data/neurosynth_dataset_maps/'\n"
     ]
    },
    {
     "name": "stderr",
     "output_type": "stream",
     "text": [
      "INFO:nimare.utils:Shared path detected: '/home/data/nbc/misc-projects/Salo_NiMARE/nimare-paper/data/neurosynth_dataset_maps/'\n"
     ]
    },
    {
     "name": "stderr",
     "output_type": "stream",
     "text": [
      "INFO:nimare.decode.continuous:Decoding terms_abstract_tfidf__functions (90/283): 30/500 studies\n"
     ]
    },
    {
     "name": "stderr",
     "output_type": "stream",
     "text": [
      "INFO:nimare.utils:Shared path detected: '/home/data/nbc/misc-projects/Salo_NiMARE/nimare-paper/data/neurosynth_dataset_maps/'\n"
     ]
    },
    {
     "name": "stderr",
     "output_type": "stream",
     "text": [
      "INFO:nimare.utils:Shared path detected: '/home/data/nbc/misc-projects/Salo_NiMARE/nimare-paper/data/neurosynth_dataset_maps/'\n"
     ]
    },
    {
     "name": "stderr",
     "output_type": "stream",
     "text": [
      "INFO:nimare.decode.continuous:Decoding terms_abstract_tfidf__fusiform (91/283): 37/500 studies\n"
     ]
    },
    {
     "name": "stderr",
     "output_type": "stream",
     "text": [
      "INFO:nimare.utils:Shared path detected: '/home/data/nbc/misc-projects/Salo_NiMARE/nimare-paper/data/neurosynth_dataset_maps/'\n"
     ]
    },
    {
     "name": "stderr",
     "output_type": "stream",
     "text": [
      "INFO:nimare.utils:Shared path detected: '/home/data/nbc/misc-projects/Salo_NiMARE/nimare-paper/data/neurosynth_dataset_maps/'\n"
     ]
    },
    {
     "name": "stderr",
     "output_type": "stream",
     "text": [
      "INFO:nimare.decode.continuous:Decoding terms_abstract_tfidf__ganglia (92/283): 26/500 studies\n"
     ]
    },
    {
     "name": "stderr",
     "output_type": "stream",
     "text": [
      "INFO:nimare.utils:Shared path detected: '/home/data/nbc/misc-projects/Salo_NiMARE/nimare-paper/data/neurosynth_dataset_maps/'\n"
     ]
    },
    {
     "name": "stderr",
     "output_type": "stream",
     "text": [
      "INFO:nimare.utils:Shared path detected: '/home/data/nbc/misc-projects/Salo_NiMARE/nimare-paper/data/neurosynth_dataset_maps/'\n"
     ]
    },
    {
     "name": "stderr",
     "output_type": "stream",
     "text": [
      "INFO:nimare.decode.continuous:Decoding terms_abstract_tfidf__general (93/283): 31/500 studies\n"
     ]
    },
    {
     "name": "stderr",
     "output_type": "stream",
     "text": [
      "INFO:nimare.utils:Shared path detected: '/home/data/nbc/misc-projects/Salo_NiMARE/nimare-paper/data/neurosynth_dataset_maps/'\n"
     ]
    },
    {
     "name": "stderr",
     "output_type": "stream",
     "text": [
      "INFO:nimare.utils:Shared path detected: '/home/data/nbc/misc-projects/Salo_NiMARE/nimare-paper/data/neurosynth_dataset_maps/'\n"
     ]
    },
    {
     "name": "stderr",
     "output_type": "stream",
     "text": [
      "INFO:nimare.decode.continuous:Decoding terms_abstract_tfidf__greater (94/283): 64/500 studies\n"
     ]
    },
    {
     "name": "stderr",
     "output_type": "stream",
     "text": [
      "INFO:nimare.utils:Shared path detected: '/home/data/nbc/misc-projects/Salo_NiMARE/nimare-paper/data/neurosynth_dataset_maps/'\n"
     ]
    },
    {
     "name": "stderr",
     "output_type": "stream",
     "text": [
      "INFO:nimare.utils:Shared path detected: '/home/data/nbc/misc-projects/Salo_NiMARE/nimare-paper/data/neurosynth_dataset_maps/'\n"
     ]
    },
    {
     "name": "stderr",
     "output_type": "stream",
     "text": [
      "INFO:nimare.decode.continuous:Decoding terms_abstract_tfidf__group (95/283): 68/500 studies\n"
     ]
    },
    {
     "name": "stderr",
     "output_type": "stream",
     "text": [
      "INFO:nimare.utils:Shared path detected: '/home/data/nbc/misc-projects/Salo_NiMARE/nimare-paper/data/neurosynth_dataset_maps/'\n"
     ]
    },
    {
     "name": "stderr",
     "output_type": "stream",
     "text": [
      "INFO:nimare.utils:Shared path detected: '/home/data/nbc/misc-projects/Salo_NiMARE/nimare-paper/data/neurosynth_dataset_maps/'\n"
     ]
    },
    {
     "name": "stderr",
     "output_type": "stream",
     "text": [
      "INFO:nimare.decode.continuous:Decoding terms_abstract_tfidf__groups (96/283): 30/500 studies\n"
     ]
    },
    {
     "name": "stderr",
     "output_type": "stream",
     "text": [
      "INFO:nimare.utils:Shared path detected: '/home/data/nbc/misc-projects/Salo_NiMARE/nimare-paper/data/neurosynth_dataset_maps/'\n"
     ]
    },
    {
     "name": "stderr",
     "output_type": "stream",
     "text": [
      "INFO:nimare.utils:Shared path detected: '/home/data/nbc/misc-projects/Salo_NiMARE/nimare-paper/data/neurosynth_dataset_maps/'\n"
     ]
    },
    {
     "name": "stderr",
     "output_type": "stream",
     "text": [
      "INFO:nimare.decode.continuous:Decoding terms_abstract_tfidf__gyri (97/283): 38/500 studies\n"
     ]
    },
    {
     "name": "stderr",
     "output_type": "stream",
     "text": [
      "INFO:nimare.utils:Shared path detected: '/home/data/nbc/misc-projects/Salo_NiMARE/nimare-paper/data/neurosynth_dataset_maps/'\n"
     ]
    },
    {
     "name": "stderr",
     "output_type": "stream",
     "text": [
      "INFO:nimare.utils:Shared path detected: '/home/data/nbc/misc-projects/Salo_NiMARE/nimare-paper/data/neurosynth_dataset_maps/'\n"
     ]
    },
    {
     "name": "stderr",
     "output_type": "stream",
     "text": [
      "INFO:nimare.decode.continuous:Decoding terms_abstract_tfidf__gyrus (98/283): 133/500 studies\n"
     ]
    },
    {
     "name": "stderr",
     "output_type": "stream",
     "text": [
      "INFO:nimare.utils:Shared path detected: '/home/data/nbc/misc-projects/Salo_NiMARE/nimare-paper/data/neurosynth_dataset_maps/'\n"
     ]
    },
    {
     "name": "stderr",
     "output_type": "stream",
     "text": [
      "INFO:nimare.utils:Shared path detected: '/home/data/nbc/misc-projects/Salo_NiMARE/nimare-paper/data/neurosynth_dataset_maps/'\n"
     ]
    },
    {
     "name": "stderr",
     "output_type": "stream",
     "text": [
      "INFO:nimare.decode.continuous:Decoding terms_abstract_tfidf__hand (99/283): 33/500 studies\n"
     ]
    },
    {
     "name": "stderr",
     "output_type": "stream",
     "text": [
      "INFO:nimare.utils:Shared path detected: '/home/data/nbc/misc-projects/Salo_NiMARE/nimare-paper/data/neurosynth_dataset_maps/'\n"
     ]
    },
    {
     "name": "stderr",
     "output_type": "stream",
     "text": [
      "INFO:nimare.utils:Shared path detected: '/home/data/nbc/misc-projects/Salo_NiMARE/nimare-paper/data/neurosynth_dataset_maps/'\n"
     ]
    },
    {
     "name": "stderr",
     "output_type": "stream",
     "text": [
      "INFO:nimare.decode.continuous:Decoding terms_abstract_tfidf__handed (100/283): 26/500 studies\n"
     ]
    },
    {
     "name": "stderr",
     "output_type": "stream",
     "text": [
      "INFO:nimare.utils:Shared path detected: '/home/data/nbc/misc-projects/Salo_NiMARE/nimare-paper/data/neurosynth_dataset_maps/'\n"
     ]
    },
    {
     "name": "stderr",
     "output_type": "stream",
     "text": [
      "INFO:nimare.utils:Shared path detected: '/home/data/nbc/misc-projects/Salo_NiMARE/nimare-paper/data/neurosynth_dataset_maps/'\n"
     ]
    },
    {
     "name": "stderr",
     "output_type": "stream",
     "text": [
      "INFO:nimare.decode.continuous:Decoding terms_abstract_tfidf__healthy (101/283): 96/500 studies\n"
     ]
    },
    {
     "name": "stderr",
     "output_type": "stream",
     "text": [
      "INFO:nimare.utils:Shared path detected: '/home/data/nbc/misc-projects/Salo_NiMARE/nimare-paper/data/neurosynth_dataset_maps/'\n"
     ]
    },
    {
     "name": "stderr",
     "output_type": "stream",
     "text": [
      "INFO:nimare.utils:Shared path detected: '/home/data/nbc/misc-projects/Salo_NiMARE/nimare-paper/data/neurosynth_dataset_maps/'\n"
     ]
    },
    {
     "name": "stderr",
     "output_type": "stream",
     "text": [
      "INFO:nimare.decode.continuous:Decoding terms_abstract_tfidf__healthy volunteers (102/283): 25/500 studies\n"
     ]
    },
    {
     "name": "stderr",
     "output_type": "stream",
     "text": [
      "INFO:nimare.utils:Shared path detected: '/home/data/nbc/misc-projects/Salo_NiMARE/nimare-paper/data/neurosynth_dataset_maps/'\n"
     ]
    },
    {
     "name": "stderr",
     "output_type": "stream",
     "text": [
      "INFO:nimare.utils:Shared path detected: '/home/data/nbc/misc-projects/Salo_NiMARE/nimare-paper/data/neurosynth_dataset_maps/'\n"
     ]
    },
    {
     "name": "stderr",
     "output_type": "stream",
     "text": [
      "INFO:nimare.decode.continuous:Decoding terms_abstract_tfidf__hemisphere (103/283): 75/500 studies\n"
     ]
    },
    {
     "name": "stderr",
     "output_type": "stream",
     "text": [
      "INFO:nimare.utils:Shared path detected: '/home/data/nbc/misc-projects/Salo_NiMARE/nimare-paper/data/neurosynth_dataset_maps/'\n"
     ]
    },
    {
     "name": "stderr",
     "output_type": "stream",
     "text": [
      "INFO:nimare.utils:Shared path detected: '/home/data/nbc/misc-projects/Salo_NiMARE/nimare-paper/data/neurosynth_dataset_maps/'\n"
     ]
    },
    {
     "name": "stderr",
     "output_type": "stream",
     "text": [
      "INFO:nimare.decode.continuous:Decoding terms_abstract_tfidf__high (104/283): 36/500 studies\n"
     ]
    },
    {
     "name": "stderr",
     "output_type": "stream",
     "text": [
      "INFO:nimare.utils:Shared path detected: '/home/data/nbc/misc-projects/Salo_NiMARE/nimare-paper/data/neurosynth_dataset_maps/'\n"
     ]
    },
    {
     "name": "stderr",
     "output_type": "stream",
     "text": [
      "INFO:nimare.utils:Shared path detected: '/home/data/nbc/misc-projects/Salo_NiMARE/nimare-paper/data/neurosynth_dataset_maps/'\n"
     ]
    },
    {
     "name": "stderr",
     "output_type": "stream",
     "text": [
      "INFO:nimare.decode.continuous:Decoding terms_abstract_tfidf__higher (105/283): 50/500 studies\n"
     ]
    },
    {
     "name": "stderr",
     "output_type": "stream",
     "text": [
      "INFO:nimare.utils:Shared path detected: '/home/data/nbc/misc-projects/Salo_NiMARE/nimare-paper/data/neurosynth_dataset_maps/'\n"
     ]
    },
    {
     "name": "stderr",
     "output_type": "stream",
     "text": [
      "INFO:nimare.utils:Shared path detected: '/home/data/nbc/misc-projects/Salo_NiMARE/nimare-paper/data/neurosynth_dataset_maps/'\n"
     ]
    },
    {
     "name": "stderr",
     "output_type": "stream",
     "text": [
      "INFO:nimare.decode.continuous:Decoding terms_abstract_tfidf__human (106/283): 111/500 studies\n"
     ]
    },
    {
     "name": "stderr",
     "output_type": "stream",
     "text": [
      "INFO:nimare.utils:Shared path detected: '/home/data/nbc/misc-projects/Salo_NiMARE/nimare-paper/data/neurosynth_dataset_maps/'\n"
     ]
    },
    {
     "name": "stderr",
     "output_type": "stream",
     "text": [
      "INFO:nimare.utils:Shared path detected: '/home/data/nbc/misc-projects/Salo_NiMARE/nimare-paper/data/neurosynth_dataset_maps/'\n"
     ]
    },
    {
     "name": "stderr",
     "output_type": "stream",
     "text": [
      "INFO:nimare.decode.continuous:Decoding terms_abstract_tfidf__humans (107/283): 49/500 studies\n"
     ]
    },
    {
     "name": "stderr",
     "output_type": "stream",
     "text": [
      "INFO:nimare.utils:Shared path detected: '/home/data/nbc/misc-projects/Salo_NiMARE/nimare-paper/data/neurosynth_dataset_maps/'\n"
     ]
    },
    {
     "name": "stderr",
     "output_type": "stream",
     "text": [
      "INFO:nimare.utils:Shared path detected: '/home/data/nbc/misc-projects/Salo_NiMARE/nimare-paper/data/neurosynth_dataset_maps/'\n"
     ]
    },
    {
     "name": "stderr",
     "output_type": "stream",
     "text": [
      "INFO:nimare.decode.continuous:Decoding terms_abstract_tfidf__identical (108/283): 25/500 studies\n"
     ]
    },
    {
     "name": "stderr",
     "output_type": "stream",
     "text": [
      "INFO:nimare.utils:Shared path detected: '/home/data/nbc/misc-projects/Salo_NiMARE/nimare-paper/data/neurosynth_dataset_maps/'\n"
     ]
    },
    {
     "name": "stderr",
     "output_type": "stream",
     "text": [
      "INFO:nimare.utils:Shared path detected: '/home/data/nbc/misc-projects/Salo_NiMARE/nimare-paper/data/neurosynth_dataset_maps/'\n"
     ]
    },
    {
     "name": "stderr",
     "output_type": "stream",
     "text": [
      "INFO:nimare.decode.continuous:Decoding terms_abstract_tfidf__identified (109/283): 46/500 studies\n"
     ]
    },
    {
     "name": "stderr",
     "output_type": "stream",
     "text": [
      "INFO:nimare.utils:Shared path detected: '/home/data/nbc/misc-projects/Salo_NiMARE/nimare-paper/data/neurosynth_dataset_maps/'\n"
     ]
    },
    {
     "name": "stderr",
     "output_type": "stream",
     "text": [
      "INFO:nimare.utils:Shared path detected: '/home/data/nbc/misc-projects/Salo_NiMARE/nimare-paper/data/neurosynth_dataset_maps/'\n"
     ]
    },
    {
     "name": "stderr",
     "output_type": "stream",
     "text": [
      "INFO:nimare.decode.continuous:Decoding terms_abstract_tfidf__identify (110/283): 39/500 studies\n"
     ]
    },
    {
     "name": "stderr",
     "output_type": "stream",
     "text": [
      "INFO:nimare.utils:Shared path detected: '/home/data/nbc/misc-projects/Salo_NiMARE/nimare-paper/data/neurosynth_dataset_maps/'\n"
     ]
    },
    {
     "name": "stderr",
     "output_type": "stream",
     "text": [
      "INFO:nimare.utils:Shared path detected: '/home/data/nbc/misc-projects/Salo_NiMARE/nimare-paper/data/neurosynth_dataset_maps/'\n"
     ]
    },
    {
     "name": "stderr",
     "output_type": "stream",
     "text": [
      "INFO:nimare.decode.continuous:Decoding terms_abstract_tfidf__ii (111/283): 25/500 studies\n"
     ]
    },
    {
     "name": "stderr",
     "output_type": "stream",
     "text": [
      "INFO:nimare.utils:Shared path detected: '/home/data/nbc/misc-projects/Salo_NiMARE/nimare-paper/data/neurosynth_dataset_maps/'\n"
     ]
    },
    {
     "name": "stderr",
     "output_type": "stream",
     "text": [
      "INFO:nimare.utils:Shared path detected: '/home/data/nbc/misc-projects/Salo_NiMARE/nimare-paper/data/neurosynth_dataset_maps/'\n"
     ]
    },
    {
     "name": "stderr",
     "output_type": "stream",
     "text": [
      "INFO:nimare.decode.continuous:Decoding terms_abstract_tfidf__images (112/283): 36/500 studies\n"
     ]
    },
    {
     "name": "stderr",
     "output_type": "stream",
     "text": [
      "INFO:nimare.utils:Shared path detected: '/home/data/nbc/misc-projects/Salo_NiMARE/nimare-paper/data/neurosynth_dataset_maps/'\n"
     ]
    },
    {
     "name": "stderr",
     "output_type": "stream",
     "text": [
      "INFO:nimare.utils:Shared path detected: '/home/data/nbc/misc-projects/Salo_NiMARE/nimare-paper/data/neurosynth_dataset_maps/'\n"
     ]
    },
    {
     "name": "stderr",
     "output_type": "stream",
     "text": [
      "INFO:nimare.decode.continuous:Decoding terms_abstract_tfidf__implicated (113/283): 35/500 studies\n"
     ]
    },
    {
     "name": "stderr",
     "output_type": "stream",
     "text": [
      "INFO:nimare.utils:Shared path detected: '/home/data/nbc/misc-projects/Salo_NiMARE/nimare-paper/data/neurosynth_dataset_maps/'\n"
     ]
    },
    {
     "name": "stderr",
     "output_type": "stream",
     "text": [
      "INFO:nimare.utils:Shared path detected: '/home/data/nbc/misc-projects/Salo_NiMARE/nimare-paper/data/neurosynth_dataset_maps/'\n"
     ]
    },
    {
     "name": "stderr",
     "output_type": "stream",
     "text": [
      "INFO:nimare.decode.continuous:Decoding terms_abstract_tfidf__important (114/283): 44/500 studies\n"
     ]
    },
    {
     "name": "stderr",
     "output_type": "stream",
     "text": [
      "INFO:nimare.utils:Shared path detected: '/home/data/nbc/misc-projects/Salo_NiMARE/nimare-paper/data/neurosynth_dataset_maps/'\n"
     ]
    },
    {
     "name": "stderr",
     "output_type": "stream",
     "text": [
      "INFO:nimare.utils:Shared path detected: '/home/data/nbc/misc-projects/Salo_NiMARE/nimare-paper/data/neurosynth_dataset_maps/'\n"
     ]
    },
    {
     "name": "stderr",
     "output_type": "stream",
     "text": [
      "INFO:nimare.decode.continuous:Decoding terms_abstract_tfidf__included (115/283): 31/500 studies\n"
     ]
    },
    {
     "name": "stderr",
     "output_type": "stream",
     "text": [
      "INFO:nimare.utils:Shared path detected: '/home/data/nbc/misc-projects/Salo_NiMARE/nimare-paper/data/neurosynth_dataset_maps/'\n"
     ]
    },
    {
     "name": "stderr",
     "output_type": "stream",
     "text": [
      "INFO:nimare.utils:Shared path detected: '/home/data/nbc/misc-projects/Salo_NiMARE/nimare-paper/data/neurosynth_dataset_maps/'\n"
     ]
    },
    {
     "name": "stderr",
     "output_type": "stream",
     "text": [
      "INFO:nimare.decode.continuous:Decoding terms_abstract_tfidf__increases (116/283): 31/500 studies\n"
     ]
    },
    {
     "name": "stderr",
     "output_type": "stream",
     "text": [
      "INFO:nimare.utils:Shared path detected: '/home/data/nbc/misc-projects/Salo_NiMARE/nimare-paper/data/neurosynth_dataset_maps/'\n"
     ]
    },
    {
     "name": "stderr",
     "output_type": "stream",
     "text": [
      "INFO:nimare.utils:Shared path detected: '/home/data/nbc/misc-projects/Salo_NiMARE/nimare-paper/data/neurosynth_dataset_maps/'\n"
     ]
    },
    {
     "name": "stderr",
     "output_type": "stream",
     "text": [
      "INFO:nimare.decode.continuous:Decoding terms_abstract_tfidf__independent (117/283): 25/500 studies\n"
     ]
    },
    {
     "name": "stderr",
     "output_type": "stream",
     "text": [
      "INFO:nimare.utils:Shared path detected: '/home/data/nbc/misc-projects/Salo_NiMARE/nimare-paper/data/neurosynth_dataset_maps/'\n"
     ]
    },
    {
     "name": "stderr",
     "output_type": "stream",
     "text": [
      "INFO:nimare.utils:Shared path detected: '/home/data/nbc/misc-projects/Salo_NiMARE/nimare-paper/data/neurosynth_dataset_maps/'\n"
     ]
    },
    {
     "name": "stderr",
     "output_type": "stream",
     "text": [
      "INFO:nimare.decode.continuous:Decoding terms_abstract_tfidf__indicate (118/283): 50/500 studies\n"
     ]
    },
    {
     "name": "stderr",
     "output_type": "stream",
     "text": [
      "INFO:nimare.utils:Shared path detected: '/home/data/nbc/misc-projects/Salo_NiMARE/nimare-paper/data/neurosynth_dataset_maps/'\n"
     ]
    },
    {
     "name": "stderr",
     "output_type": "stream",
     "text": [
      "INFO:nimare.utils:Shared path detected: '/home/data/nbc/misc-projects/Salo_NiMARE/nimare-paper/data/neurosynth_dataset_maps/'\n"
     ]
    },
    {
     "name": "stderr",
     "output_type": "stream",
     "text": [
      "INFO:nimare.decode.continuous:Decoding terms_abstract_tfidf__indicating (119/283): 26/500 studies\n"
     ]
    },
    {
     "name": "stderr",
     "output_type": "stream",
     "text": [
      "INFO:nimare.utils:Shared path detected: '/home/data/nbc/misc-projects/Salo_NiMARE/nimare-paper/data/neurosynth_dataset_maps/'\n"
     ]
    },
    {
     "name": "stderr",
     "output_type": "stream",
     "text": [
      "INFO:nimare.utils:Shared path detected: '/home/data/nbc/misc-projects/Salo_NiMARE/nimare-paper/data/neurosynth_dataset_maps/'\n"
     ]
    },
    {
     "name": "stderr",
     "output_type": "stream",
     "text": [
      "INFO:nimare.decode.continuous:Decoding terms_abstract_tfidf__individual (120/283): 38/500 studies\n"
     ]
    },
    {
     "name": "stderr",
     "output_type": "stream",
     "text": [
      "INFO:nimare.utils:Shared path detected: '/home/data/nbc/misc-projects/Salo_NiMARE/nimare-paper/data/neurosynth_dataset_maps/'\n"
     ]
    },
    {
     "name": "stderr",
     "output_type": "stream",
     "text": [
      "INFO:nimare.utils:Shared path detected: '/home/data/nbc/misc-projects/Salo_NiMARE/nimare-paper/data/neurosynth_dataset_maps/'\n"
     ]
    },
    {
     "name": "stderr",
     "output_type": "stream",
     "text": [
      "INFO:nimare.decode.continuous:Decoding terms_abstract_tfidf__inferior (121/283): 145/500 studies\n"
     ]
    },
    {
     "name": "stderr",
     "output_type": "stream",
     "text": [
      "INFO:nimare.utils:Shared path detected: '/home/data/nbc/misc-projects/Salo_NiMARE/nimare-paper/data/neurosynth_dataset_maps/'\n"
     ]
    },
    {
     "name": "stderr",
     "output_type": "stream",
     "text": [
      "INFO:nimare.utils:Shared path detected: '/home/data/nbc/misc-projects/Salo_NiMARE/nimare-paper/data/neurosynth_dataset_maps/'\n"
     ]
    },
    {
     "name": "stderr",
     "output_type": "stream",
     "text": [
      "INFO:nimare.decode.continuous:Decoding terms_abstract_tfidf__inferior frontal (122/283): 65/500 studies\n"
     ]
    },
    {
     "name": "stderr",
     "output_type": "stream",
     "text": [
      "INFO:nimare.utils:Shared path detected: '/home/data/nbc/misc-projects/Salo_NiMARE/nimare-paper/data/neurosynth_dataset_maps/'\n"
     ]
    },
    {
     "name": "stderr",
     "output_type": "stream",
     "text": [
      "INFO:nimare.utils:Shared path detected: '/home/data/nbc/misc-projects/Salo_NiMARE/nimare-paper/data/neurosynth_dataset_maps/'\n"
     ]
    },
    {
     "name": "stderr",
     "output_type": "stream",
     "text": [
      "INFO:nimare.decode.continuous:Decoding terms_abstract_tfidf__inferior parietal (123/283): 41/500 studies\n"
     ]
    },
    {
     "name": "stderr",
     "output_type": "stream",
     "text": [
      "INFO:nimare.utils:Shared path detected: '/home/data/nbc/misc-projects/Salo_NiMARE/nimare-paper/data/neurosynth_dataset_maps/'\n"
     ]
    },
    {
     "name": "stderr",
     "output_type": "stream",
     "text": [
      "INFO:nimare.utils:Shared path detected: '/home/data/nbc/misc-projects/Salo_NiMARE/nimare-paper/data/neurosynth_dataset_maps/'\n"
     ]
    },
    {
     "name": "stderr",
     "output_type": "stream",
     "text": [
      "INFO:nimare.decode.continuous:Decoding terms_abstract_tfidf__inferior temporal (124/283): 28/500 studies\n"
     ]
    },
    {
     "name": "stderr",
     "output_type": "stream",
     "text": [
      "INFO:nimare.utils:Shared path detected: '/home/data/nbc/misc-projects/Salo_NiMARE/nimare-paper/data/neurosynth_dataset_maps/'\n"
     ]
    },
    {
     "name": "stderr",
     "output_type": "stream",
     "text": [
      "INFO:nimare.utils:Shared path detected: '/home/data/nbc/misc-projects/Salo_NiMARE/nimare-paper/data/neurosynth_dataset_maps/'\n"
     ]
    },
    {
     "name": "stderr",
     "output_type": "stream",
     "text": [
      "INFO:nimare.decode.continuous:Decoding terms_abstract_tfidf__information (125/283): 107/500 studies\n"
     ]
    },
    {
     "name": "stderr",
     "output_type": "stream",
     "text": [
      "INFO:nimare.utils:Shared path detected: '/home/data/nbc/misc-projects/Salo_NiMARE/nimare-paper/data/neurosynth_dataset_maps/'\n"
     ]
    },
    {
     "name": "stderr",
     "output_type": "stream",
     "text": [
      "INFO:nimare.utils:Shared path detected: '/home/data/nbc/misc-projects/Salo_NiMARE/nimare-paper/data/neurosynth_dataset_maps/'\n"
     ]
    },
    {
     "name": "stderr",
     "output_type": "stream",
     "text": [
      "INFO:nimare.decode.continuous:Decoding terms_abstract_tfidf__insula (126/283): 40/500 studies\n"
     ]
    },
    {
     "name": "stderr",
     "output_type": "stream",
     "text": [
      "INFO:nimare.utils:Shared path detected: '/home/data/nbc/misc-projects/Salo_NiMARE/nimare-paper/data/neurosynth_dataset_maps/'\n"
     ]
    },
    {
     "name": "stderr",
     "output_type": "stream",
     "text": [
      "INFO:nimare.utils:Shared path detected: '/home/data/nbc/misc-projects/Salo_NiMARE/nimare-paper/data/neurosynth_dataset_maps/'\n"
     ]
    },
    {
     "name": "stderr",
     "output_type": "stream",
     "text": [
      "INFO:nimare.decode.continuous:Decoding terms_abstract_tfidf__interaction (127/283): 28/500 studies\n"
     ]
    },
    {
     "name": "stderr",
     "output_type": "stream",
     "text": [
      "INFO:nimare.utils:Shared path detected: '/home/data/nbc/misc-projects/Salo_NiMARE/nimare-paper/data/neurosynth_dataset_maps/'\n"
     ]
    },
    {
     "name": "stderr",
     "output_type": "stream",
     "text": [
      "INFO:nimare.utils:Shared path detected: '/home/data/nbc/misc-projects/Salo_NiMARE/nimare-paper/data/neurosynth_dataset_maps/'\n"
     ]
    },
    {
     "name": "stderr",
     "output_type": "stream",
     "text": [
      "INFO:nimare.decode.continuous:Decoding terms_abstract_tfidf__intraparietal (128/283): 44/500 studies\n"
     ]
    },
    {
     "name": "stderr",
     "output_type": "stream",
     "text": [
      "INFO:nimare.utils:Shared path detected: '/home/data/nbc/misc-projects/Salo_NiMARE/nimare-paper/data/neurosynth_dataset_maps/'\n"
     ]
    },
    {
     "name": "stderr",
     "output_type": "stream",
     "text": [
      "INFO:nimare.utils:Shared path detected: '/home/data/nbc/misc-projects/Salo_NiMARE/nimare-paper/data/neurosynth_dataset_maps/'\n"
     ]
    },
    {
     "name": "stderr",
     "output_type": "stream",
     "text": [
      "INFO:nimare.decode.continuous:Decoding terms_abstract_tfidf__intraparietal sulcus (129/283): 35/500 studies\n"
     ]
    },
    {
     "name": "stderr",
     "output_type": "stream",
     "text": [
      "INFO:nimare.utils:Shared path detected: '/home/data/nbc/misc-projects/Salo_NiMARE/nimare-paper/data/neurosynth_dataset_maps/'\n"
     ]
    },
    {
     "name": "stderr",
     "output_type": "stream",
     "text": [
      "INFO:nimare.utils:Shared path detected: '/home/data/nbc/misc-projects/Salo_NiMARE/nimare-paper/data/neurosynth_dataset_maps/'\n"
     ]
    },
    {
     "name": "stderr",
     "output_type": "stream",
     "text": [
      "INFO:nimare.decode.continuous:Decoding terms_abstract_tfidf__involved (130/283): 140/500 studies\n"
     ]
    },
    {
     "name": "stderr",
     "output_type": "stream",
     "text": [
      "INFO:nimare.utils:Shared path detected: '/home/data/nbc/misc-projects/Salo_NiMARE/nimare-paper/data/neurosynth_dataset_maps/'\n"
     ]
    },
    {
     "name": "stderr",
     "output_type": "stream",
     "text": [
      "INFO:nimare.utils:Shared path detected: '/home/data/nbc/misc-projects/Salo_NiMARE/nimare-paper/data/neurosynth_dataset_maps/'\n"
     ]
    },
    {
     "name": "stderr",
     "output_type": "stream",
     "text": [
      "INFO:nimare.decode.continuous:Decoding terms_abstract_tfidf__involvement (131/283): 39/500 studies\n"
     ]
    },
    {
     "name": "stderr",
     "output_type": "stream",
     "text": [
      "INFO:nimare.utils:Shared path detected: '/home/data/nbc/misc-projects/Salo_NiMARE/nimare-paper/data/neurosynth_dataset_maps/'\n"
     ]
    },
    {
     "name": "stderr",
     "output_type": "stream",
     "text": [
      "INFO:nimare.utils:Shared path detected: '/home/data/nbc/misc-projects/Salo_NiMARE/nimare-paper/data/neurosynth_dataset_maps/'\n"
     ]
    },
    {
     "name": "stderr",
     "output_type": "stream",
     "text": [
      "INFO:nimare.decode.continuous:Decoding terms_abstract_tfidf__known (132/283): 41/500 studies\n"
     ]
    },
    {
     "name": "stderr",
     "output_type": "stream",
     "text": [
      "INFO:nimare.utils:Shared path detected: '/home/data/nbc/misc-projects/Salo_NiMARE/nimare-paper/data/neurosynth_dataset_maps/'\n"
     ]
    },
    {
     "name": "stderr",
     "output_type": "stream",
     "text": [
      "INFO:nimare.utils:Shared path detected: '/home/data/nbc/misc-projects/Salo_NiMARE/nimare-paper/data/neurosynth_dataset_maps/'\n"
     ]
    },
    {
     "name": "stderr",
     "output_type": "stream",
     "text": [
      "INFO:nimare.decode.continuous:Decoding terms_abstract_tfidf__language (133/283): 48/500 studies\n"
     ]
    },
    {
     "name": "stderr",
     "output_type": "stream",
     "text": [
      "INFO:nimare.utils:Shared path detected: '/home/data/nbc/misc-projects/Salo_NiMARE/nimare-paper/data/neurosynth_dataset_maps/'\n"
     ]
    },
    {
     "name": "stderr",
     "output_type": "stream",
     "text": [
      "INFO:nimare.utils:Shared path detected: '/home/data/nbc/misc-projects/Salo_NiMARE/nimare-paper/data/neurosynth_dataset_maps/'\n"
     ]
    },
    {
     "name": "stderr",
     "output_type": "stream",
     "text": [
      "INFO:nimare.decode.continuous:Decoding terms_abstract_tfidf__lateral (134/283): 82/500 studies\n"
     ]
    },
    {
     "name": "stderr",
     "output_type": "stream",
     "text": [
      "INFO:nimare.utils:Shared path detected: '/home/data/nbc/misc-projects/Salo_NiMARE/nimare-paper/data/neurosynth_dataset_maps/'\n"
     ]
    },
    {
     "name": "stderr",
     "output_type": "stream",
     "text": [
      "INFO:nimare.utils:Shared path detected: '/home/data/nbc/misc-projects/Salo_NiMARE/nimare-paper/data/neurosynth_dataset_maps/'\n"
     ]
    },
    {
     "name": "stderr",
     "output_type": "stream",
     "text": [
      "INFO:nimare.decode.continuous:Decoding terms_abstract_tfidf__learning (135/283): 32/500 studies\n"
     ]
    },
    {
     "name": "stderr",
     "output_type": "stream",
     "text": [
      "INFO:nimare.utils:Shared path detected: '/home/data/nbc/misc-projects/Salo_NiMARE/nimare-paper/data/neurosynth_dataset_maps/'\n"
     ]
    },
    {
     "name": "stderr",
     "output_type": "stream",
     "text": [
      "INFO:nimare.utils:Shared path detected: '/home/data/nbc/misc-projects/Salo_NiMARE/nimare-paper/data/neurosynth_dataset_maps/'\n"
     ]
    },
    {
     "name": "stderr",
     "output_type": "stream",
     "text": [
      "INFO:nimare.decode.continuous:Decoding terms_abstract_tfidf__level (136/283): 68/500 studies\n"
     ]
    },
    {
     "name": "stderr",
     "output_type": "stream",
     "text": [
      "INFO:nimare.utils:Shared path detected: '/home/data/nbc/misc-projects/Salo_NiMARE/nimare-paper/data/neurosynth_dataset_maps/'\n"
     ]
    },
    {
     "name": "stderr",
     "output_type": "stream",
     "text": [
      "INFO:nimare.utils:Shared path detected: '/home/data/nbc/misc-projects/Salo_NiMARE/nimare-paper/data/neurosynth_dataset_maps/'\n"
     ]
    },
    {
     "name": "stderr",
     "output_type": "stream",
     "text": [
      "INFO:nimare.decode.continuous:Decoding terms_abstract_tfidf__levels (137/283): 28/500 studies\n"
     ]
    },
    {
     "name": "stderr",
     "output_type": "stream",
     "text": [
      "INFO:nimare.utils:Shared path detected: '/home/data/nbc/misc-projects/Salo_NiMARE/nimare-paper/data/neurosynth_dataset_maps/'\n"
     ]
    },
    {
     "name": "stderr",
     "output_type": "stream",
     "text": [
      "INFO:nimare.utils:Shared path detected: '/home/data/nbc/misc-projects/Salo_NiMARE/nimare-paper/data/neurosynth_dataset_maps/'\n"
     ]
    },
    {
     "name": "stderr",
     "output_type": "stream",
     "text": [
      "INFO:nimare.decode.continuous:Decoding terms_abstract_tfidf__lobe (138/283): 59/500 studies\n"
     ]
    },
    {
     "name": "stderr",
     "output_type": "stream",
     "text": [
      "INFO:nimare.utils:Shared path detected: '/home/data/nbc/misc-projects/Salo_NiMARE/nimare-paper/data/neurosynth_dataset_maps/'\n"
     ]
    },
    {
     "name": "stderr",
     "output_type": "stream",
     "text": [
      "INFO:nimare.utils:Shared path detected: '/home/data/nbc/misc-projects/Salo_NiMARE/nimare-paper/data/neurosynth_dataset_maps/'\n"
     ]
    },
    {
     "name": "stderr",
     "output_type": "stream",
     "text": [
      "INFO:nimare.decode.continuous:Decoding terms_abstract_tfidf__lobule (139/283): 35/500 studies\n"
     ]
    },
    {
     "name": "stderr",
     "output_type": "stream",
     "text": [
      "INFO:nimare.utils:Shared path detected: '/home/data/nbc/misc-projects/Salo_NiMARE/nimare-paper/data/neurosynth_dataset_maps/'\n"
     ]
    },
    {
     "name": "stderr",
     "output_type": "stream",
     "text": [
      "INFO:nimare.utils:Shared path detected: '/home/data/nbc/misc-projects/Salo_NiMARE/nimare-paper/data/neurosynth_dataset_maps/'\n"
     ]
    },
    {
     "name": "stderr",
     "output_type": "stream",
     "text": [
      "INFO:nimare.decode.continuous:Decoding terms_abstract_tfidf__location (140/283): 34/500 studies\n"
     ]
    },
    {
     "name": "stderr",
     "output_type": "stream",
     "text": [
      "INFO:nimare.utils:Shared path detected: '/home/data/nbc/misc-projects/Salo_NiMARE/nimare-paper/data/neurosynth_dataset_maps/'\n"
     ]
    },
    {
     "name": "stderr",
     "output_type": "stream",
     "text": [
      "INFO:nimare.utils:Shared path detected: '/home/data/nbc/misc-projects/Salo_NiMARE/nimare-paper/data/neurosynth_dataset_maps/'\n"
     ]
    },
    {
     "name": "stderr",
     "output_type": "stream",
     "text": [
      "INFO:nimare.decode.continuous:Decoding terms_abstract_tfidf__long (141/283): 25/500 studies\n"
     ]
    },
    {
     "name": "stderr",
     "output_type": "stream",
     "text": [
      "INFO:nimare.utils:Shared path detected: '/home/data/nbc/misc-projects/Salo_NiMARE/nimare-paper/data/neurosynth_dataset_maps/'\n"
     ]
    },
    {
     "name": "stderr",
     "output_type": "stream",
     "text": [
      "INFO:nimare.utils:Shared path detected: '/home/data/nbc/misc-projects/Salo_NiMARE/nimare-paper/data/neurosynth_dataset_maps/'\n"
     ]
    },
    {
     "name": "stderr",
     "output_type": "stream",
     "text": [
      "INFO:nimare.decode.continuous:Decoding terms_abstract_tfidf__magnetic (142/283): 288/500 studies\n"
     ]
    },
    {
     "name": "stderr",
     "output_type": "stream",
     "text": [
      "INFO:nimare.utils:Shared path detected: '/home/data/nbc/misc-projects/Salo_NiMARE/nimare-paper/data/neurosynth_dataset_maps/'\n"
     ]
    },
    {
     "name": "stderr",
     "output_type": "stream",
     "text": [
      "INFO:nimare.utils:Shared path detected: '/home/data/nbc/misc-projects/Salo_NiMARE/nimare-paper/data/neurosynth_dataset_maps/'\n"
     ]
    },
    {
     "name": "stderr",
     "output_type": "stream",
     "text": [
      "INFO:nimare.decode.continuous:Decoding terms_abstract_tfidf__magnetic resonance (143/283): 277/500 studies\n"
     ]
    },
    {
     "name": "stderr",
     "output_type": "stream",
     "text": [
      "INFO:nimare.utils:Shared path detected: '/home/data/nbc/misc-projects/Salo_NiMARE/nimare-paper/data/neurosynth_dataset_maps/'\n"
     ]
    },
    {
     "name": "stderr",
     "output_type": "stream",
     "text": [
      "INFO:nimare.utils:Shared path detected: '/home/data/nbc/misc-projects/Salo_NiMARE/nimare-paper/data/neurosynth_dataset_maps/'\n"
     ]
    },
    {
     "name": "stderr",
     "output_type": "stream",
     "text": [
      "INFO:nimare.decode.continuous:Decoding terms_abstract_tfidf__measure (144/283): 25/500 studies\n"
     ]
    },
    {
     "name": "stderr",
     "output_type": "stream",
     "text": [
      "INFO:nimare.utils:Shared path detected: '/home/data/nbc/misc-projects/Salo_NiMARE/nimare-paper/data/neurosynth_dataset_maps/'\n"
     ]
    },
    {
     "name": "stderr",
     "output_type": "stream",
     "text": [
      "INFO:nimare.utils:Shared path detected: '/home/data/nbc/misc-projects/Salo_NiMARE/nimare-paper/data/neurosynth_dataset_maps/'\n"
     ]
    },
    {
     "name": "stderr",
     "output_type": "stream",
     "text": [
      "INFO:nimare.decode.continuous:Decoding terms_abstract_tfidf__mechanisms (145/283): 50/500 studies\n"
     ]
    },
    {
     "name": "stderr",
     "output_type": "stream",
     "text": [
      "INFO:nimare.utils:Shared path detected: '/home/data/nbc/misc-projects/Salo_NiMARE/nimare-paper/data/neurosynth_dataset_maps/'\n"
     ]
    },
    {
     "name": "stderr",
     "output_type": "stream",
     "text": [
      "INFO:nimare.utils:Shared path detected: '/home/data/nbc/misc-projects/Salo_NiMARE/nimare-paper/data/neurosynth_dataset_maps/'\n"
     ]
    },
    {
     "name": "stderr",
     "output_type": "stream",
     "text": [
      "INFO:nimare.decode.continuous:Decoding terms_abstract_tfidf__medial (146/283): 85/500 studies\n"
     ]
    },
    {
     "name": "stderr",
     "output_type": "stream",
     "text": [
      "INFO:nimare.utils:Shared path detected: '/home/data/nbc/misc-projects/Salo_NiMARE/nimare-paper/data/neurosynth_dataset_maps/'\n"
     ]
    },
    {
     "name": "stderr",
     "output_type": "stream",
     "text": [
      "INFO:nimare.utils:Shared path detected: '/home/data/nbc/misc-projects/Salo_NiMARE/nimare-paper/data/neurosynth_dataset_maps/'\n"
     ]
    },
    {
     "name": "stderr",
     "output_type": "stream",
     "text": [
      "INFO:nimare.decode.continuous:Decoding terms_abstract_tfidf__memory (147/283): 113/500 studies\n"
     ]
    },
    {
     "name": "stderr",
     "output_type": "stream",
     "text": [
      "INFO:nimare.utils:Shared path detected: '/home/data/nbc/misc-projects/Salo_NiMARE/nimare-paper/data/neurosynth_dataset_maps/'\n"
     ]
    },
    {
     "name": "stderr",
     "output_type": "stream",
     "text": [
      "INFO:nimare.utils:Shared path detected: '/home/data/nbc/misc-projects/Salo_NiMARE/nimare-paper/data/neurosynth_dataset_maps/'\n"
     ]
    },
    {
     "name": "stderr",
     "output_type": "stream",
     "text": [
      "INFO:nimare.decode.continuous:Decoding terms_abstract_tfidf__mental (148/283): 26/500 studies\n"
     ]
    },
    {
     "name": "stderr",
     "output_type": "stream",
     "text": [
      "INFO:nimare.utils:Shared path detected: '/home/data/nbc/misc-projects/Salo_NiMARE/nimare-paper/data/neurosynth_dataset_maps/'\n"
     ]
    },
    {
     "name": "stderr",
     "output_type": "stream",
     "text": [
      "INFO:nimare.utils:Shared path detected: '/home/data/nbc/misc-projects/Salo_NiMARE/nimare-paper/data/neurosynth_dataset_maps/'\n"
     ]
    },
    {
     "name": "stderr",
     "output_type": "stream",
     "text": [
      "INFO:nimare.decode.continuous:Decoding terms_abstract_tfidf__methods (149/283): 44/500 studies\n"
     ]
    },
    {
     "name": "stderr",
     "output_type": "stream",
     "text": [
      "INFO:nimare.utils:Shared path detected: '/home/data/nbc/misc-projects/Salo_NiMARE/nimare-paper/data/neurosynth_dataset_maps/'\n"
     ]
    },
    {
     "name": "stderr",
     "output_type": "stream",
     "text": [
      "INFO:nimare.utils:Shared path detected: '/home/data/nbc/misc-projects/Salo_NiMARE/nimare-paper/data/neurosynth_dataset_maps/'\n"
     ]
    },
    {
     "name": "stderr",
     "output_type": "stream",
     "text": [
      "INFO:nimare.decode.continuous:Decoding terms_abstract_tfidf__middle (150/283): 61/500 studies\n"
     ]
    },
    {
     "name": "stderr",
     "output_type": "stream",
     "text": [
      "INFO:nimare.utils:Shared path detected: '/home/data/nbc/misc-projects/Salo_NiMARE/nimare-paper/data/neurosynth_dataset_maps/'\n"
     ]
    },
    {
     "name": "stderr",
     "output_type": "stream",
     "text": [
      "INFO:nimare.utils:Shared path detected: '/home/data/nbc/misc-projects/Salo_NiMARE/nimare-paper/data/neurosynth_dataset_maps/'\n"
     ]
    },
    {
     "name": "stderr",
     "output_type": "stream",
     "text": [
      "INFO:nimare.decode.continuous:Decoding terms_abstract_tfidf__middle temporal (151/283): 25/500 studies\n"
     ]
    },
    {
     "name": "stderr",
     "output_type": "stream",
     "text": [
      "INFO:nimare.utils:Shared path detected: '/home/data/nbc/misc-projects/Salo_NiMARE/nimare-paper/data/neurosynth_dataset_maps/'\n"
     ]
    },
    {
     "name": "stderr",
     "output_type": "stream",
     "text": [
      "INFO:nimare.utils:Shared path detected: '/home/data/nbc/misc-projects/Salo_NiMARE/nimare-paper/data/neurosynth_dataset_maps/'\n"
     ]
    },
    {
     "name": "stderr",
     "output_type": "stream",
     "text": [
      "INFO:nimare.decode.continuous:Decoding terms_abstract_tfidf__model (152/283): 39/500 studies\n"
     ]
    },
    {
     "name": "stderr",
     "output_type": "stream",
     "text": [
      "INFO:nimare.utils:Shared path detected: '/home/data/nbc/misc-projects/Salo_NiMARE/nimare-paper/data/neurosynth_dataset_maps/'\n"
     ]
    },
    {
     "name": "stderr",
     "output_type": "stream",
     "text": [
      "INFO:nimare.utils:Shared path detected: '/home/data/nbc/misc-projects/Salo_NiMARE/nimare-paper/data/neurosynth_dataset_maps/'\n"
     ]
    },
    {
     "name": "stderr",
     "output_type": "stream",
     "text": [
      "INFO:nimare.decode.continuous:Decoding terms_abstract_tfidf__modulated (153/283): 33/500 studies\n"
     ]
    },
    {
     "name": "stderr",
     "output_type": "stream",
     "text": [
      "INFO:nimare.utils:Shared path detected: '/home/data/nbc/misc-projects/Salo_NiMARE/nimare-paper/data/neurosynth_dataset_maps/'\n"
     ]
    },
    {
     "name": "stderr",
     "output_type": "stream",
     "text": [
      "INFO:nimare.utils:Shared path detected: '/home/data/nbc/misc-projects/Salo_NiMARE/nimare-paper/data/neurosynth_dataset_maps/'\n"
     ]
    },
    {
     "name": "stderr",
     "output_type": "stream",
     "text": [
      "INFO:nimare.decode.continuous:Decoding terms_abstract_tfidf__motion (154/283): 25/500 studies\n"
     ]
    },
    {
     "name": "stderr",
     "output_type": "stream",
     "text": [
      "INFO:nimare.utils:Shared path detected: '/home/data/nbc/misc-projects/Salo_NiMARE/nimare-paper/data/neurosynth_dataset_maps/'\n"
     ]
    },
    {
     "name": "stderr",
     "output_type": "stream",
     "text": [
      "INFO:nimare.utils:Shared path detected: '/home/data/nbc/misc-projects/Salo_NiMARE/nimare-paper/data/neurosynth_dataset_maps/'\n"
     ]
    },
    {
     "name": "stderr",
     "output_type": "stream",
     "text": [
      "INFO:nimare.decode.continuous:Decoding terms_abstract_tfidf__motor (155/283): 116/500 studies\n"
     ]
    },
    {
     "name": "stderr",
     "output_type": "stream",
     "text": [
      "INFO:nimare.utils:Shared path detected: '/home/data/nbc/misc-projects/Salo_NiMARE/nimare-paper/data/neurosynth_dataset_maps/'\n"
     ]
    },
    {
     "name": "stderr",
     "output_type": "stream",
     "text": [
      "INFO:nimare.utils:Shared path detected: '/home/data/nbc/misc-projects/Salo_NiMARE/nimare-paper/data/neurosynth_dataset_maps/'\n"
     ]
    },
    {
     "name": "stderr",
     "output_type": "stream",
     "text": [
      "INFO:nimare.decode.continuous:Decoding terms_abstract_tfidf__movement (156/283): 39/500 studies\n"
     ]
    },
    {
     "name": "stderr",
     "output_type": "stream",
     "text": [
      "INFO:nimare.utils:Shared path detected: '/home/data/nbc/misc-projects/Salo_NiMARE/nimare-paper/data/neurosynth_dataset_maps/'\n"
     ]
    },
    {
     "name": "stderr",
     "output_type": "stream",
     "text": [
      "INFO:nimare.utils:Shared path detected: '/home/data/nbc/misc-projects/Salo_NiMARE/nimare-paper/data/neurosynth_dataset_maps/'\n"
     ]
    },
    {
     "name": "stderr",
     "output_type": "stream",
     "text": [
      "INFO:nimare.decode.continuous:Decoding terms_abstract_tfidf__movements (157/283): 36/500 studies\n"
     ]
    },
    {
     "name": "stderr",
     "output_type": "stream",
     "text": [
      "INFO:nimare.utils:Shared path detected: '/home/data/nbc/misc-projects/Salo_NiMARE/nimare-paper/data/neurosynth_dataset_maps/'\n"
     ]
    },
    {
     "name": "stderr",
     "output_type": "stream",
     "text": [
      "INFO:nimare.utils:Shared path detected: '/home/data/nbc/misc-projects/Salo_NiMARE/nimare-paper/data/neurosynth_dataset_maps/'\n"
     ]
    },
    {
     "name": "stderr",
     "output_type": "stream",
     "text": [
      "INFO:nimare.decode.continuous:Decoding terms_abstract_tfidf__multiple (158/283): 28/500 studies\n"
     ]
    },
    {
     "name": "stderr",
     "output_type": "stream",
     "text": [
      "INFO:nimare.utils:Shared path detected: '/home/data/nbc/misc-projects/Salo_NiMARE/nimare-paper/data/neurosynth_dataset_maps/'\n"
     ]
    },
    {
     "name": "stderr",
     "output_type": "stream",
     "text": [
      "INFO:nimare.utils:Shared path detected: '/home/data/nbc/misc-projects/Salo_NiMARE/nimare-paper/data/neurosynth_dataset_maps/'\n"
     ]
    },
    {
     "name": "stderr",
     "output_type": "stream",
     "text": [
      "INFO:nimare.decode.continuous:Decoding terms_abstract_tfidf__negative (159/283): 28/500 studies\n"
     ]
    },
    {
     "name": "stderr",
     "output_type": "stream",
     "text": [
      "INFO:nimare.utils:Shared path detected: '/home/data/nbc/misc-projects/Salo_NiMARE/nimare-paper/data/neurosynth_dataset_maps/'\n"
     ]
    },
    {
     "name": "stderr",
     "output_type": "stream",
     "text": [
      "INFO:nimare.utils:Shared path detected: '/home/data/nbc/misc-projects/Salo_NiMARE/nimare-paper/data/neurosynth_dataset_maps/'\n"
     ]
    },
    {
     "name": "stderr",
     "output_type": "stream",
     "text": [
      "INFO:nimare.decode.continuous:Decoding terms_abstract_tfidf__network (160/283): 92/500 studies\n"
     ]
    },
    {
     "name": "stderr",
     "output_type": "stream",
     "text": [
      "INFO:nimare.utils:Shared path detected: '/home/data/nbc/misc-projects/Salo_NiMARE/nimare-paper/data/neurosynth_dataset_maps/'\n"
     ]
    },
    {
     "name": "stderr",
     "output_type": "stream",
     "text": [
      "INFO:nimare.utils:Shared path detected: '/home/data/nbc/misc-projects/Salo_NiMARE/nimare-paper/data/neurosynth_dataset_maps/'\n"
     ]
    },
    {
     "name": "stderr",
     "output_type": "stream",
     "text": [
      "INFO:nimare.decode.continuous:Decoding terms_abstract_tfidf__neuronal (161/283): 30/500 studies\n"
     ]
    },
    {
     "name": "stderr",
     "output_type": "stream",
     "text": [
      "INFO:nimare.utils:Shared path detected: '/home/data/nbc/misc-projects/Salo_NiMARE/nimare-paper/data/neurosynth_dataset_maps/'\n"
     ]
    },
    {
     "name": "stderr",
     "output_type": "stream",
     "text": [
      "INFO:nimare.utils:Shared path detected: '/home/data/nbc/misc-projects/Salo_NiMARE/nimare-paper/data/neurosynth_dataset_maps/'\n"
     ]
    },
    {
     "name": "stderr",
     "output_type": "stream",
     "text": [
      "INFO:nimare.decode.continuous:Decoding terms_abstract_tfidf__neutral (162/283): 34/500 studies\n"
     ]
    },
    {
     "name": "stderr",
     "output_type": "stream",
     "text": [
      "INFO:nimare.utils:Shared path detected: '/home/data/nbc/misc-projects/Salo_NiMARE/nimare-paper/data/neurosynth_dataset_maps/'\n"
     ]
    },
    {
     "name": "stderr",
     "output_type": "stream",
     "text": [
      "INFO:nimare.utils:Shared path detected: '/home/data/nbc/misc-projects/Salo_NiMARE/nimare-paper/data/neurosynth_dataset_maps/'\n"
     ]
    },
    {
     "name": "stderr",
     "output_type": "stream",
     "text": [
      "INFO:nimare.decode.continuous:Decoding terms_abstract_tfidf__new (163/283): 25/500 studies\n"
     ]
    },
    {
     "name": "stderr",
     "output_type": "stream",
     "text": [
      "INFO:nimare.utils:Shared path detected: '/home/data/nbc/misc-projects/Salo_NiMARE/nimare-paper/data/neurosynth_dataset_maps/'\n"
     ]
    },
    {
     "name": "stderr",
     "output_type": "stream",
     "text": [
      "INFO:nimare.utils:Shared path detected: '/home/data/nbc/misc-projects/Salo_NiMARE/nimare-paper/data/neurosynth_dataset_maps/'\n"
     ]
    },
    {
     "name": "stderr",
     "output_type": "stream",
     "text": [
      "INFO:nimare.decode.continuous:Decoding terms_abstract_tfidf__non (164/283): 63/500 studies\n"
     ]
    },
    {
     "name": "stderr",
     "output_type": "stream",
     "text": [
      "INFO:nimare.utils:Shared path detected: '/home/data/nbc/misc-projects/Salo_NiMARE/nimare-paper/data/neurosynth_dataset_maps/'\n"
     ]
    },
    {
     "name": "stderr",
     "output_type": "stream",
     "text": [
      "INFO:nimare.utils:Shared path detected: '/home/data/nbc/misc-projects/Salo_NiMARE/nimare-paper/data/neurosynth_dataset_maps/'\n"
     ]
    },
    {
     "name": "stderr",
     "output_type": "stream",
     "text": [
      "INFO:nimare.decode.continuous:Decoding terms_abstract_tfidf__normal (165/283): 72/500 studies\n"
     ]
    },
    {
     "name": "stderr",
     "output_type": "stream",
     "text": [
      "INFO:nimare.utils:Shared path detected: '/home/data/nbc/misc-projects/Salo_NiMARE/nimare-paper/data/neurosynth_dataset_maps/'\n"
     ]
    },
    {
     "name": "stderr",
     "output_type": "stream",
     "text": [
      "INFO:nimare.utils:Shared path detected: '/home/data/nbc/misc-projects/Salo_NiMARE/nimare-paper/data/neurosynth_dataset_maps/'\n"
     ]
    },
    {
     "name": "stderr",
     "output_type": "stream",
     "text": [
      "INFO:nimare.decode.continuous:Decoding terms_abstract_tfidf__novel (166/283): 29/500 studies\n"
     ]
    },
    {
     "name": "stderr",
     "output_type": "stream",
     "text": [
      "INFO:nimare.utils:Shared path detected: '/home/data/nbc/misc-projects/Salo_NiMARE/nimare-paper/data/neurosynth_dataset_maps/'\n"
     ]
    },
    {
     "name": "stderr",
     "output_type": "stream",
     "text": [
      "INFO:nimare.utils:Shared path detected: '/home/data/nbc/misc-projects/Salo_NiMARE/nimare-paper/data/neurosynth_dataset_maps/'\n"
     ]
    },
    {
     "name": "stderr",
     "output_type": "stream",
     "text": [
      "INFO:nimare.decode.continuous:Decoding terms_abstract_tfidf__number (167/283): 36/500 studies\n"
     ]
    },
    {
     "name": "stderr",
     "output_type": "stream",
     "text": [
      "INFO:nimare.utils:Shared path detected: '/home/data/nbc/misc-projects/Salo_NiMARE/nimare-paper/data/neurosynth_dataset_maps/'\n"
     ]
    },
    {
     "name": "stderr",
     "output_type": "stream",
     "text": [
      "INFO:nimare.utils:Shared path detected: '/home/data/nbc/misc-projects/Salo_NiMARE/nimare-paper/data/neurosynth_dataset_maps/'\n"
     ]
    },
    {
     "name": "stderr",
     "output_type": "stream",
     "text": [
      "INFO:nimare.decode.continuous:Decoding terms_abstract_tfidf__object (168/283): 38/500 studies\n"
     ]
    },
    {
     "name": "stderr",
     "output_type": "stream",
     "text": [
      "INFO:nimare.utils:Shared path detected: '/home/data/nbc/misc-projects/Salo_NiMARE/nimare-paper/data/neurosynth_dataset_maps/'\n"
     ]
    },
    {
     "name": "stderr",
     "output_type": "stream",
     "text": [
      "INFO:nimare.utils:Shared path detected: '/home/data/nbc/misc-projects/Salo_NiMARE/nimare-paper/data/neurosynth_dataset_maps/'\n"
     ]
    },
    {
     "name": "stderr",
     "output_type": "stream",
     "text": [
      "INFO:nimare.decode.continuous:Decoding terms_abstract_tfidf__objects (169/283): 33/500 studies\n"
     ]
    },
    {
     "name": "stderr",
     "output_type": "stream",
     "text": [
      "INFO:nimare.utils:Shared path detected: '/home/data/nbc/misc-projects/Salo_NiMARE/nimare-paper/data/neurosynth_dataset_maps/'\n"
     ]
    },
    {
     "name": "stderr",
     "output_type": "stream",
     "text": [
      "INFO:nimare.utils:Shared path detected: '/home/data/nbc/misc-projects/Salo_NiMARE/nimare-paper/data/neurosynth_dataset_maps/'\n"
     ]
    },
    {
     "name": "stderr",
     "output_type": "stream",
     "text": [
      "INFO:nimare.decode.continuous:Decoding terms_abstract_tfidf__obtained (170/283): 28/500 studies\n"
     ]
    },
    {
     "name": "stderr",
     "output_type": "stream",
     "text": [
      "INFO:nimare.utils:Shared path detected: '/home/data/nbc/misc-projects/Salo_NiMARE/nimare-paper/data/neurosynth_dataset_maps/'\n"
     ]
    },
    {
     "name": "stderr",
     "output_type": "stream",
     "text": [
      "INFO:nimare.utils:Shared path detected: '/home/data/nbc/misc-projects/Salo_NiMARE/nimare-paper/data/neurosynth_dataset_maps/'\n"
     ]
    },
    {
     "name": "stderr",
     "output_type": "stream",
     "text": [
      "INFO:nimare.decode.continuous:Decoding terms_abstract_tfidf__occipital (171/283): 68/500 studies\n"
     ]
    },
    {
     "name": "stderr",
     "output_type": "stream",
     "text": [
      "INFO:nimare.utils:Shared path detected: '/home/data/nbc/misc-projects/Salo_NiMARE/nimare-paper/data/neurosynth_dataset_maps/'\n"
     ]
    },
    {
     "name": "stderr",
     "output_type": "stream",
     "text": [
      "INFO:nimare.utils:Shared path detected: '/home/data/nbc/misc-projects/Salo_NiMARE/nimare-paper/data/neurosynth_dataset_maps/'\n"
     ]
    },
    {
     "name": "stderr",
     "output_type": "stream",
     "text": [
      "INFO:nimare.decode.continuous:Decoding terms_abstract_tfidf__order (172/283): 46/500 studies\n"
     ]
    },
    {
     "name": "stderr",
     "output_type": "stream",
     "text": [
      "INFO:nimare.utils:Shared path detected: '/home/data/nbc/misc-projects/Salo_NiMARE/nimare-paper/data/neurosynth_dataset_maps/'\n"
     ]
    },
    {
     "name": "stderr",
     "output_type": "stream",
     "text": [
      "INFO:nimare.utils:Shared path detected: '/home/data/nbc/misc-projects/Salo_NiMARE/nimare-paper/data/neurosynth_dataset_maps/'\n"
     ]
    },
    {
     "name": "stderr",
     "output_type": "stream",
     "text": [
      "INFO:nimare.decode.continuous:Decoding terms_abstract_tfidf__organization (173/283): 32/500 studies\n"
     ]
    },
    {
     "name": "stderr",
     "output_type": "stream",
     "text": [
      "INFO:nimare.utils:Shared path detected: '/home/data/nbc/misc-projects/Salo_NiMARE/nimare-paper/data/neurosynth_dataset_maps/'\n"
     ]
    },
    {
     "name": "stderr",
     "output_type": "stream",
     "text": [
      "INFO:nimare.utils:Shared path detected: '/home/data/nbc/misc-projects/Salo_NiMARE/nimare-paper/data/neurosynth_dataset_maps/'\n"
     ]
    },
    {
     "name": "stderr",
     "output_type": "stream",
     "text": [
      "INFO:nimare.decode.continuous:Decoding terms_abstract_tfidf__paradigm (174/283): 35/500 studies\n"
     ]
    },
    {
     "name": "stderr",
     "output_type": "stream",
     "text": [
      "INFO:nimare.utils:Shared path detected: '/home/data/nbc/misc-projects/Salo_NiMARE/nimare-paper/data/neurosynth_dataset_maps/'\n"
     ]
    },
    {
     "name": "stderr",
     "output_type": "stream",
     "text": [
      "INFO:nimare.utils:Shared path detected: '/home/data/nbc/misc-projects/Salo_NiMARE/nimare-paper/data/neurosynth_dataset_maps/'\n"
     ]
    },
    {
     "name": "stderr",
     "output_type": "stream",
     "text": [
      "INFO:nimare.decode.continuous:Decoding terms_abstract_tfidf__parietal (175/283): 197/500 studies\n"
     ]
    },
    {
     "name": "stderr",
     "output_type": "stream",
     "text": [
      "INFO:nimare.utils:Shared path detected: '/home/data/nbc/misc-projects/Salo_NiMARE/nimare-paper/data/neurosynth_dataset_maps/'\n"
     ]
    },
    {
     "name": "stderr",
     "output_type": "stream",
     "text": [
      "INFO:nimare.utils:Shared path detected: '/home/data/nbc/misc-projects/Salo_NiMARE/nimare-paper/data/neurosynth_dataset_maps/'\n"
     ]
    },
    {
     "name": "stderr",
     "output_type": "stream",
     "text": [
      "INFO:nimare.decode.continuous:Decoding terms_abstract_tfidf__parietal cortex (176/283): 70/500 studies\n"
     ]
    },
    {
     "name": "stderr",
     "output_type": "stream",
     "text": [
      "INFO:nimare.utils:Shared path detected: '/home/data/nbc/misc-projects/Salo_NiMARE/nimare-paper/data/neurosynth_dataset_maps/'\n"
     ]
    },
    {
     "name": "stderr",
     "output_type": "stream",
     "text": [
      "INFO:nimare.utils:Shared path detected: '/home/data/nbc/misc-projects/Salo_NiMARE/nimare-paper/data/neurosynth_dataset_maps/'\n"
     ]
    },
    {
     "name": "stderr",
     "output_type": "stream",
     "text": [
      "INFO:nimare.decode.continuous:Decoding terms_abstract_tfidf__parietal lobule (177/283): 31/500 studies\n"
     ]
    },
    {
     "name": "stderr",
     "output_type": "stream",
     "text": [
      "INFO:nimare.utils:Shared path detected: '/home/data/nbc/misc-projects/Salo_NiMARE/nimare-paper/data/neurosynth_dataset_maps/'\n"
     ]
    },
    {
     "name": "stderr",
     "output_type": "stream",
     "text": [
      "INFO:nimare.utils:Shared path detected: '/home/data/nbc/misc-projects/Salo_NiMARE/nimare-paper/data/neurosynth_dataset_maps/'\n"
     ]
    },
    {
     "name": "stderr",
     "output_type": "stream",
     "text": [
      "INFO:nimare.decode.continuous:Decoding terms_abstract_tfidf__particular (178/283): 28/500 studies\n"
     ]
    },
    {
     "name": "stderr",
     "output_type": "stream",
     "text": [
      "INFO:nimare.utils:Shared path detected: '/home/data/nbc/misc-projects/Salo_NiMARE/nimare-paper/data/neurosynth_dataset_maps/'\n"
     ]
    },
    {
     "name": "stderr",
     "output_type": "stream",
     "text": [
      "INFO:nimare.utils:Shared path detected: '/home/data/nbc/misc-projects/Salo_NiMARE/nimare-paper/data/neurosynth_dataset_maps/'\n"
     ]
    },
    {
     "name": "stderr",
     "output_type": "stream",
     "text": [
      "INFO:nimare.decode.continuous:Decoding terms_abstract_tfidf__pattern (179/283): 55/500 studies\n"
     ]
    },
    {
     "name": "stderr",
     "output_type": "stream",
     "text": [
      "INFO:nimare.utils:Shared path detected: '/home/data/nbc/misc-projects/Salo_NiMARE/nimare-paper/data/neurosynth_dataset_maps/'\n"
     ]
    },
    {
     "name": "stderr",
     "output_type": "stream",
     "text": [
      "INFO:nimare.utils:Shared path detected: '/home/data/nbc/misc-projects/Salo_NiMARE/nimare-paper/data/neurosynth_dataset_maps/'\n"
     ]
    },
    {
     "name": "stderr",
     "output_type": "stream",
     "text": [
      "INFO:nimare.decode.continuous:Decoding terms_abstract_tfidf__patterns (180/283): 56/500 studies\n"
     ]
    },
    {
     "name": "stderr",
     "output_type": "stream",
     "text": [
      "INFO:nimare.utils:Shared path detected: '/home/data/nbc/misc-projects/Salo_NiMARE/nimare-paper/data/neurosynth_dataset_maps/'\n"
     ]
    },
    {
     "name": "stderr",
     "output_type": "stream",
     "text": [
      "INFO:nimare.utils:Shared path detected: '/home/data/nbc/misc-projects/Salo_NiMARE/nimare-paper/data/neurosynth_dataset_maps/'\n"
     ]
    },
    {
     "name": "stderr",
     "output_type": "stream",
     "text": [
      "INFO:nimare.decode.continuous:Decoding terms_abstract_tfidf__perception (181/283): 46/500 studies\n"
     ]
    },
    {
     "name": "stderr",
     "output_type": "stream",
     "text": [
      "INFO:nimare.utils:Shared path detected: '/home/data/nbc/misc-projects/Salo_NiMARE/nimare-paper/data/neurosynth_dataset_maps/'\n"
     ]
    },
    {
     "name": "stderr",
     "output_type": "stream",
     "text": [
      "INFO:nimare.utils:Shared path detected: '/home/data/nbc/misc-projects/Salo_NiMARE/nimare-paper/data/neurosynth_dataset_maps/'\n"
     ]
    },
    {
     "name": "stderr",
     "output_type": "stream",
     "text": [
      "INFO:nimare.decode.continuous:Decoding terms_abstract_tfidf__perceptual (182/283): 35/500 studies\n"
     ]
    },
    {
     "name": "stderr",
     "output_type": "stream",
     "text": [
      "INFO:nimare.utils:Shared path detected: '/home/data/nbc/misc-projects/Salo_NiMARE/nimare-paper/data/neurosynth_dataset_maps/'\n"
     ]
    },
    {
     "name": "stderr",
     "output_type": "stream",
     "text": [
      "INFO:nimare.utils:Shared path detected: '/home/data/nbc/misc-projects/Salo_NiMARE/nimare-paper/data/neurosynth_dataset_maps/'\n"
     ]
    },
    {
     "name": "stderr",
     "output_type": "stream",
     "text": [
      "INFO:nimare.decode.continuous:Decoding terms_abstract_tfidf__performance (183/283): 95/500 studies\n"
     ]
    },
    {
     "name": "stderr",
     "output_type": "stream",
     "text": [
      "INFO:nimare.utils:Shared path detected: '/home/data/nbc/misc-projects/Salo_NiMARE/nimare-paper/data/neurosynth_dataset_maps/'\n"
     ]
    },
    {
     "name": "stderr",
     "output_type": "stream",
     "text": [
      "INFO:nimare.utils:Shared path detected: '/home/data/nbc/misc-projects/Salo_NiMARE/nimare-paper/data/neurosynth_dataset_maps/'\n"
     ]
    },
    {
     "name": "stderr",
     "output_type": "stream",
     "text": [
      "INFO:nimare.decode.continuous:Decoding terms_abstract_tfidf__performing (184/283): 31/500 studies\n"
     ]
    },
    {
     "name": "stderr",
     "output_type": "stream",
     "text": [
      "INFO:nimare.utils:Shared path detected: '/home/data/nbc/misc-projects/Salo_NiMARE/nimare-paper/data/neurosynth_dataset_maps/'\n"
     ]
    },
    {
     "name": "stderr",
     "output_type": "stream",
     "text": [
      "INFO:nimare.utils:Shared path detected: '/home/data/nbc/misc-projects/Salo_NiMARE/nimare-paper/data/neurosynth_dataset_maps/'\n"
     ]
    },
    {
     "name": "stderr",
     "output_type": "stream",
     "text": [
      "INFO:nimare.decode.continuous:Decoding terms_abstract_tfidf__pet (185/283): 28/500 studies\n"
     ]
    },
    {
     "name": "stderr",
     "output_type": "stream",
     "text": [
      "INFO:nimare.utils:Shared path detected: '/home/data/nbc/misc-projects/Salo_NiMARE/nimare-paper/data/neurosynth_dataset_maps/'\n"
     ]
    },
    {
     "name": "stderr",
     "output_type": "stream",
     "text": [
      "INFO:nimare.utils:Shared path detected: '/home/data/nbc/misc-projects/Salo_NiMARE/nimare-paper/data/neurosynth_dataset_maps/'\n"
     ]
    },
    {
     "name": "stderr",
     "output_type": "stream",
     "text": [
      "INFO:nimare.decode.continuous:Decoding terms_abstract_tfidf__positron (186/283): 30/500 studies\n"
     ]
    },
    {
     "name": "stderr",
     "output_type": "stream",
     "text": [
      "INFO:nimare.utils:Shared path detected: '/home/data/nbc/misc-projects/Salo_NiMARE/nimare-paper/data/neurosynth_dataset_maps/'\n"
     ]
    },
    {
     "name": "stderr",
     "output_type": "stream",
     "text": [
      "INFO:nimare.utils:Shared path detected: '/home/data/nbc/misc-projects/Salo_NiMARE/nimare-paper/data/neurosynth_dataset_maps/'\n"
     ]
    },
    {
     "name": "stderr",
     "output_type": "stream",
     "text": [
      "INFO:nimare.decode.continuous:Decoding terms_abstract_tfidf__positron emission (187/283): 30/500 studies\n"
     ]
    },
    {
     "name": "stderr",
     "output_type": "stream",
     "text": [
      "INFO:nimare.utils:Shared path detected: '/home/data/nbc/misc-projects/Salo_NiMARE/nimare-paper/data/neurosynth_dataset_maps/'\n"
     ]
    },
    {
     "name": "stderr",
     "output_type": "stream",
     "text": [
      "INFO:nimare.utils:Shared path detected: '/home/data/nbc/misc-projects/Salo_NiMARE/nimare-paper/data/neurosynth_dataset_maps/'\n"
     ]
    },
    {
     "name": "stderr",
     "output_type": "stream",
     "text": [
      "INFO:nimare.decode.continuous:Decoding terms_abstract_tfidf__posterior (188/283): 159/500 studies\n"
     ]
    },
    {
     "name": "stderr",
     "output_type": "stream",
     "text": [
      "INFO:nimare.utils:Shared path detected: '/home/data/nbc/misc-projects/Salo_NiMARE/nimare-paper/data/neurosynth_dataset_maps/'\n"
     ]
    },
    {
     "name": "stderr",
     "output_type": "stream",
     "text": [
      "INFO:nimare.utils:Shared path detected: '/home/data/nbc/misc-projects/Salo_NiMARE/nimare-paper/data/neurosynth_dataset_maps/'\n"
     ]
    },
    {
     "name": "stderr",
     "output_type": "stream",
     "text": [
      "INFO:nimare.decode.continuous:Decoding terms_abstract_tfidf__posterior parietal (189/283): 42/500 studies\n"
     ]
    },
    {
     "name": "stderr",
     "output_type": "stream",
     "text": [
      "INFO:nimare.utils:Shared path detected: '/home/data/nbc/misc-projects/Salo_NiMARE/nimare-paper/data/neurosynth_dataset_maps/'\n"
     ]
    },
    {
     "name": "stderr",
     "output_type": "stream",
     "text": [
      "INFO:nimare.utils:Shared path detected: '/home/data/nbc/misc-projects/Salo_NiMARE/nimare-paper/data/neurosynth_dataset_maps/'\n"
     ]
    },
    {
     "name": "stderr",
     "output_type": "stream",
     "text": [
      "INFO:nimare.decode.continuous:Decoding terms_abstract_tfidf__precentral (190/283): 26/500 studies\n"
     ]
    },
    {
     "name": "stderr",
     "output_type": "stream",
     "text": [
      "INFO:nimare.utils:Shared path detected: '/home/data/nbc/misc-projects/Salo_NiMARE/nimare-paper/data/neurosynth_dataset_maps/'\n"
     ]
    },
    {
     "name": "stderr",
     "output_type": "stream",
     "text": [
      "INFO:nimare.utils:Shared path detected: '/home/data/nbc/misc-projects/Salo_NiMARE/nimare-paper/data/neurosynth_dataset_maps/'\n"
     ]
    },
    {
     "name": "stderr",
     "output_type": "stream",
     "text": [
      "INFO:nimare.decode.continuous:Decoding terms_abstract_tfidf__prefrontal (191/283): 176/500 studies\n"
     ]
    },
    {
     "name": "stderr",
     "output_type": "stream",
     "text": [
      "INFO:nimare.utils:Shared path detected: '/home/data/nbc/misc-projects/Salo_NiMARE/nimare-paper/data/neurosynth_dataset_maps/'\n"
     ]
    },
    {
     "name": "stderr",
     "output_type": "stream",
     "text": [
      "INFO:nimare.utils:Shared path detected: '/home/data/nbc/misc-projects/Salo_NiMARE/nimare-paper/data/neurosynth_dataset_maps/'\n"
     ]
    },
    {
     "name": "stderr",
     "output_type": "stream",
     "text": [
      "INFO:nimare.decode.continuous:Decoding terms_abstract_tfidf__prefrontal cortex (192/283): 120/500 studies\n"
     ]
    },
    {
     "name": "stderr",
     "output_type": "stream",
     "text": [
      "INFO:nimare.utils:Shared path detected: '/home/data/nbc/misc-projects/Salo_NiMARE/nimare-paper/data/neurosynth_dataset_maps/'\n"
     ]
    },
    {
     "name": "stderr",
     "output_type": "stream",
     "text": [
      "INFO:nimare.utils:Shared path detected: '/home/data/nbc/misc-projects/Salo_NiMARE/nimare-paper/data/neurosynth_dataset_maps/'\n"
     ]
    },
    {
     "name": "stderr",
     "output_type": "stream",
     "text": [
      "INFO:nimare.decode.continuous:Decoding terms_abstract_tfidf__premotor (193/283): 78/500 studies\n"
     ]
    },
    {
     "name": "stderr",
     "output_type": "stream",
     "text": [
      "INFO:nimare.utils:Shared path detected: '/home/data/nbc/misc-projects/Salo_NiMARE/nimare-paper/data/neurosynth_dataset_maps/'\n"
     ]
    },
    {
     "name": "stderr",
     "output_type": "stream",
     "text": [
      "INFO:nimare.utils:Shared path detected: '/home/data/nbc/misc-projects/Salo_NiMARE/nimare-paper/data/neurosynth_dataset_maps/'\n"
     ]
    },
    {
     "name": "stderr",
     "output_type": "stream",
     "text": [
      "INFO:nimare.decode.continuous:Decoding terms_abstract_tfidf__premotor cortex (194/283): 44/500 studies\n"
     ]
    },
    {
     "name": "stderr",
     "output_type": "stream",
     "text": [
      "INFO:nimare.utils:Shared path detected: '/home/data/nbc/misc-projects/Salo_NiMARE/nimare-paper/data/neurosynth_dataset_maps/'\n"
     ]
    },
    {
     "name": "stderr",
     "output_type": "stream",
     "text": [
      "INFO:nimare.utils:Shared path detected: '/home/data/nbc/misc-projects/Salo_NiMARE/nimare-paper/data/neurosynth_dataset_maps/'\n"
     ]
    },
    {
     "name": "stderr",
     "output_type": "stream",
     "text": [
      "INFO:nimare.decode.continuous:Decoding terms_abstract_tfidf__presented (195/283): 74/500 studies\n"
     ]
    },
    {
     "name": "stderr",
     "output_type": "stream",
     "text": [
      "INFO:nimare.utils:Shared path detected: '/home/data/nbc/misc-projects/Salo_NiMARE/nimare-paper/data/neurosynth_dataset_maps/'\n"
     ]
    },
    {
     "name": "stderr",
     "output_type": "stream",
     "text": [
      "INFO:nimare.utils:Shared path detected: '/home/data/nbc/misc-projects/Salo_NiMARE/nimare-paper/data/neurosynth_dataset_maps/'\n"
     ]
    },
    {
     "name": "stderr",
     "output_type": "stream",
     "text": [
      "INFO:nimare.decode.continuous:Decoding terms_abstract_tfidf__previous (196/283): 59/500 studies\n"
     ]
    },
    {
     "name": "stderr",
     "output_type": "stream",
     "text": [
      "INFO:nimare.utils:Shared path detected: '/home/data/nbc/misc-projects/Salo_NiMARE/nimare-paper/data/neurosynth_dataset_maps/'\n"
     ]
    },
    {
     "name": "stderr",
     "output_type": "stream",
     "text": [
      "INFO:nimare.utils:Shared path detected: '/home/data/nbc/misc-projects/Salo_NiMARE/nimare-paper/data/neurosynth_dataset_maps/'\n"
     ]
    },
    {
     "name": "stderr",
     "output_type": "stream",
     "text": [
      "INFO:nimare.decode.continuous:Decoding terms_abstract_tfidf__primary (197/283): 69/500 studies\n"
     ]
    },
    {
     "name": "stderr",
     "output_type": "stream",
     "text": [
      "INFO:nimare.utils:Shared path detected: '/home/data/nbc/misc-projects/Salo_NiMARE/nimare-paper/data/neurosynth_dataset_maps/'\n"
     ]
    },
    {
     "name": "stderr",
     "output_type": "stream",
     "text": [
      "INFO:nimare.utils:Shared path detected: '/home/data/nbc/misc-projects/Salo_NiMARE/nimare-paper/data/neurosynth_dataset_maps/'\n"
     ]
    },
    {
     "name": "stderr",
     "output_type": "stream",
     "text": [
      "INFO:nimare.decode.continuous:Decoding terms_abstract_tfidf__process (198/283): 31/500 studies\n"
     ]
    },
    {
     "name": "stderr",
     "output_type": "stream",
     "text": [
      "INFO:nimare.utils:Shared path detected: '/home/data/nbc/misc-projects/Salo_NiMARE/nimare-paper/data/neurosynth_dataset_maps/'\n"
     ]
    },
    {
     "name": "stderr",
     "output_type": "stream",
     "text": [
      "INFO:nimare.utils:Shared path detected: '/home/data/nbc/misc-projects/Salo_NiMARE/nimare-paper/data/neurosynth_dataset_maps/'\n"
     ]
    },
    {
     "name": "stderr",
     "output_type": "stream",
     "text": [
      "INFO:nimare.decode.continuous:Decoding terms_abstract_tfidf__processes (199/283): 91/500 studies\n"
     ]
    },
    {
     "name": "stderr",
     "output_type": "stream",
     "text": [
      "INFO:nimare.utils:Shared path detected: '/home/data/nbc/misc-projects/Salo_NiMARE/nimare-paper/data/neurosynth_dataset_maps/'\n"
     ]
    },
    {
     "name": "stderr",
     "output_type": "stream",
     "text": [
      "INFO:nimare.utils:Shared path detected: '/home/data/nbc/misc-projects/Salo_NiMARE/nimare-paper/data/neurosynth_dataset_maps/'\n"
     ]
    },
    {
     "name": "stderr",
     "output_type": "stream",
     "text": [
      "INFO:nimare.decode.continuous:Decoding terms_abstract_tfidf__produced (200/283): 33/500 studies\n"
     ]
    },
    {
     "name": "stderr",
     "output_type": "stream",
     "text": [
      "INFO:nimare.utils:Shared path detected: '/home/data/nbc/misc-projects/Salo_NiMARE/nimare-paper/data/neurosynth_dataset_maps/'\n"
     ]
    },
    {
     "name": "stderr",
     "output_type": "stream",
     "text": [
      "INFO:nimare.utils:Shared path detected: '/home/data/nbc/misc-projects/Salo_NiMARE/nimare-paper/data/neurosynth_dataset_maps/'\n"
     ]
    },
    {
     "name": "stderr",
     "output_type": "stream",
     "text": [
      "INFO:nimare.decode.continuous:Decoding terms_abstract_tfidf__provide (201/283): 53/500 studies\n"
     ]
    },
    {
     "name": "stderr",
     "output_type": "stream",
     "text": [
      "INFO:nimare.utils:Shared path detected: '/home/data/nbc/misc-projects/Salo_NiMARE/nimare-paper/data/neurosynth_dataset_maps/'\n"
     ]
    },
    {
     "name": "stderr",
     "output_type": "stream",
     "text": [
      "INFO:nimare.utils:Shared path detected: '/home/data/nbc/misc-projects/Salo_NiMARE/nimare-paper/data/neurosynth_dataset_maps/'\n"
     ]
    },
    {
     "name": "stderr",
     "output_type": "stream",
     "text": [
      "INFO:nimare.decode.continuous:Decoding terms_abstract_tfidf__reaction (202/283): 25/500 studies\n"
     ]
    },
    {
     "name": "stderr",
     "output_type": "stream",
     "text": [
      "INFO:nimare.utils:Shared path detected: '/home/data/nbc/misc-projects/Salo_NiMARE/nimare-paper/data/neurosynth_dataset_maps/'\n"
     ]
    },
    {
     "name": "stderr",
     "output_type": "stream",
     "text": [
      "INFO:nimare.utils:Shared path detected: '/home/data/nbc/misc-projects/Salo_NiMARE/nimare-paper/data/neurosynth_dataset_maps/'\n"
     ]
    },
    {
     "name": "stderr",
     "output_type": "stream",
     "text": [
      "INFO:nimare.decode.continuous:Decoding terms_abstract_tfidf__recognition (203/283): 43/500 studies\n"
     ]
    },
    {
     "name": "stderr",
     "output_type": "stream",
     "text": [
      "INFO:nimare.utils:Shared path detected: '/home/data/nbc/misc-projects/Salo_NiMARE/nimare-paper/data/neurosynth_dataset_maps/'\n"
     ]
    },
    {
     "name": "stderr",
     "output_type": "stream",
     "text": [
      "INFO:nimare.utils:Shared path detected: '/home/data/nbc/misc-projects/Salo_NiMARE/nimare-paper/data/neurosynth_dataset_maps/'\n"
     ]
    },
    {
     "name": "stderr",
     "output_type": "stream",
     "text": [
      "INFO:nimare.decode.continuous:Decoding terms_abstract_tfidf__recruited (204/283): 25/500 studies\n"
     ]
    },
    {
     "name": "stderr",
     "output_type": "stream",
     "text": [
      "INFO:nimare.utils:Shared path detected: '/home/data/nbc/misc-projects/Salo_NiMARE/nimare-paper/data/neurosynth_dataset_maps/'\n"
     ]
    },
    {
     "name": "stderr",
     "output_type": "stream",
     "text": [
      "INFO:nimare.utils:Shared path detected: '/home/data/nbc/misc-projects/Salo_NiMARE/nimare-paper/data/neurosynth_dataset_maps/'\n"
     ]
    },
    {
     "name": "stderr",
     "output_type": "stream",
     "text": [
      "INFO:nimare.decode.continuous:Decoding terms_abstract_tfidf__reflect (205/283): 30/500 studies\n"
     ]
    },
    {
     "name": "stderr",
     "output_type": "stream",
     "text": [
      "INFO:nimare.utils:Shared path detected: '/home/data/nbc/misc-projects/Salo_NiMARE/nimare-paper/data/neurosynth_dataset_maps/'\n"
     ]
    },
    {
     "name": "stderr",
     "output_type": "stream",
     "text": [
      "INFO:nimare.utils:Shared path detected: '/home/data/nbc/misc-projects/Salo_NiMARE/nimare-paper/data/neurosynth_dataset_maps/'\n"
     ]
    },
    {
     "name": "stderr",
     "output_type": "stream",
     "text": [
      "INFO:nimare.decode.continuous:Decoding terms_abstract_tfidf__regional (206/283): 34/500 studies\n"
     ]
    },
    {
     "name": "stderr",
     "output_type": "stream",
     "text": [
      "INFO:nimare.utils:Shared path detected: '/home/data/nbc/misc-projects/Salo_NiMARE/nimare-paper/data/neurosynth_dataset_maps/'\n"
     ]
    },
    {
     "name": "stderr",
     "output_type": "stream",
     "text": [
      "INFO:nimare.utils:Shared path detected: '/home/data/nbc/misc-projects/Salo_NiMARE/nimare-paper/data/neurosynth_dataset_maps/'\n"
     ]
    },
    {
     "name": "stderr",
     "output_type": "stream",
     "text": [
      "INFO:nimare.decode.continuous:Decoding terms_abstract_tfidf__relevant (207/283): 25/500 studies\n"
     ]
    },
    {
     "name": "stderr",
     "output_type": "stream",
     "text": [
      "INFO:nimare.utils:Shared path detected: '/home/data/nbc/misc-projects/Salo_NiMARE/nimare-paper/data/neurosynth_dataset_maps/'\n"
     ]
    },
    {
     "name": "stderr",
     "output_type": "stream",
     "text": [
      "INFO:nimare.utils:Shared path detected: '/home/data/nbc/misc-projects/Salo_NiMARE/nimare-paper/data/neurosynth_dataset_maps/'\n"
     ]
    },
    {
     "name": "stderr",
     "output_type": "stream",
     "text": [
      "INFO:nimare.decode.continuous:Decoding terms_abstract_tfidf__representation (208/283): 41/500 studies\n"
     ]
    },
    {
     "name": "stderr",
     "output_type": "stream",
     "text": [
      "INFO:nimare.utils:Shared path detected: '/home/data/nbc/misc-projects/Salo_NiMARE/nimare-paper/data/neurosynth_dataset_maps/'\n"
     ]
    },
    {
     "name": "stderr",
     "output_type": "stream",
     "text": [
      "INFO:nimare.utils:Shared path detected: '/home/data/nbc/misc-projects/Salo_NiMARE/nimare-paper/data/neurosynth_dataset_maps/'\n"
     ]
    },
    {
     "name": "stderr",
     "output_type": "stream",
     "text": [
      "INFO:nimare.decode.continuous:Decoding terms_abstract_tfidf__representations (209/283): 27/500 studies\n"
     ]
    },
    {
     "name": "stderr",
     "output_type": "stream",
     "text": [
      "INFO:nimare.utils:Shared path detected: '/home/data/nbc/misc-projects/Salo_NiMARE/nimare-paper/data/neurosynth_dataset_maps/'\n"
     ]
    },
    {
     "name": "stderr",
     "output_type": "stream",
     "text": [
      "INFO:nimare.utils:Shared path detected: '/home/data/nbc/misc-projects/Salo_NiMARE/nimare-paper/data/neurosynth_dataset_maps/'\n"
     ]
    },
    {
     "name": "stderr",
     "output_type": "stream",
     "text": [
      "INFO:nimare.decode.continuous:Decoding terms_abstract_tfidf__required (210/283): 34/500 studies\n"
     ]
    },
    {
     "name": "stderr",
     "output_type": "stream",
     "text": [
      "INFO:nimare.utils:Shared path detected: '/home/data/nbc/misc-projects/Salo_NiMARE/nimare-paper/data/neurosynth_dataset_maps/'\n"
     ]
    },
    {
     "name": "stderr",
     "output_type": "stream",
     "text": [
      "INFO:nimare.utils:Shared path detected: '/home/data/nbc/misc-projects/Salo_NiMARE/nimare-paper/data/neurosynth_dataset_maps/'\n"
     ]
    },
    {
     "name": "stderr",
     "output_type": "stream",
     "text": [
      "INFO:nimare.decode.continuous:Decoding terms_abstract_tfidf__resolution (211/283): 25/500 studies\n"
     ]
    },
    {
     "name": "stderr",
     "output_type": "stream",
     "text": [
      "INFO:nimare.utils:Shared path detected: '/home/data/nbc/misc-projects/Salo_NiMARE/nimare-paper/data/neurosynth_dataset_maps/'\n"
     ]
    },
    {
     "name": "stderr",
     "output_type": "stream",
     "text": [
      "INFO:nimare.utils:Shared path detected: '/home/data/nbc/misc-projects/Salo_NiMARE/nimare-paper/data/neurosynth_dataset_maps/'\n"
     ]
    },
    {
     "name": "stderr",
     "output_type": "stream",
     "text": [
      "INFO:nimare.decode.continuous:Decoding terms_abstract_tfidf__resonance (212/283): 278/500 studies\n"
     ]
    },
    {
     "name": "stderr",
     "output_type": "stream",
     "text": [
      "INFO:nimare.utils:Shared path detected: '/home/data/nbc/misc-projects/Salo_NiMARE/nimare-paper/data/neurosynth_dataset_maps/'\n"
     ]
    },
    {
     "name": "stderr",
     "output_type": "stream",
     "text": [
      "INFO:nimare.utils:Shared path detected: '/home/data/nbc/misc-projects/Salo_NiMARE/nimare-paper/data/neurosynth_dataset_maps/'\n"
     ]
    },
    {
     "name": "stderr",
     "output_type": "stream",
     "text": [
      "INFO:nimare.decode.continuous:Decoding terms_abstract_tfidf__respectively (213/283): 25/500 studies\n"
     ]
    },
    {
     "name": "stderr",
     "output_type": "stream",
     "text": [
      "INFO:nimare.utils:Shared path detected: '/home/data/nbc/misc-projects/Salo_NiMARE/nimare-paper/data/neurosynth_dataset_maps/'\n"
     ]
    },
    {
     "name": "stderr",
     "output_type": "stream",
     "text": [
      "INFO:nimare.utils:Shared path detected: '/home/data/nbc/misc-projects/Salo_NiMARE/nimare-paper/data/neurosynth_dataset_maps/'\n"
     ]
    },
    {
     "name": "stderr",
     "output_type": "stream",
     "text": [
      "INFO:nimare.decode.continuous:Decoding terms_abstract_tfidf__response (214/283): 140/500 studies\n"
     ]
    },
    {
     "name": "stderr",
     "output_type": "stream",
     "text": [
      "INFO:nimare.utils:Shared path detected: '/home/data/nbc/misc-projects/Salo_NiMARE/nimare-paper/data/neurosynth_dataset_maps/'\n"
     ]
    },
    {
     "name": "stderr",
     "output_type": "stream",
     "text": [
      "INFO:nimare.utils:Shared path detected: '/home/data/nbc/misc-projects/Salo_NiMARE/nimare-paper/data/neurosynth_dataset_maps/'\n"
     ]
    },
    {
     "name": "stderr",
     "output_type": "stream",
     "text": [
      "INFO:nimare.decode.continuous:Decoding terms_abstract_tfidf__responses (215/283): 100/500 studies\n"
     ]
    },
    {
     "name": "stderr",
     "output_type": "stream",
     "text": [
      "INFO:nimare.utils:Shared path detected: '/home/data/nbc/misc-projects/Salo_NiMARE/nimare-paper/data/neurosynth_dataset_maps/'\n"
     ]
    },
    {
     "name": "stderr",
     "output_type": "stream",
     "text": [
      "INFO:nimare.utils:Shared path detected: '/home/data/nbc/misc-projects/Salo_NiMARE/nimare-paper/data/neurosynth_dataset_maps/'\n"
     ]
    },
    {
     "name": "stderr",
     "output_type": "stream",
     "text": [
      "INFO:nimare.decode.continuous:Decoding terms_abstract_tfidf__retrieval (216/283): 46/500 studies\n"
     ]
    },
    {
     "name": "stderr",
     "output_type": "stream",
     "text": [
      "INFO:nimare.utils:Shared path detected: '/home/data/nbc/misc-projects/Salo_NiMARE/nimare-paper/data/neurosynth_dataset_maps/'\n"
     ]
    },
    {
     "name": "stderr",
     "output_type": "stream",
     "text": [
      "INFO:nimare.utils:Shared path detected: '/home/data/nbc/misc-projects/Salo_NiMARE/nimare-paper/data/neurosynth_dataset_maps/'\n"
     ]
    },
    {
     "name": "stderr",
     "output_type": "stream",
     "text": [
      "INFO:nimare.decode.continuous:Decoding terms_abstract_tfidf__role (217/283): 80/500 studies\n"
     ]
    },
    {
     "name": "stderr",
     "output_type": "stream",
     "text": [
      "INFO:nimare.utils:Shared path detected: '/home/data/nbc/misc-projects/Salo_NiMARE/nimare-paper/data/neurosynth_dataset_maps/'\n"
     ]
    },
    {
     "name": "stderr",
     "output_type": "stream",
     "text": [
      "INFO:nimare.utils:Shared path detected: '/home/data/nbc/misc-projects/Salo_NiMARE/nimare-paper/data/neurosynth_dataset_maps/'\n"
     ]
    },
    {
     "name": "stderr",
     "output_type": "stream",
     "text": [
      "INFO:nimare.decode.continuous:Decoding terms_abstract_tfidf__scanned (218/283): 28/500 studies\n"
     ]
    },
    {
     "name": "stderr",
     "output_type": "stream",
     "text": [
      "INFO:nimare.utils:Shared path detected: '/home/data/nbc/misc-projects/Salo_NiMARE/nimare-paper/data/neurosynth_dataset_maps/'\n"
     ]
    },
    {
     "name": "stderr",
     "output_type": "stream",
     "text": [
      "INFO:nimare.utils:Shared path detected: '/home/data/nbc/misc-projects/Salo_NiMARE/nimare-paper/data/neurosynth_dataset_maps/'\n"
     ]
    },
    {
     "name": "stderr",
     "output_type": "stream",
     "text": [
      "INFO:nimare.decode.continuous:Decoding terms_abstract_tfidf__second (219/283): 39/500 studies\n"
     ]
    },
    {
     "name": "stderr",
     "output_type": "stream",
     "text": [
      "INFO:nimare.utils:Shared path detected: '/home/data/nbc/misc-projects/Salo_NiMARE/nimare-paper/data/neurosynth_dataset_maps/'\n"
     ]
    },
    {
     "name": "stderr",
     "output_type": "stream",
     "text": [
      "INFO:nimare.utils:Shared path detected: '/home/data/nbc/misc-projects/Salo_NiMARE/nimare-paper/data/neurosynth_dataset_maps/'\n"
     ]
    },
    {
     "name": "stderr",
     "output_type": "stream",
     "text": [
      "INFO:nimare.decode.continuous:Decoding terms_abstract_tfidf__seen (220/283): 34/500 studies\n"
     ]
    },
    {
     "name": "stderr",
     "output_type": "stream",
     "text": [
      "INFO:nimare.utils:Shared path detected: '/home/data/nbc/misc-projects/Salo_NiMARE/nimare-paper/data/neurosynth_dataset_maps/'\n"
     ]
    },
    {
     "name": "stderr",
     "output_type": "stream",
     "text": [
      "INFO:nimare.utils:Shared path detected: '/home/data/nbc/misc-projects/Salo_NiMARE/nimare-paper/data/neurosynth_dataset_maps/'\n"
     ]
    },
    {
     "name": "stderr",
     "output_type": "stream",
     "text": [
      "INFO:nimare.decode.continuous:Decoding terms_abstract_tfidf__selective (221/283): 33/500 studies\n"
     ]
    },
    {
     "name": "stderr",
     "output_type": "stream",
     "text": [
      "INFO:nimare.utils:Shared path detected: '/home/data/nbc/misc-projects/Salo_NiMARE/nimare-paper/data/neurosynth_dataset_maps/'\n"
     ]
    },
    {
     "name": "stderr",
     "output_type": "stream",
     "text": [
      "INFO:nimare.utils:Shared path detected: '/home/data/nbc/misc-projects/Salo_NiMARE/nimare-paper/data/neurosynth_dataset_maps/'\n"
     ]
    },
    {
     "name": "stderr",
     "output_type": "stream",
     "text": [
      "INFO:nimare.decode.continuous:Decoding terms_abstract_tfidf__semantic (222/283): 52/500 studies\n"
     ]
    },
    {
     "name": "stderr",
     "output_type": "stream",
     "text": [
      "INFO:nimare.utils:Shared path detected: '/home/data/nbc/misc-projects/Salo_NiMARE/nimare-paper/data/neurosynth_dataset_maps/'\n"
     ]
    },
    {
     "name": "stderr",
     "output_type": "stream",
     "text": [
      "INFO:nimare.utils:Shared path detected: '/home/data/nbc/misc-projects/Salo_NiMARE/nimare-paper/data/neurosynth_dataset_maps/'\n"
     ]
    },
    {
     "name": "stderr",
     "output_type": "stream",
     "text": [
      "INFO:nimare.decode.continuous:Decoding terms_abstract_tfidf__sensorimotor (223/283): 27/500 studies\n"
     ]
    },
    {
     "name": "stderr",
     "output_type": "stream",
     "text": [
      "INFO:nimare.utils:Shared path detected: '/home/data/nbc/misc-projects/Salo_NiMARE/nimare-paper/data/neurosynth_dataset_maps/'\n"
     ]
    },
    {
     "name": "stderr",
     "output_type": "stream",
     "text": [
      "INFO:nimare.utils:Shared path detected: '/home/data/nbc/misc-projects/Salo_NiMARE/nimare-paper/data/neurosynth_dataset_maps/'\n"
     ]
    },
    {
     "name": "stderr",
     "output_type": "stream",
     "text": [
      "INFO:nimare.decode.continuous:Decoding terms_abstract_tfidf__sensory (224/283): 53/500 studies\n"
     ]
    },
    {
     "name": "stderr",
     "output_type": "stream",
     "text": [
      "INFO:nimare.utils:Shared path detected: '/home/data/nbc/misc-projects/Salo_NiMARE/nimare-paper/data/neurosynth_dataset_maps/'\n"
     ]
    },
    {
     "name": "stderr",
     "output_type": "stream",
     "text": [
      "INFO:nimare.utils:Shared path detected: '/home/data/nbc/misc-projects/Salo_NiMARE/nimare-paper/data/neurosynth_dataset_maps/'\n"
     ]
    },
    {
     "name": "stderr",
     "output_type": "stream",
     "text": [
      "INFO:nimare.decode.continuous:Decoding terms_abstract_tfidf__set (225/283): 30/500 studies\n"
     ]
    },
    {
     "name": "stderr",
     "output_type": "stream",
     "text": [
      "INFO:nimare.utils:Shared path detected: '/home/data/nbc/misc-projects/Salo_NiMARE/nimare-paper/data/neurosynth_dataset_maps/'\n"
     ]
    },
    {
     "name": "stderr",
     "output_type": "stream",
     "text": [
      "INFO:nimare.utils:Shared path detected: '/home/data/nbc/misc-projects/Salo_NiMARE/nimare-paper/data/neurosynth_dataset_maps/'\n"
     ]
    },
    {
     "name": "stderr",
     "output_type": "stream",
     "text": [
      "INFO:nimare.decode.continuous:Decoding terms_abstract_tfidf__short (226/283): 33/500 studies\n"
     ]
    },
    {
     "name": "stderr",
     "output_type": "stream",
     "text": [
      "INFO:nimare.utils:Shared path detected: '/home/data/nbc/misc-projects/Salo_NiMARE/nimare-paper/data/neurosynth_dataset_maps/'\n"
     ]
    },
    {
     "name": "stderr",
     "output_type": "stream",
     "text": [
      "INFO:nimare.utils:Shared path detected: '/home/data/nbc/misc-projects/Salo_NiMARE/nimare-paper/data/neurosynth_dataset_maps/'\n"
     ]
    },
    {
     "name": "stderr",
     "output_type": "stream",
     "text": [
      "INFO:nimare.decode.continuous:Decoding terms_abstract_tfidf__showing (227/283): 26/500 studies\n"
     ]
    },
    {
     "name": "stderr",
     "output_type": "stream",
     "text": [
      "INFO:nimare.utils:Shared path detected: '/home/data/nbc/misc-projects/Salo_NiMARE/nimare-paper/data/neurosynth_dataset_maps/'\n"
     ]
    },
    {
     "name": "stderr",
     "output_type": "stream",
     "text": [
      "INFO:nimare.utils:Shared path detected: '/home/data/nbc/misc-projects/Salo_NiMARE/nimare-paper/data/neurosynth_dataset_maps/'\n"
     ]
    },
    {
     "name": "stderr",
     "output_type": "stream",
     "text": [
      "INFO:nimare.decode.continuous:Decoding terms_abstract_tfidf__shown (228/283): 41/500 studies\n"
     ]
    },
    {
     "name": "stderr",
     "output_type": "stream",
     "text": [
      "INFO:nimare.utils:Shared path detected: '/home/data/nbc/misc-projects/Salo_NiMARE/nimare-paper/data/neurosynth_dataset_maps/'\n"
     ]
    },
    {
     "name": "stderr",
     "output_type": "stream",
     "text": [
      "INFO:nimare.utils:Shared path detected: '/home/data/nbc/misc-projects/Salo_NiMARE/nimare-paper/data/neurosynth_dataset_maps/'\n"
     ]
    },
    {
     "name": "stderr",
     "output_type": "stream",
     "text": [
      "INFO:nimare.decode.continuous:Decoding terms_abstract_tfidf__signal (229/283): 57/500 studies\n"
     ]
    },
    {
     "name": "stderr",
     "output_type": "stream",
     "text": [
      "INFO:nimare.utils:Shared path detected: '/home/data/nbc/misc-projects/Salo_NiMARE/nimare-paper/data/neurosynth_dataset_maps/'\n"
     ]
    },
    {
     "name": "stderr",
     "output_type": "stream",
     "text": [
      "INFO:nimare.utils:Shared path detected: '/home/data/nbc/misc-projects/Salo_NiMARE/nimare-paper/data/neurosynth_dataset_maps/'\n"
     ]
    },
    {
     "name": "stderr",
     "output_type": "stream",
     "text": [
      "INFO:nimare.decode.continuous:Decoding terms_abstract_tfidf__signals (230/283): 26/500 studies\n"
     ]
    },
    {
     "name": "stderr",
     "output_type": "stream",
     "text": [
      "INFO:nimare.utils:Shared path detected: '/home/data/nbc/misc-projects/Salo_NiMARE/nimare-paper/data/neurosynth_dataset_maps/'\n"
     ]
    },
    {
     "name": "stderr",
     "output_type": "stream",
     "text": [
      "INFO:nimare.utils:Shared path detected: '/home/data/nbc/misc-projects/Salo_NiMARE/nimare-paper/data/neurosynth_dataset_maps/'\n"
     ]
    },
    {
     "name": "stderr",
     "output_type": "stream",
     "text": [
      "INFO:nimare.decode.continuous:Decoding terms_abstract_tfidf__single (231/283): 57/500 studies\n"
     ]
    },
    {
     "name": "stderr",
     "output_type": "stream",
     "text": [
      "INFO:nimare.utils:Shared path detected: '/home/data/nbc/misc-projects/Salo_NiMARE/nimare-paper/data/neurosynth_dataset_maps/'\n"
     ]
    },
    {
     "name": "stderr",
     "output_type": "stream",
     "text": [
      "INFO:nimare.utils:Shared path detected: '/home/data/nbc/misc-projects/Salo_NiMARE/nimare-paper/data/neurosynth_dataset_maps/'\n"
     ]
    },
    {
     "name": "stderr",
     "output_type": "stream",
     "text": [
      "INFO:nimare.decode.continuous:Decoding terms_abstract_tfidf__somatosensory (232/283): 35/500 studies\n"
     ]
    },
    {
     "name": "stderr",
     "output_type": "stream",
     "text": [
      "INFO:nimare.utils:Shared path detected: '/home/data/nbc/misc-projects/Salo_NiMARE/nimare-paper/data/neurosynth_dataset_maps/'\n"
     ]
    },
    {
     "name": "stderr",
     "output_type": "stream",
     "text": [
      "INFO:nimare.utils:Shared path detected: '/home/data/nbc/misc-projects/Salo_NiMARE/nimare-paper/data/neurosynth_dataset_maps/'\n"
     ]
    },
    {
     "name": "stderr",
     "output_type": "stream",
     "text": [
      "INFO:nimare.decode.continuous:Decoding terms_abstract_tfidf__spatial (233/283): 77/500 studies\n"
     ]
    },
    {
     "name": "stderr",
     "output_type": "stream",
     "text": [
      "INFO:nimare.utils:Shared path detected: '/home/data/nbc/misc-projects/Salo_NiMARE/nimare-paper/data/neurosynth_dataset_maps/'\n"
     ]
    },
    {
     "name": "stderr",
     "output_type": "stream",
     "text": [
      "INFO:nimare.utils:Shared path detected: '/home/data/nbc/misc-projects/Salo_NiMARE/nimare-paper/data/neurosynth_dataset_maps/'\n"
     ]
    },
    {
     "name": "stderr",
     "output_type": "stream",
     "text": [
      "INFO:nimare.decode.continuous:Decoding terms_abstract_tfidf__specifically (234/283): 47/500 studies\n"
     ]
    },
    {
     "name": "stderr",
     "output_type": "stream",
     "text": [
      "INFO:nimare.utils:Shared path detected: '/home/data/nbc/misc-projects/Salo_NiMARE/nimare-paper/data/neurosynth_dataset_maps/'\n"
     ]
    },
    {
     "name": "stderr",
     "output_type": "stream",
     "text": [
      "INFO:nimare.utils:Shared path detected: '/home/data/nbc/misc-projects/Salo_NiMARE/nimare-paper/data/neurosynth_dataset_maps/'\n"
     ]
    },
    {
     "name": "stderr",
     "output_type": "stream",
     "text": [
      "INFO:nimare.decode.continuous:Decoding terms_abstract_tfidf__stimulation (235/283): 53/500 studies\n"
     ]
    },
    {
     "name": "stderr",
     "output_type": "stream",
     "text": [
      "INFO:nimare.utils:Shared path detected: '/home/data/nbc/misc-projects/Salo_NiMARE/nimare-paper/data/neurosynth_dataset_maps/'\n"
     ]
    },
    {
     "name": "stderr",
     "output_type": "stream",
     "text": [
      "INFO:nimare.utils:Shared path detected: '/home/data/nbc/misc-projects/Salo_NiMARE/nimare-paper/data/neurosynth_dataset_maps/'\n"
     ]
    },
    {
     "name": "stderr",
     "output_type": "stream",
     "text": [
      "INFO:nimare.decode.continuous:Decoding terms_abstract_tfidf__stimuli (236/283): 127/500 studies\n"
     ]
    },
    {
     "name": "stderr",
     "output_type": "stream",
     "text": [
      "INFO:nimare.utils:Shared path detected: '/home/data/nbc/misc-projects/Salo_NiMARE/nimare-paper/data/neurosynth_dataset_maps/'\n"
     ]
    },
    {
     "name": "stderr",
     "output_type": "stream",
     "text": [
      "INFO:nimare.utils:Shared path detected: '/home/data/nbc/misc-projects/Salo_NiMARE/nimare-paper/data/neurosynth_dataset_maps/'\n"
     ]
    },
    {
     "name": "stderr",
     "output_type": "stream",
     "text": [
      "INFO:nimare.decode.continuous:Decoding terms_abstract_tfidf__stimulus (237/283): 98/500 studies\n"
     ]
    },
    {
     "name": "stderr",
     "output_type": "stream",
     "text": [
      "INFO:nimare.utils:Shared path detected: '/home/data/nbc/misc-projects/Salo_NiMARE/nimare-paper/data/neurosynth_dataset_maps/'\n"
     ]
    },
    {
     "name": "stderr",
     "output_type": "stream",
     "text": [
      "INFO:nimare.utils:Shared path detected: '/home/data/nbc/misc-projects/Salo_NiMARE/nimare-paper/data/neurosynth_dataset_maps/'\n"
     ]
    },
    {
     "name": "stderr",
     "output_type": "stream",
     "text": [
      "INFO:nimare.decode.continuous:Decoding terms_abstract_tfidf__strongly (238/283): 30/500 studies\n"
     ]
    },
    {
     "name": "stderr",
     "output_type": "stream",
     "text": [
      "INFO:nimare.utils:Shared path detected: '/home/data/nbc/misc-projects/Salo_NiMARE/nimare-paper/data/neurosynth_dataset_maps/'\n"
     ]
    },
    {
     "name": "stderr",
     "output_type": "stream",
     "text": [
      "INFO:nimare.utils:Shared path detected: '/home/data/nbc/misc-projects/Salo_NiMARE/nimare-paper/data/neurosynth_dataset_maps/'\n"
     ]
    },
    {
     "name": "stderr",
     "output_type": "stream",
     "text": [
      "INFO:nimare.decode.continuous:Decoding terms_abstract_tfidf__structures (239/283): 35/500 studies\n"
     ]
    },
    {
     "name": "stderr",
     "output_type": "stream",
     "text": [
      "INFO:nimare.utils:Shared path detected: '/home/data/nbc/misc-projects/Salo_NiMARE/nimare-paper/data/neurosynth_dataset_maps/'\n"
     ]
    },
    {
     "name": "stderr",
     "output_type": "stream",
     "text": [
      "INFO:nimare.utils:Shared path detected: '/home/data/nbc/misc-projects/Salo_NiMARE/nimare-paper/data/neurosynth_dataset_maps/'\n"
     ]
    },
    {
     "name": "stderr",
     "output_type": "stream",
     "text": [
      "INFO:nimare.decode.continuous:Decoding terms_abstract_tfidf__studied (240/283): 61/500 studies\n"
     ]
    },
    {
     "name": "stderr",
     "output_type": "stream",
     "text": [
      "INFO:nimare.utils:Shared path detected: '/home/data/nbc/misc-projects/Salo_NiMARE/nimare-paper/data/neurosynth_dataset_maps/'\n"
     ]
    },
    {
     "name": "stderr",
     "output_type": "stream",
     "text": [
      "INFO:nimare.utils:Shared path detected: '/home/data/nbc/misc-projects/Salo_NiMARE/nimare-paper/data/neurosynth_dataset_maps/'\n"
     ]
    },
    {
     "name": "stderr",
     "output_type": "stream",
     "text": [
      "INFO:nimare.decode.continuous:Decoding terms_abstract_tfidf__subject (241/283): 30/500 studies\n"
     ]
    },
    {
     "name": "stderr",
     "output_type": "stream",
     "text": [
      "INFO:nimare.utils:Shared path detected: '/home/data/nbc/misc-projects/Salo_NiMARE/nimare-paper/data/neurosynth_dataset_maps/'\n"
     ]
    },
    {
     "name": "stderr",
     "output_type": "stream",
     "text": [
      "INFO:nimare.utils:Shared path detected: '/home/data/nbc/misc-projects/Salo_NiMARE/nimare-paper/data/neurosynth_dataset_maps/'\n"
     ]
    },
    {
     "name": "stderr",
     "output_type": "stream",
     "text": [
      "INFO:nimare.decode.continuous:Decoding terms_abstract_tfidf__substrates (242/283): 26/500 studies\n"
     ]
    },
    {
     "name": "stderr",
     "output_type": "stream",
     "text": [
      "INFO:nimare.utils:Shared path detected: '/home/data/nbc/misc-projects/Salo_NiMARE/nimare-paper/data/neurosynth_dataset_maps/'\n"
     ]
    },
    {
     "name": "stderr",
     "output_type": "stream",
     "text": [
      "INFO:nimare.utils:Shared path detected: '/home/data/nbc/misc-projects/Salo_NiMARE/nimare-paper/data/neurosynth_dataset_maps/'\n"
     ]
    },
    {
     "name": "stderr",
     "output_type": "stream",
     "text": [
      "INFO:nimare.decode.continuous:Decoding terms_abstract_tfidf__suggest (243/283): 138/500 studies\n"
     ]
    },
    {
     "name": "stderr",
     "output_type": "stream",
     "text": [
      "INFO:nimare.utils:Shared path detected: '/home/data/nbc/misc-projects/Salo_NiMARE/nimare-paper/data/neurosynth_dataset_maps/'\n"
     ]
    },
    {
     "name": "stderr",
     "output_type": "stream",
     "text": [
      "INFO:nimare.utils:Shared path detected: '/home/data/nbc/misc-projects/Salo_NiMARE/nimare-paper/data/neurosynth_dataset_maps/'\n"
     ]
    },
    {
     "name": "stderr",
     "output_type": "stream",
     "text": [
      "INFO:nimare.decode.continuous:Decoding terms_abstract_tfidf__suggested (244/283): 30/500 studies\n"
     ]
    },
    {
     "name": "stderr",
     "output_type": "stream",
     "text": [
      "INFO:nimare.utils:Shared path detected: '/home/data/nbc/misc-projects/Salo_NiMARE/nimare-paper/data/neurosynth_dataset_maps/'\n"
     ]
    },
    {
     "name": "stderr",
     "output_type": "stream",
     "text": [
      "INFO:nimare.utils:Shared path detected: '/home/data/nbc/misc-projects/Salo_NiMARE/nimare-paper/data/neurosynth_dataset_maps/'\n"
     ]
    },
    {
     "name": "stderr",
     "output_type": "stream",
     "text": [
      "INFO:nimare.decode.continuous:Decoding terms_abstract_tfidf__suggesting (245/283): 41/500 studies\n"
     ]
    },
    {
     "name": "stderr",
     "output_type": "stream",
     "text": [
      "INFO:nimare.utils:Shared path detected: '/home/data/nbc/misc-projects/Salo_NiMARE/nimare-paper/data/neurosynth_dataset_maps/'\n"
     ]
    },
    {
     "name": "stderr",
     "output_type": "stream",
     "text": [
      "INFO:nimare.utils:Shared path detected: '/home/data/nbc/misc-projects/Salo_NiMARE/nimare-paper/data/neurosynth_dataset_maps/'\n"
     ]
    },
    {
     "name": "stderr",
     "output_type": "stream",
     "text": [
      "INFO:nimare.decode.continuous:Decoding terms_abstract_tfidf__suggests (246/283): 52/500 studies\n"
     ]
    },
    {
     "name": "stderr",
     "output_type": "stream",
     "text": [
      "INFO:nimare.utils:Shared path detected: '/home/data/nbc/misc-projects/Salo_NiMARE/nimare-paper/data/neurosynth_dataset_maps/'\n"
     ]
    },
    {
     "name": "stderr",
     "output_type": "stream",
     "text": [
      "INFO:nimare.utils:Shared path detected: '/home/data/nbc/misc-projects/Salo_NiMARE/nimare-paper/data/neurosynth_dataset_maps/'\n"
     ]
    },
    {
     "name": "stderr",
     "output_type": "stream",
     "text": [
      "INFO:nimare.decode.continuous:Decoding terms_abstract_tfidf__sulcus (247/283): 74/500 studies\n"
     ]
    },
    {
     "name": "stderr",
     "output_type": "stream",
     "text": [
      "INFO:nimare.utils:Shared path detected: '/home/data/nbc/misc-projects/Salo_NiMARE/nimare-paper/data/neurosynth_dataset_maps/'\n"
     ]
    },
    {
     "name": "stderr",
     "output_type": "stream",
     "text": [
      "INFO:nimare.utils:Shared path detected: '/home/data/nbc/misc-projects/Salo_NiMARE/nimare-paper/data/neurosynth_dataset_maps/'\n"
     ]
    },
    {
     "name": "stderr",
     "output_type": "stream",
     "text": [
      "INFO:nimare.decode.continuous:Decoding terms_abstract_tfidf__superior (248/283): 119/500 studies\n"
     ]
    },
    {
     "name": "stderr",
     "output_type": "stream",
     "text": [
      "INFO:nimare.utils:Shared path detected: '/home/data/nbc/misc-projects/Salo_NiMARE/nimare-paper/data/neurosynth_dataset_maps/'\n"
     ]
    },
    {
     "name": "stderr",
     "output_type": "stream",
     "text": [
      "INFO:nimare.utils:Shared path detected: '/home/data/nbc/misc-projects/Salo_NiMARE/nimare-paper/data/neurosynth_dataset_maps/'\n"
     ]
    },
    {
     "name": "stderr",
     "output_type": "stream",
     "text": [
      "INFO:nimare.decode.continuous:Decoding terms_abstract_tfidf__superior parietal (249/283): 38/500 studies\n"
     ]
    },
    {
     "name": "stderr",
     "output_type": "stream",
     "text": [
      "INFO:nimare.utils:Shared path detected: '/home/data/nbc/misc-projects/Salo_NiMARE/nimare-paper/data/neurosynth_dataset_maps/'\n"
     ]
    },
    {
     "name": "stderr",
     "output_type": "stream",
     "text": [
      "INFO:nimare.utils:Shared path detected: '/home/data/nbc/misc-projects/Salo_NiMARE/nimare-paper/data/neurosynth_dataset_maps/'\n"
     ]
    },
    {
     "name": "stderr",
     "output_type": "stream",
     "text": [
      "INFO:nimare.decode.continuous:Decoding terms_abstract_tfidf__superior temporal (250/283): 48/500 studies\n"
     ]
    },
    {
     "name": "stderr",
     "output_type": "stream",
     "text": [
      "INFO:nimare.utils:Shared path detected: '/home/data/nbc/misc-projects/Salo_NiMARE/nimare-paper/data/neurosynth_dataset_maps/'\n"
     ]
    },
    {
     "name": "stderr",
     "output_type": "stream",
     "text": [
      "INFO:nimare.utils:Shared path detected: '/home/data/nbc/misc-projects/Salo_NiMARE/nimare-paper/data/neurosynth_dataset_maps/'\n"
     ]
    },
    {
     "name": "stderr",
     "output_type": "stream",
     "text": [
      "INFO:nimare.decode.continuous:Decoding terms_abstract_tfidf__supplementary (251/283): 52/500 studies\n"
     ]
    },
    {
     "name": "stderr",
     "output_type": "stream",
     "text": [
      "INFO:nimare.utils:Shared path detected: '/home/data/nbc/misc-projects/Salo_NiMARE/nimare-paper/data/neurosynth_dataset_maps/'\n"
     ]
    },
    {
     "name": "stderr",
     "output_type": "stream",
     "text": [
      "INFO:nimare.utils:Shared path detected: '/home/data/nbc/misc-projects/Salo_NiMARE/nimare-paper/data/neurosynth_dataset_maps/'\n"
     ]
    },
    {
     "name": "stderr",
     "output_type": "stream",
     "text": [
      "INFO:nimare.decode.continuous:Decoding terms_abstract_tfidf__supplementary motor (252/283): 40/500 studies\n"
     ]
    },
    {
     "name": "stderr",
     "output_type": "stream",
     "text": [
      "INFO:nimare.utils:Shared path detected: '/home/data/nbc/misc-projects/Salo_NiMARE/nimare-paper/data/neurosynth_dataset_maps/'\n"
     ]
    },
    {
     "name": "stderr",
     "output_type": "stream",
     "text": [
      "INFO:nimare.utils:Shared path detected: '/home/data/nbc/misc-projects/Salo_NiMARE/nimare-paper/data/neurosynth_dataset_maps/'\n"
     ]
    },
    {
     "name": "stderr",
     "output_type": "stream",
     "text": [
      "INFO:nimare.decode.continuous:Decoding terms_abstract_tfidf__systems (253/283): 42/500 studies\n"
     ]
    },
    {
     "name": "stderr",
     "output_type": "stream",
     "text": [
      "INFO:nimare.utils:Shared path detected: '/home/data/nbc/misc-projects/Salo_NiMARE/nimare-paper/data/neurosynth_dataset_maps/'\n"
     ]
    },
    {
     "name": "stderr",
     "output_type": "stream",
     "text": [
      "INFO:nimare.utils:Shared path detected: '/home/data/nbc/misc-projects/Salo_NiMARE/nimare-paper/data/neurosynth_dataset_maps/'\n"
     ]
    },
    {
     "name": "stderr",
     "output_type": "stream",
     "text": [
      "INFO:nimare.decode.continuous:Decoding terms_abstract_tfidf__target (254/283): 30/500 studies\n"
     ]
    },
    {
     "name": "stderr",
     "output_type": "stream",
     "text": [
      "INFO:nimare.utils:Shared path detected: '/home/data/nbc/misc-projects/Salo_NiMARE/nimare-paper/data/neurosynth_dataset_maps/'\n"
     ]
    },
    {
     "name": "stderr",
     "output_type": "stream",
     "text": [
      "INFO:nimare.utils:Shared path detected: '/home/data/nbc/misc-projects/Salo_NiMARE/nimare-paper/data/neurosynth_dataset_maps/'\n"
     ]
    },
    {
     "name": "stderr",
     "output_type": "stream",
     "text": [
      "INFO:nimare.decode.continuous:Decoding terms_abstract_tfidf__task (255/283): 216/500 studies\n"
     ]
    },
    {
     "name": "stderr",
     "output_type": "stream",
     "text": [
      "INFO:nimare.utils:Shared path detected: '/home/data/nbc/misc-projects/Salo_NiMARE/nimare-paper/data/neurosynth_dataset_maps/'\n"
     ]
    },
    {
     "name": "stderr",
     "output_type": "stream",
     "text": [
      "INFO:nimare.utils:Shared path detected: '/home/data/nbc/misc-projects/Salo_NiMARE/nimare-paper/data/neurosynth_dataset_maps/'\n"
     ]
    },
    {
     "name": "stderr",
     "output_type": "stream",
     "text": [
      "INFO:nimare.decode.continuous:Decoding terms_abstract_tfidf__task performance (256/283): 25/500 studies\n"
     ]
    },
    {
     "name": "stderr",
     "output_type": "stream",
     "text": [
      "INFO:nimare.utils:Shared path detected: '/home/data/nbc/misc-projects/Salo_NiMARE/nimare-paper/data/neurosynth_dataset_maps/'\n"
     ]
    },
    {
     "name": "stderr",
     "output_type": "stream",
     "text": [
      "INFO:nimare.utils:Shared path detected: '/home/data/nbc/misc-projects/Salo_NiMARE/nimare-paper/data/neurosynth_dataset_maps/'\n"
     ]
    },
    {
     "name": "stderr",
     "output_type": "stream",
     "text": [
      "INFO:nimare.decode.continuous:Decoding terms_abstract_tfidf__tasks (257/283): 114/500 studies\n"
     ]
    },
    {
     "name": "stderr",
     "output_type": "stream",
     "text": [
      "INFO:nimare.utils:Shared path detected: '/home/data/nbc/misc-projects/Salo_NiMARE/nimare-paper/data/neurosynth_dataset_maps/'\n"
     ]
    },
    {
     "name": "stderr",
     "output_type": "stream",
     "text": [
      "INFO:nimare.utils:Shared path detected: '/home/data/nbc/misc-projects/Salo_NiMARE/nimare-paper/data/neurosynth_dataset_maps/'\n"
     ]
    },
    {
     "name": "stderr",
     "output_type": "stream",
     "text": [
      "INFO:nimare.decode.continuous:Decoding terms_abstract_tfidf__temporal (258/283): 178/500 studies\n"
     ]
    },
    {
     "name": "stderr",
     "output_type": "stream",
     "text": [
      "INFO:nimare.utils:Shared path detected: '/home/data/nbc/misc-projects/Salo_NiMARE/nimare-paper/data/neurosynth_dataset_maps/'\n"
     ]
    },
    {
     "name": "stderr",
     "output_type": "stream",
     "text": [
      "INFO:nimare.utils:Shared path detected: '/home/data/nbc/misc-projects/Salo_NiMARE/nimare-paper/data/neurosynth_dataset_maps/'\n"
     ]
    },
    {
     "name": "stderr",
     "output_type": "stream",
     "text": [
      "INFO:nimare.decode.continuous:Decoding terms_abstract_tfidf__temporal cortex (259/283): 39/500 studies\n"
     ]
    },
    {
     "name": "stderr",
     "output_type": "stream",
     "text": [
      "INFO:nimare.utils:Shared path detected: '/home/data/nbc/misc-projects/Salo_NiMARE/nimare-paper/data/neurosynth_dataset_maps/'\n"
     ]
    },
    {
     "name": "stderr",
     "output_type": "stream",
     "text": [
      "INFO:nimare.utils:Shared path detected: '/home/data/nbc/misc-projects/Salo_NiMARE/nimare-paper/data/neurosynth_dataset_maps/'\n"
     ]
    },
    {
     "name": "stderr",
     "output_type": "stream",
     "text": [
      "INFO:nimare.decode.continuous:Decoding terms_abstract_tfidf__temporal gyrus (260/283): 32/500 studies\n"
     ]
    },
    {
     "name": "stderr",
     "output_type": "stream",
     "text": [
      "INFO:nimare.utils:Shared path detected: '/home/data/nbc/misc-projects/Salo_NiMARE/nimare-paper/data/neurosynth_dataset_maps/'\n"
     ]
    },
    {
     "name": "stderr",
     "output_type": "stream",
     "text": [
      "INFO:nimare.utils:Shared path detected: '/home/data/nbc/misc-projects/Salo_NiMARE/nimare-paper/data/neurosynth_dataset_maps/'\n"
     ]
    },
    {
     "name": "stderr",
     "output_type": "stream",
     "text": [
      "INFO:nimare.decode.continuous:Decoding terms_abstract_tfidf__temporal lobe (261/283): 26/500 studies\n"
     ]
    },
    {
     "name": "stderr",
     "output_type": "stream",
     "text": [
      "INFO:nimare.utils:Shared path detected: '/home/data/nbc/misc-projects/Salo_NiMARE/nimare-paper/data/neurosynth_dataset_maps/'\n"
     ]
    },
    {
     "name": "stderr",
     "output_type": "stream",
     "text": [
      "INFO:nimare.utils:Shared path detected: '/home/data/nbc/misc-projects/Salo_NiMARE/nimare-paper/data/neurosynth_dataset_maps/'\n"
     ]
    },
    {
     "name": "stderr",
     "output_type": "stream",
     "text": [
      "INFO:nimare.decode.continuous:Decoding terms_abstract_tfidf__term (262/283): 29/500 studies\n"
     ]
    },
    {
     "name": "stderr",
     "output_type": "stream",
     "text": [
      "INFO:nimare.utils:Shared path detected: '/home/data/nbc/misc-projects/Salo_NiMARE/nimare-paper/data/neurosynth_dataset_maps/'\n"
     ]
    },
    {
     "name": "stderr",
     "output_type": "stream",
     "text": [
      "INFO:nimare.utils:Shared path detected: '/home/data/nbc/misc-projects/Salo_NiMARE/nimare-paper/data/neurosynth_dataset_maps/'\n"
     ]
    },
    {
     "name": "stderr",
     "output_type": "stream",
     "text": [
      "INFO:nimare.decode.continuous:Decoding terms_abstract_tfidf__test (263/283): 54/500 studies\n"
     ]
    },
    {
     "name": "stderr",
     "output_type": "stream",
     "text": [
      "INFO:nimare.utils:Shared path detected: '/home/data/nbc/misc-projects/Salo_NiMARE/nimare-paper/data/neurosynth_dataset_maps/'\n"
     ]
    },
    {
     "name": "stderr",
     "output_type": "stream",
     "text": [
      "INFO:nimare.utils:Shared path detected: '/home/data/nbc/misc-projects/Salo_NiMARE/nimare-paper/data/neurosynth_dataset_maps/'\n"
     ]
    },
    {
     "name": "stderr",
     "output_type": "stream",
     "text": [
      "INFO:nimare.decode.continuous:Decoding terms_abstract_tfidf__thalamus (264/283): 35/500 studies\n"
     ]
    },
    {
     "name": "stderr",
     "output_type": "stream",
     "text": [
      "INFO:nimare.utils:Shared path detected: '/home/data/nbc/misc-projects/Salo_NiMARE/nimare-paper/data/neurosynth_dataset_maps/'\n"
     ]
    },
    {
     "name": "stderr",
     "output_type": "stream",
     "text": [
      "INFO:nimare.utils:Shared path detected: '/home/data/nbc/misc-projects/Salo_NiMARE/nimare-paper/data/neurosynth_dataset_maps/'\n"
     ]
    },
    {
     "name": "stderr",
     "output_type": "stream",
     "text": [
      "INFO:nimare.decode.continuous:Decoding terms_abstract_tfidf__time (265/283): 75/500 studies\n"
     ]
    },
    {
     "name": "stderr",
     "output_type": "stream",
     "text": [
      "INFO:nimare.utils:Shared path detected: '/home/data/nbc/misc-projects/Salo_NiMARE/nimare-paper/data/neurosynth_dataset_maps/'\n"
     ]
    },
    {
     "name": "stderr",
     "output_type": "stream",
     "text": [
      "INFO:nimare.utils:Shared path detected: '/home/data/nbc/misc-projects/Salo_NiMARE/nimare-paper/data/neurosynth_dataset_maps/'\n"
     ]
    },
    {
     "name": "stderr",
     "output_type": "stream",
     "text": [
      "INFO:nimare.decode.continuous:Decoding terms_abstract_tfidf__tomography (266/283): 31/500 studies\n"
     ]
    },
    {
     "name": "stderr",
     "output_type": "stream",
     "text": [
      "INFO:nimare.utils:Shared path detected: '/home/data/nbc/misc-projects/Salo_NiMARE/nimare-paper/data/neurosynth_dataset_maps/'\n"
     ]
    },
    {
     "name": "stderr",
     "output_type": "stream",
     "text": [
      "INFO:nimare.utils:Shared path detected: '/home/data/nbc/misc-projects/Salo_NiMARE/nimare-paper/data/neurosynth_dataset_maps/'\n"
     ]
    },
    {
     "name": "stderr",
     "output_type": "stream",
     "text": [
      "INFO:nimare.decode.continuous:Decoding terms_abstract_tfidf__trials (267/283): 46/500 studies\n"
     ]
    },
    {
     "name": "stderr",
     "output_type": "stream",
     "text": [
      "INFO:nimare.utils:Shared path detected: '/home/data/nbc/misc-projects/Salo_NiMARE/nimare-paper/data/neurosynth_dataset_maps/'\n"
     ]
    },
    {
     "name": "stderr",
     "output_type": "stream",
     "text": [
      "INFO:nimare.utils:Shared path detected: '/home/data/nbc/misc-projects/Salo_NiMARE/nimare-paper/data/neurosynth_dataset_maps/'\n"
     ]
    },
    {
     "name": "stderr",
     "output_type": "stream",
     "text": [
      "INFO:nimare.decode.continuous:Decoding terms_abstract_tfidf__types (268/283): 38/500 studies\n"
     ]
    },
    {
     "name": "stderr",
     "output_type": "stream",
     "text": [
      "INFO:nimare.utils:Shared path detected: '/home/data/nbc/misc-projects/Salo_NiMARE/nimare-paper/data/neurosynth_dataset_maps/'\n"
     ]
    },
    {
     "name": "stderr",
     "output_type": "stream",
     "text": [
      "INFO:nimare.utils:Shared path detected: '/home/data/nbc/misc-projects/Salo_NiMARE/nimare-paper/data/neurosynth_dataset_maps/'\n"
     ]
    },
    {
     "name": "stderr",
     "output_type": "stream",
     "text": [
      "INFO:nimare.decode.continuous:Decoding terms_abstract_tfidf__underlying (269/283): 42/500 studies\n"
     ]
    },
    {
     "name": "stderr",
     "output_type": "stream",
     "text": [
      "INFO:nimare.utils:Shared path detected: '/home/data/nbc/misc-projects/Salo_NiMARE/nimare-paper/data/neurosynth_dataset_maps/'\n"
     ]
    },
    {
     "name": "stderr",
     "output_type": "stream",
     "text": [
      "INFO:nimare.utils:Shared path detected: '/home/data/nbc/misc-projects/Salo_NiMARE/nimare-paper/data/neurosynth_dataset_maps/'\n"
     ]
    },
    {
     "name": "stderr",
     "output_type": "stream",
     "text": [
      "INFO:nimare.decode.continuous:Decoding terms_abstract_tfidf__use (270/283): 30/500 studies\n"
     ]
    },
    {
     "name": "stderr",
     "output_type": "stream",
     "text": [
      "INFO:nimare.utils:Shared path detected: '/home/data/nbc/misc-projects/Salo_NiMARE/nimare-paper/data/neurosynth_dataset_maps/'\n"
     ]
    },
    {
     "name": "stderr",
     "output_type": "stream",
     "text": [
      "INFO:nimare.utils:Shared path detected: '/home/data/nbc/misc-projects/Salo_NiMARE/nimare-paper/data/neurosynth_dataset_maps/'\n"
     ]
    },
    {
     "name": "stderr",
     "output_type": "stream",
     "text": [
      "INFO:nimare.decode.continuous:Decoding terms_abstract_tfidf__using (271/283): 204/500 studies\n"
     ]
    },
    {
     "name": "stderr",
     "output_type": "stream",
     "text": [
      "INFO:nimare.utils:Shared path detected: '/home/data/nbc/misc-projects/Salo_NiMARE/nimare-paper/data/neurosynth_dataset_maps/'\n"
     ]
    },
    {
     "name": "stderr",
     "output_type": "stream",
     "text": [
      "INFO:nimare.utils:Shared path detected: '/home/data/nbc/misc-projects/Salo_NiMARE/nimare-paper/data/neurosynth_dataset_maps/'\n"
     ]
    },
    {
     "name": "stderr",
     "output_type": "stream",
     "text": [
      "INFO:nimare.decode.continuous:Decoding terms_abstract_tfidf__using functional (272/283): 75/500 studies\n"
     ]
    },
    {
     "name": "stderr",
     "output_type": "stream",
     "text": [
      "INFO:nimare.utils:Shared path detected: '/home/data/nbc/misc-projects/Salo_NiMARE/nimare-paper/data/neurosynth_dataset_maps/'\n"
     ]
    },
    {
     "name": "stderr",
     "output_type": "stream",
     "text": [
      "INFO:nimare.utils:Shared path detected: '/home/data/nbc/misc-projects/Salo_NiMARE/nimare-paper/data/neurosynth_dataset_maps/'\n"
     ]
    },
    {
     "name": "stderr",
     "output_type": "stream",
     "text": [
      "INFO:nimare.decode.continuous:Decoding terms_abstract_tfidf__ventral (273/283): 75/500 studies\n"
     ]
    },
    {
     "name": "stderr",
     "output_type": "stream",
     "text": [
      "INFO:nimare.utils:Shared path detected: '/home/data/nbc/misc-projects/Salo_NiMARE/nimare-paper/data/neurosynth_dataset_maps/'\n"
     ]
    },
    {
     "name": "stderr",
     "output_type": "stream",
     "text": [
      "INFO:nimare.utils:Shared path detected: '/home/data/nbc/misc-projects/Salo_NiMARE/nimare-paper/data/neurosynth_dataset_maps/'\n"
     ]
    },
    {
     "name": "stderr",
     "output_type": "stream",
     "text": [
      "INFO:nimare.decode.continuous:Decoding terms_abstract_tfidf__verbal (274/283): 45/500 studies\n"
     ]
    },
    {
     "name": "stderr",
     "output_type": "stream",
     "text": [
      "INFO:nimare.utils:Shared path detected: '/home/data/nbc/misc-projects/Salo_NiMARE/nimare-paper/data/neurosynth_dataset_maps/'\n"
     ]
    },
    {
     "name": "stderr",
     "output_type": "stream",
     "text": [
      "INFO:nimare.utils:Shared path detected: '/home/data/nbc/misc-projects/Salo_NiMARE/nimare-paper/data/neurosynth_dataset_maps/'\n"
     ]
    },
    {
     "name": "stderr",
     "output_type": "stream",
     "text": [
      "INFO:nimare.decode.continuous:Decoding terms_abstract_tfidf__versus (275/283): 32/500 studies\n"
     ]
    },
    {
     "name": "stderr",
     "output_type": "stream",
     "text": [
      "INFO:nimare.utils:Shared path detected: '/home/data/nbc/misc-projects/Salo_NiMARE/nimare-paper/data/neurosynth_dataset_maps/'\n"
     ]
    },
    {
     "name": "stderr",
     "output_type": "stream",
     "text": [
      "INFO:nimare.utils:Shared path detected: '/home/data/nbc/misc-projects/Salo_NiMARE/nimare-paper/data/neurosynth_dataset_maps/'\n"
     ]
    },
    {
     "name": "stderr",
     "output_type": "stream",
     "text": [
      "INFO:nimare.decode.continuous:Decoding terms_abstract_tfidf__visual (276/283): 148/500 studies\n"
     ]
    },
    {
     "name": "stderr",
     "output_type": "stream",
     "text": [
      "INFO:nimare.utils:Shared path detected: '/home/data/nbc/misc-projects/Salo_NiMARE/nimare-paper/data/neurosynth_dataset_maps/'\n"
     ]
    },
    {
     "name": "stderr",
     "output_type": "stream",
     "text": [
      "INFO:nimare.utils:Shared path detected: '/home/data/nbc/misc-projects/Salo_NiMARE/nimare-paper/data/neurosynth_dataset_maps/'\n"
     ]
    },
    {
     "name": "stderr",
     "output_type": "stream",
     "text": [
      "INFO:nimare.decode.continuous:Decoding terms_abstract_tfidf__visual cortex (277/283): 25/500 studies\n"
     ]
    },
    {
     "name": "stderr",
     "output_type": "stream",
     "text": [
      "INFO:nimare.utils:Shared path detected: '/home/data/nbc/misc-projects/Salo_NiMARE/nimare-paper/data/neurosynth_dataset_maps/'\n"
     ]
    },
    {
     "name": "stderr",
     "output_type": "stream",
     "text": [
      "INFO:nimare.utils:Shared path detected: '/home/data/nbc/misc-projects/Salo_NiMARE/nimare-paper/data/neurosynth_dataset_maps/'\n"
     ]
    },
    {
     "name": "stderr",
     "output_type": "stream",
     "text": [
      "INFO:nimare.decode.continuous:Decoding terms_abstract_tfidf__volunteers (278/283): 58/500 studies\n"
     ]
    },
    {
     "name": "stderr",
     "output_type": "stream",
     "text": [
      "INFO:nimare.utils:Shared path detected: '/home/data/nbc/misc-projects/Salo_NiMARE/nimare-paper/data/neurosynth_dataset_maps/'\n"
     ]
    },
    {
     "name": "stderr",
     "output_type": "stream",
     "text": [
      "INFO:nimare.utils:Shared path detected: '/home/data/nbc/misc-projects/Salo_NiMARE/nimare-paper/data/neurosynth_dataset_maps/'\n"
     ]
    },
    {
     "name": "stderr",
     "output_type": "stream",
     "text": [
      "INFO:nimare.decode.continuous:Decoding terms_abstract_tfidf__word (279/283): 42/500 studies\n"
     ]
    },
    {
     "name": "stderr",
     "output_type": "stream",
     "text": [
      "INFO:nimare.utils:Shared path detected: '/home/data/nbc/misc-projects/Salo_NiMARE/nimare-paper/data/neurosynth_dataset_maps/'\n"
     ]
    },
    {
     "name": "stderr",
     "output_type": "stream",
     "text": [
      "INFO:nimare.utils:Shared path detected: '/home/data/nbc/misc-projects/Salo_NiMARE/nimare-paper/data/neurosynth_dataset_maps/'\n"
     ]
    },
    {
     "name": "stderr",
     "output_type": "stream",
     "text": [
      "INFO:nimare.decode.continuous:Decoding terms_abstract_tfidf__words (280/283): 46/500 studies\n"
     ]
    },
    {
     "name": "stderr",
     "output_type": "stream",
     "text": [
      "INFO:nimare.utils:Shared path detected: '/home/data/nbc/misc-projects/Salo_NiMARE/nimare-paper/data/neurosynth_dataset_maps/'\n"
     ]
    },
    {
     "name": "stderr",
     "output_type": "stream",
     "text": [
      "INFO:nimare.utils:Shared path detected: '/home/data/nbc/misc-projects/Salo_NiMARE/nimare-paper/data/neurosynth_dataset_maps/'\n"
     ]
    },
    {
     "name": "stderr",
     "output_type": "stream",
     "text": [
      "INFO:nimare.decode.continuous:Decoding terms_abstract_tfidf__working (281/283): 48/500 studies\n"
     ]
    },
    {
     "name": "stderr",
     "output_type": "stream",
     "text": [
      "INFO:nimare.utils:Shared path detected: '/home/data/nbc/misc-projects/Salo_NiMARE/nimare-paper/data/neurosynth_dataset_maps/'\n"
     ]
    },
    {
     "name": "stderr",
     "output_type": "stream",
     "text": [
      "INFO:nimare.utils:Shared path detected: '/home/data/nbc/misc-projects/Salo_NiMARE/nimare-paper/data/neurosynth_dataset_maps/'\n"
     ]
    },
    {
     "name": "stderr",
     "output_type": "stream",
     "text": [
      "INFO:nimare.decode.continuous:Decoding terms_abstract_tfidf__working memory (282/283): 46/500 studies\n"
     ]
    },
    {
     "name": "stderr",
     "output_type": "stream",
     "text": [
      "INFO:nimare.utils:Shared path detected: '/home/data/nbc/misc-projects/Salo_NiMARE/nimare-paper/data/neurosynth_dataset_maps/'\n"
     ]
    },
    {
     "name": "stderr",
     "output_type": "stream",
     "text": [
      "INFO:nimare.utils:Shared path detected: '/home/data/nbc/misc-projects/Salo_NiMARE/nimare-paper/data/neurosynth_dataset_maps/'\n"
     ]
    }
   ],
   "source": [
    "from nimare import decode, meta\n",
    "\n",
    "corr_decoder = decode.continuous.CorrelationDecoder(\n",
    "    frequency_threshold=0.001,\n",
    "    meta_estimator=meta.MKDAChi2(kernel_transformer=kern, memory_limit=None),\n",
    "    target_image=\"z_desc-specificity\",\n",
    "    features=target_features,\n",
    "    memory_limit=None,\n",
    ")\n",
    "corr_decoder.fit(neurosynth_dset_first500)\n",
    "corr_df = corr_decoder.transform(os.path.join(DATA_DIR, \"map_to_decode.nii.gz\"))"
   ]
  },
  {
   "cell_type": "code",
   "execution_count": 4,
   "id": "f8390a1f",
   "metadata": {
    "tags": [
     "hide-cell"
    ]
   },
   "outputs": [
    {
     "data": {
      "text/html": [
       "<div>\n",
       "<style scoped>\n",
       "    .dataframe tbody tr th:only-of-type {\n",
       "        vertical-align: middle;\n",
       "    }\n",
       "\n",
       "    .dataframe tbody tr th {\n",
       "        vertical-align: top;\n",
       "    }\n",
       "\n",
       "    .dataframe thead th {\n",
       "        text-align: right;\n",
       "    }\n",
       "</style>\n",
       "<table border=\"1\" class=\"dataframe\">\n",
       "  <thead>\n",
       "    <tr style=\"text-align: right;\">\n",
       "      <th></th>\n",
       "      <th>r</th>\n",
       "    </tr>\n",
       "    <tr>\n",
       "      <th>feature</th>\n",
       "      <th></th>\n",
       "    </tr>\n",
       "  </thead>\n",
       "  <tbody>\n",
       "    <tr>\n",
       "      <th>terms_abstract_tfidf__bold</th>\n",
       "      <td>0.296838</td>\n",
       "    </tr>\n",
       "    <tr>\n",
       "      <th>terms_abstract_tfidf__insula</th>\n",
       "      <td>0.282022</td>\n",
       "    </tr>\n",
       "    <tr>\n",
       "      <th>terms_abstract_tfidf__anterior</th>\n",
       "      <td>0.224806</td>\n",
       "    </tr>\n",
       "    <tr>\n",
       "      <th>terms_abstract_tfidf__thalamus</th>\n",
       "      <td>0.214200</td>\n",
       "    </tr>\n",
       "    <tr>\n",
       "      <th>terms_abstract_tfidf__ganglia</th>\n",
       "      <td>0.196132</td>\n",
       "    </tr>\n",
       "    <tr>\n",
       "      <th>terms_abstract_tfidf__basal ganglia</th>\n",
       "      <td>0.196132</td>\n",
       "    </tr>\n",
       "    <tr>\n",
       "      <th>terms_abstract_tfidf__basal</th>\n",
       "      <td>0.191116</td>\n",
       "    </tr>\n",
       "    <tr>\n",
       "      <th>terms_abstract_tfidf__occipital</th>\n",
       "      <td>-0.186436</td>\n",
       "    </tr>\n",
       "    <tr>\n",
       "      <th>terms_abstract_tfidf__information</th>\n",
       "      <td>0.181752</td>\n",
       "    </tr>\n",
       "    <tr>\n",
       "      <th>terms_abstract_tfidf__cingulate</th>\n",
       "      <td>0.174704</td>\n",
       "    </tr>\n",
       "  </tbody>\n",
       "</table>\n",
       "</div>"
      ],
      "text/plain": [
       "                                            r\n",
       "feature                                      \n",
       "terms_abstract_tfidf__bold           0.296838\n",
       "terms_abstract_tfidf__insula         0.282022\n",
       "terms_abstract_tfidf__anterior       0.224806\n",
       "terms_abstract_tfidf__thalamus       0.214200\n",
       "terms_abstract_tfidf__ganglia        0.196132\n",
       "terms_abstract_tfidf__basal ganglia  0.196132\n",
       "terms_abstract_tfidf__basal          0.191116\n",
       "terms_abstract_tfidf__occipital     -0.186436\n",
       "terms_abstract_tfidf__information    0.181752\n",
       "terms_abstract_tfidf__cingulate      0.174704"
      ]
     },
     "metadata": {
      "scrapbook": {
       "mime_prefix": "",
       "name": "table_corr"
      }
     },
     "output_type": "display_data"
    }
   ],
   "source": [
    "corr_df = corr_df.reindex(\n",
    "    corr_df[\"r\"].abs().sort_values(ascending=False).index\n",
    ")\n",
    "corr_df = corr_df.iloc[:10]\n",
    "glue(\"table_corr\", corr_df)"
   ]
  },
  {
   "cell_type": "markdown",
   "id": "979ed816",
   "metadata": {},
   "source": [
    "```{glue:figure} table_corr\n",
    ":figwidth: 300px\n",
    ":name: \"tbl:table_corr\"\n",
    ":align: center\n",
    "\n",
    "The top ten terms, sorted by absolute correlation coefficient, from the correlation decoding method.\n",
    "```"
   ]
  },
  {
   "cell_type": "code",
   "execution_count": 5,
   "id": "ce827372",
   "metadata": {
    "tags": [
     "hide-cell"
    ]
   },
   "outputs": [],
   "source": [
    "# Here we delete the recent variables for the sake of reducing memory usage\n",
    "del corr_decoder, corr_df"
   ]
  },
  {
   "cell_type": "markdown",
   "id": "7255d660",
   "metadata": {},
   "source": [
    "## Decoding discrete inputs\n",
    "\n",
    "Decoding regions of interest requires a different approach than decoding unthresholded statistical maps.\n",
    "One simple approach, used by GCLDA and implemented in the function {py:func}`nimare.decode.discrete.gclda_decode_roi`, simply sums the `P(topic|voxel)` distribution across all voxels in the ROI in order to produce a value associated with each topic for the ROI.\n",
    "These **weight sum** values are arbitrarily scaled and cannot be compared across ROIs.\n",
    "\n",
    "One method which relies on correlations, much like the continuous correlation decoder, is the **ROI association** decoding method ({py:class}`nimare.decode.discete.ROIAssociationDecoder`), originally implemented in the Neurosynth Python library.\n",
    "In this method, each study with coordinates in the dataset is convolved with a kernel transformer to produce a modeled activation map.\n",
    "The resulting modeled activation maps are then masked with a region of interest (i.e., the target of the decoding), and the values are averaged within the ROI.\n",
    "These averaged modeled activation values are then correlated with the term weights for all labels in the dataset.\n",
    "This decoding method produces a single correlation coefficient for each of the dataset's labels."
   ]
  },
  {
   "cell_type": "code",
   "execution_count": 6,
   "id": "e5131460",
   "metadata": {},
   "outputs": [],
   "source": [
    "assoc_decoder = decode.discrete.ROIAssociationDecoder(\n",
    "    amygdala_roi,\n",
    "    u=0.05,\n",
    "    correction=\"fdr_bh\",\n",
    "    features=target_features,\n",
    ")\n",
    "assoc_decoder.fit(neurosynth_dset_first500)\n",
    "assoc_df = assoc_decoder.transform()"
   ]
  },
  {
   "cell_type": "code",
   "execution_count": 7,
   "id": "6763d0ad",
   "metadata": {
    "tags": [
     "hide-cell"
    ]
   },
   "outputs": [
    {
     "data": {
      "text/html": [
       "<div>\n",
       "<style scoped>\n",
       "    .dataframe tbody tr th:only-of-type {\n",
       "        vertical-align: middle;\n",
       "    }\n",
       "\n",
       "    .dataframe tbody tr th {\n",
       "        vertical-align: top;\n",
       "    }\n",
       "\n",
       "    .dataframe thead th {\n",
       "        text-align: right;\n",
       "    }\n",
       "</style>\n",
       "<table border=\"1\" class=\"dataframe\">\n",
       "  <thead>\n",
       "    <tr style=\"text-align: right;\">\n",
       "      <th></th>\n",
       "      <th>r</th>\n",
       "    </tr>\n",
       "    <tr>\n",
       "      <th>feature</th>\n",
       "      <th></th>\n",
       "    </tr>\n",
       "  </thead>\n",
       "  <tbody>\n",
       "    <tr>\n",
       "      <th>terms_abstract_tfidf__amygdala</th>\n",
       "      <td>0.627186</td>\n",
       "    </tr>\n",
       "    <tr>\n",
       "      <th>terms_abstract_tfidf__neutral</th>\n",
       "      <td>0.272666</td>\n",
       "    </tr>\n",
       "    <tr>\n",
       "      <th>terms_abstract_tfidf__behavior</th>\n",
       "      <td>0.203604</td>\n",
       "    </tr>\n",
       "    <tr>\n",
       "      <th>terms_abstract_tfidf__faces</th>\n",
       "      <td>0.201561</td>\n",
       "    </tr>\n",
       "    <tr>\n",
       "      <th>terms_abstract_tfidf__emotional</th>\n",
       "      <td>0.178842</td>\n",
       "    </tr>\n",
       "    <tr>\n",
       "      <th>terms_abstract_tfidf__negative</th>\n",
       "      <td>0.154037</td>\n",
       "    </tr>\n",
       "    <tr>\n",
       "      <th>terms_abstract_tfidf__regional</th>\n",
       "      <td>0.147679</td>\n",
       "    </tr>\n",
       "    <tr>\n",
       "      <th>terms_abstract_tfidf__temporal lobe</th>\n",
       "      <td>0.141392</td>\n",
       "    </tr>\n",
       "    <tr>\n",
       "      <th>terms_abstract_tfidf__responses</th>\n",
       "      <td>0.139758</td>\n",
       "    </tr>\n",
       "    <tr>\n",
       "      <th>terms_abstract_tfidf__parietal</th>\n",
       "      <td>-0.135737</td>\n",
       "    </tr>\n",
       "  </tbody>\n",
       "</table>\n",
       "</div>"
      ],
      "text/plain": [
       "                                            r\n",
       "feature                                      \n",
       "terms_abstract_tfidf__amygdala       0.627186\n",
       "terms_abstract_tfidf__neutral        0.272666\n",
       "terms_abstract_tfidf__behavior       0.203604\n",
       "terms_abstract_tfidf__faces          0.201561\n",
       "terms_abstract_tfidf__emotional      0.178842\n",
       "terms_abstract_tfidf__negative       0.154037\n",
       "terms_abstract_tfidf__regional       0.147679\n",
       "terms_abstract_tfidf__temporal lobe  0.141392\n",
       "terms_abstract_tfidf__responses      0.139758\n",
       "terms_abstract_tfidf__parietal      -0.135737"
      ]
     },
     "metadata": {
      "scrapbook": {
       "mime_prefix": "",
       "name": "table_assoc"
      }
     },
     "output_type": "display_data"
    }
   ],
   "source": [
    "assoc_df = assoc_df.reindex(assoc_df[\"r\"].abs().sort_values(ascending=False).index)\n",
    "assoc_df = assoc_df.iloc[:10]\n",
    "glue(\"table_assoc\", assoc_df)"
   ]
  },
  {
   "cell_type": "markdown",
   "id": "e36d1e58",
   "metadata": {},
   "source": [
    "```{glue:figure} table_assoc\n",
    ":figwidth: 300px\n",
    ":name: \"tbl:table_assoc\"\n",
    ":align: center\n",
    "\n",
    "The top ten terms, sorted by absolute correlation coefficient, from the ROI association decoding method.\n",
    "```"
   ]
  },
  {
   "cell_type": "code",
   "execution_count": 8,
   "id": "46a7bb81",
   "metadata": {
    "tags": [
     "hide-cell"
    ]
   },
   "outputs": [],
   "source": [
    "# Here we delete the recent variables for the sake of reducing memory usage\n",
    "del assoc_decoder, assoc_df"
   ]
  },
  {
   "cell_type": "markdown",
   "id": "19ee8443",
   "metadata": {},
   "source": [
    "A more theoretically driven approach to ROI decoding is to use **chi-square-based** methods.\n",
    "The two methods which use chi-squared tests are the BrainMap decoding method and an adaptation of Neurosynth’s meta-analysis method.\n",
    "\n",
    "In both chi-square-based methods, studies are first selected from a coordinate-based database according to some criterion.\n",
    "For example, if decoding a region of interest, users might select studies reporting at least one coordinate within 5 mm of the ROI.\n",
    "Metadata (such as ontological labels) for this subset of studies are then compared to those of the remaining, unselected portion of the database in a confusion matrix.\n",
    "For each label in the ontology, studies are divided into four groups: selected and label-positive (SS+L+), selected and label-negative (SS+L-), unselected and label-positive (SS-L+), and unselected and label-negative (SS-L-).\n",
    "Each method then compares these groups in order to evaluate both consistency and specificity of the relationship between the selection criteria and each label, which are evaluated in terms of both statistical significance and effect size."
   ]
  },
  {
   "cell_type": "markdown",
   "id": "5d7f5884",
   "metadata": {},
   "source": [
    "### BrainMap method\n",
    "\n",
    "The BrainMap discrete decoding method, implemented in {py:class}`nimare.decode.discrete.BrainMapDecoder`, compares the distributions of studies with each label within the sample against those in a larger database while accounting for the number of foci from each study.\n",
    "Broadly speaking, this method assumes that the selection criterion is associated with one peak per study, which means that it is likely only appropriate for selection criteria based around foci, such as regions of interest.\n",
    "One common analysis, meta-analytic clustering, involves dividing studies within a database into meta-analytic groupings based on the spatial similarity of their modeled activation maps (i.e., study-wise pseudo-statistical maps produced by convolving coordinates with a kernel).\n",
    "The resulting sets of studies are often functionally decoded in order to build a functional profile associated with each meta-analytic grouping.\n",
    "While these groupings are defined as subsets of the database, they are not selected based on the location of an individual peak, and so weighting based on the number of foci would be inappropriate.\n",
    "\n",
    "This decoding method produces four outputs for each label.\n",
    "First, the distribution of studies in the sample with the label are compared to the distributions of other labels within the sample.\n",
    "This consistency analysis produces both a measure of statistical significance (i.e., a p-value) and a measure of effect size (i.e., the likelihood of being selected given the presence of the label).\n",
    "Next, the studies in the sample are compared to the studies in the rest of the database.\n",
    "This specificity analysis produces a p-value and an effect size measure of the posterior probability of having the label given selection into the sample.\n",
    "A detailed algorithm description is presented in **Appendix I**."
   ]
  },
  {
   "cell_type": "code",
   "execution_count": 9,
   "id": "dfe4c26a",
   "metadata": {},
   "outputs": [],
   "source": [
    "brainmap_decoder = decode.discrete.BrainMapDecoder(\n",
    "    frequency_threshold=0.001,\n",
    "    u=0.05,\n",
    "    correction=\"fdr_bh\",\n",
    "    features=target_features,\n",
    ")\n",
    "brainmap_decoder.fit(neurosynth_dset_first500)\n",
    "brainmap_df = brainmap_decoder.transform(amygdala_ids)"
   ]
  },
  {
   "cell_type": "code",
   "execution_count": 10,
   "id": "99329f81",
   "metadata": {
    "tags": [
     "hide-cell"
    ]
   },
   "outputs": [
    {
     "data": {
      "text/html": [
       "<div>\n",
       "<style scoped>\n",
       "    .dataframe tbody tr th:only-of-type {\n",
       "        vertical-align: middle;\n",
       "    }\n",
       "\n",
       "    .dataframe tbody tr th {\n",
       "        vertical-align: top;\n",
       "    }\n",
       "\n",
       "    .dataframe thead th {\n",
       "        text-align: right;\n",
       "    }\n",
       "</style>\n",
       "<table border=\"1\" class=\"dataframe\">\n",
       "  <thead>\n",
       "    <tr style=\"text-align: right;\">\n",
       "      <th></th>\n",
       "      <th>pForward</th>\n",
       "      <th>zForward</th>\n",
       "      <th>likelihoodForward</th>\n",
       "      <th>pReverse</th>\n",
       "      <th>zReverse</th>\n",
       "      <th>probReverse</th>\n",
       "    </tr>\n",
       "    <tr>\n",
       "      <th>Term</th>\n",
       "      <th></th>\n",
       "      <th></th>\n",
       "      <th></th>\n",
       "      <th></th>\n",
       "      <th></th>\n",
       "      <th></th>\n",
       "    </tr>\n",
       "  </thead>\n",
       "  <tbody>\n",
       "    <tr>\n",
       "      <th>terms_abstract_tfidf__amygdala</th>\n",
       "      <td>9.425793e-14</td>\n",
       "      <td>7.448709</td>\n",
       "      <td>13.676768</td>\n",
       "      <td>1.128171e-31</td>\n",
       "      <td>11.710347</td>\n",
       "      <td>0.033781</td>\n",
       "    </tr>\n",
       "    <tr>\n",
       "      <th>terms_abstract_tfidf__magnetic</th>\n",
       "      <td>1.000000e+00</td>\n",
       "      <td>0.000000</td>\n",
       "      <td>1.304299</td>\n",
       "      <td>1.000000e+00</td>\n",
       "      <td>0.000000</td>\n",
       "      <td>0.024416</td>\n",
       "    </tr>\n",
       "    <tr>\n",
       "      <th>terms_abstract_tfidf__magnetic resonance</th>\n",
       "      <td>1.000000e+00</td>\n",
       "      <td>0.000000</td>\n",
       "      <td>1.259014</td>\n",
       "      <td>1.000000e+00</td>\n",
       "      <td>0.000000</td>\n",
       "      <td>0.022668</td>\n",
       "    </tr>\n",
       "    <tr>\n",
       "      <th>terms_abstract_tfidf__resonance</th>\n",
       "      <td>1.000000e+00</td>\n",
       "      <td>0.000000</td>\n",
       "      <td>1.253833</td>\n",
       "      <td>1.000000e+00</td>\n",
       "      <td>0.000000</td>\n",
       "      <td>0.022656</td>\n",
       "    </tr>\n",
       "    <tr>\n",
       "      <th>terms_abstract_tfidf__functional magnetic</th>\n",
       "      <td>1.000000e+00</td>\n",
       "      <td>0.000000</td>\n",
       "      <td>1.306109</td>\n",
       "      <td>1.000000e+00</td>\n",
       "      <td>0.000000</td>\n",
       "      <td>0.022582</td>\n",
       "    </tr>\n",
       "    <tr>\n",
       "      <th>terms_abstract_tfidf__stimuli</th>\n",
       "      <td>2.017361e-01</td>\n",
       "      <td>1.276621</td>\n",
       "      <td>2.151069</td>\n",
       "      <td>9.129495e-01</td>\n",
       "      <td>0.109319</td>\n",
       "      <td>0.017757</td>\n",
       "    </tr>\n",
       "    <tr>\n",
       "      <th>terms_abstract_tfidf__response</th>\n",
       "      <td>4.245420e-01</td>\n",
       "      <td>0.798566</td>\n",
       "      <td>1.776514</td>\n",
       "      <td>8.805077e-01</td>\n",
       "      <td>0.150326</td>\n",
       "      <td>0.016166</td>\n",
       "    </tr>\n",
       "    <tr>\n",
       "      <th>terms_abstract_tfidf__using</th>\n",
       "      <td>1.000000e+00</td>\n",
       "      <td>0.000000</td>\n",
       "      <td>1.163230</td>\n",
       "      <td>1.000000e+00</td>\n",
       "      <td>0.000000</td>\n",
       "      <td>0.015424</td>\n",
       "    </tr>\n",
       "    <tr>\n",
       "      <th>terms_abstract_tfidf__human</th>\n",
       "      <td>6.097728e-01</td>\n",
       "      <td>0.510398</td>\n",
       "      <td>1.773799</td>\n",
       "      <td>1.000000e+00</td>\n",
       "      <td>0.000000</td>\n",
       "      <td>0.012798</td>\n",
       "    </tr>\n",
       "    <tr>\n",
       "      <th>terms_abstract_tfidf__faces</th>\n",
       "      <td>6.787814e-04</td>\n",
       "      <td>3.398009</td>\n",
       "      <td>7.743464</td>\n",
       "      <td>1.301763e-05</td>\n",
       "      <td>4.359808</td>\n",
       "      <td>0.012583</td>\n",
       "    </tr>\n",
       "  </tbody>\n",
       "</table>\n",
       "</div>"
      ],
      "text/plain": [
       "                                               pForward  zForward  \\\n",
       "Term                                                                \n",
       "terms_abstract_tfidf__amygdala             9.425793e-14  7.448709   \n",
       "terms_abstract_tfidf__magnetic             1.000000e+00  0.000000   \n",
       "terms_abstract_tfidf__magnetic resonance   1.000000e+00  0.000000   \n",
       "terms_abstract_tfidf__resonance            1.000000e+00  0.000000   \n",
       "terms_abstract_tfidf__functional magnetic  1.000000e+00  0.000000   \n",
       "terms_abstract_tfidf__stimuli              2.017361e-01  1.276621   \n",
       "terms_abstract_tfidf__response             4.245420e-01  0.798566   \n",
       "terms_abstract_tfidf__using                1.000000e+00  0.000000   \n",
       "terms_abstract_tfidf__human                6.097728e-01  0.510398   \n",
       "terms_abstract_tfidf__faces                6.787814e-04  3.398009   \n",
       "\n",
       "                                           likelihoodForward      pReverse  \\\n",
       "Term                                                                         \n",
       "terms_abstract_tfidf__amygdala                     13.676768  1.128171e-31   \n",
       "terms_abstract_tfidf__magnetic                      1.304299  1.000000e+00   \n",
       "terms_abstract_tfidf__magnetic resonance            1.259014  1.000000e+00   \n",
       "terms_abstract_tfidf__resonance                     1.253833  1.000000e+00   \n",
       "terms_abstract_tfidf__functional magnetic           1.306109  1.000000e+00   \n",
       "terms_abstract_tfidf__stimuli                       2.151069  9.129495e-01   \n",
       "terms_abstract_tfidf__response                      1.776514  8.805077e-01   \n",
       "terms_abstract_tfidf__using                         1.163230  1.000000e+00   \n",
       "terms_abstract_tfidf__human                         1.773799  1.000000e+00   \n",
       "terms_abstract_tfidf__faces                         7.743464  1.301763e-05   \n",
       "\n",
       "                                            zReverse  probReverse  \n",
       "Term                                                               \n",
       "terms_abstract_tfidf__amygdala             11.710347     0.033781  \n",
       "terms_abstract_tfidf__magnetic              0.000000     0.024416  \n",
       "terms_abstract_tfidf__magnetic resonance    0.000000     0.022668  \n",
       "terms_abstract_tfidf__resonance             0.000000     0.022656  \n",
       "terms_abstract_tfidf__functional magnetic   0.000000     0.022582  \n",
       "terms_abstract_tfidf__stimuli               0.109319     0.017757  \n",
       "terms_abstract_tfidf__response              0.150326     0.016166  \n",
       "terms_abstract_tfidf__using                 0.000000     0.015424  \n",
       "terms_abstract_tfidf__human                 0.000000     0.012798  \n",
       "terms_abstract_tfidf__faces                 4.359808     0.012583  "
      ]
     },
     "metadata": {
      "scrapbook": {
       "mime_prefix": "",
       "name": "table_brainmap"
      }
     },
     "output_type": "display_data"
    }
   ],
   "source": [
    "brainmap_df = brainmap_df.reindex(\n",
    "    brainmap_df[\"probReverse\"].abs().sort_values(ascending=False).index\n",
    ")\n",
    "brainmap_df = brainmap_df.iloc[:10]\n",
    "glue(\"table_brainmap\", brainmap_df)"
   ]
  },
  {
   "cell_type": "markdown",
   "id": "6ecf9e21",
   "metadata": {},
   "source": [
    "```{glue:figure} table_brainmap\n",
    ":figwidth: 300px\n",
    ":name: \"tbl:table_brainmap\"\n",
    ":align: center\n",
    "\n",
    "The top ten terms, sorted by reverse-inference posterior probability, from the BrainMap chi-squared decoding method.\n",
    "```"
   ]
  },
  {
   "cell_type": "code",
   "execution_count": 11,
   "id": "00d469e7",
   "metadata": {
    "tags": [
     "hide-cell"
    ]
   },
   "outputs": [],
   "source": [
    "# Here we delete the recent variables for the sake of reducing memory usage\n",
    "del brainmap_decoder, brainmap_df"
   ]
  },
  {
   "cell_type": "markdown",
   "id": "3a01f7fc",
   "metadata": {},
   "source": [
    "### Neurosynth method\n",
    "\n",
    "The implementation of the MKDA Chi-squared meta-analysis method used by Neurosynth is quite similar to BrainMap’s method for decoding, if applied to annotations instead of modeled activation values.\n",
    "This method, implemented in {py:class}`nimare.decode.discrete.NeurosynthDecoder`, compares the distributions of studies with each label within the sample against those in a larger database, but, unlike the BrainMap method, does not take foci into account.\n",
    "For this reason, the Neurosynth method would likely be more appropriate for selection criteria not based on regions of interest (e.g., for characterizing meta-analytic groupings from a meta-analytic clustering analysis).\n",
    "However, the Neurosynth method requires user-provided information that BrainMap does not.\n",
    "Namely, in order to estimate probabilities for the consistency and specificity analyses with Bayes’ Theorem, the Neurosynth method requires a prior probability of a given label.\n",
    "Typically, a value of 0.5 is used (i.e., the estimated probability that an individual is undergoing a given mental process described by a label, barring any evidence from neuroimaging data, is predicted to be 50%).\n",
    "This is, admittedly, a poor prediction, which means that probabilities estimated based on this prior are not likely to be accurate, though they may still serve as useful estimates of effect size for the analysis.\n",
    "\n",
    "Like the BrainMap method, this method produces four outputs for each label.\n",
    "For the consistency analysis, this method produces both a p-value and a conditional probability of selection given the presence of the label and the prior probability of having the label.\n",
    "For the specificity analysis, the Neurosynth method produces both a p-value and a posterior probability of presence of the label given selection and the prior probability of having the label.\n",
    "A detailed algorithm description is presented in **Appendix II**."
   ]
  },
  {
   "cell_type": "code",
   "execution_count": 12,
   "id": "f5e1c72f",
   "metadata": {},
   "outputs": [],
   "source": [
    "neurosynth_decoder = decode.discrete.NeurosynthDecoder(\n",
    "    frequency_threshold=0.001,\n",
    "    u=0.05,\n",
    "    correction=\"fdr_bh\",\n",
    "    features=target_features,\n",
    ")\n",
    "neurosynth_decoder.fit(neurosynth_dset_first500)\n",
    "neurosynth_df = neurosynth_decoder.transform(amygdala_ids)"
   ]
  },
  {
   "cell_type": "code",
   "execution_count": 13,
   "id": "589ed54b",
   "metadata": {
    "tags": [
     "hide-cell"
    ]
   },
   "outputs": [
    {
     "data": {
      "text/html": [
       "<div>\n",
       "<style scoped>\n",
       "    .dataframe tbody tr th:only-of-type {\n",
       "        vertical-align: middle;\n",
       "    }\n",
       "\n",
       "    .dataframe tbody tr th {\n",
       "        vertical-align: top;\n",
       "    }\n",
       "\n",
       "    .dataframe thead th {\n",
       "        text-align: right;\n",
       "    }\n",
       "</style>\n",
       "<table border=\"1\" class=\"dataframe\">\n",
       "  <thead>\n",
       "    <tr style=\"text-align: right;\">\n",
       "      <th></th>\n",
       "      <th>pForward</th>\n",
       "      <th>zForward</th>\n",
       "      <th>probForward</th>\n",
       "      <th>pReverse</th>\n",
       "      <th>zReverse</th>\n",
       "      <th>probReverse</th>\n",
       "    </tr>\n",
       "    <tr>\n",
       "      <th>Term</th>\n",
       "      <th></th>\n",
       "      <th></th>\n",
       "      <th></th>\n",
       "      <th></th>\n",
       "      <th></th>\n",
       "      <th></th>\n",
       "    </tr>\n",
       "  </thead>\n",
       "  <tbody>\n",
       "    <tr>\n",
       "      <th>terms_abstract_tfidf__amygdala</th>\n",
       "      <td>6.209555e-20</td>\n",
       "      <td>9.140620</td>\n",
       "      <td>0.245500</td>\n",
       "      <td>1.128171e-31</td>\n",
       "      <td>11.710347</td>\n",
       "      <td>0.964733</td>\n",
       "    </tr>\n",
       "    <tr>\n",
       "      <th>terms_abstract_tfidf__neutral</th>\n",
       "      <td>2.021711e-03</td>\n",
       "      <td>3.087024</td>\n",
       "      <td>0.150593</td>\n",
       "      <td>1.017804e-06</td>\n",
       "      <td>4.888165</td>\n",
       "      <td>0.878877</td>\n",
       "    </tr>\n",
       "    <tr>\n",
       "      <th>terms_abstract_tfidf__faces</th>\n",
       "      <td>9.558240e-02</td>\n",
       "      <td>1.666658</td>\n",
       "      <td>0.160000</td>\n",
       "      <td>1.301763e-05</td>\n",
       "      <td>4.359808</td>\n",
       "      <td>0.875000</td>\n",
       "    </tr>\n",
       "    <tr>\n",
       "      <th>terms_abstract_tfidf__face</th>\n",
       "      <td>9.558240e-02</td>\n",
       "      <td>1.666658</td>\n",
       "      <td>0.136879</td>\n",
       "      <td>2.795870e-04</td>\n",
       "      <td>3.633514</td>\n",
       "      <td>0.852332</td>\n",
       "    </tr>\n",
       "    <tr>\n",
       "      <th>terms_abstract_tfidf__interaction</th>\n",
       "      <td>3.300767e-01</td>\n",
       "      <td>0.973959</td>\n",
       "      <td>0.128329</td>\n",
       "      <td>3.239943e-03</td>\n",
       "      <td>2.944005</td>\n",
       "      <td>0.834906</td>\n",
       "    </tr>\n",
       "    <tr>\n",
       "      <th>terms_abstract_tfidf__regional</th>\n",
       "      <td>9.558240e-02</td>\n",
       "      <td>1.666658</td>\n",
       "      <td>0.123327</td>\n",
       "      <td>1.605909e-03</td>\n",
       "      <td>3.154831</td>\n",
       "      <td>0.834698</td>\n",
       "    </tr>\n",
       "    <tr>\n",
       "      <th>terms_abstract_tfidf__emotional</th>\n",
       "      <td>3.300767e-01</td>\n",
       "      <td>0.973959</td>\n",
       "      <td>0.104885</td>\n",
       "      <td>4.587453e-02</td>\n",
       "      <td>1.996546</td>\n",
       "      <td>0.794521</td>\n",
       "    </tr>\n",
       "    <tr>\n",
       "      <th>terms_abstract_tfidf__behavior</th>\n",
       "      <td>6.411968e-01</td>\n",
       "      <td>0.466026</td>\n",
       "      <td>0.103158</td>\n",
       "      <td>2.739524e-01</td>\n",
       "      <td>1.094006</td>\n",
       "      <td>0.775510</td>\n",
       "    </tr>\n",
       "    <tr>\n",
       "      <th>terms_abstract_tfidf__thalamus</th>\n",
       "      <td>4.789070e-01</td>\n",
       "      <td>0.708062</td>\n",
       "      <td>0.094009</td>\n",
       "      <td>2.739524e-01</td>\n",
       "      <td>1.094006</td>\n",
       "      <td>0.759804</td>\n",
       "    </tr>\n",
       "    <tr>\n",
       "      <th>terms_abstract_tfidf__central</th>\n",
       "      <td>6.411968e-01</td>\n",
       "      <td>0.466026</td>\n",
       "      <td>0.092320</td>\n",
       "      <td>4.662989e-01</td>\n",
       "      <td>0.728514</td>\n",
       "      <td>0.747026</td>\n",
       "    </tr>\n",
       "  </tbody>\n",
       "</table>\n",
       "</div>"
      ],
      "text/plain": [
       "                                       pForward  zForward  probForward  \\\n",
       "Term                                                                     \n",
       "terms_abstract_tfidf__amygdala     6.209555e-20  9.140620     0.245500   \n",
       "terms_abstract_tfidf__neutral      2.021711e-03  3.087024     0.150593   \n",
       "terms_abstract_tfidf__faces        9.558240e-02  1.666658     0.160000   \n",
       "terms_abstract_tfidf__face         9.558240e-02  1.666658     0.136879   \n",
       "terms_abstract_tfidf__interaction  3.300767e-01  0.973959     0.128329   \n",
       "terms_abstract_tfidf__regional     9.558240e-02  1.666658     0.123327   \n",
       "terms_abstract_tfidf__emotional    3.300767e-01  0.973959     0.104885   \n",
       "terms_abstract_tfidf__behavior     6.411968e-01  0.466026     0.103158   \n",
       "terms_abstract_tfidf__thalamus     4.789070e-01  0.708062     0.094009   \n",
       "terms_abstract_tfidf__central      6.411968e-01  0.466026     0.092320   \n",
       "\n",
       "                                       pReverse   zReverse  probReverse  \n",
       "Term                                                                     \n",
       "terms_abstract_tfidf__amygdala     1.128171e-31  11.710347     0.964733  \n",
       "terms_abstract_tfidf__neutral      1.017804e-06   4.888165     0.878877  \n",
       "terms_abstract_tfidf__faces        1.301763e-05   4.359808     0.875000  \n",
       "terms_abstract_tfidf__face         2.795870e-04   3.633514     0.852332  \n",
       "terms_abstract_tfidf__interaction  3.239943e-03   2.944005     0.834906  \n",
       "terms_abstract_tfidf__regional     1.605909e-03   3.154831     0.834698  \n",
       "terms_abstract_tfidf__emotional    4.587453e-02   1.996546     0.794521  \n",
       "terms_abstract_tfidf__behavior     2.739524e-01   1.094006     0.775510  \n",
       "terms_abstract_tfidf__thalamus     2.739524e-01   1.094006     0.759804  \n",
       "terms_abstract_tfidf__central      4.662989e-01   0.728514     0.747026  "
      ]
     },
     "metadata": {
      "scrapbook": {
       "mime_prefix": "",
       "name": "table_neurosynth"
      }
     },
     "output_type": "display_data"
    }
   ],
   "source": [
    "neurosynth_df = neurosynth_df.reindex(\n",
    "    neurosynth_df[\"probReverse\"].abs().sort_values(ascending=False).index\n",
    ")\n",
    "neurosynth_df = neurosynth_df.iloc[:10]\n",
    "glue(\"table_neurosynth\", neurosynth_df)"
   ]
  },
  {
   "cell_type": "markdown",
   "id": "78515b5b",
   "metadata": {},
   "source": [
    "```{glue:figure} table_neurosynth\n",
    ":figwidth: 300px\n",
    ":name: \"tbl:table_neurosynth\"\n",
    ":align: center\n",
    "\n",
    "The top ten terms, sorted by reverse-inference posterior probability, from the Neurosynth chi-squared decoding method.\n",
    "```"
   ]
  },
  {
   "cell_type": "code",
   "execution_count": 14,
   "id": "9e59f93f",
   "metadata": {
    "tags": [
     "hide-cell"
    ]
   },
   "outputs": [],
   "source": [
    "# Here we delete the recent variables for the sake of reducing memory usage\n",
    "del neurosynth_decoder, neurosynth_df"
   ]
  },
  {
   "cell_type": "markdown",
   "id": "d1c93248",
   "metadata": {},
   "source": [
    "In both methods, the database acts as an estimate of the underlying distribution of labels in the real world, such that the probability of having a peak in an ROI given the presence of the label might be interpreted as the probability of a brain activating a specific brain region given that the individual is experiencing a given mental state.\n",
    "This is a very poor interpretation, given that any database of neuroimaging results will be skewed more toward the interests of the field than the distribution of mental states or processes experienced by humans, which is why decoding must be interpreted with extreme caution.\n",
    "It is important not to place too much emphasis on the results of functional decoding analyses, although they are very useful in that they can provide a quantitative estimate behind the kinds of interpretations generally included in discussion sections that are normally only backed by informal literature searches or prior knowledge.\n",
    "\n",
    "The meta-analytic functional decoding methods in NiMARE provide a very rudimentary approach for open-ended decoding (i.e., decoding across a very large range of mental states) that can be used with resources like NeuroVault.\n",
    "However, standard classification methods have also been applied to datasets from NeuroVault (e.g., {cite:t}`Varoquaux2018-lo`), although these methods do not fall under NiMARE's scope."
   ]
  }
 ],
 "metadata": {
  "jupytext": {
   "text_representation": {
    "extension": ".md",
    "format_name": "myst",
    "format_version": 0.13,
    "jupytext_version": "1.10.3"
   }
  },
  "kernelspec": {
   "display_name": "Python 3",
   "language": "python",
   "name": "python3"
  },
  "language_info": {
   "codemirror_mode": {
    "name": "ipython",
    "version": 3
   },
   "file_extension": ".py",
   "mimetype": "text/x-python",
   "name": "python",
   "nbconvert_exporter": "python",
   "pygments_lexer": "ipython3",
   "version": "3.7.11"
  },
  "source_map": [
   12,
   18,
   29,
   67,
   78,
   93,
   107,
   114,
   124,
   130,
   144,
   155,
   160,
   170,
   174,
   185,
   202,
   213,
   220,
   230,
   236,
   253,
   264,
   271,
   281,
   287
  ]
 },
 "nbformat": 4,
 "nbformat_minor": 5
}